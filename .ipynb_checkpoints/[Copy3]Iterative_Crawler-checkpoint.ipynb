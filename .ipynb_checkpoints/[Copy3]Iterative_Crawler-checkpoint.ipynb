{
 "cells": [
  {
   "cell_type": "code",
   "execution_count": 1,
   "metadata": {},
   "outputs": [],
   "source": [
    "#Imports\n",
    "import time\n",
    "import requests\n",
    "from urllib.parse import urlparse, urljoin\n",
    "from bs4 import BeautifulSoup\n",
    "from selenium import webdriver\n",
    "from selenium.webdriver.chrome.options import Options\n",
    "import os\n",
    "import urllib.request\n",
    "from urllib.request import urlopen\n",
    "import pyautogui\n",
    "# from pywebcopy import save_webpage"
   ]
  },
  {
   "cell_type": "code",
   "execution_count": 56,
   "metadata": {},
   "outputs": [],
   "source": [
    "\n",
    "internal_urls = set()\n",
    "external_urls = set()"
   ]
  },
  {
   "cell_type": "code",
   "execution_count": 57,
   "metadata": {},
   "outputs": [],
   "source": [
    "def is_url_valid(url):\n",
    "   #Checks if the url is valid or not\n",
    "    parsedURL = urlparse(url)\n",
    "    return bool(parsedURL.netloc) and bool(parsedURL.scheme)\n",
    "\n",
    "#The above function works as follows. We check if the scheme is present and there is a value in the network location part\n",
    "# url = \"https://umd.edu/virusinfo\"\n",
    "# urlparse(url)\n",
    "# ParseResult(scheme='https', netloc='umd.edu', path='/virusinfo', \n",
    "# params='', query='', fragment='')"
   ]
  },
  {
   "cell_type": "code",
   "execution_count": 58,
   "metadata": {},
   "outputs": [],
   "source": [
    "\n",
    "#The function gives all urls\n",
    "def get_all_urls(url):\n",
    "    urls = set()\n",
    "    # domain name of the URL without the protocol (umd.edu in this case)\n",
    "    domain_name = urlparse(url).netloc\n",
    "    soup = BeautifulSoup(requests.get(url).content, \"html.parser\")\n",
    "    for a_tag in soup.findAll(\"a\"):\n",
    "        href = a_tag.attrs.get(\"href\")\n",
    "        if href == \"\" or href is None:\n",
    "            #href is empty and we don't need that a element\n",
    "            continue\n",
    "        #if the link is not absolute, make it by joining relative to the base\n",
    "        href = urljoin(url, href)\n",
    "        parsed_href = urlparse(href)\n",
    "        #constructing an absolute URL from parsed data\n",
    "        href = parsed_href.scheme + \"://\" + parsed_href.netloc + parsed_href.path\n",
    "        if not is_url_valid(href):\n",
    "            #in valid url\n",
    "            continue\n",
    "        if href in internal_urls:\n",
    "            #it is already in the set, so we don't need to add\n",
    "            continue\n",
    "        if domain_name not in href:\n",
    "            #it is an external link. i.e\n",
    "            # Check if it is already there \n",
    "            if href not in external_urls:\n",
    "#                 print(f\"[EXT] External link: {href}\")\n",
    "                external_urls.add(href)\n",
    "            continue\n",
    "#         print(\".\",end=\" \")\n",
    "        print(f\"[INT] Internal link: {href}\")\n",
    "\n",
    "        urls.add(href)\n",
    "        internal_urls.add(href)\n",
    "    return urls\n"
   ]
  },
  {
   "cell_type": "code",
   "execution_count": 59,
   "metadata": {},
   "outputs": [],
   "source": [
    "total_urls_visited = 0\n",
    "def crawl(url, max_urls=50):\n",
    "    #Max URL is just to decrease the time if there are a lot of pages.\n",
    "    #The following code was openly available of github and I found this\n",
    "    #idea useful to inhibit crawling time\n",
    "    global total_urls_visited\n",
    "    total_urls_visited += 1\n",
    "    links = get_all_urls(url)\n",
    "    for link in links:\n",
    "        if total_urls_visited > max_urls:\n",
    "            break\n",
    "        crawl(link, max_urls=max_urls)\n"
   ]
  },
  {
   "cell_type": "code",
   "execution_count": 61,
   "metadata": {},
   "outputs": [],
   "source": [
    "#base_url = \"https://umd.edu/virusinfo\"\n",
    "#Input\n",
    "# base_url = input(\"Enter the URL : \")\n",
    "base_url = \"https://www.emory.edu/coronavirus/\""
   ]
  },
  {
   "cell_type": "code",
   "execution_count": 62,
   "metadata": {},
   "outputs": [
    {
     "name": "stdout",
     "output_type": "stream",
     "text": [
      "ParseResult(scheme='https', netloc='www.emich.edu', path='/coronavirus/', params='', query='', fragment='')\n",
      "https://www.emich.edu\n",
      "www.emich.edu/coronavirus/\n",
      "www.emich.edu\n"
     ]
    }
   ],
   "source": [
    "parsedurl = urlparse(base_url)\n",
    "print(parsedurl)\n",
    "base_url_main = parsedurl.scheme+\"://\"+parsedurl.netloc\n",
    "print(base_url_main)\n",
    "# base_url_text = base_url.split(\"//\",1)[1]\n",
    "base_url_text = parsedurl.netloc+parsedurl.path\n",
    "print(base_url_text)\n",
    "# base_url_text_domain = base_url_text.split(\"/\",1)[0]\n",
    "base_url_text_domain = parsedurl.netloc\n",
    "print(base_url_text_domain)"
   ]
  },
  {
   "cell_type": "code",
   "execution_count": null,
   "metadata": {},
   "outputs": [],
   "source": []
  },
  {
   "cell_type": "code",
   "execution_count": 63,
   "metadata": {},
   "outputs": [
    {
     "name": "stdout",
     "output_type": "stream",
     "text": [
      "[INT] Internal link: https://www.emich.edu/coronavirus/\n",
      "[INT] Internal link: https://www.emich.edu/library\n",
      "[INT] Internal link: https://www.emich.edu/map\n",
      "[INT] Internal link: https://www.emich.edu/foundation/give/\n",
      "[INT] Internal link: https://www.emich.edu/coronavirus/index.php\n",
      "[INT] Internal link: https://www.emich.edu/index.php\n",
      "[INT] Internal link: https://www.emich.edu/coronavirus/faq.php\n",
      "[INT] Internal link: https://www.emich.edu/hr/working/employment/forms.php\n",
      "[INT] Internal link: https://www.emich.edu/registrar/calendars/fall-2020/index.php\n",
      "[INT] Internal link: https://www.emich.edu/diversity/statements.php\n",
      "[INT] Internal link: https://www.emich.edu/cdn-cgi/l/email-protection\n",
      "[INT] Internal link: https://www.emich.edu/president/communications/campus-messages/2020-06-01.php\n",
      "[INT] Internal link: https://www.emich.edu/president/communications/campus-messages/2020-05-29.php\n",
      "[INT] Internal link: https://www.emich.edu/summer/\n",
      "[INT] Internal link: https://www.emich.edu/president/communications/campus-messages/2020-05-21.php\n",
      "[INT] Internal link: https://www.emich.edu/hr/working/employment/policies.php\n",
      "[INT] Internal link: https://www.emich.edu/president/communications/campus-messages/2020-05-15.php\n",
      "[INT] Internal link: https://www.emich.edu/president/communications/meetings.php\n",
      "[INT] Internal link: https://www.emich.edu/budget-impact/\n",
      "[INT] Internal link: https://www.emich.edu/budget-impact/other-universities-budget-cut-announcements/index.php\n",
      "[INT] Internal link: http://www.emich.edu/hr\n",
      "[INT] Internal link: https://www.emich.edu/president/communications/campus-messages/2020-05-07.php\n",
      "[INT] Internal link: https://www.emich.edu/it/network/parkinglotwifi.php\n",
      "[INT] Internal link: https://www.emich.edu/it/security/remoteworksecurity.php\n",
      "[INT] Internal link: https://www.emich.edu/it/services/zoom/zoom.php\n",
      "[INT] Internal link: https://www.emich.edu/foundation/give/index.php\n",
      "[INT] Internal link: https://www.emich.edu/coronavirus/photo-gallery/index.php\n",
      "[INT] Internal link: https://www.emich.edu/uhs/coronavirus/\n",
      "[INT] Internal link: https://www.emich.edu/uhs/coronavirus/faq.php\n",
      "[INT] Internal link: https://www.emich.edu/uhs/coronavirus/documents/prevention-tips.pdf\n",
      "[INT] Internal link: https://www.emich.edu/president/documents/bor-reports/pres-report-2020.4.23final.pdf\n",
      "[INT] Internal link: https://www.emich.edu/regents/meetings/index.php\n",
      "[INT] Internal link: https://www.emich.edu/engage/community/family-empowerment-program/\n",
      "[INT] Internal link: https://www.emich.edu/online/index.php\n",
      "[INT] Internal link: https://www.emich.edu/academic-student-affairs/provosts-office/wednesday-briefings/2020/04-16.php\n",
      "[INT] Internal link: https://www.emich.edu/coronavirus/documents/emu-cares-email.pdf\n",
      "[INT] Internal link: https://www.emich.edu/engage/engageppe.php\n",
      "[INT] Internal link: https://www.emich.edu/uhs/coronavirus/photo-gallery/index.php\n",
      "[INT] Internal link: http://www.emich.edu/coronavirus\n",
      "[INT] Internal link: https://www.emich.edu/ccw/ypsi-writes/index.php\n",
      "[INT] Internal link: https://www.emich.edu/coronavirus/documents/prevention-tips.pdf\n",
      "[INT] Internal link: https://www.emich.edu/hr/documents/benefits/covid-19-daily-screening-requirements.pdf\n",
      "[INT] Internal link: https://www.emich.edu/coronavirus/documents/preparing-to-work-remotely.pdf\n",
      "[INT] Internal link: https://www.emich.edu/registrar/calendars/fall-2020/appointments.php\n",
      "[INT] Internal link: https://www.emich.edu/registrar/calendars/summer-2020/appointments.php\n",
      "[INT] Internal link: https://www.emich.edu/engage/\n",
      "[INT] Internal link: https://www.emich.edu/caps/\n",
      "[INT] Internal link: https://www.emich.edu/academic-support-programs/hsc/\n",
      "[INT] Internal link: https://www.emich.edu/library/\n",
      "[INT] Internal link: https://www.emich.edu/coronavirus/documents/message-to-employees-03-26.pdf\n",
      "[INT] Internal link: https://www.emich.edu/academic-student-affairs/provosts-office/wednesday-briefings/2020/03-24.php\n",
      "[INT] Internal link: https://www.emich.edu/hr/working/employment/leave-absence.php\n",
      "[INT] Internal link: https://www.emich.edu/residencelife/index.php\n",
      "[INT] Internal link: https://www.emich.edu/documents/residence-halls-update-3-19.pdf\n",
      "[INT] Internal link: https://www.emich.edu/studenthandbook/policies/studentemergencyaidfund.pdf\n",
      "[INT] Internal link: https://www.emich.edu/library/help/ask.php\n",
      "[INT] Internal link: https://www.emich.edu/library/about/specialist.php\n",
      "[INT] Internal link: https://www.emich.edu/library/help/tutorials/index.php\n",
      "[INT] Internal link: https://www.emich.edu/library/services/online.php\n",
      "[INT] Internal link: https://www.emich.edu/library/news/covid.php\n",
      "[INT] Internal link: https://www.emich.edu/academic-support-programs/hsc/success-coaching/index.php\n",
      "[INT] Internal link: https://www.emich.edu/academic-support-programs/hsc/staff/index.php\n",
      "[INT] Internal link: https://www.emich.edu/academic-support-programs/hsc/index.php\n",
      "[INT] Internal link: https://www.emich.edu/registrar/index.php\n",
      "[INT] Internal link: https://www.emich.edu/it/help/licensed_software.php\n",
      "[INT] Internal link: https://www.emich.edu/recim/\n",
      "[INT] Internal link: https://www.emich.edu/library/hours.php\n",
      "[INT] Internal link: https://www.emich.edu/studentcenter/hours/index.php\n",
      "[INT] Internal link: https://www.emich.edu/coronavirus/documents/new-winter2020-courses-canvas.pdf\n",
      "[INT] Internal link: https://www.emich.edu/coronavirus/documents/share-facts-covid19.pdf\n",
      "[INT] Internal link: https://www.emich.edu/coronavirus/documents/handwashing-steps.pdf\n",
      "[INT] Internal link: https://www.emich.edu/president/communications/campus-messages/2020-02-03.php\n",
      "[INT] Internal link: https://www.emich.edu/uhs/student-insurance/index.php\n",
      "[INT] Internal link: https://www.emich.edu/caps/index.php\n",
      "[INT] Internal link: https://www.emich.edu/oiss/index.php\n",
      "[INT] Internal link: https://www.emich.edu/coronavirus/documents/emu-covid-19-preparedness-response-and-safe-return-to-campus-operations-plan.pdf\n",
      "[INT] Internal link: https://www.emich.edu/coronavirus/documents/emu-covid-19-preparedness-response-and-safe-return-to-campus-operations-plan-research-scholarly-creative-activities.pdf\n",
      "[INT] Internal link: https://www.emich.edu/coronavirus/documents/emu-covid-19-preparedness-response-and-safe-phased-return-to-campus-plan-for-limited-in-person-summer-instruction.pdf\n",
      "[INT] Internal link: https://www.emich.edu/coronavirus/documents/emu-covid-19-preparedness-and-response-plan-for-outdoor-athletic-practices-and-training-sessions.pdf\n",
      "[INT] Internal link: https://www.emich.edu/coronavirus/documents/cleaning-protocols.pdf\n",
      "[INT] Internal link: https://www.emich.edu/coronavirus/documents/cleaning-update-3-16.pdf\n",
      "[INT] Internal link: https://www.emich.edu/coronavirus/nursing/index.php\n",
      "[INT] Internal link: https://www.emich.edu/caps/self-help/coping-with-covid-19-related-stress.php\n",
      "[INT] Internal link: https://www.emich.edu/academic-student-affairs/provosts-office/wednesday-briefings/2020/06-03.php\n",
      "[INT] Internal link: https://www.emich.edu/academic-student-affairs/provosts-office/wednesday-briefings/2020/04-30.php\n",
      "[INT] Internal link: https://www.emich.edu/academic-student-affairs/provosts-office/wednesday-briefings/2020/04-17.php\n",
      "[INT] Internal link: https://www.emich.edu/academic-student-affairs/provosts-office/wednesday-briefings/2020/04-10.php\n",
      "[INT] Internal link: https://www.emich.edu/academic-student-affairs/provosts-office/wednesday-briefings/2020/04-06.php\n",
      "[INT] Internal link: https://www.emich.edu/academic-student-affairs/provosts-office/wednesday-briefings/2020/mar-25.php\n",
      "[INT] Internal link: https://www.emich.edu/academic-student-affairs/provosts-office/wednesday-briefings/2020/03-16_update.php\n",
      "[INT] Internal link: https://www.emich.edu/academic-student-affairs/provosts-office/wednesday-briefings/2020/03-02_update.php\n",
      "[INT] Internal link: https://www.emich.edu/academic-student-affairs/provosts-office/wednesday-briefings/2020/3-12_update.php\n",
      "[INT] Internal link: https://www.emich.edu/academic-student-affairs/provosts-office/wednesday-briefings/2020/03-11_update.php\n",
      "[INT] Internal link: https://www.emich.edu/coronavirus/documents/oiss-update-03-20.pdf\n",
      "[INT] Internal link: https://www.emich.edu/coronavirus/documents/oiss-message-3-17.pdf\n",
      "[INT] Internal link: https://www.emich.edu/coronavirus/documents/oiss-message-3-13.pdf\n",
      "[INT] Internal link: https://www.emich.edu/coronavirus/documents/oiss-message-2-4.pdf\n",
      "[INT] Internal link: https://www.emich.edu/coronavirus/documents/email-to-families-03-26.pdf\n",
      "[INT] Internal link: https://www.emich.edu/coronavirus/documents/donations-wanted.pdf\n",
      "[INT] Internal link: https://www.emich.edu/coronavirus/documents/greek-life-update-3-16.pdf\n",
      "[INT] Internal link: https://www.emich.edu/coronavirus/documents/update-to-families-3-14.pdf\n",
      "[INT] Internal link: https://www.emich.edu/\n",
      "[INT] Internal link: https://www.emich.edu/contacts/index.php\n",
      "[INT] Internal link: https://www.emich.edu/nondiscrimination/index.php\n",
      "[INT] Internal link: https://www.emich.edu/policies/\n",
      "[INT] Internal link: https://www.emich.edu/title-nine/reporting/index.php\n",
      "[INT] Internal link: https://www.emich.edu/accessibility/index.php\n",
      "[INT] Internal link: https://www.emich.edu/privacy/index.php\n",
      "[INT] Internal link: https://www.emich.edu/police/documents/current_yearly_crime_stats.pdf\n",
      "[INT] Internal link: https://www.emich.edu/copyright/index.php\n"
     ]
    },
    {
     "name": "stdout",
     "output_type": "stream",
     "text": [
      "[INT] Internal link: https://www.emich.edu\n",
      "[INT] Internal link: https://www.emich.edu/library/index.php\n",
      "[INT] Internal link: https://www.emich.edu/library/find/index.php\n",
      "[INT] Internal link: https://www.emich.edu/library/services/index.php\n",
      "[INT] Internal link: https://www.emich.edu/library/about/index.php\n",
      "[INT] Internal link: https://www.emich.edu/library/help/index.php\n",
      "[INT] Internal link: https://www.emich.edu/library/find/articles.php\n",
      "[INT] Internal link: https://www.emich.edu/library/find/books.php\n",
      "[INT] Internal link: https://www.emich.edu/library/find/collections.php\n",
      "[INT] Internal link: https://www.emich.edu/library/find/reserves.php\n",
      "[INT] Internal link: https://www.emich.edu/library/find/journals.php\n",
      "[INT] Internal link: https://www.emich.edu/library/find/media.php\n",
      "[INT] Internal link: https://www.emich.edu/library/find/theses.php\n",
      "[INT] Internal link: https://www.emich.edu/library/find/archives.php\n",
      "[INT] Internal link: https://www.emich.edu/apc/\n",
      "[INT] Internal link: https://www.emich.edu/library/services/visitors.php\n",
      "[INT] Internal link: https://www.emich.edu/library/services/av.php\n",
      "[INT] Internal link: https://www.emich.edu/library/services/borrowing.php\n",
      "[INT] Internal link: https://www.emich.edu/library/about/events.php\n",
      "[INT] Internal link: https://www.emich.edu/library/services/fax.php\n",
      "[INT] Internal link: https://www.emich.edu/library/services/forms.php\n",
      "[INT] Internal link: https://www.emich.edu/hsc/index.php\n",
      "[INT] Internal link: https://www.emich.edu/it/index.php\n",
      "[INT] Internal link: https://www.emich.edu/library/services/get_other_libraries.php\n",
      "[INT] Internal link: https://www.emich.edu/library/services/laptops.php\n",
      "[INT] Internal link: https://www.emich.edu/library/services/roomreservations.php\n",
      "[INT] Internal link: https://www.emich.edu/library/services/printing.php\n",
      "[INT] Internal link: https://www.emich.edu/library/services/studyrooms.php\n",
      "[INT] Internal link: https://www.emich.edu/uwc/index.php\n",
      "[INT] Internal link: https://www.emich.edu/library/about/directions.php\n",
      "[INT] Internal link: https://www.emich.edu/library/about/directory.php\n",
      "[INT] Internal link: https://www.emich.edu/library/about/employment.php\n",
      "[INT] Internal link: https://www.emich.edu/library/about/general.php\n",
      "[INT] Internal link: https://www.emich.edu/library/about/floorplans.php\n",
      "[INT] Internal link: https://www.emich.edu/library/news/index.php\n",
      "[INT] Internal link: https://www.emich.edu/library/about/policies/index.php\n",
      "[INT] Internal link: https://www.emich.edu/library/services/rooms.php\n",
      "[INT] Internal link: https://www.emich.edu/library/about/romanow-scholarship.php\n",
      "[INT] Internal link: https://www.emich.edu/library/about/suggestions.php\n",
      "[INT] Internal link: https://www.emich.edu/library/about/support.php\n",
      "[INT] Internal link: https://www.emich.edu/apc\n",
      "[INT] Internal link: https://www.emich.edu/library/help/access.php\n",
      "[INT] Internal link: https://www.emich.edu/library/about/whowhere.php\n",
      "[INT] Internal link: https://www.emich.edu/library/news\n",
      "[INT] Internal link: https://www.emich.edu/title-nine/\n",
      "[INT] Internal link: https://www.emich.edu/title-nine/reporting.php\n",
      "[INT] Internal link: https://www.emich.edu/privacy/\n",
      "[INT] Internal link: https://www.emich.edu/copyright/\n",
      "[INT] Internal link: https://www.emich.edu/academic-support-programs/hsc/academic-support/index.php\n",
      "[INT] Internal link: https://www.emich.edu/academic-support-programs/hsc/academic-support/tutoring/index.php\n",
      "[INT] Internal link: https://www.emich.edu/academic-support-programs/hsc/academic-support/tutoring/tutoring-staff.php\n",
      "[INT] Internal link: https://www.emich.edu/academic-support-programs/hsc/academic-support/tutoring/students.php\n",
      "[INT] Internal link: https://www.emich.edu/academic-support-programs/hsc/academic-support/supplemental-instruction/index.php\n",
      "[INT] Internal link: https://www.emich.edu/academic-support-programs/hsc/academic-support/supplemental-instruction/sistudents.php\n",
      "[INT] Internal link: https://www.emich.edu/academic-support-programs/hsc/academic-support/supplemental-instruction/sifaculty.php\n",
      "[INT] Internal link: https://www.emich.edu/academic-support-programs/hsc/academic-support/supplemental-instruction/siprofiles.php\n",
      "[INT] Internal link: https://www.emich.edu/academic-support-programs/hsc/academic-support/success-coaching/index.php\n",
      "[INT] Internal link: https://www.emich.edu/academic-support-programs/hsc/academic-support/peer-academic-coaching/index.php\n",
      "[INT] Internal link: https://www.emich.edu/academic-support-programs/hsc/academic-support/peer-academic-coaching/profiles.php\n",
      "[INT] Internal link: https://www.emich.edu/academic-support-programs/hsc/academic-support/support-tools/index.php\n",
      "[INT] Internal link: https://www.emich.edu/academic-support-programs/about/student-success-data.php\n",
      "[INT] Internal link: https://www.emich.edu/academic-support-programs/hsc/question.php\n",
      "[INT] Internal link: https://www.emich.edu/academic-support-programs/hsc/eagle-rewards/index.php\n",
      "[INT] Internal link: https://www.emich.edu/academic-support-programs/hsc/eagle-study-tables/index.php\n",
      "[INT] Internal link: https://www.emich.edu/academic-support-programs/hsc/engage-app/index.php\n",
      "[INT] Internal link: https://www.emich.edu/academic-support-programs/\n",
      "[INT] Internal link: https://www.emich.edu/academic-support-programs/hsc/online_support.php\n",
      "[INT] Internal link: https://www.emich.edu/academic-support-programs/hsc/westandwithyou.php\n",
      "[INT] Internal link: https://www.emich.edu/academic-support-programs/hsc/news/index.php\n",
      "[INT] Internal link: https://www.emich.edu/academic-support-programs/hsc/book-loan/index.php\n",
      "[INT] Internal link: https://www.emich.edu/academic-support-programs/about/index.php\n",
      "[INT] Internal link: https://www.emich.edu/academic-support-programs/edge/index.php\n",
      "[INT] Internal link: https://www.emich.edu/academic-support-programs/univ/index.php\n",
      "[INT] Internal link: https://www.emich.edu/academic-support-programs/index.php\n",
      "[INT] Internal link: https://www.emich.edu/academic-support-programs/hsc/eagle-rewards/events.php\n",
      "[INT] Internal link: https://www.emich.edu/academic-support-programs/univ/documents/univ_syllabus_2017.pdf\n",
      "[INT] Internal link: https://www.emich.edu/academic-support-programs/hsc/common-read.php\n"
     ]
    },
    {
     "name": "stderr",
     "output_type": "stream",
     "text": [
      "Some characters could not be decoded, and were replaced with REPLACEMENT CHARACTER.\n"
     ]
    },
    {
     "name": "stdout",
     "output_type": "stream",
     "text": [
      "[INT] Internal link: https://www.emich.edu/academic-support-programs/hsc/eagle-rewards/\n",
      "[INT] Internal link: https://www.emich.edu/academic-support-programs/hsc/eagle-rewards/prizes.php\n",
      "[INT] Internal link: https://www.emich.edu/.ldp/.private_ldp/a1331/production/master/284704ee-433c-44f6-8f21-21cb30599d10.jpg\n",
      "[INT] Internal link: https://www.emich.edu/.ldp/.private_ldp/a1331/production/master/b4f732c0-4749-4d06-9a8b-db4c2d5f7c03.jpg\n",
      "[INT] Internal link: https://www.emich.edu/.ldp/.private_ldp/a1331/production/master/274226ca-2671-4e18-9306-e2a13ba105fd.jpg\n",
      "[INT] Internal link: https://www.emich.edu/.ldp/.private_ldp/a1331/production/master/4343eaaa-81ab-4a1f-8008-2cfe75bec1d0.jpg\n",
      "[INT] Internal link: https://www.emich.edu/.ldp/.private_ldp/a1331/production/master/d03cea0e-a9ef-440b-b90b-3f3df5b8e556.jpg\n",
      "[INT] Internal link: https://www.emich.edu/.ldp/.private_ldp/a1331/production/master/6aa7363b-27f4-4514-a5b9-f8e9eb8a1e1a.jpg\n",
      "[INT] Internal link: https://www.emich.edu/.ldp/.private_ldp/a1331/production/master/843617f0-ae19-4230-9a3c-3ced66432350.jpg\n",
      "[INT] Internal link: https://www.emich.edu/.ldp/.private_ldp/a1331/production/master/d0961461-41e6-4387-9bab-3d52b100c18c.jpg\n",
      "[INT] Internal link: https://www.emich.edu/.ldp/.private_ldp/a1331/production/master/55226dd5-3501-40d1-ba75-9bfe129e36a4.jpg\n",
      "[INT] Internal link: https://www.emich.edu/.ldp/.private_ldp/a1331/production/master/f617f036-6709-43ca-9f4f-7a3ebdf44817.jpg\n",
      "[INT] Internal link: https://www.emich.edu/.ldp/.private_ldp/a1331/production/master/ffc0cb00-32b8-4157-8010-33c5650c6392.jpg\n",
      "[INT] Internal link: https://www.emich.edu/.ldp/.private_ldp/a1331/production/master/900cfbc0-ea4d-4c36-a199-66e65ed2e1ef.jpg\n",
      "[INT] Internal link: https://www.emich.edu/.ldp/.private_ldp/a1331/production/master/0ca64968-e1b2-404e-8156-861ce7b12f0b.jpg\n",
      "[INT] Internal link: https://www.emich.edu/.ldp/.private_ldp/a1331/production/master/50564172-30e6-4150-825a-9aa9e925d463.jpg\n",
      "[INT] Internal link: https://www.emich.edu/.ldp/.private_ldp/a1331/production/master/46ab93ea-1b6c-4487-a195-30d694faa14e.jpg\n",
      "[INT] Internal link: https://www.emich.edu/.ldp/.private_ldp/a1331/production/master/eb5fa0e0-0660-4dd5-a0aa-fc114eb37915.jpg\n",
      "[INT] Internal link: https://www.emich.edu/.ldp/.private_ldp/a1331/production/master/aa6c7f3d-3da6-47f3-beb4-1071eb3d4ab3.jpg\n",
      "[INT] Internal link: https://www.emich.edu/.ldp/.private_ldp/a1331/production/master/2b90ccad-5afd-4155-a745-c29933f8f051.jpg\n",
      "[INT] Internal link: https://www.emich.edu/.ldp/.private_ldp/a1331/production/master/64fca792-35eb-4132-9b68-d57feb92ce83.jpg\n",
      "[INT] Internal link: https://www.emich.edu/.ldp/.private_ldp/a1331/production/master/23071e44-70e1-4e68-b493-c0a1ecc33668.jpg\n",
      "[INT] Internal link: https://www.emich.edu/.ldp/.private_ldp/a1331/production/master/7fac5561-5d3b-4130-819a-2290f17e3611.jpg\n",
      "[INT] Internal link: https://www.emich.edu/.ldp/.private_ldp/a1331/production/master/84659fd9-93e7-49e6-a57d-3adf60f04e0a.jpg\n",
      "[INT] Internal link: https://www.emich.edu/.ldp/.private_ldp/a1331/production/master/31fec041-b4c4-4db6-8120-978732d1ff1c.jpg\n",
      "[INT] Internal link: https://www.emich.edu/.ldp/.private_ldp/a1331/production/master/ab941747-e350-4bdf-9e3a-08166bf029bb.jpg\n"
     ]
    },
    {
     "name": "stderr",
     "output_type": "stream",
     "text": [
      "Some characters could not be decoded, and were replaced with REPLACEMENT CHARACTER.\n",
      "Some characters could not be decoded, and were replaced with REPLACEMENT CHARACTER.\n",
      "Some characters could not be decoded, and were replaced with REPLACEMENT CHARACTER.\n",
      "Some characters could not be decoded, and were replaced with REPLACEMENT CHARACTER.\n",
      "Some characters could not be decoded, and were replaced with REPLACEMENT CHARACTER.\n",
      "Some characters could not be decoded, and were replaced with REPLACEMENT CHARACTER.\n",
      "Some characters could not be decoded, and were replaced with REPLACEMENT CHARACTER.\n",
      "Some characters could not be decoded, and were replaced with REPLACEMENT CHARACTER.\n",
      "Some characters could not be decoded, and were replaced with REPLACEMENT CHARACTER.\n",
      "Some characters could not be decoded, and were replaced with REPLACEMENT CHARACTER.\n",
      "Some characters could not be decoded, and were replaced with REPLACEMENT CHARACTER.\n",
      "Some characters could not be decoded, and were replaced with REPLACEMENT CHARACTER.\n",
      "Some characters could not be decoded, and were replaced with REPLACEMENT CHARACTER.\n",
      "Some characters could not be decoded, and were replaced with REPLACEMENT CHARACTER.\n",
      "Some characters could not be decoded, and were replaced with REPLACEMENT CHARACTER.\n",
      "Some characters could not be decoded, and were replaced with REPLACEMENT CHARACTER.\n",
      "Some characters could not be decoded, and were replaced with REPLACEMENT CHARACTER.\n",
      "Some characters could not be decoded, and were replaced with REPLACEMENT CHARACTER.\n",
      "Some characters could not be decoded, and were replaced with REPLACEMENT CHARACTER.\n",
      "Some characters could not be decoded, and were replaced with REPLACEMENT CHARACTER.\n",
      "Some characters could not be decoded, and were replaced with REPLACEMENT CHARACTER.\n",
      "Some characters could not be decoded, and were replaced with REPLACEMENT CHARACTER.\n",
      "Some characters could not be decoded, and were replaced with REPLACEMENT CHARACTER.\n",
      "Some characters could not be decoded, and were replaced with REPLACEMENT CHARACTER.\n"
     ]
    },
    {
     "name": "stdout",
     "output_type": "stream",
     "text": [
      "[INT] Internal link: https://www.emich.edu/academic-support-programs/edge/students/index.php\n",
      "[INT] Internal link: https://www.emich.edu/academic-support-programs/edge/parents/index.php\n",
      "[INT] Internal link: https://www.emich.edu/academic-support-programs/edge/program-information/index.php\n",
      "[INT] Internal link: https://www.emich.edu/academic-support-programs/edge/scholarships/index.php\n",
      "[INT] Internal link: https://www.emich.edu/academic-support-programs/edge/edge-alums/index.php\n",
      "[INT] Internal link: https://www.emich.edu/academic-support-programs/edge/study-abroad/index.php\n",
      "[INT] Internal link: https://www.emich.edu/academic-support-programs/edge/images/campuslife_93b.jpg\n",
      "[INT] Internal link: https://www.emich.edu/academic-support-programs/edge/\n",
      "[INT] Internal link: http://www.emich.edu/orientation/index.php/first-four.php\n",
      "[INT] Internal link: https://www.emich.edu/admissions/admitted/transfer-checklist.php\n",
      "[INT] Internal link: https://www.emich.edu/graduate/current-students/new-students/orientation.php\n",
      "[INT] Internal link: http://www.emich.edu/orientation/\n",
      "[INT] Internal link: http://www.emich.edu/cdn-cgi/l/email-protection\n",
      "[INT] Internal link: http://www.emich.edu/index.php\n",
      "[INT] Internal link: http://www.emich.edu/it/academic/emumobile/index.php\n",
      "[INT] Internal link: http://www.emich.edu/orientation/documents/fasttrack-schedule.pdf\n",
      "[INT] Internal link: http://www.emich.edu/orientation/additional-content/index.php\n",
      "[INT] Internal link: http://www.emich.edu/orientation/family-guests/index.php\n",
      "[INT] Internal link: http://www.emich.edu/drc/index.php\n",
      "[INT] Internal link: http://www.emich.edu/orientation/campus-partners/index.php\n",
      "[INT] Internal link: http://www.emich.edu/\n",
      "[INT] Internal link: http://www.emich.edu/contacts/index.php\n",
      "[INT] Internal link: http://www.emich.edu/nondiscrimination/index.php\n",
      "[INT] Internal link: http://www.emich.edu/policies/\n",
      "[INT] Internal link: http://www.emich.edu/title-nine/reporting/index.php\n",
      "[INT] Internal link: http://www.emich.edu/accessibility/index.php\n",
      "[INT] Internal link: http://www.emich.edu/privacy/index.php\n",
      "[INT] Internal link: http://www.emich.edu/police/documents/current_yearly_crime_stats.pdf\n",
      "[INT] Internal link: http://www.emich.edu/copyright/index.php\n",
      "[INT] Internal link: http://www.emich.edu/privacy/orientation.php\n",
      "[INT] Internal link: http://www.emich.edu/privacy/statements.php\n",
      "[INT] Internal link: http://www.emich.edu/privacy/resources.php\n",
      "[INT] Internal link: http://www.emich.edu/privacy/faq.php\n",
      "[INT] Internal link: https://www.emich.edu/busfin/\n",
      "[INT] Internal link: http://www.emich.edu/registrar/registration_info/ferpa.php\n",
      "[INT] Internal link: http://www.emich.edu/policies/policy.php\n",
      "[INT] Internal link: https://www.emich.edu/busfin/index.php\n",
      "[INT] Internal link: https://www.emich.edu/busfin/about/index.php\n",
      "[INT] Internal link: https://www.emich.edu/busfin/budget/index.php\n",
      "[INT] Internal link: https://www.emich.edu/busfin/controller/index.php\n",
      "[INT] Internal link: http://www.emich.edu/purchasing/\n",
      "[INT] Internal link: https://www.emich.edu/busfin/training/index.php\n",
      "[INT] Internal link: https://www.emich.edu/busfin/transacting/index.php\n",
      "[INT] Internal link: https://www.emich.edu/busfin/contact/suggestionbox.php\n",
      "[INT] Internal link: https://www.emich.edu/busfin/forms/index.php\n",
      "[INT] Internal link: https://www.emich.edu/busfin/contact/index.php\n",
      "[INT] Internal link: http://www.emich.edu/maps/\n",
      "[INT] Internal link: https://www.emich.edu/contacts/\n",
      "[INT] Internal link: https://www.emich.edu/about/\n",
      "[INT] Internal link: https://www.emich.edu/admissions/\n",
      "[INT] Internal link: https://www.emich.edu/academics/\n",
      "[INT] Internal link: https://www.emich.edu/studentaffairs/\n",
      "[INT] Internal link: https://www.emich.edu/graduate/\n",
      "[INT] Internal link: https://www.emich.edu/alumni/\n",
      "[INT] Internal link: https://www.emich.edu/busfin/about/committee.php\n",
      "[INT] Internal link: https://www.emich.edu/busfin/about/investment.php\n",
      "[INT] Internal link: https://www.emich.edu/busfin/about/forum.php\n",
      "[INT] Internal link: https://www.emich.edu/busfin/about/plan.php\n",
      "[INT] Internal link: https://www.emich.edu/busfin/about/statements.php\n",
      "[INT] Internal link: https://www.emich.edu/busfin/about/budget-resources.php\n",
      "[INT] Internal link: https://www.emich.edu/strategicplan\n",
      "[INT] Internal link: https://www.emich.edu/busfin/documents/ubcboardrecommendationmay2018.pdf\n",
      "[INT] Internal link: https://www.emich.edu/busfin/documents/orgchart.pdf\n",
      "[INT] Internal link: https://www.emich.edu/busfin/documents/signatory-authority.pdf\n",
      "[INT] Internal link: http://www.emich.edu/state-reporting/\n",
      "[INT] Internal link: https://www.emich.edu/accessibility\n",
      "[INT] Internal link: https://www.emich.edu/twitter/\n",
      "[INT] Internal link: https://www.emich.edu/emu-phone-app/\n",
      "[INT] Internal link: https://www.emich.edu/controller/payable/index.php\n",
      "[INT] Internal link: https://www.emich.edu/controller/accounting/index.php\n",
      "[INT] Internal link: https://www.emich.edu/controller/grantacct/index.php\n",
      "[INT] Internal link: https://www.emich.edu/controller/payroll/index.php\n",
      "[INT] Internal link: https://www.emich.edu/sbs/index.php\n",
      "[INT] Internal link: https://www.emich.edu/busfin/taxes/index.php\n",
      "[INT] Internal link: https://www.emich.edu/controller/forms.php\n",
      "[INT] Internal link: http://www.emich.edu/calendar/\n",
      "[INT] Internal link: http://www.emich.edu/contact/\n",
      "[INT] Internal link: http://www.emich.edu/families/\n",
      "[INT] Internal link: http://www.emich.edu\n",
      "[INT] Internal link: http://www.emich.edu/aboutemu/\n",
      "[INT] Internal link: http://www.emich.edu/admissions/\n",
      "[INT] Internal link: http://www.emich.edu/academics/\n",
      "[INT] Internal link: http://www.emich.edu/students/\n",
      "[INT] Internal link: http://www.emich.edu/graduate/\n",
      "[INT] Internal link: http://www.emich.edu/alumni/\n",
      "[INT] Internal link: https://www.emich.edu/controller/index.php\n",
      "[INT] Internal link: https://www.emich.edu/controller/stafflisting.php\n",
      "[INT] Internal link: https://www.emich.edu/controller/payable/docs/RelocationPolicyForNewEmployee.pdf\n",
      "[INT] Internal link: http://www.emich.edu/purchasing/purchase/index.php\n",
      "[INT] Internal link: https://www.emich.edu/controller/payable/docs/APProcedures.pdf\n",
      "[INT] Internal link: https://www.emich.edu/controller/payable/docs/APMCQP.pdf\n",
      "[INT] Internal link: https://www.emich.edu/sbs/documents/forms/req_for_student_charges_and_awards_1118.pdf\n",
      "[INT] Internal link: https://www.emich.edu/controller/payable/apreimbursements.php\n",
      "[INT] Internal link: https://www.emich.edu/controller/payable/appaymentcard.php\n",
      "[INT] Internal link: https://www.emich.edu/controller/payable/aptravel.php\n",
      "[INT] Internal link: https://www.emich.edu/controller/payable/apvendorpayments.php\n",
      "[INT] Internal link: https://www.emich.edu/controller/payable/apsmartids.php\n",
      "[INT] Internal link: http://www.emich.edu/srms/fuelprogoverview.php\n",
      "[INT] Internal link: https://www.emich.edu/controller/payable/apforms.php\n",
      "[INT] Internal link: https://www.emich.edu/controller/payable/apstaff.php\n",
      "[INT] Internal link: http://www.emich.edu/privacy/\n",
      "[INT] Internal link: http://www.emich.edu/copyright/\n",
      "[INT] Internal link: http://www.emich.edu/busfin/\n",
      "[INT] Internal link: http://www.emich.edu/regents/\n",
      "[INT] Internal link: http://www.emich.edu/regents/meetings.php\n",
      "[INT] Internal link: http://www.emich.edu/admissions/undergraduate/index.php\n",
      "[INT] Internal link: http://www.emich.edu/graduate/index.php\n",
      "[INT] Internal link: http://www.emich.edu/admissions/undergraduate/transfer/index.php\n",
      "[INT] Internal link: http://www.emich.edu/admissions/international/index.php\n",
      "[INT] Internal link: http://www.emich.edu/online/index.php\n",
      "[INT] Internal link: http://www.emich.edu/admissions/visit/index.php\n",
      "[INT] Internal link: http://www.emich.edu/finaid/index.php\n",
      "[INT] Internal link: http://www.emich.edu/admissions/index.php\n",
      "[INT] Internal link: http://www.emich.edu/admissions/visit/contact-us.php\n",
      "[INT] Internal link: http://www.emich.edu/admissions/visit/online-visit-experience.php\n",
      "[INT] Internal link: http://www.emich.edu/admissions/undergraduate/transfer/transferonlinevisit.php\n",
      "[INT] Internal link: http://www.emich.edu/admissions/apply/index.php\n",
      "[INT] Internal link: http://www.emich.edu/degrees/index.php\n",
      "[INT] Internal link: http://www.emich.edu/admissions/advisors/index.php\n",
      "[INT] Internal link: https://www.emich.edu/graduate/prospective_students/admissions/requirements.php\n",
      "[INT] Internal link: http://www.emich.edu/admissions/admitted/index.php\n",
      "[INT] Internal link: http://www.emich.edu/orientation/index.php\n",
      "[INT] Internal link: http://www.emich.edu/admissions/visit/asr.php\n",
      "[INT] Internal link: https://www.emich.edu/admissions/advisers/\n",
      "[INT] Internal link: https://www.emich.edu/graduate/contacts/index.php\n",
      "[INT] Internal link: https://www.emich.edu/admissions/visit/contact-us.php\n"
     ]
    },
    {
     "name": "stdout",
     "output_type": "stream",
     "text": [
      "[INT] Internal link: http://www.emich.edu/admissions/advisors/tel:7344873060\n",
      "[INT] Internal link: http://www.emich.edu/admissions/advisors/tel:7344876453\n",
      "[INT] Internal link: http://www.emich.edu/admissions/advisors/tel:7344871442\n",
      "[INT] Internal link: http://www.emich.edu/admissions/advisors/tel:7342150205\n",
      "[INT] Internal link: http://www.emich.edu/admissions/documents/emu-counselor-flyer.pdf\n",
      "[INT] Internal link: http://www.emich.edu/about/index.php\n",
      "[INT] Internal link: http://www.emich.edu/academics/index.php\n",
      "[INT] Internal link: http://www.emich.edu/student-life/index.php\n",
      "[INT] Internal link: https://www.emich.edu/contact\n",
      "[INT] Internal link: https://www.emich.edu/maps/\n",
      "[INT] Internal link: https://www.emich.edu/directory/\n",
      "[+] Total External links: 216\n",
      "[+] Total Internal links: 350\n",
      "[+] Total: 566\n"
     ]
    }
   ],
   "source": [
    "crawl(base_url)\n",
    "print(\"[+] Total External links:\", len(external_urls))\n",
    "print(\"[+] Total Internal links:\", len(internal_urls))\n",
    "print(\"[+] Total:\", len(external_urls) + len(internal_urls))"
   ]
  },
  {
   "cell_type": "code",
   "execution_count": null,
   "metadata": {},
   "outputs": [
    {
     "name": "stdout",
     "output_type": "stream",
     "text": [
      "26 0\n"
     ]
    },
    {
     "name": "stderr",
     "output_type": "stream",
     "text": [
      "Some characters could not be decoded, and were replaced with REPLACEMENT CHARACTER.\n"
     ]
    },
    {
     "name": "stdout",
     "output_type": "stream",
     "text": [
      "[+] NEW Total External links: 216\n",
      "[+] NEW Total Internal links: 350\n",
      "[+] NEW Total: 566\n"
     ]
    },
    {
     "name": "stderr",
     "output_type": "stream",
     "text": [
      "Some characters could not be decoded, and were replaced with REPLACEMENT CHARACTER.\n"
     ]
    },
    {
     "name": "stdout",
     "output_type": "stream",
     "text": [
      "[+] NEW Total External links: 216\n",
      "[+] NEW Total Internal links: 350\n",
      "[+] NEW Total: 566\n"
     ]
    },
    {
     "name": "stderr",
     "output_type": "stream",
     "text": [
      "Some characters could not be decoded, and were replaced with REPLACEMENT CHARACTER.\n"
     ]
    },
    {
     "name": "stdout",
     "output_type": "stream",
     "text": [
      "[+] NEW Total External links: 216\n",
      "[+] NEW Total Internal links: 350\n",
      "[+] NEW Total: 566\n",
      "[+] NEW Total External links: 216\n",
      "[+] NEW Total Internal links: 350\n",
      "[+] NEW Total: 566\n"
     ]
    },
    {
     "name": "stderr",
     "output_type": "stream",
     "text": [
      "Some characters could not be decoded, and were replaced with REPLACEMENT CHARACTER.\n"
     ]
    },
    {
     "name": "stdout",
     "output_type": "stream",
     "text": [
      "[+] NEW Total External links: 216\n",
      "[+] NEW Total Internal links: 350\n",
      "[+] NEW Total: 566\n",
      "[INT] Internal link: https://www.emich.edu/.ldp/.private_ldp/a1537/production/master/1e2959c9-62c9-474b-b1d2-da9f69a91f4d.jpg\n",
      "[INT] Internal link: https://www.emich.edu/.ldp/.private_ldp/a1537/production/master/ceb347ff-d229-4e81-b288-607bd075723d.jpg\n",
      "[INT] Internal link: https://www.emich.edu/.ldp/.private_ldp/a1537/production/master/8134d637-7310-406e-852d-fd088da4c8e0.jpg\n",
      "[INT] Internal link: https://www.emich.edu/.ldp/.private_ldp/a1537/production/master/653e6ccd-4618-40ab-bb57-edb15ae70847.jpg\n",
      "[INT] Internal link: https://www.emich.edu/.ldp/.private_ldp/a1537/production/master/d272bedb-38ed-47f6-b644-46f6352bdb1e.jpg\n",
      "[INT] Internal link: https://www.emich.edu/.ldp/.private_ldp/a1537/production/master/ab1296c2-d551-4d0c-86ac-a596dce9d735.jpg\n",
      "[INT] Internal link: https://www.emich.edu/.ldp/.private_ldp/a1537/production/master/4553497c-c93a-4737-9f9a-448a8d2a5c83.jpg\n",
      "[INT] Internal link: https://www.emich.edu/.ldp/.private_ldp/a1537/production/master/1f54ea04-6508-4c06-892e-54d5f68dbce6.jpg\n",
      "[INT] Internal link: https://www.emich.edu/.ldp/.private_ldp/a1537/production/master/39a54d90-9b14-494c-b7fb-bb45b55614a7.jpg\n",
      "[INT] Internal link: https://www.emich.edu/.ldp/.private_ldp/a1537/production/master/ab837973-a74f-44b4-8586-cf2af7ecf80b.jpg\n",
      "[INT] Internal link: https://www.emich.edu/.ldp/.private_ldp/a1537/production/master/92b7d5e5-2ed1-402e-afe6-d3fd235a089c.jpg\n",
      "[INT] Internal link: https://www.emich.edu/.ldp/.private_ldp/a1537/production/master/bf7a703c-eb91-4310-a58e-f328b9fffaf2.jpg\n",
      "[INT] Internal link: https://www.emich.edu/.ldp/.private_ldp/a1537/production/master/c449eff6-d12c-422b-8679-5f6701eaef6e.jpg\n",
      "[INT] Internal link: https://www.emich.edu/.ldp/.private_ldp/a1537/production/master/a5518f29-918f-43ec-825a-a3e46030f709.jpg\n",
      "[INT] Internal link: https://www.emich.edu/.ldp/.private_ldp/a1537/production/master/84bcbcdd-d907-406f-bc0b-7166adf1d70a.jpg\n",
      "[INT] Internal link: https://www.emich.edu/.ldp/.private_ldp/a1537/production/master/20ae655e-839f-4bdf-8c08-4528d3293f2e.jpg\n",
      "[INT] Internal link: https://www.emich.edu/.ldp/.private_ldp/a1537/production/master/fc13310b-cf98-49c4-ade5-cf4b08f49862.jpg\n",
      "[INT] Internal link: https://www.emich.edu/.ldp/.private_ldp/a1537/production/master/02e6506d-b629-4801-81ee-d7656c70dfda.jpg\n",
      "[INT] Internal link: https://www.emich.edu/.ldp/.private_ldp/a1537/production/master/3ed545d7-4415-4fbd-8d39-2296051f9d54.jpg\n",
      "[INT] Internal link: https://www.emich.edu/.ldp/.private_ldp/a1537/production/master/3aaaee1d-d11e-4c06-b1eb-6145c636477b.jpg\n",
      "[INT] Internal link: https://www.emich.edu/.ldp/.private_ldp/a1537/production/master/a2aa5fb3-335f-4414-bd5e-4c2f643820a4.jpg\n",
      "[INT] Internal link: https://www.emich.edu/.ldp/.private_ldp/a1537/production/master/97cfd4fb-b182-45b0-8310-82e9d69f7f26.jpg\n",
      "[INT] Internal link: https://www.emich.edu/.ldp/.private_ldp/a1537/production/master/5c351b8d-91d1-4d5d-bffe-35b4d1d76742.jpg\n",
      "[INT] Internal link: https://www.emich.edu/.ldp/.private_ldp/a1537/production/master/0d08f5ca-6a65-4b0f-9b69-44c377af059b.jpg\n",
      "[INT] Internal link: https://www.emich.edu/.ldp/.private_ldp/a1537/production/master/d088d82f-b860-4154-bb51-779fad0da85a.jpg\n",
      "[INT] Internal link: https://www.emich.edu/.ldp/.private_ldp/a1537/production/master/32e3d5f2-f20e-4dfc-b05f-6b56ed03285b.jpg\n",
      "[INT] Internal link: https://www.emich.edu/.ldp/.private_ldp/a1537/production/master/94372156-b253-46bb-9833-a9b2aaee3f14.jpg\n",
      "[INT] Internal link: https://www.emich.edu/.ldp/.private_ldp/a1537/production/master/2dac9b02-85b0-4acc-bf80-ec41278ecbf1.jpg\n",
      "[INT] Internal link: https://www.emich.edu/.ldp/.private_ldp/a1537/production/master/ff7919bc-b372-4b8c-a69e-cb63f3006d3d.jpg\n",
      "[INT] Internal link: https://www.emich.edu/.ldp/.private_ldp/a1537/production/master/4310d1d3-0b83-4444-837b-51b43c9b2bb1.jpg\n",
      "[INT] Internal link: https://www.emich.edu/.ldp/.private_ldp/a1537/production/master/2273616b-ec9d-4dd5-8ab6-736101fa793c.jpg\n",
      "[INT] Internal link: https://www.emich.edu/.ldp/.private_ldp/a1537/production/master/5613deea-16d9-4630-915c-299d7925b81a.jpg\n",
      "[INT] Internal link: https://www.emich.edu/.ldp/.private_ldp/a1537/production/master/9c1d50ea-30b6-4434-84a7-13f87d8f9022.jpg\n",
      "[INT] Internal link: https://www.emich.edu/.ldp/.private_ldp/a1537/production/master/0c9fe68c-1ca0-4947-b0c5-a66f9d55f4ef.jpg\n",
      "[INT] Internal link: https://www.emich.edu/.ldp/.private_ldp/a1537/production/master/c6d1c35a-3910-49a0-a77d-21aa2d3ca5a3.jpg\n",
      "[+] NEW Total External links: 216\n",
      "[+] NEW Total Internal links: 385\n",
      "[+] NEW Total: 601\n"
     ]
    },
    {
     "name": "stderr",
     "output_type": "stream",
     "text": [
      "Some characters could not be decoded, and were replaced with REPLACEMENT CHARACTER.\n"
     ]
    },
    {
     "name": "stdout",
     "output_type": "stream",
     "text": [
      "[+] NEW Total External links: 216\n",
      "[+] NEW Total Internal links: 385\n",
      "[+] NEW Total: 601\n"
     ]
    },
    {
     "name": "stderr",
     "output_type": "stream",
     "text": [
      "Some characters could not be decoded, and were replaced with REPLACEMENT CHARACTER.\n"
     ]
    },
    {
     "name": "stdout",
     "output_type": "stream",
     "text": [
      "[+] NEW Total External links: 216\n",
      "[+] NEW Total Internal links: 385\n",
      "[+] NEW Total: 601\n"
     ]
    },
    {
     "name": "stderr",
     "output_type": "stream",
     "text": [
      "Some characters could not be decoded, and were replaced with REPLACEMENT CHARACTER.\n"
     ]
    },
    {
     "name": "stdout",
     "output_type": "stream",
     "text": [
      "[+] NEW Total External links: 216\n",
      "[+] NEW Total Internal links: 385\n",
      "[+] NEW Total: 601\n"
     ]
    },
    {
     "name": "stderr",
     "output_type": "stream",
     "text": [
      "Some characters could not be decoded, and were replaced with REPLACEMENT CHARACTER.\n"
     ]
    },
    {
     "name": "stdout",
     "output_type": "stream",
     "text": [
      "[+] NEW Total External links: 216\n",
      "[+] NEW Total Internal links: 385\n",
      "[+] NEW Total: 601\n"
     ]
    },
    {
     "name": "stderr",
     "output_type": "stream",
     "text": [
      "Some characters could not be decoded, and were replaced with REPLACEMENT CHARACTER.\n"
     ]
    },
    {
     "name": "stdout",
     "output_type": "stream",
     "text": [
      "[+] NEW Total External links: 216\n",
      "[+] NEW Total Internal links: 385\n",
      "[+] NEW Total: 601\n"
     ]
    },
    {
     "name": "stderr",
     "output_type": "stream",
     "text": [
      "Some characters could not be decoded, and were replaced with REPLACEMENT CHARACTER.\n"
     ]
    },
    {
     "name": "stdout",
     "output_type": "stream",
     "text": [
      "[+] NEW Total External links: 216\n",
      "[+] NEW Total Internal links: 385\n",
      "[+] NEW Total: 601\n"
     ]
    },
    {
     "name": "stderr",
     "output_type": "stream",
     "text": [
      "Some characters could not be decoded, and were replaced with REPLACEMENT CHARACTER.\n"
     ]
    },
    {
     "name": "stdout",
     "output_type": "stream",
     "text": [
      "[+] NEW Total External links: 216\n",
      "[+] NEW Total Internal links: 385\n",
      "[+] NEW Total: 601\n"
     ]
    },
    {
     "name": "stderr",
     "output_type": "stream",
     "text": [
      "Some characters could not be decoded, and were replaced with REPLACEMENT CHARACTER.\n"
     ]
    },
    {
     "name": "stdout",
     "output_type": "stream",
     "text": [
      "[+] NEW Total External links: 216\n",
      "[+] NEW Total Internal links: 385\n",
      "[+] NEW Total: 601\n",
      "[INT] Internal link: https://www.emich.edu/coronavirus/nursing/documents/letter-deans-nurs-psych.pdf\n",
      "[INT] Internal link: https://www.emich.edu/coronavirus/nursing/documents/aacn-covid19-2020-0312.pdf\n",
      "[INT] Internal link: https://www.emich.edu/drc/index.php\n",
      "[INT] Internal link: https://www.emich.edu/coronavirus/nursing/documents/caring-for-patients.pdf\n",
      "[INT] Internal link: https://www.emich.edu/coronavirus/nursing/documents/caps-mental-health-care-package.pdf\n",
      "[INT] Internal link: https://www.emich.edu/gameabove/forms/emergency-fund.php\n",
      "[INT] Internal link: https://www.emich.edu/swoopspantry/\n",
      "[INT] Internal link: https://www.emich.edu/coronavirus/nursing/documents/eo-2020-30-medical-practice.pdf\n",
      "[INT] Internal link: https://www.emich.edu/coronavirus/nursing/documents/lara-nursing-license-covid-emergency.pdf\n",
      "[INT] Internal link: https://www.emich.edu/coronavirus/nursing/documents/lara-temporary-license.pdf\n",
      "[INT] Internal link: https://www.emich.edu/coronavirus/nursing/documents/lara-simulated-clinicals.pdf\n",
      "[INT] Internal link: https://www.emich.edu/coronavirus/nursing/documents/fda-hydroxychloroquine.pdf\n",
      "[INT] Internal link: https://www.emich.edu/coronavirus/nursing/documents/lara-reminder-approp-prescribing.pdf\n",
      "[INT] Internal link: https://www.emich.edu/coronavirus/nursing/documents/ntf-np-clinical-hours.pdf\n",
      "[+] NEW Total External links: 240\n",
      "[+] NEW Total Internal links: 399\n",
      "[+] NEW Total: 639\n"
     ]
    },
    {
     "name": "stderr",
     "output_type": "stream",
     "text": [
      "Some characters could not be decoded, and were replaced with REPLACEMENT CHARACTER.\n"
     ]
    },
    {
     "name": "stdout",
     "output_type": "stream",
     "text": [
      "[+] NEW Total External links: 240\n",
      "[+] NEW Total Internal links: 399\n",
      "[+] NEW Total: 639\n"
     ]
    },
    {
     "name": "stderr",
     "output_type": "stream",
     "text": [
      "Some characters could not be decoded, and were replaced with REPLACEMENT CHARACTER.\n"
     ]
    },
    {
     "name": "stdout",
     "output_type": "stream",
     "text": [
      "[+] NEW Total External links: 240\n",
      "[+] NEW Total Internal links: 399\n",
      "[+] NEW Total: 639\n"
     ]
    },
    {
     "name": "stderr",
     "output_type": "stream",
     "text": [
      "Some characters could not be decoded, and were replaced with REPLACEMENT CHARACTER.\n"
     ]
    },
    {
     "name": "stdout",
     "output_type": "stream",
     "text": [
      "[+] NEW Total External links: 240\n",
      "[+] NEW Total Internal links: 399\n",
      "[+] NEW Total: 639\n"
     ]
    },
    {
     "name": "stderr",
     "output_type": "stream",
     "text": [
      "Some characters could not be decoded, and were replaced with REPLACEMENT CHARACTER.\n"
     ]
    },
    {
     "name": "stdout",
     "output_type": "stream",
     "text": [
      "[+] NEW Total External links: 240\n",
      "[+] NEW Total Internal links: 399\n",
      "[+] NEW Total: 639\n",
      "[INT] Internal link: https://www.emich.edu/sbs/billing-payments/request.php\n",
      "[INT] Internal link: https://www.emich.edu/registrar/documents/ug-pass-fail-wi20.pdf\n",
      "[INT] Internal link: https://www.emich.edu/registrar/documents/gr-pass-fail-wi20.pdf\n",
      "[INT] Internal link: https://www.emich.edu/registrar/documents/wi20_calendar_for_guide.pdf\n",
      "[INT] Internal link: https://www.emich.edu/registrar/\n",
      "[INT] Internal link: https://www.emich.edu/ccw/writing-center/index.php\n",
      "[INT] Internal link: https://www.emich.edu/ombuds/\n",
      "[INT] Internal link: https://www.emich.edu/drc/forms/questions.php\n",
      "[INT] Internal link: https://www.emich.edu/drc/\n",
      "[INT] Internal link: https://www.emich.edu/oiss/\n",
      "[INT] Internal link: https://www.emich.edu/elearning/\n",
      "[INT] Internal link: https://www.emich.edu/it/\n",
      "[INT] Internal link: https://www.emich.edu/facdev/\n",
      "[INT] Internal link: https://www.emich.edu/elearning/instructors/\n",
      "[INT] Internal link: https://www.emich.edu/it/workremote.php\n",
      "[INT] Internal link: https://www.emich.edu/admissions/visit/online-visit-experience.php\n",
      "[INT] Internal link: https://www.emich.edu/admissions/advisors/index.php\n",
      "[INT] Internal link: http://www.emich.edu/fasttrack\n",
      "[INT] Internal link: https://www.emich.edu/residencelife/applications/first-year.php\n",
      "[INT] Internal link: https://www.emich.edu/coronavirus/documents/covid-recommendations-employees.pdf\n",
      "[+] NEW Total External links: 264\n",
      "[+] NEW Total Internal links: 419\n",
      "[+] NEW Total: 683\n"
     ]
    },
    {
     "name": "stderr",
     "output_type": "stream",
     "text": [
      "Some characters could not be decoded, and were replaced with REPLACEMENT CHARACTER.\n"
     ]
    },
    {
     "name": "stdout",
     "output_type": "stream",
     "text": [
      "[+] NEW Total External links: 264\n",
      "[+] NEW Total Internal links: 419\n",
      "[+] NEW Total: 683\n"
     ]
    },
    {
     "name": "stderr",
     "output_type": "stream",
     "text": [
      "Some characters could not be decoded, and were replaced with REPLACEMENT CHARACTER.\n"
     ]
    },
    {
     "name": "stdout",
     "output_type": "stream",
     "text": [
      "[+] NEW Total External links: 264\n",
      "[+] NEW Total Internal links: 419\n",
      "[+] NEW Total: 683\n",
      "[+] NEW Total External links: 264\n",
      "[+] NEW Total Internal links: 419\n",
      "[+] NEW Total: 683\n"
     ]
    },
    {
     "name": "stderr",
     "output_type": "stream",
     "text": [
      "Some characters could not be decoded, and were replaced with REPLACEMENT CHARACTER.\n"
     ]
    },
    {
     "name": "stdout",
     "output_type": "stream",
     "text": [
      "[+] NEW Total External links: 264\n",
      "[+] NEW Total Internal links: 419\n",
      "[+] NEW Total: 683\n"
     ]
    },
    {
     "name": "stderr",
     "output_type": "stream",
     "text": [
      "Some characters could not be decoded, and were replaced with REPLACEMENT CHARACTER.\n"
     ]
    },
    {
     "name": "stdout",
     "output_type": "stream",
     "text": [
      "[+] NEW Total External links: 264\n",
      "[+] NEW Total Internal links: 419\n",
      "[+] NEW Total: 683\n"
     ]
    },
    {
     "name": "stderr",
     "output_type": "stream",
     "text": [
      "Some characters could not be decoded, and were replaced with REPLACEMENT CHARACTER.\n"
     ]
    },
    {
     "name": "stdout",
     "output_type": "stream",
     "text": [
      "[+] NEW Total External links: 264\n",
      "[+] NEW Total Internal links: 419\n",
      "[+] NEW Total: 683\n",
      "38 1\n"
     ]
    },
    {
     "name": "stderr",
     "output_type": "stream",
     "text": [
      "Some characters could not be decoded, and were replaced with REPLACEMENT CHARACTER.\n"
     ]
    },
    {
     "name": "stdout",
     "output_type": "stream",
     "text": [
      "[+] NEW Total External links: 264\n",
      "[+] NEW Total Internal links: 419\n",
      "[+] NEW Total: 683\n"
     ]
    },
    {
     "name": "stderr",
     "output_type": "stream",
     "text": [
      "Some characters could not be decoded, and were replaced with REPLACEMENT CHARACTER.\n"
     ]
    },
    {
     "name": "stdout",
     "output_type": "stream",
     "text": [
      "[+] NEW Total External links: 264\n",
      "[+] NEW Total Internal links: 419\n",
      "[+] NEW Total: 683\n"
     ]
    },
    {
     "name": "stderr",
     "output_type": "stream",
     "text": [
      "Some characters could not be decoded, and were replaced with REPLACEMENT CHARACTER.\n"
     ]
    },
    {
     "name": "stdout",
     "output_type": "stream",
     "text": [
      "[+] NEW Total External links: 264\n",
      "[+] NEW Total Internal links: 419\n",
      "[+] NEW Total: 683\n"
     ]
    },
    {
     "name": "stderr",
     "output_type": "stream",
     "text": [
      "Some characters could not be decoded, and were replaced with REPLACEMENT CHARACTER.\n"
     ]
    },
    {
     "name": "stdout",
     "output_type": "stream",
     "text": [
      "[+] NEW Total External links: 264\n",
      "[+] NEW Total Internal links: 419\n",
      "[+] NEW Total: 683\n"
     ]
    },
    {
     "name": "stderr",
     "output_type": "stream",
     "text": [
      "Some characters could not be decoded, and were replaced with REPLACEMENT CHARACTER.\n"
     ]
    },
    {
     "name": "stdout",
     "output_type": "stream",
     "text": [
      "[+] NEW Total External links: 264\n",
      "[+] NEW Total Internal links: 419\n",
      "[+] NEW Total: 683\n",
      "[+] NEW Total External links: 264\n",
      "[+] NEW Total Internal links: 419\n",
      "[+] NEW Total: 683\n"
     ]
    },
    {
     "name": "stderr",
     "output_type": "stream",
     "text": [
      "Some characters could not be decoded, and were replaced with REPLACEMENT CHARACTER.\n"
     ]
    },
    {
     "name": "stdout",
     "output_type": "stream",
     "text": [
      "[+] NEW Total External links: 264\n",
      "[+] NEW Total Internal links: 419\n",
      "[+] NEW Total: 683\n",
      "[+] NEW Total External links: 264\n",
      "[+] NEW Total Internal links: 419\n",
      "[+] NEW Total: 683\n"
     ]
    },
    {
     "name": "stderr",
     "output_type": "stream",
     "text": [
      "Some characters could not be decoded, and were replaced with REPLACEMENT CHARACTER.\n"
     ]
    },
    {
     "name": "stdout",
     "output_type": "stream",
     "text": [
      "[+] NEW Total External links: 264\n",
      "[+] NEW Total Internal links: 419\n",
      "[+] NEW Total: 683\n"
     ]
    },
    {
     "name": "stderr",
     "output_type": "stream",
     "text": [
      "Some characters could not be decoded, and were replaced with REPLACEMENT CHARACTER.\n"
     ]
    },
    {
     "name": "stdout",
     "output_type": "stream",
     "text": [
      "[+] NEW Total External links: 264\n",
      "[+] NEW Total Internal links: 419\n",
      "[+] NEW Total: 683\n"
     ]
    },
    {
     "name": "stderr",
     "output_type": "stream",
     "text": [
      "Some characters could not be decoded, and were replaced with REPLACEMENT CHARACTER.\n"
     ]
    },
    {
     "name": "stdout",
     "output_type": "stream",
     "text": [
      "[+] NEW Total External links: 264\n",
      "[+] NEW Total Internal links: 419\n",
      "[+] NEW Total: 683\n"
     ]
    }
   ],
   "source": [
    "count = 0\n",
    "last_count = 989874\n",
    "immediate_urls = set() #Linked Associated with the current page, https://umd.edu/virusinfo/ in this case\n",
    "\n",
    "for i in range(0,4):\n",
    "    for url in internal_urls:\n",
    "        if base_url_text in url:\n",
    "            immediate_urls.add(url)\n",
    "    count = len(immediate_urls)\n",
    "    print(count,i)\n",
    "    if(count == last_count):\n",
    "        break\n",
    "    last_count = count\n",
    "    for immediate_url in immediate_urls:\n",
    "        try:\n",
    "            crawl(immediate_url)\n",
    "            print(\"[+] NEW Total External links:\", len(external_urls))\n",
    "            print(\"[+] NEW Total Internal links:\", len(internal_urls))\n",
    "            print(\"[+] NEW Total:\", len(external_urls) + len(internal_urls))\n",
    "            if len(internal_urls)>1000:\n",
    "                break\n",
    "        except requests.exceptions.ConnectionError:\n",
    "            continue"
   ]
  },
  {
   "cell_type": "code",
   "execution_count": null,
   "metadata": {},
   "outputs": [],
   "source": [
    "def removeAfterN(yourStr, nth, occurenceOf):\n",
    "    return occurenceOf.join(yourStr.split(occurenceOf)[:nth])"
   ]
  },
  {
   "cell_type": "code",
   "execution_count": null,
   "metadata": {},
   "outputs": [],
   "source": [
    "semifinal_immediate_urls = set()\n",
    "\n",
    "for immediate_url in immediate_urls:\n",
    "    stripped_url = removeAfterN(immediate_url,2,\"http\")\n",
    "    \n",
    "    \n",
    "    semifinal_immediate_urls.add(stripped_url)\n",
    "#     final_immediate_urls.add(rest)\n",
    "#     print(rest)\n",
    "\n",
    "\n",
    "    \n",
    "\n",
    "print(semifinal_immediate_urls)\n",
    "total_count = len(semifinal_immediate_urls)\n",
    "print(total_count)"
   ]
  },
  {
   "cell_type": "code",
   "execution_count": null,
   "metadata": {},
   "outputs": [],
   "source": []
  },
  {
   "cell_type": "code",
   "execution_count": null,
   "metadata": {},
   "outputs": [],
   "source": [
    "final_immediate_urls = set()\n",
    "for semifinal_immediate_url in semifinal_immediate_urls:\n",
    "    if \"tel:\" not in semifinal_immediate_url:\n",
    "        final_immediate_urls.add(semifinal_immediate_url)\n",
    "\n",
    "print(final_immediate_urls)\n",
    "total_count = len(final_immediate_urls)\n",
    "print(total_count)       "
   ]
  },
  {
   "cell_type": "code",
   "execution_count": null,
   "metadata": {},
   "outputs": [],
   "source": []
  },
  {
   "cell_type": "code",
   "execution_count": null,
   "metadata": {},
   "outputs": [],
   "source": [
    "\n",
    "parent_folder = \"Doctoral\" #Change based on folder\n",
    "name_of_folder = f'{base_url_text_domain}_Screenshots'\n",
    "options = webdriver.ChromeOptions()\n",
    "options.headless = True\n",
    "driver = webdriver.Chrome(options=options,executable_path='chromedriver.exe') # #Local Path of chrome driver\n",
    "if not os.path.exists(f'{parent_folder}\\\\{name_of_folder}'):\n",
    "    os.makedirs(f'{parent_folder}\\\\{name_of_folder}')"
   ]
  },
  {
   "cell_type": "code",
   "execution_count": null,
   "metadata": {},
   "outputs": [],
   "source": [
    "webpage_save = set()\n",
    "webpage_save_count = 0\n",
    "webpage_cannot_save = 0\n",
    "for i in final_immediate_urls:\n",
    "    try:\n",
    "        code=urlopen(i).getcode()\n",
    "        webpage_save.add(i)\n",
    "        webpage_save_count = webpage_save_count+1\n",
    "        print(f\"{code} can_save - {i}\")\n",
    "    except (urllib.error.HTTPError,urllib.error.URLError) as e:\n",
    "        print(\"discarded\")\n",
    "        webpage_cannot_save = webpage_cannot_save+1\n",
    "        continue\n",
    "\n",
    "print(f'Webpages save as HTML :{webpage_save_count}')\n",
    "print(f'Webpages unable to save as HTML :{webpage_cannot_save}')\n",
    "        "
   ]
  },
  {
   "cell_type": "code",
   "execution_count": null,
   "metadata": {},
   "outputs": [],
   "source": [
    "pdf_count = 0\n",
    "pdf_urls = set()\n",
    "for webpage in webpage_save:\n",
    "    if webpage[-4:] == \".pdf\":\n",
    "        url = webpage\n",
    "        file_name = url.replace(base_url,'')\n",
    "        file_name = file_name.replace('/','')\n",
    "        if file_name == '':\n",
    "            file_name = \"Home\"\n",
    "        pdf_urls.add(webpage)\n",
    "        print(webpage)\n",
    "        r = requests.get(url, stream=True)\n",
    "        with open(f'{parent_folder}\\\\{name_of_folder}\\\\{file_name}.pdf', 'wb') as fd:\n",
    "            for chunk in r.iter_content(2000):\n",
    "                fd.write(chunk)\n",
    "        pdf_count = pdf_count + 1\n",
    "\n",
    "print(f\"Pdfs saved: {pdf_count}\")"
   ]
  },
  {
   "cell_type": "code",
   "execution_count": null,
   "metadata": {},
   "outputs": [],
   "source": [
    "final_immediate_urls = final_immediate_urls - pdf_urls\n",
    "webpage_save = webpage_save - pdf_urls\n",
    "web_save_count = len(webpage_save)\n",
    "total_count = len(final_immediate_urls)\n",
    "print(total_count) "
   ]
  },
  {
   "cell_type": "code",
   "execution_count": null,
   "metadata": {},
   "outputs": [],
   "source": [
    "\n",
    "#     try:\n",
    "#         print(i)\n",
    "        \n",
    "#         print(\"added\")\n",
    "#     except urllib.error.HTTPError as e:\n",
    "#         if e.code in (400,403):\n",
    "#             print(\"discarded\")\n",
    "#             continue"
   ]
  },
  {
   "cell_type": "code",
   "execution_count": null,
   "metadata": {},
   "outputs": [],
   "source": [
    "final_webpage_save_count = webpage_save_count - pdf_count\n",
    "print(final_webpage_save_count)"
   ]
  },
  {
   "cell_type": "code",
   "execution_count": null,
   "metadata": {},
   "outputs": [],
   "source": [
    "webpage_save_counter_loop = 0\n",
    "for webpage in webpage_save:\n",
    "    url = webpage\n",
    "    file_name = url.replace(base_url,'')\n",
    "    file_name = file_name.replace('/','')\n",
    "    if file_name == '':\n",
    "            file_name = \"Home\"\n",
    "    urllib.request.urlretrieve (webpage, f\"{parent_folder}\\\\{name_of_folder}\\\\{file_name}.html\")\n",
    "    webpage_save_counter_loop = webpage_save_counter_loop+1\n",
    "    print(f'{webpage_save_counter_loop} of {final_webpage_save_count} - {webpage}')\n",
    "\n",
    "print(\"Saving Completed\")"
   ]
  },
  {
   "cell_type": "code",
   "execution_count": null,
   "metadata": {},
   "outputs": [],
   "source": []
  },
  {
   "cell_type": "code",
   "execution_count": null,
   "metadata": {},
   "outputs": [],
   "source": []
  },
  {
   "cell_type": "code",
   "execution_count": null,
   "metadata": {},
   "outputs": [],
   "source": []
  },
  {
   "cell_type": "code",
   "execution_count": null,
   "metadata": {},
   "outputs": [],
   "source": [
    "count = 0\n",
    "for i in final_immediate_urls:\n",
    "    url = i\n",
    "    file_name = url.replace(base_url,'')\n",
    "    file_name = file_name.replace('/','')\n",
    "    if file_name == '':\n",
    "            file_name = \"Home\"\n",
    "    count = count + 1\n",
    "    print(f\"{count} of {total_count}\")\n",
    "    print(f'Visiting {base_url_text}/{file_name}')\n",
    "    print(f'...Taking a screenshot')\n",
    "    driver.get(url)\n",
    "    S = lambda X: driver.execute_script('return document.body.parentNode.scroll'+X)\n",
    "    driver.set_window_size(S('Width'),S('Height')) # May need manual adjustment                                                                                                                \n",
    "    driver.find_element_by_tag_name('body').screenshot(f'{parent_folder}\\\\{name_of_folder}\\\\{file_name}.png')\n",
    "    print(f'Screenshot of {file_name} page taken! \\n')\n",
    "#     print(\"Saving HTML\")\n",
    "#     pyautogui.hotkey('ctrl', 's')\n",
    "#     time.sleep(1)\n",
    "#     pyautogui.typewrite(f'{file_name}.html')\n",
    "#     pyautogui.hotkey('enter')\n",
    "driver.quit()\n",
    "    \n",
    "print(f'Task Completed! Files stored in the {parent_folder}\\\\{name_of_folder} Folder')"
   ]
  },
  {
   "cell_type": "code",
   "execution_count": null,
   "metadata": {},
   "outputs": [],
   "source": []
  },
  {
   "cell_type": "code",
   "execution_count": null,
   "metadata": {},
   "outputs": [],
   "source": []
  },
  {
   "cell_type": "code",
   "execution_count": null,
   "metadata": {},
   "outputs": [],
   "source": []
  },
  {
   "cell_type": "code",
   "execution_count": null,
   "metadata": {},
   "outputs": [],
   "source": []
  },
  {
   "cell_type": "code",
   "execution_count": null,
   "metadata": {},
   "outputs": [],
   "source": []
  }
 ],
 "metadata": {
  "kernelspec": {
   "display_name": "Python 3",
   "language": "python",
   "name": "python3"
  },
  "language_info": {
   "codemirror_mode": {
    "name": "ipython",
    "version": 3
   },
   "file_extension": ".py",
   "mimetype": "text/x-python",
   "name": "python",
   "nbconvert_exporter": "python",
   "pygments_lexer": "ipython3",
   "version": "3.8.2"
  }
 },
 "nbformat": 4,
 "nbformat_minor": 4
}
