{
 "cells": [
  {
   "cell_type": "code",
   "execution_count": 7,
   "metadata": {},
   "outputs": [],
   "source": [
    "#Imports\n",
    "import time\n",
    "import requests\n",
    "from urllib.parse import urlparse, urljoin\n",
    "from bs4 import BeautifulSoup\n",
    "from selenium import webdriver\n",
    "from selenium.webdriver.chrome.options import Options\n",
    "import os\n",
    "import urllib.request\n",
    "from urllib.request import urlopen\n",
    "import pyautogui\n",
    "# from pywebcopy import save_webpage"
   ]
  },
  {
   "cell_type": "code",
   "execution_count": 8,
   "metadata": {},
   "outputs": [],
   "source": [
    "\n",
    "internal_urls = set()\n",
    "external_urls = set()"
   ]
  },
  {
   "cell_type": "code",
   "execution_count": 9,
   "metadata": {},
   "outputs": [],
   "source": [
    "def is_url_valid(url):\n",
    "   #Checks if the url is valid or not\n",
    "    parsedURL = urlparse(url)\n",
    "    return bool(parsedURL.netloc) and bool(parsedURL.scheme)\n",
    "\n",
    "#The above function works as follows. We check if the scheme is present and there is a value in the network location part\n",
    "# url = \"https://umd.edu/virusinfo\"\n",
    "# urlparse(url)\n",
    "# ParseResult(scheme='https', netloc='umd.edu', path='/virusinfo', \n",
    "# params='', query='', fragment='')"
   ]
  },
  {
   "cell_type": "code",
   "execution_count": 10,
   "metadata": {},
   "outputs": [],
   "source": [
    "\n",
    "#The function gives all urls\n",
    "def get_all_urls(url):\n",
    "    urls = set()\n",
    "    # domain name of the URL without the protocol (umd.edu in this case)\n",
    "    domain_name = urlparse(url).netloc\n",
    "    soup = BeautifulSoup(requests.get(url).content, \"html.parser\")\n",
    "    for a_tag in soup.findAll(\"a\"):\n",
    "        href = a_tag.attrs.get(\"href\")\n",
    "        if href == \"\" or href is None:\n",
    "            #href is empty and we don't need that a element\n",
    "            continue\n",
    "        #if the link is not absolute, make it by joining relative to the base\n",
    "        href = urljoin(url, href)\n",
    "        parsed_href = urlparse(href)\n",
    "        #constructing an absolute URL from parsed data\n",
    "        href = parsed_href.scheme + \"://\" + parsed_href.netloc + parsed_href.path\n",
    "        if not is_url_valid(href):\n",
    "            #in valid url\n",
    "            continue\n",
    "        if href in internal_urls:\n",
    "            #it is already in the set, so we don't need to add\n",
    "            continue\n",
    "        if domain_name not in href:\n",
    "            #it is an external link. i.e\n",
    "            # Check if it is already there \n",
    "            if href not in external_urls:\n",
    "#                 print(f\"[EXT] External link: {href}\")\n",
    "                external_urls.add(href)\n",
    "            continue\n",
    "#         print(\".\",end=\" \")\n",
    "        print(f\"[INT] Internal link: {href}\")\n",
    "\n",
    "        urls.add(href)\n",
    "        internal_urls.add(href)\n",
    "    return urls\n"
   ]
  },
  {
   "cell_type": "code",
   "execution_count": 11,
   "metadata": {},
   "outputs": [],
   "source": [
    "total_urls_visited = 0\n",
    "def crawl(url, max_urls=50):\n",
    "    #Max URL is just to decrease the time if there are a lot of pages.\n",
    "    #The following code was openly available of github and I found this\n",
    "    #idea useful to inhibit crawling time\n",
    "    global total_urls_visited\n",
    "    total_urls_visited += 1\n",
    "    links = get_all_urls(url)\n",
    "    for link in links:\n",
    "        if total_urls_visited > max_urls:\n",
    "            break\n",
    "        crawl(link, max_urls=max_urls)\n"
   ]
  },
  {
   "cell_type": "code",
   "execution_count": 12,
   "metadata": {},
   "outputs": [],
   "source": [
    "#base_url = \"https://umd.edu/virusinfo\"\n",
    "#Input\n",
    "# base_url = input(\"Enter the URL : \")\n",
    "base_url = \"https://www.astate.edu/safety/novel-coronavirus/\""
   ]
  },
  {
   "cell_type": "code",
   "execution_count": 13,
   "metadata": {},
   "outputs": [
    {
     "name": "stdout",
     "output_type": "stream",
     "text": [
      "www.astate.edu/safety/novel-coronavirus/\n",
      "www.astate.edu\n"
     ]
    }
   ],
   "source": [
    "parsedurl = urlparse(base_url)\n",
    "# base_url_text = base_url.split(\"//\",1)[1]\n",
    "base_url_text = parsedurl.netloc+parsedurl.path\n",
    "print(base_url_text)\n",
    "# base_url_text_domain = base_url_text.split(\"/\",1)[0]\n",
    "base_url_text_domain = parsedurl.netloc\n",
    "print(base_url_text_domain)"
   ]
  },
  {
   "cell_type": "code",
   "execution_count": 14,
   "metadata": {},
   "outputs": [
    {
     "name": "stdout",
     "output_type": "stream",
     "text": [
      ". . . . . . . . . . . . . . . . . . . . . . . . . . . . . . . . . . . . . . . . . . . . . . . . . . . . . . . . . . . . . . . . . . . . . . . . . . . . . . . . . . . . . . . . . . . . . . . . . . . . . . . . . . . . . . . . "
     ]
    },
    {
     "name": "stderr",
     "output_type": "stream",
     "text": [
      "Some characters could not be decoded, and were replaced with REPLACEMENT CHARACTER.\n",
      "Some characters could not be decoded, and were replaced with REPLACEMENT CHARACTER.\n",
      "Some characters could not be decoded, and were replaced with REPLACEMENT CHARACTER.\n"
     ]
    },
    {
     "name": "stdout",
     "output_type": "stream",
     "text": [
      ". . . . . . . . . . . . . . . . . . . . . . . . . . . . . . . . . . . . . . . . . . . . . . . . "
     ]
    },
    {
     "ename": "KeyboardInterrupt",
     "evalue": "",
     "output_type": "error",
     "traceback": [
      "\u001b[1;31m---------------------------------------------------------------------------\u001b[0m",
      "\u001b[1;31mKeyboardInterrupt\u001b[0m                         Traceback (most recent call last)",
      "\u001b[1;32m<ipython-input-14-a242e51e267c>\u001b[0m in \u001b[0;36m<module>\u001b[1;34m\u001b[0m\n\u001b[1;32m----> 1\u001b[1;33m \u001b[0mcrawl\u001b[0m\u001b[1;33m(\u001b[0m\u001b[0mbase_url\u001b[0m\u001b[1;33m)\u001b[0m\u001b[1;33m\u001b[0m\u001b[1;33m\u001b[0m\u001b[0m\n\u001b[0m\u001b[0;32m      2\u001b[0m \u001b[0mprint\u001b[0m\u001b[1;33m(\u001b[0m\u001b[1;34m\"[+] Total External links:\"\u001b[0m\u001b[1;33m,\u001b[0m \u001b[0mlen\u001b[0m\u001b[1;33m(\u001b[0m\u001b[0mexternal_urls\u001b[0m\u001b[1;33m)\u001b[0m\u001b[1;33m)\u001b[0m\u001b[1;33m\u001b[0m\u001b[1;33m\u001b[0m\u001b[0m\n\u001b[0;32m      3\u001b[0m \u001b[0mprint\u001b[0m\u001b[1;33m(\u001b[0m\u001b[1;34m\"[+] Total Internal links:\"\u001b[0m\u001b[1;33m,\u001b[0m \u001b[0mlen\u001b[0m\u001b[1;33m(\u001b[0m\u001b[0minternal_urls\u001b[0m\u001b[1;33m)\u001b[0m\u001b[1;33m)\u001b[0m\u001b[1;33m\u001b[0m\u001b[1;33m\u001b[0m\u001b[0m\n\u001b[0;32m      4\u001b[0m \u001b[0mprint\u001b[0m\u001b[1;33m(\u001b[0m\u001b[1;34m\"[+] Total:\"\u001b[0m\u001b[1;33m,\u001b[0m \u001b[0mlen\u001b[0m\u001b[1;33m(\u001b[0m\u001b[0mexternal_urls\u001b[0m\u001b[1;33m)\u001b[0m \u001b[1;33m+\u001b[0m \u001b[0mlen\u001b[0m\u001b[1;33m(\u001b[0m\u001b[0minternal_urls\u001b[0m\u001b[1;33m)\u001b[0m\u001b[1;33m)\u001b[0m\u001b[1;33m\u001b[0m\u001b[1;33m\u001b[0m\u001b[0m\n",
      "\u001b[1;32m<ipython-input-11-8d26bb53514e>\u001b[0m in \u001b[0;36mcrawl\u001b[1;34m(url, max_urls)\u001b[0m\n\u001b[0;32m     10\u001b[0m         \u001b[1;32mif\u001b[0m \u001b[0mtotal_urls_visited\u001b[0m \u001b[1;33m>\u001b[0m \u001b[0mmax_urls\u001b[0m\u001b[1;33m:\u001b[0m\u001b[1;33m\u001b[0m\u001b[1;33m\u001b[0m\u001b[0m\n\u001b[0;32m     11\u001b[0m             \u001b[1;32mbreak\u001b[0m\u001b[1;33m\u001b[0m\u001b[1;33m\u001b[0m\u001b[0m\n\u001b[1;32m---> 12\u001b[1;33m         \u001b[0mcrawl\u001b[0m\u001b[1;33m(\u001b[0m\u001b[0mlink\u001b[0m\u001b[1;33m,\u001b[0m \u001b[0mmax_urls\u001b[0m\u001b[1;33m=\u001b[0m\u001b[0mmax_urls\u001b[0m\u001b[1;33m)\u001b[0m\u001b[1;33m\u001b[0m\u001b[1;33m\u001b[0m\u001b[0m\n\u001b[0m",
      "\u001b[1;32m<ipython-input-11-8d26bb53514e>\u001b[0m in \u001b[0;36mcrawl\u001b[1;34m(url, max_urls)\u001b[0m\n\u001b[0;32m     10\u001b[0m         \u001b[1;32mif\u001b[0m \u001b[0mtotal_urls_visited\u001b[0m \u001b[1;33m>\u001b[0m \u001b[0mmax_urls\u001b[0m\u001b[1;33m:\u001b[0m\u001b[1;33m\u001b[0m\u001b[1;33m\u001b[0m\u001b[0m\n\u001b[0;32m     11\u001b[0m             \u001b[1;32mbreak\u001b[0m\u001b[1;33m\u001b[0m\u001b[1;33m\u001b[0m\u001b[0m\n\u001b[1;32m---> 12\u001b[1;33m         \u001b[0mcrawl\u001b[0m\u001b[1;33m(\u001b[0m\u001b[0mlink\u001b[0m\u001b[1;33m,\u001b[0m \u001b[0mmax_urls\u001b[0m\u001b[1;33m=\u001b[0m\u001b[0mmax_urls\u001b[0m\u001b[1;33m)\u001b[0m\u001b[1;33m\u001b[0m\u001b[1;33m\u001b[0m\u001b[0m\n\u001b[0m",
      "\u001b[1;32m<ipython-input-11-8d26bb53514e>\u001b[0m in \u001b[0;36mcrawl\u001b[1;34m(url, max_urls)\u001b[0m\n\u001b[0;32m     10\u001b[0m         \u001b[1;32mif\u001b[0m \u001b[0mtotal_urls_visited\u001b[0m \u001b[1;33m>\u001b[0m \u001b[0mmax_urls\u001b[0m\u001b[1;33m:\u001b[0m\u001b[1;33m\u001b[0m\u001b[1;33m\u001b[0m\u001b[0m\n\u001b[0;32m     11\u001b[0m             \u001b[1;32mbreak\u001b[0m\u001b[1;33m\u001b[0m\u001b[1;33m\u001b[0m\u001b[0m\n\u001b[1;32m---> 12\u001b[1;33m         \u001b[0mcrawl\u001b[0m\u001b[1;33m(\u001b[0m\u001b[0mlink\u001b[0m\u001b[1;33m,\u001b[0m \u001b[0mmax_urls\u001b[0m\u001b[1;33m=\u001b[0m\u001b[0mmax_urls\u001b[0m\u001b[1;33m)\u001b[0m\u001b[1;33m\u001b[0m\u001b[1;33m\u001b[0m\u001b[0m\n\u001b[0m",
      "\u001b[1;32m<ipython-input-11-8d26bb53514e>\u001b[0m in \u001b[0;36mcrawl\u001b[1;34m(url, max_urls)\u001b[0m\n\u001b[0;32m      6\u001b[0m     \u001b[1;32mglobal\u001b[0m \u001b[0mtotal_urls_visited\u001b[0m\u001b[1;33m\u001b[0m\u001b[1;33m\u001b[0m\u001b[0m\n\u001b[0;32m      7\u001b[0m     \u001b[0mtotal_urls_visited\u001b[0m \u001b[1;33m+=\u001b[0m \u001b[1;36m1\u001b[0m\u001b[1;33m\u001b[0m\u001b[1;33m\u001b[0m\u001b[0m\n\u001b[1;32m----> 8\u001b[1;33m     \u001b[0mlinks\u001b[0m \u001b[1;33m=\u001b[0m \u001b[0mget_all_urls\u001b[0m\u001b[1;33m(\u001b[0m\u001b[0murl\u001b[0m\u001b[1;33m)\u001b[0m\u001b[1;33m\u001b[0m\u001b[1;33m\u001b[0m\u001b[0m\n\u001b[0m\u001b[0;32m      9\u001b[0m     \u001b[1;32mfor\u001b[0m \u001b[0mlink\u001b[0m \u001b[1;32min\u001b[0m \u001b[0mlinks\u001b[0m\u001b[1;33m:\u001b[0m\u001b[1;33m\u001b[0m\u001b[1;33m\u001b[0m\u001b[0m\n\u001b[0;32m     10\u001b[0m         \u001b[1;32mif\u001b[0m \u001b[0mtotal_urls_visited\u001b[0m \u001b[1;33m>\u001b[0m \u001b[0mmax_urls\u001b[0m\u001b[1;33m:\u001b[0m\u001b[1;33m\u001b[0m\u001b[1;33m\u001b[0m\u001b[0m\n",
      "\u001b[1;32m<ipython-input-10-f63483d1daad>\u001b[0m in \u001b[0;36mget_all_urls\u001b[1;34m(url)\u001b[0m\n\u001b[0;32m      4\u001b[0m     \u001b[1;31m# domain name of the URL without the protocol (umd.edu in this case)\u001b[0m\u001b[1;33m\u001b[0m\u001b[1;33m\u001b[0m\u001b[1;33m\u001b[0m\u001b[0m\n\u001b[0;32m      5\u001b[0m     \u001b[0mdomain_name\u001b[0m \u001b[1;33m=\u001b[0m \u001b[0murlparse\u001b[0m\u001b[1;33m(\u001b[0m\u001b[0murl\u001b[0m\u001b[1;33m)\u001b[0m\u001b[1;33m.\u001b[0m\u001b[0mnetloc\u001b[0m\u001b[1;33m\u001b[0m\u001b[1;33m\u001b[0m\u001b[0m\n\u001b[1;32m----> 6\u001b[1;33m     \u001b[0msoup\u001b[0m \u001b[1;33m=\u001b[0m \u001b[0mBeautifulSoup\u001b[0m\u001b[1;33m(\u001b[0m\u001b[0mrequests\u001b[0m\u001b[1;33m.\u001b[0m\u001b[0mget\u001b[0m\u001b[1;33m(\u001b[0m\u001b[0murl\u001b[0m\u001b[1;33m)\u001b[0m\u001b[1;33m.\u001b[0m\u001b[0mcontent\u001b[0m\u001b[1;33m,\u001b[0m \u001b[1;34m\"html.parser\"\u001b[0m\u001b[1;33m)\u001b[0m\u001b[1;33m\u001b[0m\u001b[1;33m\u001b[0m\u001b[0m\n\u001b[0m\u001b[0;32m      7\u001b[0m     \u001b[1;32mfor\u001b[0m \u001b[0ma_tag\u001b[0m \u001b[1;32min\u001b[0m \u001b[0msoup\u001b[0m\u001b[1;33m.\u001b[0m\u001b[0mfindAll\u001b[0m\u001b[1;33m(\u001b[0m\u001b[1;34m\"a\"\u001b[0m\u001b[1;33m)\u001b[0m\u001b[1;33m:\u001b[0m\u001b[1;33m\u001b[0m\u001b[1;33m\u001b[0m\u001b[0m\n\u001b[0;32m      8\u001b[0m         \u001b[0mhref\u001b[0m \u001b[1;33m=\u001b[0m \u001b[0ma_tag\u001b[0m\u001b[1;33m.\u001b[0m\u001b[0mattrs\u001b[0m\u001b[1;33m.\u001b[0m\u001b[0mget\u001b[0m\u001b[1;33m(\u001b[0m\u001b[1;34m\"href\"\u001b[0m\u001b[1;33m)\u001b[0m\u001b[1;33m\u001b[0m\u001b[1;33m\u001b[0m\u001b[0m\n",
      "\u001b[1;32m~\\anaconda3\\envs\\py\\lib\\site-packages\\bs4\\__init__.py\u001b[0m in \u001b[0;36m__init__\u001b[1;34m(self, markup, features, builder, parse_only, from_encoding, exclude_encodings, element_classes, **kwargs)\u001b[0m\n\u001b[0;32m    316\u001b[0m         \u001b[0mrejections\u001b[0m \u001b[1;33m=\u001b[0m \u001b[1;33m[\u001b[0m\u001b[1;33m]\u001b[0m\u001b[1;33m\u001b[0m\u001b[1;33m\u001b[0m\u001b[0m\n\u001b[0;32m    317\u001b[0m         \u001b[0msuccess\u001b[0m \u001b[1;33m=\u001b[0m \u001b[1;32mFalse\u001b[0m\u001b[1;33m\u001b[0m\u001b[1;33m\u001b[0m\u001b[0m\n\u001b[1;32m--> 318\u001b[1;33m         for (self.markup, self.original_encoding, self.declared_html_encoding,\n\u001b[0m\u001b[0;32m    319\u001b[0m          \u001b[0mself\u001b[0m\u001b[1;33m.\u001b[0m\u001b[0mcontains_replacement_characters\u001b[0m\u001b[1;33m)\u001b[0m \u001b[1;32min\u001b[0m \u001b[1;33m(\u001b[0m\u001b[1;33m\u001b[0m\u001b[1;33m\u001b[0m\u001b[0m\n\u001b[0;32m    320\u001b[0m              self.builder.prepare_markup(\n",
      "\u001b[1;32m~\\anaconda3\\envs\\py\\lib\\site-packages\\bs4\\builder\\_htmlparser.py\u001b[0m in \u001b[0;36mprepare_markup\u001b[1;34m(self, markup, user_specified_encoding, document_declared_encoding, exclude_encodings)\u001b[0m\n\u001b[0;32m    323\u001b[0m         \u001b[1;31m# Ask UnicodeDammit to sniff the most likely encoding.\u001b[0m\u001b[1;33m\u001b[0m\u001b[1;33m\u001b[0m\u001b[1;33m\u001b[0m\u001b[0m\n\u001b[0;32m    324\u001b[0m         \u001b[0mtry_encodings\u001b[0m \u001b[1;33m=\u001b[0m \u001b[1;33m[\u001b[0m\u001b[0muser_specified_encoding\u001b[0m\u001b[1;33m,\u001b[0m \u001b[0mdocument_declared_encoding\u001b[0m\u001b[1;33m]\u001b[0m\u001b[1;33m\u001b[0m\u001b[1;33m\u001b[0m\u001b[0m\n\u001b[1;32m--> 325\u001b[1;33m         dammit = UnicodeDammit(markup, try_encodings, is_html=True,\n\u001b[0m\u001b[0;32m    326\u001b[0m                                exclude_encodings=exclude_encodings)\n\u001b[0;32m    327\u001b[0m         yield (dammit.markup, dammit.original_encoding,\n",
      "\u001b[1;32m~\\anaconda3\\envs\\py\\lib\\site-packages\\bs4\\dammit.py\u001b[0m in \u001b[0;36m__init__\u001b[1;34m(self, markup, override_encodings, smart_quotes_to, is_html, exclude_encodings)\u001b[0m\n\u001b[0;32m    453\u001b[0m             \u001b[1;31m# try them again with character replacement.\u001b[0m\u001b[1;33m\u001b[0m\u001b[1;33m\u001b[0m\u001b[1;33m\u001b[0m\u001b[0m\n\u001b[0;32m    454\u001b[0m \u001b[1;33m\u001b[0m\u001b[0m\n\u001b[1;32m--> 455\u001b[1;33m             \u001b[1;32mfor\u001b[0m \u001b[0mencoding\u001b[0m \u001b[1;32min\u001b[0m \u001b[0mself\u001b[0m\u001b[1;33m.\u001b[0m\u001b[0mdetector\u001b[0m\u001b[1;33m.\u001b[0m\u001b[0mencodings\u001b[0m\u001b[1;33m:\u001b[0m\u001b[1;33m\u001b[0m\u001b[1;33m\u001b[0m\u001b[0m\n\u001b[0m\u001b[0;32m    456\u001b[0m                 \u001b[1;32mif\u001b[0m \u001b[0mencoding\u001b[0m \u001b[1;33m!=\u001b[0m \u001b[1;34m\"ascii\"\u001b[0m\u001b[1;33m:\u001b[0m\u001b[1;33m\u001b[0m\u001b[1;33m\u001b[0m\u001b[0m\n\u001b[0;32m    457\u001b[0m                     \u001b[0mu\u001b[0m \u001b[1;33m=\u001b[0m \u001b[0mself\u001b[0m\u001b[1;33m.\u001b[0m\u001b[0m_convert_from\u001b[0m\u001b[1;33m(\u001b[0m\u001b[0mencoding\u001b[0m\u001b[1;33m,\u001b[0m \u001b[1;34m\"replace\"\u001b[0m\u001b[1;33m)\u001b[0m\u001b[1;33m\u001b[0m\u001b[1;33m\u001b[0m\u001b[0m\n",
      "\u001b[1;32m~\\anaconda3\\envs\\py\\lib\\site-packages\\bs4\\dammit.py\u001b[0m in \u001b[0;36mencodings\u001b[1;34m(self)\u001b[0m\n\u001b[0;32m    307\u001b[0m         \u001b[1;31m# encoding.\u001b[0m\u001b[1;33m\u001b[0m\u001b[1;33m\u001b[0m\u001b[1;33m\u001b[0m\u001b[0m\n\u001b[0;32m    308\u001b[0m         \u001b[1;32mif\u001b[0m \u001b[0mself\u001b[0m\u001b[1;33m.\u001b[0m\u001b[0mchardet_encoding\u001b[0m \u001b[1;32mis\u001b[0m \u001b[1;32mNone\u001b[0m\u001b[1;33m:\u001b[0m\u001b[1;33m\u001b[0m\u001b[1;33m\u001b[0m\u001b[0m\n\u001b[1;32m--> 309\u001b[1;33m             \u001b[0mself\u001b[0m\u001b[1;33m.\u001b[0m\u001b[0mchardet_encoding\u001b[0m \u001b[1;33m=\u001b[0m \u001b[0mchardet_dammit\u001b[0m\u001b[1;33m(\u001b[0m\u001b[0mself\u001b[0m\u001b[1;33m.\u001b[0m\u001b[0mmarkup\u001b[0m\u001b[1;33m)\u001b[0m\u001b[1;33m\u001b[0m\u001b[1;33m\u001b[0m\u001b[0m\n\u001b[0m\u001b[0;32m    310\u001b[0m         \u001b[1;32mif\u001b[0m \u001b[0mself\u001b[0m\u001b[1;33m.\u001b[0m\u001b[0m_usable\u001b[0m\u001b[1;33m(\u001b[0m\u001b[0mself\u001b[0m\u001b[1;33m.\u001b[0m\u001b[0mchardet_encoding\u001b[0m\u001b[1;33m,\u001b[0m \u001b[0mtried\u001b[0m\u001b[1;33m)\u001b[0m\u001b[1;33m:\u001b[0m\u001b[1;33m\u001b[0m\u001b[1;33m\u001b[0m\u001b[0m\n\u001b[0;32m    311\u001b[0m             \u001b[1;32myield\u001b[0m \u001b[0mself\u001b[0m\u001b[1;33m.\u001b[0m\u001b[0mchardet_encoding\u001b[0m\u001b[1;33m\u001b[0m\u001b[1;33m\u001b[0m\u001b[0m\n",
      "\u001b[1;32m~\\anaconda3\\envs\\py\\lib\\site-packages\\bs4\\dammit.py\u001b[0m in \u001b[0;36mchardet_dammit\u001b[1;34m(s)\u001b[0m\n\u001b[0;32m     35\u001b[0m             \u001b[1;32mif\u001b[0m \u001b[0misinstance\u001b[0m\u001b[1;33m(\u001b[0m\u001b[0ms\u001b[0m\u001b[1;33m,\u001b[0m \u001b[0mstr\u001b[0m\u001b[1;33m)\u001b[0m\u001b[1;33m:\u001b[0m\u001b[1;33m\u001b[0m\u001b[1;33m\u001b[0m\u001b[0m\n\u001b[0;32m     36\u001b[0m                 \u001b[1;32mreturn\u001b[0m \u001b[1;32mNone\u001b[0m\u001b[1;33m\u001b[0m\u001b[1;33m\u001b[0m\u001b[0m\n\u001b[1;32m---> 37\u001b[1;33m             \u001b[1;32mreturn\u001b[0m \u001b[0mchardet\u001b[0m\u001b[1;33m.\u001b[0m\u001b[0mdetect\u001b[0m\u001b[1;33m(\u001b[0m\u001b[0ms\u001b[0m\u001b[1;33m)\u001b[0m\u001b[1;33m[\u001b[0m\u001b[1;34m'encoding'\u001b[0m\u001b[1;33m]\u001b[0m\u001b[1;33m\u001b[0m\u001b[1;33m\u001b[0m\u001b[0m\n\u001b[0m\u001b[0;32m     38\u001b[0m         \u001b[1;31m#import chardet.constants\u001b[0m\u001b[1;33m\u001b[0m\u001b[1;33m\u001b[0m\u001b[1;33m\u001b[0m\u001b[0m\n\u001b[0;32m     39\u001b[0m         \u001b[1;31m#chardet.constants._debug = 1\u001b[0m\u001b[1;33m\u001b[0m\u001b[1;33m\u001b[0m\u001b[1;33m\u001b[0m\u001b[0m\n",
      "\u001b[1;32m~\\anaconda3\\envs\\py\\lib\\site-packages\\chardet\\__init__.py\u001b[0m in \u001b[0;36mdetect\u001b[1;34m(byte_str)\u001b[0m\n\u001b[0;32m     36\u001b[0m             \u001b[0mbyte_str\u001b[0m \u001b[1;33m=\u001b[0m \u001b[0mbytearray\u001b[0m\u001b[1;33m(\u001b[0m\u001b[0mbyte_str\u001b[0m\u001b[1;33m)\u001b[0m\u001b[1;33m\u001b[0m\u001b[1;33m\u001b[0m\u001b[0m\n\u001b[0;32m     37\u001b[0m     \u001b[0mdetector\u001b[0m \u001b[1;33m=\u001b[0m \u001b[0mUniversalDetector\u001b[0m\u001b[1;33m(\u001b[0m\u001b[1;33m)\u001b[0m\u001b[1;33m\u001b[0m\u001b[1;33m\u001b[0m\u001b[0m\n\u001b[1;32m---> 38\u001b[1;33m     \u001b[0mdetector\u001b[0m\u001b[1;33m.\u001b[0m\u001b[0mfeed\u001b[0m\u001b[1;33m(\u001b[0m\u001b[0mbyte_str\u001b[0m\u001b[1;33m)\u001b[0m\u001b[1;33m\u001b[0m\u001b[1;33m\u001b[0m\u001b[0m\n\u001b[0m\u001b[0;32m     39\u001b[0m     \u001b[1;32mreturn\u001b[0m \u001b[0mdetector\u001b[0m\u001b[1;33m.\u001b[0m\u001b[0mclose\u001b[0m\u001b[1;33m(\u001b[0m\u001b[1;33m)\u001b[0m\u001b[1;33m\u001b[0m\u001b[1;33m\u001b[0m\u001b[0m\n",
      "\u001b[1;32m~\\anaconda3\\envs\\py\\lib\\site-packages\\chardet\\universaldetector.py\u001b[0m in \u001b[0;36mfeed\u001b[1;34m(self, byte_str)\u001b[0m\n\u001b[0;32m    209\u001b[0m                 \u001b[0mself\u001b[0m\u001b[1;33m.\u001b[0m\u001b[0m_charset_probers\u001b[0m\u001b[1;33m.\u001b[0m\u001b[0mappend\u001b[0m\u001b[1;33m(\u001b[0m\u001b[0mLatin1Prober\u001b[0m\u001b[1;33m(\u001b[0m\u001b[1;33m)\u001b[0m\u001b[1;33m)\u001b[0m\u001b[1;33m\u001b[0m\u001b[1;33m\u001b[0m\u001b[0m\n\u001b[0;32m    210\u001b[0m             \u001b[1;32mfor\u001b[0m \u001b[0mprober\u001b[0m \u001b[1;32min\u001b[0m \u001b[0mself\u001b[0m\u001b[1;33m.\u001b[0m\u001b[0m_charset_probers\u001b[0m\u001b[1;33m:\u001b[0m\u001b[1;33m\u001b[0m\u001b[1;33m\u001b[0m\u001b[0m\n\u001b[1;32m--> 211\u001b[1;33m                 \u001b[1;32mif\u001b[0m \u001b[0mprober\u001b[0m\u001b[1;33m.\u001b[0m\u001b[0mfeed\u001b[0m\u001b[1;33m(\u001b[0m\u001b[0mbyte_str\u001b[0m\u001b[1;33m)\u001b[0m \u001b[1;33m==\u001b[0m \u001b[0mProbingState\u001b[0m\u001b[1;33m.\u001b[0m\u001b[0mFOUND_IT\u001b[0m\u001b[1;33m:\u001b[0m\u001b[1;33m\u001b[0m\u001b[1;33m\u001b[0m\u001b[0m\n\u001b[0m\u001b[0;32m    212\u001b[0m                     self.result = {'encoding': prober.charset_name,\n\u001b[0;32m    213\u001b[0m                                    \u001b[1;34m'confidence'\u001b[0m\u001b[1;33m:\u001b[0m \u001b[0mprober\u001b[0m\u001b[1;33m.\u001b[0m\u001b[0mget_confidence\u001b[0m\u001b[1;33m(\u001b[0m\u001b[1;33m)\u001b[0m\u001b[1;33m,\u001b[0m\u001b[1;33m\u001b[0m\u001b[1;33m\u001b[0m\u001b[0m\n",
      "\u001b[1;32m~\\anaconda3\\envs\\py\\lib\\site-packages\\chardet\\charsetgroupprober.py\u001b[0m in \u001b[0;36mfeed\u001b[1;34m(self, byte_str)\u001b[0m\n\u001b[0;32m     69\u001b[0m             \u001b[1;32mif\u001b[0m \u001b[1;32mnot\u001b[0m \u001b[0mprober\u001b[0m\u001b[1;33m.\u001b[0m\u001b[0mactive\u001b[0m\u001b[1;33m:\u001b[0m\u001b[1;33m\u001b[0m\u001b[1;33m\u001b[0m\u001b[0m\n\u001b[0;32m     70\u001b[0m                 \u001b[1;32mcontinue\u001b[0m\u001b[1;33m\u001b[0m\u001b[1;33m\u001b[0m\u001b[0m\n\u001b[1;32m---> 71\u001b[1;33m             \u001b[0mstate\u001b[0m \u001b[1;33m=\u001b[0m \u001b[0mprober\u001b[0m\u001b[1;33m.\u001b[0m\u001b[0mfeed\u001b[0m\u001b[1;33m(\u001b[0m\u001b[0mbyte_str\u001b[0m\u001b[1;33m)\u001b[0m\u001b[1;33m\u001b[0m\u001b[1;33m\u001b[0m\u001b[0m\n\u001b[0m\u001b[0;32m     72\u001b[0m             \u001b[1;32mif\u001b[0m \u001b[1;32mnot\u001b[0m \u001b[0mstate\u001b[0m\u001b[1;33m:\u001b[0m\u001b[1;33m\u001b[0m\u001b[1;33m\u001b[0m\u001b[0m\n\u001b[0;32m     73\u001b[0m                 \u001b[1;32mcontinue\u001b[0m\u001b[1;33m\u001b[0m\u001b[1;33m\u001b[0m\u001b[0m\n",
      "\u001b[1;32m~\\anaconda3\\envs\\py\\lib\\site-packages\\chardet\\sbcharsetprober.py\u001b[0m in \u001b[0;36mfeed\u001b[1;34m(self, byte_str)\u001b[0m\n\u001b[0;32m    102\u001b[0m                         \u001b[0mi\u001b[0m \u001b[1;33m=\u001b[0m \u001b[1;33m(\u001b[0m\u001b[0morder\u001b[0m \u001b[1;33m*\u001b[0m \u001b[0mself\u001b[0m\u001b[1;33m.\u001b[0m\u001b[0mSAMPLE_SIZE\u001b[0m\u001b[1;33m)\u001b[0m \u001b[1;33m+\u001b[0m \u001b[0mself\u001b[0m\u001b[1;33m.\u001b[0m\u001b[0m_last_order\u001b[0m\u001b[1;33m\u001b[0m\u001b[1;33m\u001b[0m\u001b[0m\n\u001b[0;32m    103\u001b[0m                         \u001b[0mmodel\u001b[0m \u001b[1;33m=\u001b[0m \u001b[0mself\u001b[0m\u001b[1;33m.\u001b[0m\u001b[0m_model\u001b[0m\u001b[1;33m[\u001b[0m\u001b[1;34m'precedence_matrix'\u001b[0m\u001b[1;33m]\u001b[0m\u001b[1;33m[\u001b[0m\u001b[0mi\u001b[0m\u001b[1;33m]\u001b[0m\u001b[1;33m\u001b[0m\u001b[1;33m\u001b[0m\u001b[0m\n\u001b[1;32m--> 104\u001b[1;33m                     \u001b[0mself\u001b[0m\u001b[1;33m.\u001b[0m\u001b[0m_seq_counters\u001b[0m\u001b[1;33m[\u001b[0m\u001b[0mmodel\u001b[0m\u001b[1;33m]\u001b[0m \u001b[1;33m+=\u001b[0m \u001b[1;36m1\u001b[0m\u001b[1;33m\u001b[0m\u001b[1;33m\u001b[0m\u001b[0m\n\u001b[0m\u001b[0;32m    105\u001b[0m             \u001b[0mself\u001b[0m\u001b[1;33m.\u001b[0m\u001b[0m_last_order\u001b[0m \u001b[1;33m=\u001b[0m \u001b[0morder\u001b[0m\u001b[1;33m\u001b[0m\u001b[1;33m\u001b[0m\u001b[0m\n\u001b[0;32m    106\u001b[0m \u001b[1;33m\u001b[0m\u001b[0m\n",
      "\u001b[1;31mKeyboardInterrupt\u001b[0m: "
     ]
    }
   ],
   "source": [
    "crawl(base_url)\n",
    "print(\"[+] Total External links:\", len(external_urls))\n",
    "print(\"[+] Total Internal links:\", len(internal_urls))\n",
    "print(\"[+] Total:\", len(external_urls) + len(internal_urls))"
   ]
  },
  {
   "cell_type": "code",
   "execution_count": null,
   "metadata": {},
   "outputs": [
    {
     "name": "stdout",
     "output_type": "stream",
     "text": [
      "15\n",
      "[+] NEW Total External links: 273\n",
      "[+] NEW Total Internal links: 304\n",
      "[+] NEW Total: 577\n",
      "[+] NEW Total External links: 436\n",
      "[+] NEW Total Internal links: 304\n",
      "[+] NEW Total: 740\n",
      "[+] NEW Total External links: 437\n",
      "[+] NEW Total Internal links: 309\n",
      "[+] NEW Total: 746\n",
      "[+] NEW Total External links: 437\n",
      "[+] NEW Total Internal links: 309\n",
      "[+] NEW Total: 746\n",
      "[+] NEW Total External links: 438\n",
      "[+] NEW Total Internal links: 309\n",
      "[+] NEW Total: 747\n",
      "[+] NEW Total External links: 438\n",
      "[+] NEW Total Internal links: 326\n",
      "[+] NEW Total: 764\n",
      "[+] NEW Total External links: 438\n",
      "[+] NEW Total Internal links: 326\n",
      "[+] NEW Total: 764\n",
      "[+] NEW Total External links: 438\n",
      "[+] NEW Total Internal links: 326\n",
      "[+] NEW Total: 764\n",
      "[+] NEW Total External links: 438\n",
      "[+] NEW Total Internal links: 326\n",
      "[+] NEW Total: 764\n",
      "[+] NEW Total External links: 439\n",
      "[+] NEW Total Internal links: 326\n",
      "[+] NEW Total: 765\n",
      "[+] NEW Total External links: 439\n",
      "[+] NEW Total Internal links: 326\n",
      "[+] NEW Total: 765\n",
      "[+] NEW Total External links: 439\n",
      "[+] NEW Total Internal links: 326\n",
      "[+] NEW Total: 765\n",
      "[+] NEW Total External links: 439\n",
      "[+] NEW Total Internal links: 326\n",
      "[+] NEW Total: 765\n",
      "[+] NEW Total External links: 439\n",
      "[+] NEW Total Internal links: 326\n",
      "[+] NEW Total: 765\n",
      "[+] NEW Total External links: 439\n",
      "[+] NEW Total Internal links: 326\n",
      "[+] NEW Total: 765\n",
      "39\n",
      "[+] NEW Total External links: 439\n",
      "[+] NEW Total Internal links: 326\n",
      "[+] NEW Total: 765\n",
      "[+] NEW Total External links: 441\n",
      "[+] NEW Total Internal links: 326\n",
      "[+] NEW Total: 767\n"
     ]
    },
    {
     "name": "stderr",
     "output_type": "stream",
     "text": [
      "Some characters could not be decoded, and were replaced with REPLACEMENT CHARACTER.\n"
     ]
    },
    {
     "name": "stdout",
     "output_type": "stream",
     "text": [
      "[+] NEW Total External links: 441\n",
      "[+] NEW Total Internal links: 326\n",
      "[+] NEW Total: 767\n",
      "[+] NEW Total External links: 441\n",
      "[+] NEW Total Internal links: 326\n",
      "[+] NEW Total: 767\n",
      "[+] NEW Total External links: 441\n",
      "[+] NEW Total Internal links: 326\n",
      "[+] NEW Total: 767\n",
      "[+] NEW Total External links: 441\n",
      "[+] NEW Total Internal links: 326\n",
      "[+] NEW Total: 767\n",
      "[+] NEW Total External links: 441\n",
      "[+] NEW Total Internal links: 326\n",
      "[+] NEW Total: 767\n",
      "[+] NEW Total External links: 441\n",
      "[+] NEW Total Internal links: 326\n",
      "[+] NEW Total: 767\n",
      "[+] NEW Total External links: 441\n",
      "[+] NEW Total Internal links: 327\n",
      "[+] NEW Total: 768\n",
      "[+] NEW Total External links: 441\n",
      "[+] NEW Total Internal links: 327\n",
      "[+] NEW Total: 768\n"
     ]
    },
    {
     "name": "stderr",
     "output_type": "stream",
     "text": [
      "Some characters could not be decoded, and were replaced with REPLACEMENT CHARACTER.\n"
     ]
    },
    {
     "name": "stdout",
     "output_type": "stream",
     "text": [
      "[+] NEW Total External links: 441\n",
      "[+] NEW Total Internal links: 327\n",
      "[+] NEW Total: 768\n",
      "[+] NEW Total External links: 445\n",
      "[+] NEW Total Internal links: 327\n",
      "[+] NEW Total: 772\n"
     ]
    },
    {
     "name": "stderr",
     "output_type": "stream",
     "text": [
      "Some characters could not be decoded, and were replaced with REPLACEMENT CHARACTER.\n"
     ]
    },
    {
     "name": "stdout",
     "output_type": "stream",
     "text": [
      "[+] NEW Total External links: 445\n",
      "[+] NEW Total Internal links: 327\n",
      "[+] NEW Total: 772\n",
      "[+] NEW Total External links: 445\n",
      "[+] NEW Total Internal links: 327\n",
      "[+] NEW Total: 772\n",
      "[+] NEW Total External links: 445\n",
      "[+] NEW Total Internal links: 327\n",
      "[+] NEW Total: 772\n",
      "[+] NEW Total External links: 445\n",
      "[+] NEW Total Internal links: 327\n",
      "[+] NEW Total: 772\n",
      "[+] NEW Total External links: 445\n",
      "[+] NEW Total Internal links: 327\n",
      "[+] NEW Total: 772\n",
      "[+] NEW Total External links: 445\n",
      "[+] NEW Total Internal links: 327\n",
      "[+] NEW Total: 772\n",
      "[+] NEW Total External links: 445\n",
      "[+] NEW Total Internal links: 327\n",
      "[+] NEW Total: 772\n",
      "[+] NEW Total External links: 445\n",
      "[+] NEW Total Internal links: 327\n",
      "[+] NEW Total: 772\n",
      "[+] NEW Total External links: 446\n",
      "[+] NEW Total Internal links: 327\n",
      "[+] NEW Total: 773\n",
      "[+] NEW Total External links: 446\n",
      "[+] NEW Total Internal links: 327\n",
      "[+] NEW Total: 773\n",
      "[+] NEW Total External links: 446\n",
      "[+] NEW Total Internal links: 327\n",
      "[+] NEW Total: 773\n",
      "[+] NEW Total External links: 446\n",
      "[+] NEW Total Internal links: 327\n",
      "[+] NEW Total: 773\n",
      "[+] NEW Total External links: 446\n",
      "[+] NEW Total Internal links: 327\n",
      "[+] NEW Total: 773\n",
      "[+] NEW Total External links: 446\n",
      "[+] NEW Total Internal links: 327\n",
      "[+] NEW Total: 773\n",
      "[+] NEW Total External links: 446\n",
      "[+] NEW Total Internal links: 327\n",
      "[+] NEW Total: 773\n",
      "[+] NEW Total External links: 446\n",
      "[+] NEW Total Internal links: 328\n",
      "[+] NEW Total: 774\n",
      "[+] NEW Total External links: 446\n",
      "[+] NEW Total Internal links: 328\n",
      "[+] NEW Total: 774\n",
      "[+] NEW Total External links: 446\n",
      "[+] NEW Total Internal links: 328\n",
      "[+] NEW Total: 774\n",
      "[+] NEW Total External links: 446\n",
      "[+] NEW Total Internal links: 328\n",
      "[+] NEW Total: 774\n"
     ]
    },
    {
     "name": "stderr",
     "output_type": "stream",
     "text": [
      "Some characters could not be decoded, and were replaced with REPLACEMENT CHARACTER.\n"
     ]
    },
    {
     "name": "stdout",
     "output_type": "stream",
     "text": [
      "[+] NEW Total External links: 446\n",
      "[+] NEW Total Internal links: 328\n",
      "[+] NEW Total: 774\n"
     ]
    },
    {
     "name": "stderr",
     "output_type": "stream",
     "text": [
      "Some characters could not be decoded, and were replaced with REPLACEMENT CHARACTER.\n"
     ]
    },
    {
     "name": "stdout",
     "output_type": "stream",
     "text": [
      "[+] NEW Total External links: 446\n",
      "[+] NEW Total Internal links: 328\n",
      "[+] NEW Total: 774\n"
     ]
    },
    {
     "name": "stderr",
     "output_type": "stream",
     "text": [
      "Some characters could not be decoded, and were replaced with REPLACEMENT CHARACTER.\n"
     ]
    },
    {
     "name": "stdout",
     "output_type": "stream",
     "text": [
      "[+] NEW Total External links: 446\n",
      "[+] NEW Total Internal links: 328\n",
      "[+] NEW Total: 774\n"
     ]
    },
    {
     "name": "stderr",
     "output_type": "stream",
     "text": [
      "Some characters could not be decoded, and were replaced with REPLACEMENT CHARACTER.\n"
     ]
    },
    {
     "name": "stdout",
     "output_type": "stream",
     "text": [
      "[+] NEW Total External links: 446\n",
      "[+] NEW Total Internal links: 328\n",
      "[+] NEW Total: 774\n",
      "[+] NEW Total External links: 446\n",
      "[+] NEW Total Internal links: 328\n",
      "[+] NEW Total: 774\n",
      "[+] NEW Total External links: 447\n",
      "[+] NEW Total Internal links: 328\n",
      "[+] NEW Total: 775\n",
      "[+] NEW Total External links: 447\n",
      "[+] NEW Total Internal links: 328\n",
      "[+] NEW Total: 775\n",
      "[+] NEW Total External links: 447\n",
      "[+] NEW Total Internal links: 328\n",
      "[+] NEW Total: 775\n",
      "40\n",
      "[+] NEW Total External links: 447\n",
      "[+] NEW Total Internal links: 328\n",
      "[+] NEW Total: 775\n",
      "[+] NEW Total External links: 447\n",
      "[+] NEW Total Internal links: 328\n",
      "[+] NEW Total: 775\n"
     ]
    },
    {
     "name": "stderr",
     "output_type": "stream",
     "text": [
      "Some characters could not be decoded, and were replaced with REPLACEMENT CHARACTER.\n"
     ]
    },
    {
     "name": "stdout",
     "output_type": "stream",
     "text": [
      "[+] NEW Total External links: 447\n",
      "[+] NEW Total Internal links: 328\n",
      "[+] NEW Total: 775\n",
      "[+] NEW Total External links: 447\n",
      "[+] NEW Total Internal links: 328\n",
      "[+] NEW Total: 775\n",
      "[+] NEW Total External links: 447\n",
      "[+] NEW Total Internal links: 328\n",
      "[+] NEW Total: 775\n",
      "[+] NEW Total External links: 447\n",
      "[+] NEW Total Internal links: 328\n",
      "[+] NEW Total: 775\n",
      "[+] NEW Total External links: 447\n",
      "[+] NEW Total Internal links: 328\n",
      "[+] NEW Total: 775\n",
      "[+] NEW Total External links: 447\n",
      "[+] NEW Total Internal links: 328\n",
      "[+] NEW Total: 775\n",
      "[+] NEW Total External links: 447\n",
      "[+] NEW Total Internal links: 328\n",
      "[+] NEW Total: 775\n",
      "[+] NEW Total External links: 447\n",
      "[+] NEW Total Internal links: 328\n",
      "[+] NEW Total: 775\n"
     ]
    },
    {
     "name": "stderr",
     "output_type": "stream",
     "text": [
      "Some characters could not be decoded, and were replaced with REPLACEMENT CHARACTER.\n"
     ]
    },
    {
     "name": "stdout",
     "output_type": "stream",
     "text": [
      "[+] NEW Total External links: 447\n",
      "[+] NEW Total Internal links: 328\n",
      "[+] NEW Total: 775\n",
      "[+] NEW Total External links: 447\n",
      "[+] NEW Total Internal links: 328\n",
      "[+] NEW Total: 775\n"
     ]
    },
    {
     "name": "stderr",
     "output_type": "stream",
     "text": [
      "Some characters could not be decoded, and were replaced with REPLACEMENT CHARACTER.\n"
     ]
    },
    {
     "name": "stdout",
     "output_type": "stream",
     "text": [
      "[+] NEW Total External links: 447\n",
      "[+] NEW Total Internal links: 328\n",
      "[+] NEW Total: 775\n",
      "[+] NEW Total External links: 447\n",
      "[+] NEW Total Internal links: 328\n",
      "[+] NEW Total: 775\n",
      "[+] NEW Total External links: 447\n",
      "[+] NEW Total Internal links: 328\n",
      "[+] NEW Total: 775\n",
      "[+] NEW Total External links: 447\n",
      "[+] NEW Total Internal links: 328\n",
      "[+] NEW Total: 775\n",
      "[+] NEW Total External links: 447\n",
      "[+] NEW Total Internal links: 328\n",
      "[+] NEW Total: 775\n",
      "[+] NEW Total External links: 447\n",
      "[+] NEW Total Internal links: 328\n",
      "[+] NEW Total: 775\n",
      "[+] NEW Total External links: 447\n",
      "[+] NEW Total Internal links: 328\n",
      "[+] NEW Total: 775\n",
      "[+] NEW Total External links: 447\n",
      "[+] NEW Total Internal links: 328\n",
      "[+] NEW Total: 775\n",
      "[+] NEW Total External links: 447\n",
      "[+] NEW Total Internal links: 328\n",
      "[+] NEW Total: 775\n",
      "[+] NEW Total External links: 447\n",
      "[+] NEW Total Internal links: 328\n",
      "[+] NEW Total: 775\n"
     ]
    },
    {
     "name": "stderr",
     "output_type": "stream",
     "text": [
      "Some characters could not be decoded, and were replaced with REPLACEMENT CHARACTER.\n"
     ]
    },
    {
     "name": "stdout",
     "output_type": "stream",
     "text": [
      "[+] NEW Total External links: 447\n",
      "[+] NEW Total Internal links: 328\n",
      "[+] NEW Total: 775\n",
      "[+] NEW Total External links: 447\n",
      "[+] NEW Total Internal links: 328\n",
      "[+] NEW Total: 775\n",
      "[+] NEW Total External links: 447\n",
      "[+] NEW Total Internal links: 328\n",
      "[+] NEW Total: 775\n",
      "[+] NEW Total External links: 447\n",
      "[+] NEW Total Internal links: 328\n",
      "[+] NEW Total: 775\n",
      "[+] NEW Total External links: 447\n",
      "[+] NEW Total Internal links: 328\n",
      "[+] NEW Total: 775\n",
      "[+] NEW Total External links: 447\n",
      "[+] NEW Total Internal links: 328\n",
      "[+] NEW Total: 775\n",
      "[+] NEW Total External links: 447\n",
      "[+] NEW Total Internal links: 328\n",
      "[+] NEW Total: 775\n",
      "[+] NEW Total External links: 447\n",
      "[+] NEW Total Internal links: 328\n",
      "[+] NEW Total: 775\n",
      "[+] NEW Total External links: 447\n",
      "[+] NEW Total Internal links: 328\n",
      "[+] NEW Total: 775\n",
      "[+] NEW Total External links: 447\n",
      "[+] NEW Total Internal links: 328\n",
      "[+] NEW Total: 775\n"
     ]
    },
    {
     "name": "stderr",
     "output_type": "stream",
     "text": [
      "Some characters could not be decoded, and were replaced with REPLACEMENT CHARACTER.\n"
     ]
    },
    {
     "name": "stdout",
     "output_type": "stream",
     "text": [
      "[+] NEW Total External links: 447\n",
      "[+] NEW Total Internal links: 328\n",
      "[+] NEW Total: 775\n"
     ]
    },
    {
     "name": "stderr",
     "output_type": "stream",
     "text": [
      "Some characters could not be decoded, and were replaced with REPLACEMENT CHARACTER.\n"
     ]
    },
    {
     "name": "stdout",
     "output_type": "stream",
     "text": [
      "[+] NEW Total External links: 447\n",
      "[+] NEW Total Internal links: 328\n",
      "[+] NEW Total: 775\n"
     ]
    },
    {
     "name": "stderr",
     "output_type": "stream",
     "text": [
      "Some characters could not be decoded, and were replaced with REPLACEMENT CHARACTER.\n"
     ]
    },
    {
     "name": "stdout",
     "output_type": "stream",
     "text": [
      "[+] NEW Total External links: 447\n",
      "[+] NEW Total Internal links: 328\n",
      "[+] NEW Total: 775\n"
     ]
    },
    {
     "name": "stderr",
     "output_type": "stream",
     "text": [
      "Some characters could not be decoded, and were replaced with REPLACEMENT CHARACTER.\n"
     ]
    },
    {
     "name": "stdout",
     "output_type": "stream",
     "text": [
      "[+] NEW Total External links: 447\n",
      "[+] NEW Total Internal links: 328\n",
      "[+] NEW Total: 775\n",
      "[+] NEW Total External links: 447\n",
      "[+] NEW Total Internal links: 328\n",
      "[+] NEW Total: 775\n",
      "[+] NEW Total External links: 447\n",
      "[+] NEW Total Internal links: 328\n",
      "[+] NEW Total: 775\n",
      "[+] NEW Total External links: 447\n",
      "[+] NEW Total Internal links: 328\n",
      "[+] NEW Total: 775\n",
      "[+] NEW Total External links: 447\n",
      "[+] NEW Total Internal links: 328\n",
      "[+] NEW Total: 775\n",
      "40\n",
      "[+] NEW Total External links: 447\n",
      "[+] NEW Total Internal links: 328\n",
      "[+] NEW Total: 775\n",
      "[+] NEW Total External links: 447\n",
      "[+] NEW Total Internal links: 328\n",
      "[+] NEW Total: 775\n"
     ]
    },
    {
     "name": "stderr",
     "output_type": "stream",
     "text": [
      "Some characters could not be decoded, and were replaced with REPLACEMENT CHARACTER.\n"
     ]
    },
    {
     "name": "stdout",
     "output_type": "stream",
     "text": [
      "[+] NEW Total External links: 447\n",
      "[+] NEW Total Internal links: 328\n",
      "[+] NEW Total: 775\n",
      "[+] NEW Total External links: 447\n",
      "[+] NEW Total Internal links: 328\n",
      "[+] NEW Total: 775\n",
      "[+] NEW Total External links: 447\n",
      "[+] NEW Total Internal links: 328\n",
      "[+] NEW Total: 775\n",
      "[+] NEW Total External links: 447\n",
      "[+] NEW Total Internal links: 328\n",
      "[+] NEW Total: 775\n",
      "[+] NEW Total External links: 447\n",
      "[+] NEW Total Internal links: 328\n",
      "[+] NEW Total: 775\n",
      "[+] NEW Total External links: 447\n",
      "[+] NEW Total Internal links: 328\n",
      "[+] NEW Total: 775\n",
      "[+] NEW Total External links: 447\n",
      "[+] NEW Total Internal links: 328\n",
      "[+] NEW Total: 775\n",
      "[+] NEW Total External links: 447\n",
      "[+] NEW Total Internal links: 328\n",
      "[+] NEW Total: 775\n"
     ]
    },
    {
     "name": "stderr",
     "output_type": "stream",
     "text": [
      "Some characters could not be decoded, and were replaced with REPLACEMENT CHARACTER.\n"
     ]
    },
    {
     "name": "stdout",
     "output_type": "stream",
     "text": [
      "[+] NEW Total External links: 447\n",
      "[+] NEW Total Internal links: 328\n",
      "[+] NEW Total: 775\n",
      "[+] NEW Total External links: 447\n",
      "[+] NEW Total Internal links: 328\n",
      "[+] NEW Total: 775\n"
     ]
    },
    {
     "name": "stderr",
     "output_type": "stream",
     "text": [
      "Some characters could not be decoded, and were replaced with REPLACEMENT CHARACTER.\n"
     ]
    },
    {
     "name": "stdout",
     "output_type": "stream",
     "text": [
      "[+] NEW Total External links: 447\n",
      "[+] NEW Total Internal links: 328\n",
      "[+] NEW Total: 775\n",
      "[+] NEW Total External links: 447\n",
      "[+] NEW Total Internal links: 328\n",
      "[+] NEW Total: 775\n",
      "[+] NEW Total External links: 447\n",
      "[+] NEW Total Internal links: 328\n",
      "[+] NEW Total: 775\n",
      "[+] NEW Total External links: 447\n",
      "[+] NEW Total Internal links: 328\n",
      "[+] NEW Total: 775\n",
      "[+] NEW Total External links: 447\n",
      "[+] NEW Total Internal links: 328\n",
      "[+] NEW Total: 775\n",
      "[+] NEW Total External links: 447\n",
      "[+] NEW Total Internal links: 328\n",
      "[+] NEW Total: 775\n",
      "[+] NEW Total External links: 447\n",
      "[+] NEW Total Internal links: 328\n",
      "[+] NEW Total: 775\n",
      "[+] NEW Total External links: 447\n",
      "[+] NEW Total Internal links: 328\n",
      "[+] NEW Total: 775\n",
      "[+] NEW Total External links: 447\n",
      "[+] NEW Total Internal links: 328\n",
      "[+] NEW Total: 775\n",
      "[+] NEW Total External links: 447\n",
      "[+] NEW Total Internal links: 328\n",
      "[+] NEW Total: 775\n"
     ]
    },
    {
     "name": "stderr",
     "output_type": "stream",
     "text": [
      "Some characters could not be decoded, and were replaced with REPLACEMENT CHARACTER.\n"
     ]
    },
    {
     "name": "stdout",
     "output_type": "stream",
     "text": [
      "[+] NEW Total External links: 447\n",
      "[+] NEW Total Internal links: 328\n",
      "[+] NEW Total: 775\n",
      "[+] NEW Total External links: 447\n",
      "[+] NEW Total Internal links: 328\n",
      "[+] NEW Total: 775\n",
      "[+] NEW Total External links: 447\n",
      "[+] NEW Total Internal links: 328\n",
      "[+] NEW Total: 775\n",
      "[+] NEW Total External links: 447\n",
      "[+] NEW Total Internal links: 328\n",
      "[+] NEW Total: 775\n",
      "[+] NEW Total External links: 447\n",
      "[+] NEW Total Internal links: 328\n",
      "[+] NEW Total: 775\n",
      "[+] NEW Total External links: 447\n",
      "[+] NEW Total Internal links: 328\n",
      "[+] NEW Total: 775\n",
      "[+] NEW Total External links: 447\n",
      "[+] NEW Total Internal links: 328\n",
      "[+] NEW Total: 775\n",
      "[+] NEW Total External links: 447\n",
      "[+] NEW Total Internal links: 328\n",
      "[+] NEW Total: 775\n",
      "[+] NEW Total External links: 447\n",
      "[+] NEW Total Internal links: 328\n",
      "[+] NEW Total: 775\n",
      "[+] NEW Total External links: 447\n",
      "[+] NEW Total Internal links: 328\n",
      "[+] NEW Total: 775\n"
     ]
    },
    {
     "name": "stderr",
     "output_type": "stream",
     "text": [
      "Some characters could not be decoded, and were replaced with REPLACEMENT CHARACTER.\n"
     ]
    },
    {
     "name": "stdout",
     "output_type": "stream",
     "text": [
      "[+] NEW Total External links: 447\n",
      "[+] NEW Total Internal links: 328\n",
      "[+] NEW Total: 775\n"
     ]
    },
    {
     "name": "stderr",
     "output_type": "stream",
     "text": [
      "Some characters could not be decoded, and were replaced with REPLACEMENT CHARACTER.\n"
     ]
    },
    {
     "name": "stdout",
     "output_type": "stream",
     "text": [
      "[+] NEW Total External links: 447\n",
      "[+] NEW Total Internal links: 328\n",
      "[+] NEW Total: 775\n"
     ]
    },
    {
     "name": "stderr",
     "output_type": "stream",
     "text": [
      "Some characters could not be decoded, and were replaced with REPLACEMENT CHARACTER.\n"
     ]
    },
    {
     "name": "stdout",
     "output_type": "stream",
     "text": [
      "[+] NEW Total External links: 447\n",
      "[+] NEW Total Internal links: 328\n",
      "[+] NEW Total: 775\n"
     ]
    },
    {
     "name": "stderr",
     "output_type": "stream",
     "text": [
      "Some characters could not be decoded, and were replaced with REPLACEMENT CHARACTER.\n"
     ]
    },
    {
     "name": "stdout",
     "output_type": "stream",
     "text": [
      "[+] NEW Total External links: 447\n",
      "[+] NEW Total Internal links: 328\n",
      "[+] NEW Total: 775\n",
      "[+] NEW Total External links: 447\n",
      "[+] NEW Total Internal links: 328\n",
      "[+] NEW Total: 775\n",
      "[+] NEW Total External links: 447\n",
      "[+] NEW Total Internal links: 328\n",
      "[+] NEW Total: 775\n",
      "[+] NEW Total External links: 447\n",
      "[+] NEW Total Internal links: 328\n",
      "[+] NEW Total: 775\n",
      "[+] NEW Total External links: 447\n",
      "[+] NEW Total Internal links: 328\n",
      "[+] NEW Total: 775\n",
      "40\n",
      "[+] NEW Total External links: 447\n",
      "[+] NEW Total Internal links: 328\n",
      "[+] NEW Total: 775\n",
      "[+] NEW Total External links: 447\n",
      "[+] NEW Total Internal links: 328\n",
      "[+] NEW Total: 775\n"
     ]
    },
    {
     "name": "stderr",
     "output_type": "stream",
     "text": [
      "Some characters could not be decoded, and were replaced with REPLACEMENT CHARACTER.\n"
     ]
    },
    {
     "name": "stdout",
     "output_type": "stream",
     "text": [
      "[+] NEW Total External links: 447\n",
      "[+] NEW Total Internal links: 328\n",
      "[+] NEW Total: 775\n",
      "[+] NEW Total External links: 447\n",
      "[+] NEW Total Internal links: 328\n",
      "[+] NEW Total: 775\n",
      "[+] NEW Total External links: 447\n",
      "[+] NEW Total Internal links: 328\n",
      "[+] NEW Total: 775\n",
      "[+] NEW Total External links: 447\n",
      "[+] NEW Total Internal links: 328\n",
      "[+] NEW Total: 775\n",
      "[+] NEW Total External links: 447\n",
      "[+] NEW Total Internal links: 328\n",
      "[+] NEW Total: 775\n",
      "[+] NEW Total External links: 447\n",
      "[+] NEW Total Internal links: 328\n",
      "[+] NEW Total: 775\n",
      "[+] NEW Total External links: 447\n",
      "[+] NEW Total Internal links: 328\n",
      "[+] NEW Total: 775\n",
      "[+] NEW Total External links: 447\n",
      "[+] NEW Total Internal links: 328\n",
      "[+] NEW Total: 775\n"
     ]
    },
    {
     "name": "stderr",
     "output_type": "stream",
     "text": [
      "Some characters could not be decoded, and were replaced with REPLACEMENT CHARACTER.\n"
     ]
    },
    {
     "name": "stdout",
     "output_type": "stream",
     "text": [
      "[+] NEW Total External links: 447\n",
      "[+] NEW Total Internal links: 328\n",
      "[+] NEW Total: 775\n",
      "[+] NEW Total External links: 447\n",
      "[+] NEW Total Internal links: 328\n",
      "[+] NEW Total: 775\n"
     ]
    },
    {
     "name": "stderr",
     "output_type": "stream",
     "text": [
      "Some characters could not be decoded, and were replaced with REPLACEMENT CHARACTER.\n"
     ]
    },
    {
     "name": "stdout",
     "output_type": "stream",
     "text": [
      "[+] NEW Total External links: 447\n",
      "[+] NEW Total Internal links: 328\n",
      "[+] NEW Total: 775\n",
      "[+] NEW Total External links: 447\n",
      "[+] NEW Total Internal links: 328\n",
      "[+] NEW Total: 775\n",
      "[+] NEW Total External links: 447\n",
      "[+] NEW Total Internal links: 328\n",
      "[+] NEW Total: 775\n",
      "[+] NEW Total External links: 447\n",
      "[+] NEW Total Internal links: 328\n",
      "[+] NEW Total: 775\n",
      "[+] NEW Total External links: 447\n",
      "[+] NEW Total Internal links: 328\n",
      "[+] NEW Total: 775\n",
      "[+] NEW Total External links: 447\n",
      "[+] NEW Total Internal links: 328\n",
      "[+] NEW Total: 775\n",
      "[+] NEW Total External links: 447\n",
      "[+] NEW Total Internal links: 328\n",
      "[+] NEW Total: 775\n",
      "[+] NEW Total External links: 447\n",
      "[+] NEW Total Internal links: 328\n",
      "[+] NEW Total: 775\n",
      "[+] NEW Total External links: 447\n",
      "[+] NEW Total Internal links: 328\n",
      "[+] NEW Total: 775\n",
      "[+] NEW Total External links: 447\n",
      "[+] NEW Total Internal links: 328\n",
      "[+] NEW Total: 775\n"
     ]
    },
    {
     "name": "stderr",
     "output_type": "stream",
     "text": [
      "Some characters could not be decoded, and were replaced with REPLACEMENT CHARACTER.\n"
     ]
    },
    {
     "name": "stdout",
     "output_type": "stream",
     "text": [
      "[+] NEW Total External links: 447\n",
      "[+] NEW Total Internal links: 328\n",
      "[+] NEW Total: 775\n",
      "[+] NEW Total External links: 447\n",
      "[+] NEW Total Internal links: 328\n",
      "[+] NEW Total: 775\n",
      "[+] NEW Total External links: 447\n",
      "[+] NEW Total Internal links: 328\n",
      "[+] NEW Total: 775\n",
      "[+] NEW Total External links: 447\n",
      "[+] NEW Total Internal links: 328\n",
      "[+] NEW Total: 775\n",
      "[+] NEW Total External links: 447\n",
      "[+] NEW Total Internal links: 328\n",
      "[+] NEW Total: 775\n",
      "[+] NEW Total External links: 447\n",
      "[+] NEW Total Internal links: 328\n",
      "[+] NEW Total: 775\n",
      "[+] NEW Total External links: 447\n",
      "[+] NEW Total Internal links: 328\n",
      "[+] NEW Total: 775\n",
      "[+] NEW Total External links: 447\n",
      "[+] NEW Total Internal links: 328\n",
      "[+] NEW Total: 775\n",
      "[+] NEW Total External links: 447\n",
      "[+] NEW Total Internal links: 328\n",
      "[+] NEW Total: 775\n",
      "[+] NEW Total External links: 447\n",
      "[+] NEW Total Internal links: 328\n",
      "[+] NEW Total: 775\n"
     ]
    },
    {
     "name": "stderr",
     "output_type": "stream",
     "text": [
      "Some characters could not be decoded, and were replaced with REPLACEMENT CHARACTER.\n"
     ]
    },
    {
     "name": "stdout",
     "output_type": "stream",
     "text": [
      "[+] NEW Total External links: 447\n",
      "[+] NEW Total Internal links: 328\n",
      "[+] NEW Total: 775\n"
     ]
    },
    {
     "name": "stderr",
     "output_type": "stream",
     "text": [
      "Some characters could not be decoded, and were replaced with REPLACEMENT CHARACTER.\n"
     ]
    },
    {
     "name": "stdout",
     "output_type": "stream",
     "text": [
      "[+] NEW Total External links: 447\n",
      "[+] NEW Total Internal links: 328\n",
      "[+] NEW Total: 775\n"
     ]
    },
    {
     "name": "stderr",
     "output_type": "stream",
     "text": [
      "Some characters could not be decoded, and were replaced with REPLACEMENT CHARACTER.\n"
     ]
    },
    {
     "name": "stdout",
     "output_type": "stream",
     "text": [
      "[+] NEW Total External links: 447\n",
      "[+] NEW Total Internal links: 328\n",
      "[+] NEW Total: 775\n"
     ]
    }
   ],
   "source": [
    "count = 0\n",
    "immediate_urls = set() #Linked Associated with the current page, https://umd.edu/virusinfo/ in this case\n",
    "\n",
    "for i in range(0,5):\n",
    "    for url in internal_urls:\n",
    "        if base_url_text in url:\n",
    "            immediate_urls.add(url)\n",
    "\n",
    "    # for immediate_url in immediate_urls:\n",
    "    #     print(f'{immediate_url}\\n')\n",
    "    count = len(immediate_urls)\n",
    "    print(count)\n",
    "    for immediate_url in immediate_urls:\n",
    "        crawl(immediate_url)\n",
    "        print(\"[+] NEW Total External links:\", len(external_urls))\n",
    "        print(\"[+] NEW Total Internal links:\", len(internal_urls))\n",
    "        print(\"[+] NEW Total:\", len(external_urls) + len(internal_urls))"
   ]
  },
  {
   "cell_type": "code",
   "execution_count": null,
   "metadata": {},
   "outputs": [],
   "source": [
    "def removeAfterN(yourStr, nth, occurenceOf):\n",
    "    return occurenceOf.join(yourStr.split(occurenceOf)[:nth])"
   ]
  },
  {
   "cell_type": "code",
   "execution_count": null,
   "metadata": {},
   "outputs": [],
   "source": [
    "final_immediate_urls = set()\n",
    "\n",
    "for immediate_url in immediate_urls:\n",
    "    stripped_url = removeAfterN(immediate_url,2,\"http\")\n",
    "    final_immediate_urls.add(stripped_url)\n",
    "#     final_immediate_urls.add(rest)\n",
    "#     print(rest)\n",
    "\n",
    "print(final_immediate_urls)\n",
    "total_count = len(final_immediate_urls)\n",
    "print(total_count)"
   ]
  },
  {
   "cell_type": "code",
   "execution_count": null,
   "metadata": {},
   "outputs": [],
   "source": [
    "count = 0\n",
    "parent_folder = \"Doctoral\" #Change based on folder\n",
    "name_of_folder = f'{base_url_text_domain}_Screenshots'\n",
    "for i in final_immediate_urls:\n",
    "    options = webdriver.ChromeOptions()\n",
    "    options.headless = True\n",
    "    driver = webdriver.Chrome(options=options,executable_path='chromedriver.exe') # #Local Path of chrome driver\n",
    "    url = i\n",
    "    file_name = url.replace(base_url,'')\n",
    "    file_name = file_name.replace('/','')\n",
    "    if file_name == '':\n",
    "            file_name = \"Home\"\n",
    "    count = count + 1\n",
    "    print(f\"{count} of {total_count}\")\n",
    "    print(f'Visiting {base_url_text}/{file_name}')\n",
    "    print(f'...Taking a screenshot')\n",
    "    driver.get(url)\n",
    "    if not os.path.exists(name_of_folder):\n",
    "        os.makedirs(name_of_folder)\n",
    "    S = lambda X: driver.execute_script('return document.body.parentNode.scroll'+X)\n",
    "    driver.set_window_size(S('Width'),S('Height')) # May need manual adjustment                                                                                                                \n",
    "    driver.find_element_by_tag_name('body').screenshot(f'{parent_folder}\\\\{name_of_folder}\\\\{file_name}.png')\n",
    "    print(f'Screenshot of {file_name} page taken! \\n')\n",
    "#     print(\"Saving HTML\")\n",
    "#     pyautogui.hotkey('ctrl', 's')\n",
    "#     time.sleep(1)\n",
    "#     pyautogui.typewrite(f'{file_name}.html')\n",
    "#     pyautogui.hotkey('enter')\n",
    "    driver.quit()\n",
    "    \n",
    "print(f'Task Completed! Files stored in the {parent_folder}\\\\{name_of_folder} Folder')"
   ]
  },
  {
   "cell_type": "code",
   "execution_count": null,
   "metadata": {},
   "outputs": [],
   "source": [
    "webpage_save = set()\n",
    "webpage_save_count = 0\n",
    "webpage_cannot_save = 0\n",
    "for i in final_immediate_urls:\n",
    "#     print(i)\n",
    "    try:\n",
    "        code=urlopen(i).getcode()\n",
    "        webpage_save.add(i)\n",
    "        webpage_save_count = webpage_save_count+1\n",
    "#         print(code)\n",
    "    except urllib.error.HTTPError as e:\n",
    "        if e.code not in (400,403):\n",
    "            webpage_cannot_save = webpage_cannot_save + 1\n",
    "#             print(\"discarded\")\n",
    "            continue\n",
    "\n",
    "print(f'Webpages save as HTML :{webpage_save_count}')\n",
    "print(f'Webpages unable to save as HTML :{webpage_cannot_save}')\n",
    "        \n",
    "#     try:\n",
    "#         print(i)\n",
    "        \n",
    "#         print(\"added\")\n",
    "#     except urllib.error.HTTPError as e:\n",
    "#         if e.code in (400,403):\n",
    "#             print(\"discarded\")\n",
    "#             continue"
   ]
  },
  {
   "cell_type": "code",
   "execution_count": null,
   "metadata": {},
   "outputs": [],
   "source": [
    "webpage_save_counter_loop = 0\n",
    "for webpage in webpage_save:\n",
    "    url = webpage\n",
    "    file_name = url.replace(base_url,'')\n",
    "    file_name = file_name.replace('/','')\n",
    "    if file_name == '':\n",
    "            file_name = \"Home\"\n",
    "    urllib.request.urlretrieve (webpage, f\"{parent_folder}\\\\{name_of_folder}\\\\{file_name}.html\")\n",
    "    webpage_save_counter_loop = webpage_save_counter_loop+1\n",
    "    print(f'{webpage_save_counter_loop} of {webpage_save_count} - {webpage}')\n",
    "\n",
    "print(\"Saving Completed\")"
   ]
  },
  {
   "cell_type": "code",
   "execution_count": null,
   "metadata": {},
   "outputs": [],
   "source": [
    "pdf_count = 0\n",
    "pdf_urls = set()\n",
    "for webpage in webpage_save:\n",
    "    if webpage[-4:] == \".pdf\":\n",
    "        url = webpage\n",
    "        file_name = url.replace(base_url,'')\n",
    "        file_name = file_name.replace('/','')\n",
    "        if file_name == '':\n",
    "            file_name = \"Home\"\n",
    "        pdf_urls.add(webpage)\n",
    "        print(webpage)\n",
    "        r = requests.get(url, stream=True)\n",
    "        with open(f'{name_of_folder}\\\\{file_name}.pdf', 'wb') as fd:\n",
    "            for chunk in r.iter_content(2000):\n",
    "                fd.write(chunk)\n",
    "        pdf_count = pdf_count + 1\n",
    "\n",
    "print(f\"Pdfs saved: {pdf_count}\")"
   ]
  },
  {
   "cell_type": "code",
   "execution_count": null,
   "metadata": {},
   "outputs": [],
   "source": []
  },
  {
   "cell_type": "code",
   "execution_count": null,
   "metadata": {},
   "outputs": [],
   "source": []
  }
 ],
 "metadata": {
  "kernelspec": {
   "display_name": "Python 3",
   "language": "python",
   "name": "python3"
  },
  "language_info": {
   "codemirror_mode": {
    "name": "ipython",
    "version": 3
   },
   "file_extension": ".py",
   "mimetype": "text/x-python",
   "name": "python",
   "nbconvert_exporter": "python",
   "pygments_lexer": "ipython3",
   "version": "3.8.2"
  }
 },
 "nbformat": 4,
 "nbformat_minor": 4
}
