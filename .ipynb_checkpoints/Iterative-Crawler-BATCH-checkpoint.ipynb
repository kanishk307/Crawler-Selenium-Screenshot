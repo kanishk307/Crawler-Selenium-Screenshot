{
 "cells": [
  {
   "cell_type": "code",
   "execution_count": 1,
   "metadata": {},
   "outputs": [],
   "source": [
    "#Imports\n",
    "import time\n",
    "import requests\n",
    "from urllib.parse import urlparse, urljoin\n",
    "from bs4 import BeautifulSoup\n",
    "from selenium import webdriver\n",
    "from selenium.webdriver.chrome.options import Options\n",
    "import os\n",
    "import urllib.request\n",
    "from urllib.request import urlopen\n",
    "import pyautogui\n",
    "from requests.exceptions import ConnectionError\n",
    "# from pywebcopy import save_webpage"
   ]
  },
  {
   "cell_type": "code",
   "execution_count": 2,
   "metadata": {},
   "outputs": [],
   "source": [
    "\n",
    "internal_urls = set()\n",
    "external_urls = set()\n",
    "def is_url_valid(url):\n",
    "   #Checks if the url is valid or not\n",
    "    parsedURL = urlparse(url)\n",
    "    return bool(parsedURL.netloc) and bool(parsedURL.scheme)\n",
    "\n",
    "#The above function works as follows. We check if the scheme is present and there is a value in the network location part\n",
    "# url = \"https://umd.edu/virusinfo\"\n",
    "# urlparse(url)\n",
    "# ParseResult(scheme='https', netloc='umd.edu', path='/virusinfo', \n",
    "# params='', query='', fragment='')\n",
    "\n",
    "#The function gives all urls\n",
    "def get_all_urls(url):\n",
    "    urls = set()\n",
    "    # domain name of the URL without the protocol (umd.edu in this case)\n",
    "    domain_name = urlparse(url).netloc\n",
    "    soup = BeautifulSoup(requests.get(url).content, \"html.parser\")\n",
    "    for a_tag in soup.findAll(\"a\"):\n",
    "        href = a_tag.attrs.get(\"href\")\n",
    "        if href == \"\" or href is None:\n",
    "            #href is empty and we don't need that a element\n",
    "            continue\n",
    "        #if the link is not absolute, make it by joining relative to the base\n",
    "        href = urljoin(url, href)\n",
    "        parsed_href = urlparse(href)\n",
    "        #constructing an absolute URL from parsed data\n",
    "        href = parsed_href.scheme + \"://\" + parsed_href.netloc + parsed_href.path\n",
    "        if not is_url_valid(href):\n",
    "            #in valid url\n",
    "            continue\n",
    "        if href in internal_urls:\n",
    "            #it is already in the set, so we don't need to add\n",
    "            continue\n",
    "        if domain_name not in href:\n",
    "            #it is an external link. i.e\n",
    "            # Check if it is already there \n",
    "            if href not in external_urls:\n",
    "#                 print(f\"[EXT] External link: {href}\")\n",
    "                external_urls.add(href)\n",
    "            continue\n",
    "#         print(\".\",end=\" \")\n",
    "        print(f\"[INT] Internal link: {href}\")\n",
    "\n",
    "        urls.add(href)\n",
    "        internal_urls.add(href)\n",
    "    return urls\n",
    "\n",
    "total_urls_visited = 0\n",
    "def crawl(url, max_urls=50):\n",
    "    #Max URL is just to decrease the time if there are a lot of pages.\n",
    "    #The following code was openly available of github and I found this\n",
    "    #idea useful to inhibit crawling time\n",
    "    global total_urls_visited\n",
    "    total_urls_visited += 1\n",
    "    try:\n",
    "        links = get_all_urls(url)\n",
    "        for link in links:\n",
    "            if total_urls_visited > max_urls:\n",
    "                break\n",
    "            crawl(link, max_urls=max_urls)\n",
    "    except:\n",
    "        print(\"caught\")\n"
   ]
  },
  {
   "cell_type": "code",
   "execution_count": 3,
   "metadata": {},
   "outputs": [],
   "source": [
    "base_urls = [\"https://www.sierranevada.edu/about/covid-19-information/\",\n",
    "\"https://www.sru.edu/covid19\",\n",
    "\"https://covid19.sonoma.edu/\",\n",
    "\"http://www.southeastern.edu/about/safe_campus/covid-19/\",\n",
    "\"https://www.se.edu/student-wellness/coronavirus-update/\",\n",
    "\"https://www.seu.edu/coronavirus-covid-19-updates/\",\n",
    "\"https://www.suu.edu/coronavirus/\",\n",
    "\"https://www.suffolk.edu/student-life/health-wellness/coronavirus-health-advisory\",\n",
    "\"https://www.stthomas.edu/covid19/\",\n",
    "\"https://www.strayer.edu/coronavirus\",\n",
    "\"https://srinfo.sulross.edu/covid-19/\",\n",
    "\"https://ww1.oswego.edu/oswego-forward/\",\n",
    "\"https://www.plattsburgh.edu/covid-19/\",\n",
    "\"http://www.sunymaritime.edu/maritime-college-coronavirus-covid-19-update, http://www.sunymaritime.edu/covid-19-update/student-financial-servicescovid-19, http://www.sunymaritime.edu/covid-19-update/student-support-services\",\n",
    "\"https://emergency.tcnj.edu/covid-19/\",\n",
    "\"https://www.evergreen.edu/covid19\",\n",
    "\"https://sites.google.com/trinity.edu/trinityuniversitycovid-19\",\n",
    "\"https://www.uagm.edu/covid19\",\n",
    "\"http://www.uamont.edu/pages/coronavirus/\",\n",
    "\"https://udallas.edu/coronavirus/\",\n",
    "\"https://udallas.edu/coronavirus/\",\n",
    "\"https://www.evansville.edu/coronavirus/\",\n",
    "\"https://www.uog.edu/covid-19/\",\n",
    "\"https://www.uhcl.edu/health-alert/\",\n",
    "\"https://www.uis.edu/covid-19/\",\n",
    "\"https://umdearborn.edu/offices/external-relations/key-issues/um-dearborn-covid-19-response\",\n",
    "\"https://www.montevallo.edu/about-um/marcomm/coronavirus-information/\",\n",
    "\"https://www.unk.edu/coronavirus/\",\n",
    "\"https://ung.edu/covid-19/\",\n",
    "\"https://www.untdallas.edu/covid-19-knowledge-center\",\n",
    "\"https://unwsp.edu/news/coronavirus\",\n",
    "\"https://www.stmary.edu/coronavirus-information\",\n",
    "\"https://www.scranton.edu/covid-19/\",\n",
    "\"https://www.usf.edu/coronavirus/\",\n",
    "\"https://www.uwec.edu/coronavirus-updates/\",\n",
    "\"https://www.uww.edu/uhcs/covid19\",\n",
    "\"https://www.waldorf.edu/faculty-staff/departments/health-services/covid-19-guidance\",\n",
    "\"https://www.walsh.edu/coronavirus.html\",\n",
    "\"https://www.weber.edu/coronavirus\",\n",
    "\"http://www.wiu.edu/vpas/risk_management_and_emergency_preparedness/coronavirus/\",\n",
    "\"https://www.wwu.edu/coronavirus\",\n",
    "\"https://www.winthrop.edu/emergency\",\n",
    "\"https://www.ycp.edu/about-us/offices-and-departments/communications/coronavirus/\"]"
   ]
  },
  {
   "cell_type": "code",
   "execution_count": null,
   "metadata": {},
   "outputs": [
    {
     "name": "stdout",
     "output_type": "stream",
     "text": [
      "ParseResult(scheme='https', netloc='www.sierranevada.edu', path='/about/covid-19-information/', params='', query='', fragment='')\n",
      "https://www.sierranevada.edu\n",
      "www.sierranevada.edu/about/covid-19-information/\n",
      "www.sierranevada.edu\n",
      "[+] Total External links: 0\n",
      "[+] Total Internal links: 1\n",
      "[+] Total: 1\n",
      "1 0\n",
      "[+] NEW Total External links: 0\n",
      "[+] NEW Total Internal links: 1\n",
      "[+] NEW Total: 1\n",
      "1 1\n",
      "https://www.sierranevada.edu/about/covid-19-information/\n",
      "1\n",
      "https://www.sierranevada.edu/about/covid-19-information/\n",
      "1\n",
      "discarded\n",
      "Webpages save as HTML :0\n",
      "Webpages unable to save as HTML :1\n",
      "Pdfs saved: 0\n",
      "1\n",
      "0\n",
      "Saving Completed\n",
      "1 of 1\n",
      "Visiting www.sierranevada.edu/about/covid-19-information//Home\n",
      "...Taking a screenshot\n",
      "Screenshot of Home page taken! \n",
      "\n",
      "Task Completed! Files stored in the Masters\\www.sierranevada.edu_Screenshots Folder\n",
      "ParseResult(scheme='https', netloc='www.sru.edu', path='/covid19', params='', query='', fragment='')\n",
      "https://www.sru.edu\n",
      "www.sru.edu/covid19\n",
      "www.sru.edu\n",
      "[INT] Internal link: https://www.sru.edu/index.html\n",
      "[INT] Internal link: https://www.sru.edu/archive.html\n",
      "[INT] Internal link: https://www.sru.edu/externalresources.html\n",
      "[INT] Internal link: https://www.sru.edu/cares-disclosures.html\n",
      "[INT] Internal link: https://www.sru.edu/students.html\n",
      "[INT] Internal link: https://www.sru.edu/faculty.html\n",
      "[INT] Internal link: https://www.sru.edu/staff.html\n",
      "[INT] Internal link: https://www.sru.edu/news/060520a\n",
      "[INT] Internal link: https://www.sru.edu/documents/life-at-sru/health-and-wellness/COVID-19/what-butler-county-green-phase-means-for-SRU.pdf\n",
      "[INT] Internal link: https://www.sru.edu/docs/help-prevent-spread.pdf\n",
      "[INT] Internal link: http://www.sru.edu/students\n",
      "[INT] Internal link: https://www.sru.edu/\n",
      "[INT] Internal link: https://www.sru.edu/covid19/index.html\n",
      "[INT] Internal link: https://www.sru.edu/academics\n",
      "[INT] Internal link: https://www.sru.edu/academics/majors-and-minors\n",
      "[INT] Internal link: https://www.sru.edu/admissions\n",
      "[INT] Internal link: https://www.sru.edu/life-at-sru\n",
      "[INT] Internal link: https://www.sru.edu/about\n",
      "[INT] Internal link: https://www.sru.edu/give-to-sru\n",
      "[INT] Internal link: https://www.sru.edu/students\n",
      "[INT] Internal link: https://www.sru.edu/faculty-and-staff\n",
      "[INT] Internal link: https://www.sru.edu/family\n",
      "[INT] Internal link: https://www.sru.edu/alumni\n",
      "[INT] Internal link: https://www.sru.edu/community\n",
      "[INT] Internal link: https://www.sru.edu/veterans\n",
      "[INT] Internal link: https://www.sru.edu/students/directory\n",
      "[INT] Internal link: https://www.sru.edu/students/student-consumer-information\n",
      "[INT] Internal link: https://www.sru.edu/events/academic-calendars\n",
      "[INT] Internal link: https://www.sru.edu/academics/honors-college\n",
      "[INT] Internal link: https://www.sru.edu/academics/bailey-library\n",
      "[INT] Internal link: https://www.sru.edu/academics/academic-services/academic-records/registration-information-and-class-final-exam-schedules\n",
      "[INT] Internal link: https://www.sru.edu/academics/study-abroad\n",
      "[INT] Internal link: https://www.sru.edu/academics/summer-session\n",
      "[INT] Internal link: https://www.sru.edu/academics/academic-services/academic-records/request-a-transcript\n",
      "[INT] Internal link: https://www.sru.edu/academics/academic-services\n",
      "[INT] Internal link: https://www.sru.edu/academics/academic-services/advisement\n",
      "[INT] Internal link: https://www.sru.edu/academics/academic-services/new-students\n",
      "[INT] Internal link: https://www.sru.edu/offices/iats\n",
      "[INT] Internal link: https://www.sru.edu/academics/academic-services/academic-support\n",
      "[INT] Internal link: https://www.sru.edu/life-at-sru/student-activities\n",
      "[INT] Internal link: https://www.sru.edu/events\n",
      "[INT] Internal link: https://www.sru.edu/life-at-sru/anti-racism-and-social-justice-resources\n",
      "[INT] Internal link: https://www.sru.edu/offices/parking\n",
      "[INT] Internal link: https://www.sru.edu/life-at-sru/student-activities/clubs-and-organizations\n",
      "[INT] Internal link: http://www.sru.edu/dining\n",
      "[INT] Internal link: https://www.sru.edu/offices/residence-life\n",
      "[INT] Internal link: https://www.sru.edu/life-at-sru/housing\n",
      "[INT] Internal link: https://www.sru.edu/life-at-sru/safety/university-police\n",
      "[INT] Internal link: https://www.sru.edu/policies\n",
      "[INT] Internal link: https://www.sru.edu/life-at-sru/safety/university-weather-policy\n",
      "[INT] Internal link: https://www.sru.edu/admissions/financial-aid\n",
      "[INT] Internal link: https://www.sru.edu/offices/accounting-services/student-accounts\n",
      "[INT] Internal link: https://www.sru.edu/admissions/tuition-and-fees\n",
      "[INT] Internal link: https://www.sru.edu/admissions/apply-now\n",
      "[INT] Internal link: https://www.sru.edu/admissions/visit-the-rock\n",
      "[INT] Internal link: https://www.sru.edu/news\n",
      "[INT] Internal link: https://www.sru.edu/offices\n",
      "[INT] Internal link: https://www.sru.edu/right-to-know\n",
      "[INT] Internal link: https://www.sru.edu/offices/diversity-and-equal-opportunity/notice-of-non-discrimination\n",
      "[INT] Internal link: https://www.sru.edu/web-privacy\n",
      "[INT] Internal link: http://www.sru.edu/veterans\n",
      "[INT] Internal link: https://www.sru.edu/veterans/veterans-and-military-related-admissions\n",
      "[INT] Internal link: https://www.sru.edu/veterans/support-organizations\n",
      "[INT] Internal link: https://www.sru.edu/veterans/returning-or-leaving-active-duty\n",
      "[INT] Internal link: https://www.sru.edu/veterans/veterans-center\n",
      "[INT] Internal link: https://www.sru.edu/documents/veterans/veterans-reg.pdf\n",
      "[INT] Internal link: https://www.sru.edu/admissions/financial-aid/military-education-benefits\n",
      "[INT] Internal link: https://www.sru.edu/academics/colleges-and-departments/cob/departments/military-science-(rotc)\n",
      "[INT] Internal link: https://www.sru.edu/about/administration/office-of-the-president/presidents-commissions\n",
      "[INT] Internal link: https://www.sru.edu/academics/colleges-and-departments/coe/troops-to-teachers\n",
      "[INT] Internal link: http://www.sru.edu/veterans/veterans-center\n",
      "[INT] Internal link: http://www.sru.edu/\n",
      "[INT] Internal link: http://www.sru.edu/academics\n",
      "[INT] Internal link: http://www.sru.edu/academics/majors-and-minors\n",
      "[INT] Internal link: http://www.sru.edu/admissions\n",
      "[INT] Internal link: http://www.sru.edu/life-at-sru\n",
      "[INT] Internal link: http://www.sru.edu/about\n",
      "[INT] Internal link: http://www.sru.edu/give-to-sru\n",
      "[INT] Internal link: http://www.sru.edu/faculty-and-staff\n",
      "[INT] Internal link: http://www.sru.edu/family\n",
      "[INT] Internal link: http://www.sru.edu/alumni\n",
      "[INT] Internal link: http://www.sru.edu/community\n",
      "[INT] Internal link: http://www.sru.edu/veterans/veterans-and-military-related-admissions\n",
      "[INT] Internal link: http://www.sru.edu/veterans/support-organizations\n",
      "[INT] Internal link: http://www.sru.edu/veterans/returning-or-leaving-active-duty\n",
      "[INT] Internal link: http://www.sru.edu/admissions/apply-now\n",
      "[INT] Internal link: http://www.sru.edu/admissions/visit-the-rock\n",
      "[INT] Internal link: http://www.sru.edu/news\n",
      "[INT] Internal link: http://www.sru.edu/events\n",
      "[INT] Internal link: http://www.sru.edu/offices\n",
      "[INT] Internal link: http://www.sru.edu/right-to-know\n",
      "[INT] Internal link: http://www.sru.edu/offices/diversity-and-equal-opportunity/notice-of-non-discrimination\n",
      "[INT] Internal link: http://www.sru.edu/web-privacy\n",
      "[INT] Internal link: http://www.sru.edu/academics/majors-and-minors/accounting\n",
      "[INT] Internal link: http://www.sru.edu/academics/majors-and-minors/actuarial-studies-minor\n",
      "[INT] Internal link: http://www.sru.edu/academics/majors-and-minors/adapted-physical-activity-minor\n",
      "[INT] Internal link: http://www.sru.edu/academics/majors-and-minors/adventure-fitness-minor\n",
      "[INT] Internal link: http://www.sru.edu/academics/majors-and-minors/american-history-minor\n",
      "[INT] Internal link: http://www.sru.edu/academics/majors-and-minors/american-politics-minor\n",
      "[INT] Internal link: http://www.sru.edu/academics/majors-and-minors/animal-assisted-interventions-(minor)\n",
      "[INT] Internal link: http://www.sru.edu/academics/majors-and-minors/anthropology\n",
      "[INT] Internal link: http://www.sru.edu/academics/majors-and-minors/aquatics-minor\n",
      "[INT] Internal link: http://www.sru.edu/academics/majors-and-minors/arabic-(minor)\n",
      "[INT] Internal link: http://www.sru.edu/academics/majors-and-minors/art-ba\n",
      "[INT] Internal link: http://www.sru.edu/academics/majors-and-minors/art-bfa\n",
      "[INT] Internal link: http://www.sru.edu/academics/majors-and-minors/art-bfa-digital-media\n",
      "[INT] Internal link: http://www.sru.edu/academics/majors-and-minors/art-bfa-fiber-art\n",
      "[INT] Internal link: http://www.sru.edu/academics/majors-and-minors/art-bfa-graphic-design\n",
      "[INT] Internal link: http://www.sru.edu/academics/majors-and-minors/art-bfa-painting\n",
      "[INT] Internal link: http://www.sru.edu/academics/majors-and-minors/art-bfa-photography\n",
      "[INT] Internal link: http://www.sru.edu/academics/majors-and-minors/art-bfa-printmaking\n",
      "[INT] Internal link: http://www.sru.edu/academics/majors-and-minors/art-bfa-psychology-(pre-art-therapy)\n",
      "[INT] Internal link: http://www.sru.edu/academics/majors-and-minors/art-bfa-teacher-preparation\n",
      "[INT] Internal link: http://www.sru.edu/academics/majors-and-minors/art-history-minor\n",
      "[INT] Internal link: http://www.sru.edu/academics/majors-and-minors/art-early-childhood-education-minor\n",
      "[INT] Internal link: http://www.sru.edu/academics/majors-and-minors/art-graphic-design-minor\n",
      "[INT] Internal link: http://www.sru.edu/academics/majors-and-minors/asian-studies-minor\n",
      "[INT] Internal link: http://www.sru.edu/academics/majors-and-minors/athletic-training\n",
      "[INT] Internal link: http://www.sru.edu/academics/majors-and-minors/biology\n",
      "[INT] Internal link: http://www.sru.edu/academics/majors-and-minors/biology-bioinformatics-and-computational-biology\n",
      "[INT] Internal link: http://www.sru.edu/academics/majors-and-minors/biology-biomedical-sciences\n",
      "[INT] Internal link: http://www.sru.edu/academics/majors-and-minors/biology-cytotechnology\n",
      "[INT] Internal link: http://www.sru.edu/academics/majors-and-minors/biology-dental-44-(lecom)\n",
      "[INT] Internal link: http://www.sru.edu/academics/majors-and-minors/biology-histotechnology\n",
      "[INT] Internal link: http://www.sru.edu/academics/majors-and-minors/biology-medical-technology\n",
      "[INT] Internal link: http://www.sru.edu/academics/majors-and-minors/biology-pre-chiropractic-33\n",
      "[INT] Internal link: http://www.sru.edu/academics/majors-and-minors/biology-pre-masters-of-education\n",
      "[INT] Internal link: http://www.sru.edu/academics/majors-and-minors/biology-pre-medicine-(44)\n",
      "[INT] Internal link: http://www.sru.edu/academics/majors-and-minors/biology-pre-osteopath-34-(lecom)\n",
      "[INT] Internal link: http://www.sru.edu/academics/majors-and-minors/biology-pre-osteopathic-44-(lecom)\n",
      "[INT] Internal link: http://www.sru.edu/academics/majors-and-minors/biology-pre-pharmacy-23-(lecom)\n",
      "[INT] Internal link: http://www.sru.edu/academics/majors-and-minors/biology-pre-physical-therapy\n",
      "[INT] Internal link: http://www.sru.edu/academics/majors-and-minors/biology-pre-physician-assistant\n",
      "[INT] Internal link: http://www.sru.edu/academics/majors-and-minors/biology-professional\n",
      "[INT] Internal link: http://www.sru.edu/academics/majors-and-minors/business-administration-minor\n",
      "[INT] Internal link: http://www.sru.edu/academics/majors-and-minors/business-undeclared\n",
      "[INT] Internal link: http://www.sru.edu/academics/majors-and-minors/chemistry-ba\n",
      "[INT] Internal link: http://www.sru.edu/academics/majors-and-minors/chemistry-bs\n",
      "[INT] Internal link: http://www.sru.edu/academics/majors-and-minors/chemistry-biochemistry\n",
      "[INT] Internal link: http://www.sru.edu/academics/majors-and-minors/chemistry-biochemistry-pre-pharmacy-33-(lecom)\n",
      "[INT] Internal link: http://www.sru.edu/academics/majors-and-minors/chemistry-computational-chemistry\n",
      "[INT] Internal link: http://www.sru.edu/academics/majors-and-minors/chemistry-education-x33578\n",
      "[INT] Internal link: http://www.sru.edu/academics/majors-and-minors/chemistry-environmental-chemistry\n",
      "[INT] Internal link: http://www.sru.edu/academics/majors-and-minors/chemistry-forensic-chemistry\n",
      "[INT] Internal link: http://www.sru.edu/academics/majors-and-minors/chemistry-health-sciences\n",
      "[INT] Internal link: http://www.sru.edu/academics/majors-and-minors/chemistry-pre-physician-assistant\n",
      "[INT] Internal link: http://www.sru.edu/academics/majors-and-minors/civil-engineering\n",
      "[INT] Internal link: http://www.sru.edu/academics/majors-and-minors/coaching-minor\n",
      "[INT] Internal link: http://www.sru.edu/academics/majors-and-minors/cognitive-science-interdisciplinary-programs\n",
      "[INT] Internal link: http://www.sru.edu/academics/majors-and-minors/communication-studies\n",
      "[INT] Internal link: http://www.sru.edu/academics/majors-and-minors/communication-advertising\n",
      "[INT] Internal link: http://www.sru.edu/academics/majors-and-minors/communication-converged-journalism\n",
      "[INT] Internal link: http://www.sru.edu/academics/majors-and-minors/communication-digital-media-production\n",
      "[INT] Internal link: http://www.sru.edu/academics/majors-and-minors/communication-graphic-design-minor\n",
      "[INT] Internal link: http://www.sru.edu/academics/majors-and-minors/communication-integrated-marketing\n",
      "[INT] Internal link: http://www.sru.edu/academics/majors-and-minors/communication-public-relations\n",
      "[INT] Internal link: http://www.sru.edu/academics/majors-and-minors/comparative-politics-and-international-relations-minor\n",
      "[INT] Internal link: http://www.sru.edu/academics/majors-and-minors/computational-physics\n",
      "[INT] Internal link: http://www.sru.edu/academics/majors-and-minors/computing-computer-science\n",
      "[INT] Internal link: http://www.sru.edu/academics/majors-and-minors/computing-computing-analytics\n",
      "[INT] Internal link: http://www.sru.edu/academics/majors-and-minors/computing-information-technology\n",
      "[INT] Internal link: http://www.sru.edu/academics/majors-and-minors/corporate-security\n",
      "[INT] Internal link: http://www.sru.edu/academics/majors-and-minors/criminology-and-criminal-justice\n",
      "[INT] Internal link: http://www.sru.edu/academics/majors-and-minors/criminology-and-criminal-justice-community-corrections\n",
      "[INT] Internal link: http://www.sru.edu/academics/majors-and-minors/cultural-area-studies\n",
      "[INT] Internal link: http://www.sru.edu/academics/majors-and-minors/cybersecurity\n",
      "[INT] Internal link: http://www.sru.edu/academics/majors-and-minors/dance-bachelor-of-arts\n",
      "[INT] Internal link: http://www.sru.edu/academics/majors-and-minors/dance-bachelor-of-fine-arts\n",
      "[INT] Internal link: http://www.sru.edu/academics/majors-and-minors/dance-pre-apa-41\n",
      "[INT] Internal link: http://www.sru.edu/academics/majors-and-minors/early-childhood-/-special-education-international-education\n",
      "[INT] Internal link: http://www.sru.edu/academics/majors-and-minors/early-childhood-education\n",
      "[INT] Internal link: http://www.sru.edu/academics/majors-and-minors/early-childhood-(pk-4)-/-special-education-(k-8)\n",
      "[INT] Internal link: http://www.sru.edu/academics/majors-and-minors/early-childhood-education-international-education\n",
      "[INT] Internal link: http://www.sru.edu/academics/majors-and-minors/economics\n",
      "[INT] Internal link: http://www.sru.edu/academics/majors-and-minors/elementary-school-math-minor\n",
      "[INT] Internal link: http://www.sru.edu/academics/majors-and-minors/english-creative-writing\n",
      "[INT] Internal link: http://www.sru.edu/academics/majors-and-minors/english-language-and-literature\n",
      "[INT] Internal link: http://www.sru.edu/academics/majors-and-minors/english-literary-film-and-cultural-studies\n",
      "[INT] Internal link: http://www.sru.edu/academics/majors-and-minors/english-professional-writing\n",
      "[INT] Internal link: http://www.sru.edu/academics/majors-and-minors/environmental-communication-and-heritage-interpretation-(minor)\n",
      "[INT] Internal link: http://www.sru.edu/academics/majors-and-minors/environmental-geosciences\n",
      "[INT] Internal link: http://www.sru.edu/academics/majors-and-minors/environmental-geosciences-environmental-science\n",
      "[INT] Internal link: http://www.sru.edu/academics/majors-and-minors/environmental-geosciences-geology\n",
      "[INT] Internal link: http://www.sru.edu/academics/majors-and-minors/environmental-geosciences-pre-masters-of-education\n",
      "[INT] Internal link: http://www.sru.edu/academics/majors-and-minors/ethics-minor\n",
      "[INT] Internal link: http://www.sru.edu/academics/majors-and-minors/european-history-minor\n",
      "[INT] Internal link: http://www.sru.edu/academics/majors-and-minors/exercise-science\n",
      "[INT] Internal link: http://www.sru.edu/academics/majors-and-minors/exercise-science-pre-athletic-training\n",
      "[INT] Internal link: http://www.sru.edu/academics/majors-and-minors/exercise-science-pre-occupational-therapy\n",
      "[INT] Internal link: http://www.sru.edu/academics/majors-and-minors/exercise-science-pre-physical-therapy\n",
      "[INT] Internal link: http://www.sru.edu/academics/majors-and-minors/exercise-science-pre-physician-assistant\n",
      "[INT] Internal link: http://www.sru.edu/academics/majors-and-minors/exploratory-studies\n",
      "[INT] Internal link: http://www.sru.edu/academics/majors-and-minors/film-and-media-studies-minor\n",
      "[INT] Internal link: http://www.sru.edu/academics/majors-and-minors/finance\n",
      "[INT] Internal link: http://www.sru.edu/academics/majors-and-minors/corporate-security/fraud-minor-requirements\n",
      "[INT] Internal link: http://www.sru.edu/academics/majors-and-minors/french\n",
      "[INT] Internal link: http://www.sru.edu/academics/majors-and-minors/gender-and-diversity-studies-interdisciplinary-programs\n",
      "[INT] Internal link: http://www.sru.edu/academics/majors-and-minors/gender-studies-minor\n",
      "[INT] Internal link: http://www.sru.edu/academics/majors-and-minors/geographic-information-technology-minor\n",
      "[INT] Internal link: http://www.sru.edu/academics/majors-and-minors/geography-applied-geographic-technology\n",
      "[INT] Internal link: http://www.sru.edu/academics/majors-and-minors/geography-environmental-studies-and-sustainability\n",
      "[INT] Internal link: http://www.sru.edu/academics/majors-and-minors/geography-global-studies\n",
      "[INT] Internal link: http://www.sru.edu/academics/majors-and-minors/geophysics-minor\n",
      "[INT] Internal link: http://www.sru.edu/academics/majors-and-minors/gerontology-minor\n",
      "[INT] Internal link: http://www.sru.edu/academics/majors-and-minors/health-and-physical-teacher-education-school-wellness-education\n",
      "[INT] Internal link: http://www.sru.edu/academics/majors-and-minors/health-care-administration-and-management\n",
      "[INT] Internal link: http://www.sru.edu/academics/majors-and-minors/health-care-administration-and-management-pre-occupational-therapy\n",
      "[INT] Internal link: http://www.sru.edu/academics/majors-and-minors/health-care-administration-and-management-pre-physical-therapy\n",
      "[INT] Internal link: http://www.sru.edu/academics/majors-and-minors/health-care-administration-and-management-pre-physician-assistant\n",
      "[INT] Internal link: http://www.sru.edu/academics/majors-and-minors/history\n",
      "[INT] Internal link: http://www.sru.edu/academics/majors-and-minors/homeland-security\n",
      "[INT] Internal link: http://www.sru.edu/academics/majors-and-minors/industrial-and-systems-engineering\n",
      "[INT] Internal link: http://www.sru.edu/academics/majors-and-minors/information-systems\n",
      "[INT] Internal link: http://www.sru.edu/academics/majors-and-minors/international-affairs-minor\n",
      "[INT] Internal link: http://www.sru.edu/academics/majors-and-minors/leadership-studies\n",
      "[INT] Internal link: http://www.sru.edu/academics/majors-and-minors/management-pre-mba-minor\n",
      "[INT] Internal link: http://www.sru.edu/academics/majors-and-minors/management-general-management\n",
      "[INT] Internal link: http://www.sru.edu/academics/majors-and-minors/management-human-resources\n",
      "[INT] Internal link: http://www.sru.edu/academics/majors-and-minors/marine-science-minor\n",
      "[INT] Internal link: http://www.sru.edu/academics/majors-and-minors/marketing\n",
      "[INT] Internal link: http://www.sru.edu/academics/majors-and-minors/mathematics\n",
      "[INT] Internal link: http://www.sru.edu/academics/majors-and-minors/mechanical-engineering\n",
      "[INT] Internal link: http://www.sru.edu/academics/majors-and-minors/meteorology-minor\n",
      "[INT] Internal link: http://www.sru.edu/academics/majors-and-minors/middle-level-education-english-and-language-arts\n",
      "[INT] Internal link: http://www.sru.edu/academics/majors-and-minors/middle-level-education-mathematics\n",
      "[INT] Internal link: http://www.sru.edu/academics/majors-and-minors/middle-level-education-science\n",
      "[INT] Internal link: http://www.sru.edu/academics/majors-and-minors/middle-level-education-social-studies\n",
      "[INT] Internal link: http://www.sru.edu/academics/majors-and-minors/middle-school-math-minor\n",
      "[INT] Internal link: http://www.sru.edu/academics/majors-and-minors/professional-japanese-(minor)\n",
      "[INT] Internal link: http://www.sru.edu/academics/majors-and-minors/music\n",
      "[INT] Internal link: http://www.sru.edu/academics/majors-and-minors/music-education\n",
      "[INT] Internal link: http://www.sru.edu/academics/majors-and-minors/music-performance\n",
      "[INT] Internal link: http://www.sru.edu/academics/majors-and-minors/music-therapy\n",
      "[INT] Internal link: http://www.sru.edu/academics/majors-and-minors/non-western-history-minor\n",
      "[INT] Internal link: http://www.sru.edu/academics/majors-and-minors/nursing-rn-bsn\n",
      "[INT] Internal link: http://www.sru.edu/academics/majors-and-minors/corporate-security/organizational-security-minor-requirements\n",
      "[INT] Internal link: http://www.sru.edu/academics/majors-and-minors/park-and-resource-management\n",
      "[INT] Internal link: http://www.sru.edu/academics/majors-and-minors/petroleum-and-natural-gas-engineering\n",
      "[INT] Internal link: http://www.sru.edu/academics/majors-and-minors/philanthropy-and-nonprofit-management\n",
      "[INT] Internal link: http://www.sru.edu/academics/majors-and-minors/philosophy\n",
      "[INT] Internal link: http://www.sru.edu/academics/majors-and-minors/philosophy-career-related\n",
      "[INT] Internal link: http://www.sru.edu/academics/majors-and-minors/physical-activity-and-fitness-management\n",
      "[INT] Internal link: http://www.sru.edu/academics/majors-and-minors/physics\n",
      "[INT] Internal link: http://www.sru.edu/academics/majors-and-minors/physics-computational-biophysics\n",
      "[INT] Internal link: http://www.sru.edu/academics/majors-and-minors/physics-computational-physics\n",
      "[INT] Internal link: http://www.sru.edu/academics/majors-and-minors/physics-pre-masters-of-education\n",
      "[INT] Internal link: http://www.sru.edu/academics/majors-and-minors/political-science\n",
      "[INT] Internal link: http://www.sru.edu/academics/majors-and-minors/pre-engineering-with-pitt\n",
      "[INT] Internal link: http://www.sru.edu/academics/majors-and-minors/pre-engineering-with-psu\n",
      "[INT] Internal link: http://www.sru.edu/academics/majors-and-minors/pre-engineering-with-wvu\n",
      "[INT] Internal link: http://www.sru.edu/academics/majors-and-minors/pre-engineering-with-ysu\n",
      "[INT] Internal link: http://www.sru.edu/academics/majors-and-minors/professional-french-modern-languages-and-cultures\n",
      "[INT] Internal link: http://www.sru.edu/academics/majors-and-minors/professional-spanish\n",
      "[INT] Internal link: http://www.sru.edu/academics/majors-and-minors/psychology\n",
      "[INT] Internal link: http://www.sru.edu/academics/majors-and-minors/psychology-developmental\n",
      "[INT] Internal link: http://www.sru.edu/academics/majors-and-minors/psychology-neuroscience\n",
      "[INT] Internal link: http://www.sru.edu/academics/majors-and-minors/psychology-pre-counseling-33\n",
      "[INT] Internal link: http://www.sru.edu/academics/majors-and-minors/psychology-pre-counseling-psychology-(mscp)-with-chatham-university\n",
      "[INT] Internal link: http://www.sru.edu/academics/majors-and-minors/psychology-pre-occupational-therapy\n",
      "[INT] Internal link: http://www.sru.edu/academics/majors-and-minors/psychology-pre-physician-assistant\n",
      "[INT] Internal link: http://www.sru.edu/academics/majors-and-minors/psychology-pre-psychology-(map)-with-chatham-university\n",
      "[INT] Internal link: http://www.sru.edu/academics/majors-and-minors/psychology-pre-student-affairs-32\n",
      "[INT] Internal link: http://www.sru.edu/academics/majors-and-minors/public-health\n",
      "[INT] Internal link: http://www.sru.edu/academics/majors-and-minors/public-health-pre-occupational-therapy\n",
      "[INT] Internal link: http://www.sru.edu/academics/majors-and-minors/public-health-pre-physical-therapy\n",
      "[INT] Internal link: http://www.sru.edu/academics/majors-and-minors/public-health-pre-physician-assistant\n",
      "[INT] Internal link: http://www.sru.edu/academics/majors-and-minors/recreational-therapy\n",
      "[INT] Internal link: http://www.sru.edu/academics/majors-and-minors/recreational-therapy-pre-occupational-therapy\n",
      "[INT] Internal link: http://www.sru.edu/academics/majors-and-minors/recreational-therapy-pre-physical-therapy\n",
      "[INT] Internal link: http://www.sru.edu/academics/majors-and-minors/resort-recreation-and-hospitality-management\n",
      "[INT] Internal link: http://www.sru.edu/academics/majors-and-minors/safety-management\n",
      "[INT] Internal link: http://www.sru.edu/academics/majors-and-minors/secondary-education-english\n",
      "[INT] Internal link: http://www.sru.edu/academics/majors-and-minors/secondary-education-french\n",
      "[INT] Internal link: http://www.sru.edu/academics/majors-and-minors/secondary-education-social-studies-and-history\n",
      "[INT] Internal link: http://www.sru.edu/academics/majors-and-minors/secondary-education-spanish\n",
      "[INT] Internal link: http://www.sru.edu/academics/majors-and-minors/social-work\n",
      "[INT] Internal link: http://www.sru.edu/academics/majors-and-minors/sociology\n",
      "[INT] Internal link: http://www.sru.edu/academics/majors-and-minors/spanish\n",
      "[INT] Internal link: http://www.sru.edu/academics/majors-and-minors/special-education-(minor)\n",
      "[INT] Internal link: http://www.sru.edu/academics/majors-and-minors/special-education-transition-programming\n",
      "[INT] Internal link: http://www.sru.edu/academics/majors-and-minors/sport-management\n",
      "[INT] Internal link: http://www.sru.edu/academics/majors-and-minors/statistics-(minor)\n",
      "[INT] Internal link: http://www.sru.edu/academics/majors-and-minors/sustainable-management-(minor)\n",
      "[INT] Internal link: http://www.sru.edu/academics/majors-and-minors/theater-minor\n",
      "[INT] Internal link: http://www.sru.edu/academics/majors-and-minors/theatre-ba-acting\n",
      "[INT] Internal link: http://www.sru.edu/academics/majors-and-minors/theatre-ba-design-and-technology\n",
      "[INT] Internal link: http://www.sru.edu/academics/majors-and-minors/theatre-ba-theatre-arts-management\n",
      "[INT] Internal link: http://www.sru.edu/academics/majors-and-minors/theatre-ba-theatre-studies\n",
      "[INT] Internal link: http://www.sru.edu/academics/majors-and-minors/theatre-bfa-acting-(musical-theatre-performance)\n",
      "[INT] Internal link: http://www.sru.edu/academics/majors-and-minors/theatre-bfa-acting-(theatre-performance)\n",
      "[INT] Internal link: http://www.sru.edu/news/social-media-directory\n"
     ]
    },
    {
     "name": "stdout",
     "output_type": "stream",
     "text": [
      "[INT] Internal link: http://www.sru.edu/academics/majors-and-minors/information-systems/information-systems-major-requirements\n",
      "[INT] Internal link: http://www.sru.edu/academics/majors-and-minors/information-systems/information-systems-minor-requirements\n",
      "[INT] Internal link: http://www.sru.edu/academics/colleges-and-departments/cob/school-of-business/healthcare-administration-and-information-systems\n",
      "[INT] Internal link: http://www.sru.edu/academics/majors-and-minors/information-systems/documents/programs/curriculumguides/infosystemsminor.pdf\n",
      "[INT] Internal link: http://www.sru.edu/academics/majors-and-minors/information-systems/documents/programs/factsheets/undergraduate/FS-InfoSystems.pdf\n",
      "[INT] Internal link: http://www.sru.edu/404\n",
      "[INT] Internal link: http://www.sru.edu/academics/majors-and-minors/information-systems/documents/programs/curriculumguides/infosystems.pdf\n",
      "[INT] Internal link: http://www.sru.edu/academics/majors-and-minors/information-systems/documents/programs/curriculumguides/INFO_SYS19_20.pdf\n",
      "[INT] Internal link: http://www.sru.edu/academics/majors-and-minors/information-systems/documents/programs/four-year-plan/Computing_IT.pdf\n",
      "[INT] Internal link: http://www.sru.edu/academics/majors-and-minors/information-systems/documents/programs/four-year-plan/INFO_SYS19_20.pdf\n",
      "[INT] Internal link: http://www.sru.edu/academics/colleges-and-departments/cob/school-of-business/healthcare-administration-and-information-systems/programs\n",
      "[INT] Internal link: http://www.sru.edu/academics/colleges-and-departments/cob/school-of-business/healthcare-administration-and-information-systems/meet-our-faculty\n",
      "[INT] Internal link: http://www.sru.edu/academics/colleges-and-departments/cob/school-of-business/healthcare-administration-and-information-systems/student-experiences\n",
      "[INT] Internal link: http://www.sru.edu/academics/colleges-and-departments/cob/school-of-business/healthcare-administration-and-information-systems/vision-mission-and-core-values\n",
      "[INT] Internal link: http://www.sru.edu/academics/colleges-and-departments/cob/school-of-business/healthcare-administration-and-information-systems/alumni-success\n",
      "[INT] Internal link: http://www.sru.edu/academics/colleges-and-departments/cob/school-of-business/healthcare-administration-and-information-systems/advisory-board\n",
      "[INT] Internal link: http://www.sru.edu/academics/colleges-and-departments/cob/school-of-business/healthcare-administration-and-information-systems/labs\n",
      "[INT] Internal link: http://www.sru.edu/academics/colleges-and-departments/cob/school-of-business/healthcare-administration-and-information-systems/internships\n",
      "[INT] Internal link: http://www.sru.edu/academics/colleges-and-departments\n",
      "[INT] Internal link: http://www.sru.edu/academics/colleges-and-departments/cob\n",
      "[INT] Internal link: http://www.sru.edu/academics/colleges-and-departments/cob/school-of-business\n",
      "[INT] Internal link: http://www.sru.edu/academics/colleges-and-departments/cob/school-of-business/healthcare-administration-and-information-systems/documents/academics/departments/school-of-business/HCAM%20Trio%20Dec%202019.pdf\n",
      "[INT] Internal link: http://www.sru.edu/academics/colleges-and-departments/cob/school-of-business/healthcare-administration-and-information-systems/documents/academics/departments/school-of-business/HCAM%20OUTCOMES%20AUG19.pdf\n",
      "[INT] Internal link: http://www.sru.edu/academics/colleges-and-departments/coe\n",
      "[INT] Internal link: http://www.sru.edu/academics/colleges-and-departments/ches\n",
      "[INT] Internal link: http://www.sru.edu/academics/colleges-and-departments/cla\n",
      "[INT] Internal link: http://www.sru.edu/academics/colleges-and-departments/ches/departments\n",
      "[INT] Internal link: http://www.sru.edu/academics/colleges-and-departments/ches/school-of-engineering\n",
      "[INT] Internal link: http://www.sru.edu/academics/colleges-and-departments/ches/message-from-the-dean-and-assistants\n",
      "[INT] Internal link: http://www.sru.edu/academics/colleges-and-departments/ches/staff\n",
      "[INT] Internal link: http://www.sru.edu/academics/colleges-and-departments/ches/research-grants\n",
      "[INT] Internal link: http://www.sru.edu/academics/colleges-and-departments/ches/interprofessional-education\n",
      "[INT] Internal link: http://www.sru.edu/admissions/tuition-and-fees\n",
      "[INT] Internal link: http://www.sru.edu/admissions/first-year-students\n",
      "[INT] Internal link: http://www.sru.edu/admissions/graduate-admissions\n",
      "[INT] Internal link: http://www.sru.edu/admissions/transfer-and-military-admissions\n",
      "[INT] Internal link: http://www.sru.edu/admissions/international-admissions\n",
      "[INT] Internal link: http://www.sru.edu/admissions/other-admissions\n",
      "[INT] Internal link: http://www.sru.edu/admissions/financial-aid\n",
      "[INT] Internal link: http://www.sru.edu/admissions/request-information\n",
      "[INT] Internal link: http://www.sru.edu/admissions/documents/admissions/tuition-and-fees/UGIS.pdf\n",
      "[INT] Internal link: http://www.sru.edu/admissions/documents/admissions/tuition-and-fees/UGOS.pdf\n",
      "[INT] Internal link: http://www.sru.edu/admissions/documents/admissions/tuition-and-fees/UGNR.pdf\n",
      "[INT] Internal link: http://www.sru.edu/admissions/documents/admissions/tuition-and-fees/GIS.pdf\n",
      "[INT] Internal link: http://www.sru.edu/admissions/documents/admissions/tuition-and-fees/GOS.pdf\n",
      "[INT] Internal link: http://www.sru.edu/admissions/documents/admissions/tuition-and-fees/GOTIS.pdf\n",
      "[INT] Internal link: http://www.sru.edu/admissions/documents/admissions/tuition-and-fees/GOTOS.pdf\n",
      "[INT] Internal link: http://www.sru.edu/admissions/documents/admissions/tuition-and-fees/SUM-GOTIS.pdf\n",
      "[INT] Internal link: http://www.sru.edu/admissions/documents/admissions/tuition-and-fees/SUM-GOTOS.pdf\n",
      "[INT] Internal link: http://www.sru.edu/admissions/documents/admissions/tuition-and-fees/GPAIS.pdf\n",
      "[INT] Internal link: http://www.sru.edu/admissions/documents/admissions/tuition-and-fees/GPAOS.pdf\n",
      "[INT] Internal link: http://www.sru.edu/admissions/documents/admissions/tuition-and-fees/DEUGIS.pdf\n",
      "[INT] Internal link: http://www.sru.edu/admissions/documents/admissions/tuition-and-fees/DEUGOS.pdf\n",
      "[INT] Internal link: http://www.sru.edu/admissions/documents/admissions/tuition-and-fees/OLUGIS-MIL.pdf\n",
      "[INT] Internal link: http://www.sru.edu/admissions/documents/admissions/tuition-and-fees/OLUGOS-MIL.pdf\n",
      "[INT] Internal link: http://www.sru.edu/admissions/documents/admissions/tuition-and-fees/DEGIS.pdf\n",
      "[INT] Internal link: http://www.sru.edu/admissions/documents/admissions/tuition-and-fees/DEGOS.pdf\n",
      "[INT] Internal link: http://www.sru.edu/admissions/documents/admissions/tuition-and-fees/DEGOS201609.pdf\n",
      "[INT] Internal link: http://www.sru.edu/admissions/documents/admissions/tuition-and-fees/SUM-UGIS.pdf\n",
      "[INT] Internal link: http://www.sru.edu/admissions/documents/admissions/tuition-and-fees/SUM-UGOS.pdf\n",
      "[INT] Internal link: http://www.sru.edu/admissions/documents/admissions/tuition-and-fees/SUM-UGOS-GPA.pdf\n",
      "[INT] Internal link: http://www.sru.edu/admissions/documents/admissions/tuition-and-fees/SUM-DEUGIS.pdf\n",
      "[INT] Internal link: http://www.sru.edu/admissions/documents/admissions/tuition-and-fees/SUM-DEUGOS.pdf\n",
      "[INT] Internal link: http://www.sru.edu/admissions/documents/admissions/tuition-and-fees/SUM-OLUGIS-MIL.pdf\n",
      "[INT] Internal link: http://www.sru.edu/admissions/documents/admissions/tuition-and-fees/SUM-OLUGOS-MIL.pdf\n",
      "[INT] Internal link: http://www.sru.edu/admissions/documents/admissions/tuition-and-fees/SUM-GIS.pdf\n",
      "[INT] Internal link: http://www.sru.edu/admissions/documents/admissions/tuition-and-fees/SUM-GOS.pdf\n",
      "[INT] Internal link: http://www.sru.edu/admissions/documents/admissions/tuition-and-fees/SUM-DEGIS.pdf\n",
      "[INT] Internal link: http://www.sru.edu/admissions/documents/admissions/tuition-and-fees/SUM-DEGOS.pdf\n",
      "[INT] Internal link: http://www.sru.edu/admissions/documents/admissions/tuition-and-fees/SUM-DEGOS201609.pdf\n",
      "[INT] Internal link: http://www.sru.edu/admissions/documents/admissions/tuition-and-fees/SUM-GPAIS.pdf\n",
      "[INT] Internal link: http://www.sru.edu/admissions/documents/admissions/tuition-and-fees/SUM-GPAOS.pdf\n",
      "[INT] Internal link: http://www.sru.edu/offices/accounting-services/student-accounts\n",
      "[INT] Internal link: http://www.sru.edu/life-at-sru/housing/rates-and-fees\n",
      "[INT] Internal link: http://www.sru.edu/admissions/transfer-and-military-admissions/transfer-process\n",
      "[INT] Internal link: http://www.sru.edu/admissions/transfer-and-military-admissions/transfer-visit\n",
      "[INT] Internal link: http://www.sru.edu/admissions/transfer-and-military-admissions/transfer-credit-evaluation\n",
      "[INT] Internal link: http://www.sru.edu/admissions/transfer-and-military-admissions/community-colleges-and-articulation\n",
      "[INT] Internal link: http://www.sru.edu/admissions/transfer-and-military-admissions/apply-for-online-degree-completion\n",
      "[INT] Internal link: http://www.sru.edu/academics/online-learning\n",
      "[INT] Internal link: http://www.sru.edu/news/032117b\n",
      "[INT] Internal link: http://www.sru.edu/admissions/financial-aid/types-of-aid/scholarships/transfer-scholarships\n",
      "[INT] Internal link: http://www.sru.edu/admissions/financial-aid/military-education-benefits\n"
     ]
    },
    {
     "name": "stdout",
     "output_type": "stream",
     "text": [
      "[INT] Internal link: http://www.sru.edu/admissions/financial-aid/types-of-aid/scholarships\n",
      "[INT] Internal link: http://www.sru.edu/admissions/financial-aid/types-of-aid/scholarships/first-year-scholarships\n",
      "[INT] Internal link: http://www.sru.edu/admissions/financial-aid/types-of-aid/scholarships/distinguished-scholarships-and-fellowships-program\n",
      "[INT] Internal link: http://www.sru.edu/admissions/financial-aid/types-of-aid/scholarships/returning-undergraduate-scholarships\n",
      "[INT] Internal link: http://www.sru.edu/admissions/financial-aid/types-of-aid/scholarships/graduate-scholarships\n",
      "[INT] Internal link: http://www.sru.edu/admissions/financial-aid/types-of-aid/scholarships/scholarships-for-students-with-disabilities\n",
      "[INT] Internal link: http://www.sru.edu/admissions/financial-aid/types-of-aid/scholarships/external-scholarships\n",
      "[INT] Internal link: http://www.sru.edu/admissions/financial-aid/types-of-aid\n",
      "[INT] Internal link: http://www.sru.edu/transfer\n",
      "[INT] Internal link: http://www.sru.edu/admissions/financial-aid/types-of-aid/scholarships/returning-undergraduate-scholarships/cob-scholarships\n",
      "[INT] Internal link: http://www.sru.edu/admissions/financial-aid/types-of-aid/scholarships/returning-undergraduate-scholarships/cohes-scholarships\n",
      "[INT] Internal link: http://www.sru.edu/admissions/financial-aid/types-of-aid/scholarships/returning-undergraduate-scholarships/cola-scholarships\n",
      "[INT] Internal link: http://www.sru.edu/admissions/financial-aid/types-of-aid/scholarships/returning-undergraduate-scholarships/coe-scholarships\n",
      "[INT] Internal link: http://www.sru.edu/admissions/financial-aid/types-of-aid/scholarships/returning-undergraduate-scholarships/misc-scholarships\n",
      "[INT] Internal link: http://www.sru.edu/admissions/financial-aid/types-of-aid/scholarships/returning-undergraduate-scholarships/documents/admissions/financial-aid/Scholarships/BicknellScholarshipApplication.pdf\n",
      "[INT] Internal link: http://www.sru.edu/admissions/financial-aid/types-of-aid/scholarships/returning-undergraduate-scholarships/documents/admissions/financial-aid/Breaking%20Barriers%20Award%202020%20-%20Student%20Applicaiton%20Process.pdf\n",
      "[INT] Internal link: http://www.sru.edu/admissions/financial-aid/types-of-aid/scholarships/returning-undergraduate-scholarships/documents/admissions/financial-aid/Scholarships/Dr._Thomas_Gaither_Award_for_Excellence.2020.spring_app.pdf\n",
      "[INT] Internal link: http://www.sru.edu/admissions/financial-aid/types-of-aid/scholarships/returning-undergraduate-scholarships/documents/admissions/financial-aid/Scholarships/John%20Press%20Scholarship%20Application.pdf\n",
      "[INT] Internal link: http://www.sru.edu/admissions/financial-aid/types-of-aid/scholarships/returning-undergraduate-scholarships/documents/admissions/financial-aid/Scholarships/StephensonApplication%20PDF.pdf\n",
      "[INT] Internal link: http://www.sru.edu/admissions/financial-aid/types-of-aid/scholarships/returning-undergraduate-scholarships/documents/admissions/financial-aid/Scholarships/THE%20STRICKLAND%20AUTISM%20ADVOCATE%20SCHOLARSHIP%20application.pdf\n",
      "[INT] Internal link: http://www.sru.edu/admissions/financial-aid/types-of-aid/scholarships/returning-undergraduate-scholarships/documents/admissions/financial-aid/Scholarships/ScholarshipUnterwagner2019.pdf\n",
      "[INT] Internal link: http://www.sru.edu/admissions/financial-aid/types-of-aid/scholarships/returning-undergraduate-scholarships/documents/admissions/financial-aid/Scholarships/Unterwagner_Application_Information.pdf\n",
      "[INT] Internal link: http://www.sru.edu/admissions/financial-aid/types-of-aid/scholarships/returning-undergraduate-scholarships/documents/admissions/financial-aid/Scholarships/Swope%20Application.pdf\n",
      "[INT] Internal link: http://www.sru.edu/admissions/financial-aid/types-of-aid/scholarships/returning-undergraduate-scholarships/documents/admissions/financial-aid/Coen_Family_Foundation_Scholarship_Application.pdf\n",
      "[INT] Internal link: http://www.sru.edu/admissions/financial-aid/types-of-aid/scholarships/returning-undergraduate-scholarships/documents/admissions/financial-aid/Scholarships/Ernes_Application.pdf\n",
      "[INT] Internal link: http://www.sru.edu/admissions/financial-aid/types-of-aid/scholarships/returning-undergraduate-scholarships/documents/admissions/financial-aid/Scholarships/Leadership_in_Science_Scholarship.pdf\n",
      "[INT] Internal link: http://www.sru.edu/admissions/financial-aid/types-of-aid/scholarships/returning-undergraduate-scholarships/documents/admissions/financial-aid/Abbass_Alkhafaji_Memorial_Scholarship_Application.pdf\n",
      "[+] Total External links: 133\n",
      "[+] Total Internal links: 403\n",
      "[+] Total: 536\n",
      "2 0\n",
      "[+] NEW Total External links: 133\n",
      "[+] NEW Total Internal links: 403\n",
      "[+] NEW Total: 536\n",
      "[INT] Internal link: https://www.sru.edu/covid19/archive.html\n",
      "[INT] Internal link: https://www.sru.edu/covid19/externalresources.html\n",
      "[INT] Internal link: https://www.sru.edu/covid19/cares-disclosures.html\n",
      "[INT] Internal link: https://www.sru.edu/covid19/students.html\n",
      "[INT] Internal link: https://www.sru.edu/covid19/faculty.html\n",
      "[INT] Internal link: https://www.sru.edu/covid19/staff.html\n",
      "[INT] Internal link: https://www.sru.edu/covid19/docs/help-prevent-spread.pdf\n",
      "[+] NEW Total External links: 133\n",
      "[+] NEW Total Internal links: 410\n",
      "[+] NEW Total: 543\n",
      "9 1\n",
      "[+] NEW Total External links: 138\n",
      "[+] NEW Total Internal links: 410\n",
      "[+] NEW Total: 548\n",
      "[INT] Internal link: https://www.sru.edu/documents/life-at-sru/health-and-wellness/COVID-19/preparing-for-the-return-to-work-at-SRU.pdf\n",
      "[INT] Internal link: https://www.sru.edu/documents/life-at-sru/health-and-wellness/COVID-19/Summary-of-srus-dispersal-of-student-CARES-Act-funding.pdf\n",
      "[INT] Internal link: https://www.sru.edu/documents/life-at-sru/health-and-wellness/COVID-19/fall-semester-archive-message-president.pdf\n",
      "[INT] Internal link: https://www.sru.edu/documents/life-at-sru/health-and-wellness/COVID-19/Preparing-SRU-for-the-fall-2020-semester-May-12.pdf\n",
      "[INT] Internal link: https://www.sru.edu/documents/life-at-sru/health-and-wellness/COVID-19/SRU-Summary-for-May-11-faculty-staff.pdf\n",
      "[INT] Internal link: https://www.sru.edu/documents/life-at-sru/health-and-wellness/COVID-19/SRU-Summary-for-May-8.pdf\n",
      "[INT] Internal link: https://www.sru.edu/documents/life-at-sru/health-and-wellness/COVID-19/Butler-County-moved-to-yellow.pdf\n",
      "[INT] Internal link: https://www.sru.edu/documents/life-at-sru/health-and-wellness/COVID-19/SRU-Summary-for-May-6.pdf\n",
      "[INT] Internal link: https://www.sru.edu/documents/life-at-sru/health-and-wellness/COVID-19/SRU-Cares-Act-Emergency-Grant-Application.pdf\n",
      "[INT] Internal link: https://www.sru.edu/documents/life-at-sru/health-and-wellness/COVID-19/SRU-Summary-for-May-1.pdf\n",
      "[INT] Internal link: https://www.sru.edu/documents/life-at-sru/health-and-wellness/COVID-19/CARES-Act-Notification-to-Eligible-Students-May-1.pdf\n",
      "[INT] Internal link: https://www.sru.edu/documents/life-at-sru/health-and-wellness/COVID-19/SRU-Summary-for-April-29.pdf\n",
      "[INT] Internal link: https://www.sru.edu/documents/life-at-sru/health-and-wellness/COVID-19/SRU-Summary-for-April-27.pdf\n",
      "[INT] Internal link: https://www.sru.edu/documents/life-at-sru/health-and-wellness/COVID-19/SRU-Summary-for-April-24.pdf\n",
      "[INT] Internal link: https://www.sru.edu/documents/life-at-sru/health-and-wellness/COVID-19/SRU-Mandatory-Health-and-Safety-Measures-April-20.pdf\n",
      "[INT] Internal link: https://www.sru.edu/documents/life-at-sru/health-and-wellness/COVID-19/President-Behre's-Summary-for-Staff-and-Faculty-April-20.pdf\n",
      "[INT] Internal link: https://www.sru.edu/documents/life-at-sru/health-and-wellness/COVID-19/President-Behre's-Summary-for-Staff-and-Faculty-April-17.pdf\n",
      "[INT] Internal link: https://www.sru.edu/documents/life-at-sru/health-and-wellness/COVID-19/President-Behres-Summary-for-Staff-and-Faculty-April-15.pdf\n",
      "[INT] Internal link: https://www.sru.edu/documents/life-at-sru/health-and-wellness/COVID-19/President-Behre's-Sumary-for-Staff-and-Faculty-April-10.pdf\n",
      "[INT] Internal link: https://www.sru.edu/documents/life-at-sru/health-and-wellness/COVID-19/President-Behres-Summary-for-Staff-and-Faculty-April-8.pdf\n",
      "[INT] Internal link: https://www.sru.edu/documents/life-at-sru/health-and-wellness/COVID-19/Important-information-regarding-administrative-leave-(April-7---Staff-and-Faculty).pdf\n",
      "[INT] Internal link: https://www.sru.edu/documents/life-at-sru/health-and-wellness/COVID-19/SRU-Summary-for-April-6-Faculty-and-Staff.pdf\n",
      "[INT] Internal link: https://www.sru.edu/documents/life-at-sru/health-and-wellness/COVID-19/Prorated-refunds-of-student-fees-happens-this-week-Students-April-6.pdf\n",
      "[INT] Internal link: https://www.sru.edu/documents/life-at-sru/health-and-wellness/COVID-19/President-Behre's-Summary-for-Faculty-and-Staff-April-3.pdf\n",
      "[INT] Internal link: https://www.sru.edu/documents/life-at-sru/health-and-wellness/COVID-19/President-Behre's-Summary-for-Faculty-and-Staff-April-2.pdf\n",
      "[INT] Internal link: https://www.sru.edu/documents/life-at-sru/health-and-wellness/COVID-19/SRU-Summary-for-April-1-Faculty-and-Staff.pdf\n",
      "[INT] Internal link: https://www.sru.edu/documents/life-at-sru/health-and-wellness/COVID-19/President-Behre's-Summary-for-Faculty-and-Staff.pdf\n",
      "[INT] Internal link: https://www.sru.edu/documents/life-at-sru/health-and-wellness/COVID-19/SRU-Update-for-March-30-Students.pdf\n",
      "[INT] Internal link: https://www.sru.edu/documents/life-at-sru/health-and-wellness/COVID-19/update-on-2020-summer-session-classes-students.pdf\n",
      "[INT] Internal link: https://www.sru.edu/documents/life-at-sru/health-and-wellness/COVID-19/President-Behres-Summary-for-Staff-and-Faculty-March-27.pdf\n",
      "[INT] Internal link: https://www.sru.edu/documents/life-at-sru/health-and-wellness/COVID-19/President-Behres-Update-to-Students-March-27.pdf\n",
      "[INT] Internal link: https://www.sru.edu/documents/life-at-sru/health-and-wellness/COVID-19/President%27s-summary-for-staff-and-faculty-March-26.pdf\n",
      "[INT] Internal link: https://www.sru.edu/documents/life-at-sru/health-and-wellness/COVID-19/President%27s-summary-to-staff-and-faculty-March%2025.pdf\n",
      "[INT] Internal link: https://www.sru.edu/documents/life-at-sru/health-and-wellness/COVID-19/President%27s-update-to-students-March-25.pdf\n",
      "[INT] Internal link: https://www.sru.edu/documents/life-at-sru/health-and-wellness/COVID-19/President-Behres-letter-to-campus-about-commencement-postponement-March-23-Students-Faculty-and-Staff.pdf\n",
      "[INT] Internal link: https://www.sru.edu/documents/life-at-sru/health-and-wellness/COVID-19/University-Travel-Cancellation-Guidance-march-20-staff-and-faculty.pdf\n",
      "[INT] Internal link: https://www.sru.edu/documents/life-at-sru/health-and-wellness/COVID-19/Information-regarding-prorated-refunding-of-student-fees-march-20-students.pdf\n",
      "[INT] Internal link: https://www.sru.edu/documents/life-at-sru/health-and-wellness/COVID-19/SRU-Support-Services-march-20-students.pdf\n",
      "[INT] Internal link: https://www.sru.edu/documents/life-at-sru/health-and-wellness/COVID-19/Important-information-pertaining-to-spring-semester-grading-march-19-students.pdf\n",
      "[INT] Internal link: https://www.sru.edu/documents/life-at-sru/health-and-wellness/COVID-19/Important-information-pertaining-to-reporting-to-work-march-18-faculty-and-staff.pdf\n",
      "[INT] Internal link: https://www.sru.edu/documents/life-at-sru/health-and-wellness/COVID-19/Staff-attendance-update-march-18-staff.pdf\n",
      "[INT] Internal link: https://www.sru.edu/documents/life-at-sru/health-and-wellness/COVID-19/Alternative-mailing-services-operations-march-18-staff-and-faculty.pdf\n",
      "[INT] Internal link: https://www.sru.edu/documents/life-at-sru/health-and-wellness/COVID-19/SRU-moving-to-limited-staffing-model-effective-march-17-staff.pdf\n",
      "[INT] Internal link: https://www.sru.edu/documents/life-at-sru/health-and-wellness/COVID-19/Important-message-regarding-continuation-of-spring-semester-march-16-students.pdf\n",
      "[INT] Internal link: https://www.sru.edu/documents/life-at-sru/health-and-wellness/COVID-19/President%27s-Email-March-11.pdf\n",
      "[INT] Internal link: https://www.sru.edu/documents/life-at-sru/health-and-wellness/COVID-19/President%20Behre%20pre-break%20email%20%28March%203%29.pdf\n",
      "[+] NEW Total External links: 139\n",
      "[+] NEW Total Internal links: 456\n",
      "[+] NEW Total: 595\n"
     ]
    },
    {
     "name": "stdout",
     "output_type": "stream",
     "text": [
      "[INT] Internal link: https://www.sru.edu/covid19/docs/heerf-students-certification-agreement-form.pdf\n",
      "[INT] Internal link: https://www.sru.edu/covid19/docs/cares-faq-archive.pdf\n",
      "[INT] Internal link: https://www.sru.edu/covid19/docs/letter-to-students-cares-disclosures.pdf\n",
      "[INT] Internal link: https://www.sru.edu/covid19/docs/letter-to-students-cares-disclosures-2.pdf\n",
      "[+] NEW Total External links: 139\n",
      "[+] NEW Total Internal links: 460\n",
      "[+] NEW Total: 599\n",
      "[+] NEW Total External links: 139\n",
      "[+] NEW Total Internal links: 460\n",
      "[+] NEW Total: 599\n",
      "[INT] Internal link: https://www.sru.edu/offices/iats/support-services\n",
      "[INT] Internal link: https://www.sru.edu/documents/offices/IATS/ZOOM.pdf\n",
      "[INT] Internal link: https://www.sru.edu/technology-business-continuity\n",
      "[INT] Internal link: https://www.sru.edu/covid19/docs/remote-work-tips.pdf\n",
      "[INT] Internal link: https://www.sru.edu/documents/life-at-sru/health-and-wellness/COVID-19/travel-faq.pdf\n",
      "[+] NEW Total External links: 147\n",
      "[+] NEW Total Internal links: 465\n",
      "[+] NEW Total: 612\n",
      "[+] NEW Total External links: 147\n",
      "[+] NEW Total Internal links: 465\n",
      "[+] NEW Total: 612\n",
      "[INT] Internal link: https://www.sru.edu/offices/center-for-teaching-and-learning/instructional-continuity\n",
      "[INT] Internal link: https://www.sru.edu/covid19/docs/teaching-remote.pdf\n",
      "[INT] Internal link: https://www.sru.edu/academics/academic-services/academic-records/forms\n",
      "[INT] Internal link: https://www.sru.edu/academics/academic-services/rock-integrated-studies-program\n",
      "[INT] Internal link: https://www.sru.edu/admissions/other-admissions\n",
      "[INT] Internal link: https://www.sru.edu/academics/academic-services/readmission\n",
      "[INT] Internal link: https://www.sru.edu/academics/academic-services/rock-integrated-studies-program/liberal-studies-program\n",
      "[INT] Internal link: https://www.sru.edu/admissions/transfer-and-military-admissions\n",
      "[+] NEW Total External links: 150\n",
      "[+] NEW Total Internal links: 473\n",
      "[+] NEW Total: 623\n"
     ]
    },
    {
     "name": "stderr",
     "output_type": "stream",
     "text": [
      "Some characters could not be decoded, and were replaced with REPLACEMENT CHARACTER.\n"
     ]
    },
    {
     "name": "stdout",
     "output_type": "stream",
     "text": [
      "[+] NEW Total External links: 150\n",
      "[+] NEW Total Internal links: 473\n",
      "[+] NEW Total: 623\n",
      "[INT] Internal link: https://www.sru.edu/covid19/docs/remote-learning.pdf\n",
      "[INT] Internal link: https://www.sru.edu/documents/offices/academic-student-affairs/College-Contact-Info.pdf\n",
      "[INT] Internal link: https://www.sru.edu/life-at-sru/diversity/inclusive-excellence/student-success-coaches\n",
      "[INT] Internal link: https://www.sru.edu/offices/students-with-disabilities-office-for\n",
      "[INT] Internal link: http://www.sru.edu/documents/academics/Managing-Your-Time.pdf\n",
      "[INT] Internal link: http://www.sru.edu/documents/academics/Memory-and-Active-Learning.pdf\n",
      "[INT] Internal link: http://www.sru.edu/documents/academics/Note-Taking.pdf\n",
      "[INT] Internal link: https://www.sru.edu/offices/student-health-services\n",
      "[INT] Internal link: https://www.sru.edu/life-at-sru/health-and-wellness/counseling-center\n",
      "[INT] Internal link: https://www.sru.edu/offices/student-engagement-and-leadership/virtual-student-involvement\n",
      "[INT] Internal link: http://www.sru.edu/handshake\n",
      "[INT] Internal link: https://www.sru.edu/offices/payroll/student-employees\n",
      "[INT] Internal link: https://www.sru.edu/academics/academic-services/academic-records/attendance-verification\n",
      "[INT] Internal link: https://www.sru.edu/documents/academics/academic-services/academic-records/Request_for_Readmission.pdf\n",
      "[INT] Internal link: https://www.sru.edu/admissions/international-admissions\n",
      "[+] NEW Total External links: 186\n",
      "[+] NEW Total Internal links: 488\n",
      "[+] NEW Total: 674\n",
      "16 2\n",
      "[+] NEW Total External links: 186\n",
      "[+] NEW Total Internal links: 488\n",
      "[+] NEW Total: 674\n",
      "[+] NEW Total External links: 186\n",
      "[+] NEW Total Internal links: 488\n",
      "[+] NEW Total: 674\n",
      "[+] NEW Total External links: 186\n",
      "[+] NEW Total Internal links: 488\n",
      "[+] NEW Total: 674\n"
     ]
    },
    {
     "name": "stderr",
     "output_type": "stream",
     "text": [
      "Some characters could not be decoded, and were replaced with REPLACEMENT CHARACTER.\n"
     ]
    },
    {
     "name": "stdout",
     "output_type": "stream",
     "text": [
      "[+] NEW Total External links: 186\n",
      "[+] NEW Total Internal links: 488\n",
      "[+] NEW Total: 674\n",
      "[+] NEW Total External links: 186\n",
      "[+] NEW Total Internal links: 488\n",
      "[+] NEW Total: 674\n",
      "[+] NEW Total External links: 186\n",
      "[+] NEW Total Internal links: 488\n",
      "[+] NEW Total: 674\n"
     ]
    },
    {
     "name": "stderr",
     "output_type": "stream",
     "text": [
      "Some characters could not be decoded, and were replaced with REPLACEMENT CHARACTER.\n"
     ]
    },
    {
     "name": "stdout",
     "output_type": "stream",
     "text": [
      "[+] NEW Total External links: 186\n",
      "[+] NEW Total Internal links: 488\n",
      "[+] NEW Total: 674\n"
     ]
    },
    {
     "name": "stderr",
     "output_type": "stream",
     "text": [
      "Some characters could not be decoded, and were replaced with REPLACEMENT CHARACTER.\n"
     ]
    },
    {
     "name": "stdout",
     "output_type": "stream",
     "text": [
      "[+] NEW Total External links: 186\n",
      "[+] NEW Total Internal links: 488\n",
      "[+] NEW Total: 674\n"
     ]
    },
    {
     "name": "stderr",
     "output_type": "stream",
     "text": [
      "Some characters could not be decoded, and were replaced with REPLACEMENT CHARACTER.\n"
     ]
    },
    {
     "name": "stdout",
     "output_type": "stream",
     "text": [
      "[+] NEW Total External links: 186\n",
      "[+] NEW Total Internal links: 488\n",
      "[+] NEW Total: 674\n"
     ]
    },
    {
     "name": "stderr",
     "output_type": "stream",
     "text": [
      "Some characters could not be decoded, and were replaced with REPLACEMENT CHARACTER.\n"
     ]
    },
    {
     "name": "stdout",
     "output_type": "stream",
     "text": [
      "[+] NEW Total External links: 186\n",
      "[+] NEW Total Internal links: 488\n",
      "[+] NEW Total: 674\n"
     ]
    },
    {
     "name": "stderr",
     "output_type": "stream",
     "text": [
      "Some characters could not be decoded, and were replaced with REPLACEMENT CHARACTER.\n"
     ]
    },
    {
     "name": "stdout",
     "output_type": "stream",
     "text": [
      "[+] NEW Total External links: 186\n",
      "[+] NEW Total Internal links: 488\n",
      "[+] NEW Total: 674\n",
      "[+] NEW Total External links: 186\n",
      "[+] NEW Total Internal links: 488\n",
      "[+] NEW Total: 674\n"
     ]
    },
    {
     "name": "stderr",
     "output_type": "stream",
     "text": [
      "Some characters could not be decoded, and were replaced with REPLACEMENT CHARACTER.\n"
     ]
    },
    {
     "name": "stdout",
     "output_type": "stream",
     "text": [
      "[+] NEW Total External links: 186\n",
      "[+] NEW Total Internal links: 488\n",
      "[+] NEW Total: 674\n",
      "[+] NEW Total External links: 186\n",
      "[+] NEW Total Internal links: 488\n",
      "[+] NEW Total: 674\n"
     ]
    },
    {
     "name": "stderr",
     "output_type": "stream",
     "text": [
      "Some characters could not be decoded, and were replaced with REPLACEMENT CHARACTER.\n"
     ]
    },
    {
     "name": "stdout",
     "output_type": "stream",
     "text": [
      "[+] NEW Total External links: 186\n",
      "[+] NEW Total Internal links: 488\n",
      "[+] NEW Total: 674\n",
      "[+] NEW Total External links: 186\n",
      "[+] NEW Total Internal links: 488\n",
      "[+] NEW Total: 674\n",
      "16 3\n",
      "https://www.sru.edu/covid19/externalresources.html\n",
      "https://www.sru.edu/covid19/archive.html\n",
      "https://www.sru.edu/covid19/cares-disclosures.html\n",
      "https://www.sru.edu/covid19/index.html\n",
      "https://www.sru.edu/covid19/staff.html\n",
      "https://www.sru.edu/covid19/docs/heerf-students-certification-agreement-form.pdf\n",
      "https://www.sru.edu/covid19/docs/remote-work-tips.pdf\n",
      "https://www.sru.edu/covid19/students.html\n",
      "https://www.sru.edu/covid19/docs/cares-faq-archive.pdf\n",
      "https://www.sru.edu/covid19/docs/remote-learning.pdf\n",
      "https://www.sru.edu/covid19/docs/help-prevent-spread.pdf\n",
      "https://www.sru.edu/covid19\n",
      "https://www.sru.edu/covid19/docs/teaching-remote.pdf\n",
      "https://www.sru.edu/covid19/faculty.html\n",
      "https://www.sru.edu/covid19/docs/letter-to-students-cares-disclosures.pdf\n",
      "https://www.sru.edu/covid19/docs/letter-to-students-cares-disclosures-2.pdf\n",
      "16\n",
      "https://www.sru.edu/covid19/externalresources.html\n",
      "https://www.sru.edu/covid19/archive.html\n",
      "https://www.sru.edu/covid19/cares-disclosures.html\n",
      "https://www.sru.edu/covid19/docs/letter-to-students-cares-disclosures-2.pdf\n",
      "https://www.sru.edu/covid19/staff.html\n",
      "https://www.sru.edu/covid19/index.html\n",
      "https://www.sru.edu/covid19/docs/heerf-students-certification-agreement-form.pdf\n",
      "https://www.sru.edu/covid19/docs/remote-work-tips.pdf\n",
      "https://www.sru.edu/covid19/docs/letter-to-students-cares-disclosures.pdf\n",
      "https://www.sru.edu/covid19/docs/cares-faq-archive.pdf\n",
      "https://www.sru.edu/covid19/docs/remote-learning.pdf\n",
      "https://www.sru.edu/covid19\n",
      "https://www.sru.edu/covid19/docs/teaching-remote.pdf\n",
      "https://www.sru.edu/covid19/faculty.html\n",
      "https://www.sru.edu/covid19/docs/help-prevent-spread.pdf\n",
      "https://www.sru.edu/covid19/students.html\n",
      "16\n",
      "200 can_save - https://www.sru.edu/covid19/externalresources.html\n",
      "200 can_save - https://www.sru.edu/covid19/archive.html\n",
      "200 can_save - https://www.sru.edu/covid19/cares-disclosures.html\n",
      "200 can_save - https://www.sru.edu/covid19/docs/letter-to-students-cares-disclosures-2.pdf\n",
      "200 can_save - https://www.sru.edu/covid19/staff.html\n",
      "200 can_save - https://www.sru.edu/covid19/index.html\n",
      "200 can_save - https://www.sru.edu/covid19/docs/heerf-students-certification-agreement-form.pdf\n",
      "200 can_save - https://www.sru.edu/covid19/docs/remote-work-tips.pdf\n",
      "200 can_save - https://www.sru.edu/covid19/docs/letter-to-students-cares-disclosures.pdf\n",
      "200 can_save - https://www.sru.edu/covid19/docs/cares-faq-archive.pdf\n",
      "200 can_save - https://www.sru.edu/covid19/docs/remote-learning.pdf\n",
      "200 can_save - https://www.sru.edu/covid19\n",
      "200 can_save - https://www.sru.edu/covid19/docs/teaching-remote.pdf\n",
      "200 can_save - https://www.sru.edu/covid19/faculty.html\n",
      "200 can_save - https://www.sru.edu/covid19/docs/help-prevent-spread.pdf\n",
      "200 can_save - https://www.sru.edu/covid19/students.html\n",
      "Webpages save as HTML :16\n",
      "Webpages unable to save as HTML :0\n",
      "https://www.sru.edu/covid19/docs/heerf-students-certification-agreement-form.pdf\n",
      "https://www.sru.edu/covid19/docs/remote-work-tips.pdf\n",
      "https://www.sru.edu/covid19/docs/cares-faq-archive.pdf\n",
      "https://www.sru.edu/covid19/docs/remote-learning.pdf\n",
      "https://www.sru.edu/covid19/docs/help-prevent-spread.pdf\n",
      "https://www.sru.edu/covid19/docs/teaching-remote.pdf\n",
      "https://www.sru.edu/covid19/docs/letter-to-students-cares-disclosures.pdf\n",
      "https://www.sru.edu/covid19/docs/letter-to-students-cares-disclosures-2.pdf\n",
      "Pdfs saved: 8\n",
      "8\n",
      "8\n",
      "1 of 8 - https://www.sru.edu/covid19/externalresources.html\n",
      "2 of 8 - https://www.sru.edu/covid19/archive.html\n",
      "3 of 8 - https://www.sru.edu/covid19/cares-disclosures.html\n",
      "4 of 8 - https://www.sru.edu/covid19/index.html\n",
      "5 of 8 - https://www.sru.edu/covid19/staff.html\n",
      "6 of 8 - https://www.sru.edu/covid19\n",
      "7 of 8 - https://www.sru.edu/covid19/faculty.html\n",
      "8 of 8 - https://www.sru.edu/covid19/students.html\n",
      "Saving Completed\n",
      "1 of 8\n",
      "Visiting www.sru.edu/covid19/externalresources.html\n",
      "...Taking a screenshot\n",
      "Screenshot of externalresources.html page taken! \n",
      "\n",
      "2 of 8\n",
      "Visiting www.sru.edu/covid19/archive.html\n",
      "...Taking a screenshot\n",
      "Screenshot of archive.html page taken! \n",
      "\n",
      "3 of 8\n",
      "Visiting www.sru.edu/covid19/cares-disclosures.html\n",
      "...Taking a screenshot\n",
      "Screenshot of cares-disclosures.html page taken! \n",
      "\n",
      "4 of 8\n",
      "Visiting www.sru.edu/covid19/index.html\n",
      "...Taking a screenshot\n",
      "Screenshot of index.html page taken! \n",
      "\n",
      "5 of 8\n",
      "Visiting www.sru.edu/covid19/staff.html\n",
      "...Taking a screenshot\n",
      "Screenshot of staff.html page taken! \n",
      "\n",
      "6 of 8\n",
      "Visiting www.sru.edu/covid19/Home\n",
      "...Taking a screenshot\n",
      "Screenshot of Home page taken! \n",
      "\n",
      "7 of 8\n",
      "Visiting www.sru.edu/covid19/faculty.html\n",
      "...Taking a screenshot\n",
      "Screenshot of faculty.html page taken! \n",
      "\n",
      "8 of 8\n",
      "Visiting www.sru.edu/covid19/students.html\n",
      "...Taking a screenshot\n",
      "Screenshot of students.html page taken! \n",
      "\n",
      "Task Completed! Files stored in the Masters\\www.sru.edu_Screenshots Folder\n",
      "ParseResult(scheme='https', netloc='covid19.sonoma.edu', path='/', params='', query='', fragment='')\n",
      "https://covid19.sonoma.edu\n",
      "covid19.sonoma.edu/\n",
      "covid19.sonoma.edu\n",
      "[INT] Internal link: https://covid19.sonoma.edu/updates/plan-phased-staffing-announced\n",
      "[INT] Internal link: https://covid19.sonoma.edu/updates/presidents-message-regarding-chancellors-statement-fall-2020\n",
      "[INT] Internal link: https://covid19.sonoma.edu/student-emergency-grants\n",
      "[INT] Internal link: http://covid19.sonoma.edu/updates/message-vice-president-sawyer-fully-remote-semester-and-commencement-postponement\n",
      "[INT] Internal link: http://covid19.sonoma.edu/updates/important-post-spring-break-message-faculty-students-and-staff\n",
      "[INT] Internal link: https://covid19.sonoma.edu/updates\n",
      "[INT] Internal link: https://covid19.sonoma.edu/return-to-campus\n",
      "[INT] Internal link: https://covid19.sonoma.edu/students-faq\n",
      "[INT] Internal link: https://covid19.sonoma.edu/all-employees-faq\n",
      "[INT] Internal link: https://covid19.sonoma.edu/faculty-faq\n",
      "[INT] Internal link: https://covid19.sonoma.edu/csu-chancellors-office\n",
      "[INT] Internal link: https://covid19.sonoma.edu/health-wellness\n",
      "[INT] Internal link: https://covid19.sonoma.edu/home\n",
      "[INT] Internal link: https://covid19.sonoma.edu/updates/june-30-pay-warrant-distribution\n",
      "[INT] Internal link: https://covid19.sonoma.edu/updates/june-15-live-pay-warrant-distribution\n",
      "[INT] Internal link: https://covid19.sonoma.edu/updates/message-president-fall-2020-update\n",
      "[INT] Internal link: https://covid19.sonoma.edu/updates/direct-deposit-statements-suspended\n",
      "[INT] Internal link: https://covid19.sonoma.edu/zoom-backgrounds\n",
      "[+] Total External links: 264\n",
      "[+] Total Internal links: 507\n",
      "[+] Total: 771\n",
      "19 0\n",
      "[INT] Internal link: https://covid19.sonoma.edu/updates/president-announces-extension-temporary-telecommuting\n",
      "[INT] Internal link: https://covid19.sonoma.edu/updates/temporary-processing-changes-extended\n",
      "[INT] Internal link: https://covid19.sonoma.edu/updates/reminder-regarding-may-15-pay-warrant-distribution\n",
      "[INT] Internal link: https://covid19.sonoma.edu/updates/phishing-criminals-stealing-direct-deposit-payments\n",
      "[+] NEW Total External links: 264\n",
      "[+] NEW Total Internal links: 511\n",
      "[+] NEW Total: 775\n",
      "[+] NEW Total External links: 264\n",
      "[+] NEW Total Internal links: 511\n",
      "[+] NEW Total: 775\n",
      "[+] NEW Total External links: 276\n",
      "[+] NEW Total Internal links: 511\n",
      "[+] NEW Total: 787\n",
      "[INT] Internal link: http://covid19.sonoma.edu/\n",
      "[INT] Internal link: http://covid19.sonoma.edu/updates\n",
      "[INT] Internal link: http://covid19.sonoma.edu/students-faq\n",
      "[INT] Internal link: http://covid19.sonoma.edu/faculty-faq\n",
      "[INT] Internal link: http://covid19.sonoma.edu/return-to-campus\n",
      "[INT] Internal link: http://covid19.sonoma.edu/all-employees-faq\n",
      "[INT] Internal link: http://covid19.sonoma.edu/csu-chancellors-office\n",
      "[INT] Internal link: http://covid19.sonoma.edu/health-wellness\n",
      "[+] NEW Total External links: 280\n",
      "[+] NEW Total Internal links: 519\n",
      "[+] NEW Total: 799\n",
      "[+] NEW Total External links: 282\n",
      "[+] NEW Total Internal links: 519\n",
      "[+] NEW Total: 801\n",
      "[+] NEW Total External links: 282\n",
      "[+] NEW Total Internal links: 519\n",
      "[+] NEW Total: 801\n",
      "[INT] Internal link: https://covid19.sonoma.edu/sites/covid19/files/music-ed-bldg-20-073_campus_zoom_backgrounds.jpg\n",
      "[INT] Internal link: https://covid19.sonoma.edu/sites/covid19/files/big-nite-20-073_campus_zoom_backgrounds_logo.jpg\n",
      "[INT] Internal link: https://covid19.sonoma.edu/sites/covid19/files/student-center1-20-073_campus_zoom_backgrounds.jpg\n",
      "[INT] Internal link: https://covid19.sonoma.edu/sites/covid19/files/darwin-walkway-20-073_campus_zoom_backgrounds.jpg\n",
      "[INT] Internal link: https://covid19.sonoma.edu/sites/covid19/files/north-entrance-20-073_campus_zoom_backgrounds.jpg\n",
      "[INT] Internal link: https://covid19.sonoma.edu/sites/covid19/files/green-music-center-aerial-20-073_campus_zoom_backgrounds.jpg\n",
      "[INT] Internal link: https://covid19.sonoma.edu/sites/covid19/files/_zoom_bg_darwin_hall_sunset.jpg\n",
      "[INT] Internal link: https://covid19.sonoma.edu/sites/covid19/files/_zoom_bg_galbreath_preserve_pool.png\n",
      "[INT] Internal link: https://covid19.sonoma.edu/sites/covid19/files/_zoom_bg_lakes_w_geese.jpg\n",
      "[INT] Internal link: https://covid19.sonoma.edu/sites/covid19/files/_zoom_bg_osborne_preserve_trail.png\n",
      "[INT] Internal link: https://covid19.sonoma.edu/sites/covid19/files/_zoom_bg_student_center.jpg\n",
      "[INT] Internal link: https://covid19.sonoma.edu/sites/covid19/files/_zoom_bg_beaujolais_village.jpg\n",
      "[INT] Internal link: https://covid19.sonoma.edu/sites/covid19/files/fall-leaves-20-073_campus_zoom_backgrounds.jpg\n",
      "[INT] Internal link: https://covid19.sonoma.edu/sites/covid19/files/beaujolais-20-073_campus_zoom_backgrounds_logo.jpg\n",
      "[INT] Internal link: https://covid19.sonoma.edu/sites/covid19/files/living-room20-073_campus_zoom_backgrounds.jpg\n",
      "[INT] Internal link: https://covid19.sonoma.edu/sites/covid19/files/campus-lakes-20-073_campus_zoom_backgrounds.jpg\n",
      "[INT] Internal link: https://covid19.sonoma.edu/sites/covid19/files/main-walkway-20-073_campus_zoom_backgrounds.jpg\n",
      "[INT] Internal link: https://covid19.sonoma.edu/sites/covid19/files/stevenson-quad-20-073_campus_zoom_backgrounds.jpg\n",
      "[INT] Internal link: https://covid19.sonoma.edu/sites/covid19/files/_zoom_bg_environmental_technology_center.jpg\n",
      "[INT] Internal link: https://covid19.sonoma.edu/sites/covid19/files/_zoom_bg_galbreath_preserve_valley.png\n",
      "[INT] Internal link: https://covid19.sonoma.edu/sites/covid19/files/_zoom_bg_library_roof.jpg\n",
      "[INT] Internal link: https://covid19.sonoma.edu/sites/covid19/files/_zoom_bg_the_library.jpg\n",
      "[INT] Internal link: https://covid19.sonoma.edu/sites/covid19/files/grape-vines-wslc-20-073_campus_zoom_backgrounds.jpg\n",
      "[INT] Internal link: https://covid19.sonoma.edu/sites/covid19/files/schulz-info-center-20-073_campus_zoom_backgrounds.jpg\n",
      "[INT] Internal link: https://covid19.sonoma.edu/sites/covid19/files/student-center2-20-073_campus_zoom_backgrounds.jpg\n",
      "[INT] Internal link: https://covid19.sonoma.edu/sites/covid19/files/green-music-center-20-073_campus_zoom_backgrounds_logo.jpg\n",
      "[INT] Internal link: https://covid19.sonoma.edu/sites/covid19/files/lobo-grad-20-073_campus_zoom_backgrounds.jpg\n",
      "[INT] Internal link: https://covid19.sonoma.edu/sites/covid19/files/zinfandel-20-073_campus_zoom_backgrounds_logo.jpg\n",
      "[INT] Internal link: https://covid19.sonoma.edu/sites/covid19/files/_zoom_bg_galbreath_preserve_field.png\n",
      "[INT] Internal link: https://covid19.sonoma.edu/sites/covid19/files/_zoom_bg_lakes_path.jpg\n",
      "[INT] Internal link: https://covid19.sonoma.edu/sites/covid19/files/_zoom_bg_osborne_preserve_creek.png\n",
      "[INT] Internal link: https://covid19.sonoma.edu/sites/covid19/files/_zoom_bg_stevenson_quad.jpg\n",
      "[INT] Internal link: https://covid19.sonoma.edu/sites/covid19/files/_zoom_bg_weill_hall_courtyard.jpg\n",
      "[+] NEW Total External links: 282\n",
      "[+] NEW Total Internal links: 552\n",
      "[+] NEW Total: 834\n"
     ]
    },
    {
     "name": "stdout",
     "output_type": "stream",
     "text": [
      "[+] NEW Total External links: 289\n",
      "[+] NEW Total Internal links: 552\n",
      "[+] NEW Total: 841\n",
      "[+] NEW Total External links: 293\n",
      "[+] NEW Total Internal links: 552\n",
      "[+] NEW Total: 845\n",
      "[INT] Internal link: https://covid19.sonoma.edu/chancellor-white-statement-on-fall-2020\n",
      "[+] NEW Total External links: 293\n",
      "[+] NEW Total Internal links: 553\n",
      "[+] NEW Total: 846\n",
      "[INT] Internal link: https://covid19.sonoma.edu/students-faq/csu-cares-student-grants\n",
      "[+] NEW Total External links: 301\n",
      "[+] NEW Total Internal links: 554\n",
      "[+] NEW Total: 855\n",
      "[+] NEW Total External links: 301\n",
      "[+] NEW Total Internal links: 554\n",
      "[+] NEW Total: 855\n",
      "[+] NEW Total External links: 330\n",
      "[+] NEW Total Internal links: 554\n",
      "[+] NEW Total: 884\n",
      "[+] NEW Total External links: 334\n",
      "[+] NEW Total Internal links: 554\n",
      "[+] NEW Total: 888\n",
      "[+] NEW Total External links: 334\n",
      "[+] NEW Total Internal links: 554\n",
      "[+] NEW Total: 888\n",
      "[INT] Internal link: https://covid19.sonoma.edu/return-to-campus/covid-19-reporting\n",
      "[INT] Internal link: https://covid19.sonoma.edu/return-to-campus/campus-facilities\n",
      "[INT] Internal link: https://covid19.sonoma.edu/return-to-campus/contractors-suppliers\n",
      "[INT] Internal link: https://covid19.sonoma.edu/return-to-campus/physical-safety\n",
      "[INT] Internal link: https://covid19.sonoma.edu/return-to-campus/travel-and-procurement\n",
      "[INT] Internal link: https://covid19.sonoma.edu/return-to-campus/working-on-campus\n",
      "[INT] Internal link: https://covid19.sonoma.edu/return-to-campus/workplace-accomodation\n",
      "[+] NEW Total External links: 335\n",
      "[+] NEW Total Internal links: 561\n",
      "[+] NEW Total: 896\n",
      "[+] NEW Total External links: 336\n",
      "[+] NEW Total Internal links: 561\n",
      "[+] NEW Total: 897\n",
      "[+] NEW Total External links: 336\n",
      "[+] NEW Total Internal links: 561\n",
      "[+] NEW Total: 897\n",
      "[INT] Internal link: https://covid19.sonoma.edu/updates/covid-19-telecommuting-requests-guidance-appropriate-administrators\n",
      "[INT] Internal link: https://covid19.sonoma.edu/updates/ssu-covid-19-social-distancing-protocol-may-7-update\n",
      "[+] NEW Total External links: 353\n",
      "[+] NEW Total Internal links: 563\n",
      "[+] NEW Total: 916\n",
      "75 1\n",
      "[+] NEW Total External links: 353\n",
      "[+] NEW Total Internal links: 563\n",
      "[+] NEW Total: 916\n",
      "[INT] Internal link: https://covid19.sonoma.edu/sites/covid19/files/covid-19_telecommuting_request_summary.xlsx\n",
      "[+] NEW Total External links: 354\n",
      "[+] NEW Total Internal links: 564\n",
      "[+] NEW Total: 918\n",
      "[+] NEW Total External links: 354\n",
      "[+] NEW Total Internal links: 564\n",
      "[+] NEW Total: 918\n"
     ]
    },
    {
     "name": "stderr",
     "output_type": "stream",
     "text": [
      "Some characters could not be decoded, and were replaced with REPLACEMENT CHARACTER.\n"
     ]
    },
    {
     "name": "stdout",
     "output_type": "stream",
     "text": [
      "[+] NEW Total External links: 354\n",
      "[+] NEW Total Internal links: 564\n",
      "[+] NEW Total: 918\n",
      "[+] NEW Total External links: 354\n",
      "[+] NEW Total Internal links: 564\n",
      "[+] NEW Total: 918\n"
     ]
    },
    {
     "name": "stderr",
     "output_type": "stream",
     "text": [
      "Some characters could not be decoded, and were replaced with REPLACEMENT CHARACTER.\n"
     ]
    },
    {
     "name": "stdout",
     "output_type": "stream",
     "text": [
      "[+] NEW Total External links: 354\n",
      "[+] NEW Total Internal links: 564\n",
      "[+] NEW Total: 918\n"
     ]
    },
    {
     "name": "stderr",
     "output_type": "stream",
     "text": [
      "Some characters could not be decoded, and were replaced with REPLACEMENT CHARACTER.\n"
     ]
    },
    {
     "name": "stdout",
     "output_type": "stream",
     "text": [
      "[+] NEW Total External links: 354\n",
      "[+] NEW Total Internal links: 564\n",
      "[+] NEW Total: 918\n"
     ]
    },
    {
     "name": "stderr",
     "output_type": "stream",
     "text": [
      "Some characters could not be decoded, and were replaced with REPLACEMENT CHARACTER.\n"
     ]
    },
    {
     "name": "stdout",
     "output_type": "stream",
     "text": [
      "[+] NEW Total External links: 354\n",
      "[+] NEW Total Internal links: 564\n",
      "[+] NEW Total: 918\n"
     ]
    },
    {
     "name": "stderr",
     "output_type": "stream",
     "text": [
      "Some characters could not be decoded, and were replaced with REPLACEMENT CHARACTER.\n"
     ]
    },
    {
     "name": "stdout",
     "output_type": "stream",
     "text": [
      "[+] NEW Total External links: 354\n",
      "[+] NEW Total Internal links: 564\n",
      "[+] NEW Total: 918\n"
     ]
    },
    {
     "name": "stderr",
     "output_type": "stream",
     "text": [
      "Some characters could not be decoded, and were replaced with REPLACEMENT CHARACTER.\n"
     ]
    },
    {
     "name": "stdout",
     "output_type": "stream",
     "text": [
      "[+] NEW Total External links: 354\n",
      "[+] NEW Total Internal links: 564\n",
      "[+] NEW Total: 918\n",
      "[+] NEW Total External links: 360\n",
      "[+] NEW Total Internal links: 564\n",
      "[+] NEW Total: 924\n",
      "[+] NEW Total External links: 360\n",
      "[+] NEW Total Internal links: 564\n",
      "[+] NEW Total: 924\n"
     ]
    },
    {
     "name": "stderr",
     "output_type": "stream",
     "text": [
      "Some characters could not be decoded, and were replaced with REPLACEMENT CHARACTER.\n"
     ]
    },
    {
     "name": "stdout",
     "output_type": "stream",
     "text": [
      "[+] NEW Total External links: 360\n",
      "[+] NEW Total Internal links: 564\n",
      "[+] NEW Total: 924\n",
      "[+] NEW Total External links: 360\n",
      "[+] NEW Total Internal links: 564\n",
      "[+] NEW Total: 924\n"
     ]
    },
    {
     "name": "stderr",
     "output_type": "stream",
     "text": [
      "Some characters could not be decoded, and were replaced with REPLACEMENT CHARACTER.\n"
     ]
    },
    {
     "name": "stdout",
     "output_type": "stream",
     "text": [
      "[+] NEW Total External links: 360\n",
      "[+] NEW Total Internal links: 564\n",
      "[+] NEW Total: 924\n",
      "[+] NEW Total External links: 360\n",
      "[+] NEW Total Internal links: 564\n",
      "[+] NEW Total: 924\n"
     ]
    },
    {
     "name": "stderr",
     "output_type": "stream",
     "text": [
      "Some characters could not be decoded, and were replaced with REPLACEMENT CHARACTER.\n"
     ]
    },
    {
     "name": "stdout",
     "output_type": "stream",
     "text": [
      "[+] NEW Total External links: 360\n",
      "[+] NEW Total Internal links: 564\n",
      "[+] NEW Total: 924\n",
      "[+] NEW Total External links: 360\n",
      "[+] NEW Total Internal links: 564\n",
      "[+] NEW Total: 924\n",
      "[+] NEW Total External links: 360\n",
      "[+] NEW Total Internal links: 564\n",
      "[+] NEW Total: 924\n"
     ]
    },
    {
     "name": "stderr",
     "output_type": "stream",
     "text": [
      "Some characters could not be decoded, and were replaced with REPLACEMENT CHARACTER.\n"
     ]
    },
    {
     "name": "stdout",
     "output_type": "stream",
     "text": [
      "[+] NEW Total External links: 360\n",
      "[+] NEW Total Internal links: 564\n",
      "[+] NEW Total: 924\n"
     ]
    },
    {
     "name": "stderr",
     "output_type": "stream",
     "text": [
      "Some characters could not be decoded, and were replaced with REPLACEMENT CHARACTER.\n"
     ]
    },
    {
     "name": "stdout",
     "output_type": "stream",
     "text": [
      "[+] NEW Total External links: 360\n",
      "[+] NEW Total Internal links: 564\n",
      "[+] NEW Total: 924\n",
      "[+] NEW Total External links: 360\n",
      "[+] NEW Total Internal links: 564\n",
      "[+] NEW Total: 924\n",
      "[+] NEW Total External links: 360\n",
      "[+] NEW Total Internal links: 564\n",
      "[+] NEW Total: 924\n"
     ]
    },
    {
     "name": "stderr",
     "output_type": "stream",
     "text": [
      "Some characters could not be decoded, and were replaced with REPLACEMENT CHARACTER.\n"
     ]
    },
    {
     "name": "stdout",
     "output_type": "stream",
     "text": [
      "[+] NEW Total External links: 360\n",
      "[+] NEW Total Internal links: 564\n",
      "[+] NEW Total: 924\n",
      "[INT] Internal link: http://covid19.sonoma.edu/home\n",
      "[INT] Internal link: http://covid19.sonoma.edu/student-emergency-grants\n",
      "[INT] Internal link: http://covid19.sonoma.edu/chancellor-white-statement-on-fall-2020\n",
      "[INT] Internal link: http://covid19.sonoma.edu/students-faq/csu-cares-student-grants\n",
      "[+] NEW Total External links: 360\n",
      "[+] NEW Total Internal links: 568\n",
      "[+] NEW Total: 928\n",
      "[INT] Internal link: http://covid19.sonoma.edu/return-to-campus/covid-19-reporting\n",
      "[INT] Internal link: http://covid19.sonoma.edu/return-to-campus/campus-facilities\n",
      "[INT] Internal link: http://covid19.sonoma.edu/return-to-campus/contractors-suppliers\n",
      "[INT] Internal link: http://covid19.sonoma.edu/return-to-campus/physical-safety\n",
      "[INT] Internal link: http://covid19.sonoma.edu/return-to-campus/travel-and-procurement\n",
      "[INT] Internal link: http://covid19.sonoma.edu/return-to-campus/working-on-campus\n",
      "[INT] Internal link: http://covid19.sonoma.edu/return-to-campus/workplace-accomodation\n",
      "[+] NEW Total External links: 360\n",
      "[+] NEW Total Internal links: 575\n",
      "[+] NEW Total: 935\n",
      "[+] NEW Total External links: 360\n",
      "[+] NEW Total Internal links: 575\n",
      "[+] NEW Total: 935\n",
      "[+] NEW Total External links: 360\n",
      "[+] NEW Total Internal links: 575\n",
      "[+] NEW Total: 935\n",
      "[+] NEW Total External links: 361\n",
      "[+] NEW Total Internal links: 575\n",
      "[+] NEW Total: 936\n"
     ]
    },
    {
     "name": "stderr",
     "output_type": "stream",
     "text": [
      "Some characters could not be decoded, and were replaced with REPLACEMENT CHARACTER.\n"
     ]
    },
    {
     "name": "stdout",
     "output_type": "stream",
     "text": [
      "[+] NEW Total External links: 361\n",
      "[+] NEW Total Internal links: 575\n",
      "[+] NEW Total: 936\n"
     ]
    },
    {
     "name": "stderr",
     "output_type": "stream",
     "text": [
      "Some characters could not be decoded, and were replaced with REPLACEMENT CHARACTER.\n"
     ]
    },
    {
     "name": "stdout",
     "output_type": "stream",
     "text": [
      "[+] NEW Total External links: 361\n",
      "[+] NEW Total Internal links: 575\n",
      "[+] NEW Total: 936\n"
     ]
    },
    {
     "name": "stderr",
     "output_type": "stream",
     "text": [
      "Some characters could not be decoded, and were replaced with REPLACEMENT CHARACTER.\n"
     ]
    },
    {
     "name": "stdout",
     "output_type": "stream",
     "text": [
      "[+] NEW Total External links: 361\n",
      "[+] NEW Total Internal links: 575\n",
      "[+] NEW Total: 936\n",
      "[INT] Internal link: http://covid19.sonoma.edu/updates/covid-19-telecommuting-requests-guidance-appropriate-administrators\n",
      "[INT] Internal link: http://covid19.sonoma.edu/updates/message-president-fall-2020-update\n",
      "[INT] Internal link: http://covid19.sonoma.edu/updates/ssu-covid-19-social-distancing-protocol-may-7-update\n",
      "[+] NEW Total External links: 361\n",
      "[+] NEW Total Internal links: 578\n",
      "[+] NEW Total: 939\n",
      "[+] NEW Total External links: 361\n",
      "[+] NEW Total Internal links: 578\n",
      "[+] NEW Total: 939\n",
      "[+] NEW Total External links: 361\n",
      "[+] NEW Total Internal links: 578\n",
      "[+] NEW Total: 939\n",
      "[+] NEW Total External links: 361\n",
      "[+] NEW Total Internal links: 578\n",
      "[+] NEW Total: 939\n"
     ]
    },
    {
     "name": "stderr",
     "output_type": "stream",
     "text": [
      "Some characters could not be decoded, and were replaced with REPLACEMENT CHARACTER.\n"
     ]
    },
    {
     "name": "stdout",
     "output_type": "stream",
     "text": [
      "[+] NEW Total External links: 361\n",
      "[+] NEW Total Internal links: 578\n",
      "[+] NEW Total: 939\n",
      "[+] NEW Total External links: 367\n",
      "[+] NEW Total Internal links: 578\n",
      "[+] NEW Total: 945\n"
     ]
    },
    {
     "name": "stderr",
     "output_type": "stream",
     "text": [
      "Some characters could not be decoded, and were replaced with REPLACEMENT CHARACTER.\n",
      "C:\\Users\\Kanishk Jain\\anaconda3\\envs\\py\\lib\\site-packages\\bs4\\builder\\_htmlparser.py:84: UserWarning: expected name token at \"<![�G*傱�ik�\\x031���p'�\\x0b\"\n",
      "  warnings.warn(msg)\n"
     ]
    },
    {
     "name": "stdout",
     "output_type": "stream",
     "text": [
      "caught\n",
      "[+] NEW Total External links: 367\n",
      "[+] NEW Total Internal links: 578\n",
      "[+] NEW Total: 945\n"
     ]
    },
    {
     "name": "stderr",
     "output_type": "stream",
     "text": [
      "Some characters could not be decoded, and were replaced with REPLACEMENT CHARACTER.\n"
     ]
    },
    {
     "name": "stdout",
     "output_type": "stream",
     "text": [
      "[+] NEW Total External links: 367\n",
      "[+] NEW Total Internal links: 578\n",
      "[+] NEW Total: 945\n"
     ]
    },
    {
     "name": "stderr",
     "output_type": "stream",
     "text": [
      "Some characters could not be decoded, and were replaced with REPLACEMENT CHARACTER.\n"
     ]
    },
    {
     "name": "stdout",
     "output_type": "stream",
     "text": [
      "[+] NEW Total External links: 367\n",
      "[+] NEW Total Internal links: 578\n",
      "[+] NEW Total: 945\n"
     ]
    },
    {
     "name": "stderr",
     "output_type": "stream",
     "text": [
      "Some characters could not be decoded, and were replaced with REPLACEMENT CHARACTER.\n"
     ]
    },
    {
     "name": "stdout",
     "output_type": "stream",
     "text": [
      "[+] NEW Total External links: 367\n",
      "[+] NEW Total Internal links: 578\n",
      "[+] NEW Total: 945\n",
      "[+] NEW Total External links: 369\n",
      "[+] NEW Total Internal links: 578\n",
      "[+] NEW Total: 947\n",
      "[+] NEW Total External links: 369\n",
      "[+] NEW Total Internal links: 578\n",
      "[+] NEW Total: 947\n",
      "[+] NEW Total External links: 369\n",
      "[+] NEW Total Internal links: 578\n",
      "[+] NEW Total: 947\n"
     ]
    },
    {
     "name": "stderr",
     "output_type": "stream",
     "text": [
      "Some characters could not be decoded, and were replaced with REPLACEMENT CHARACTER.\n"
     ]
    },
    {
     "name": "stdout",
     "output_type": "stream",
     "text": [
      "[+] NEW Total External links: 369\n",
      "[+] NEW Total Internal links: 578\n",
      "[+] NEW Total: 947\n"
     ]
    },
    {
     "name": "stderr",
     "output_type": "stream",
     "text": [
      "Some characters could not be decoded, and were replaced with REPLACEMENT CHARACTER.\n"
     ]
    },
    {
     "name": "stdout",
     "output_type": "stream",
     "text": [
      "[+] NEW Total External links: 369\n",
      "[+] NEW Total Internal links: 578\n",
      "[+] NEW Total: 947\n",
      "[+] NEW Total External links: 371\n",
      "[+] NEW Total Internal links: 578\n",
      "[+] NEW Total: 949\n",
      "[+] NEW Total External links: 371\n",
      "[+] NEW Total Internal links: 578\n",
      "[+] NEW Total: 949\n",
      "[+] NEW Total External links: 372\n",
      "[+] NEW Total Internal links: 578\n",
      "[+] NEW Total: 950\n"
     ]
    },
    {
     "name": "stderr",
     "output_type": "stream",
     "text": [
      "Some characters could not be decoded, and were replaced with REPLACEMENT CHARACTER.\n"
     ]
    },
    {
     "name": "stdout",
     "output_type": "stream",
     "text": [
      "[+] NEW Total External links: 372\n",
      "[+] NEW Total Internal links: 578\n",
      "[+] NEW Total: 950\n"
     ]
    },
    {
     "name": "stderr",
     "output_type": "stream",
     "text": [
      "Some characters could not be decoded, and were replaced with REPLACEMENT CHARACTER.\n"
     ]
    },
    {
     "name": "stdout",
     "output_type": "stream",
     "text": [
      "[+] NEW Total External links: 372\n",
      "[+] NEW Total Internal links: 578\n",
      "[+] NEW Total: 950\n"
     ]
    },
    {
     "name": "stderr",
     "output_type": "stream",
     "text": [
      "Some characters could not be decoded, and were replaced with REPLACEMENT CHARACTER.\n"
     ]
    },
    {
     "name": "stdout",
     "output_type": "stream",
     "text": [
      "[+] NEW Total External links: 372\n",
      "[+] NEW Total Internal links: 578\n",
      "[+] NEW Total: 950\n",
      "[+] NEW Total External links: 372\n",
      "[+] NEW Total Internal links: 578\n",
      "[+] NEW Total: 950\n"
     ]
    },
    {
     "name": "stderr",
     "output_type": "stream",
     "text": [
      "Some characters could not be decoded, and were replaced with REPLACEMENT CHARACTER.\n"
     ]
    },
    {
     "name": "stdout",
     "output_type": "stream",
     "text": [
      "[+] NEW Total External links: 372\n",
      "[+] NEW Total Internal links: 578\n",
      "[+] NEW Total: 950\n"
     ]
    },
    {
     "name": "stderr",
     "output_type": "stream",
     "text": [
      "Some characters could not be decoded, and were replaced with REPLACEMENT CHARACTER.\n"
     ]
    },
    {
     "name": "stdout",
     "output_type": "stream",
     "text": [
      "[+] NEW Total External links: 372\n",
      "[+] NEW Total Internal links: 578\n",
      "[+] NEW Total: 950\n",
      "[INT] Internal link: http://covid19.sonoma.edu/updates/june-30-pay-warrant-distribution\n",
      "[INT] Internal link: http://covid19.sonoma.edu/updates/plan-phased-staffing-announced\n",
      "[INT] Internal link: http://covid19.sonoma.edu/updates/june-15-live-pay-warrant-distribution\n",
      "[INT] Internal link: http://covid19.sonoma.edu/updates/direct-deposit-statements-suspended\n",
      "[INT] Internal link: http://covid19.sonoma.edu/updates/president-announces-extension-temporary-telecommuting\n",
      "[INT] Internal link: http://covid19.sonoma.edu/updates/temporary-processing-changes-extended\n",
      "[INT] Internal link: http://covid19.sonoma.edu/updates/presidents-message-regarding-chancellors-statement-fall-2020\n",
      "[INT] Internal link: http://covid19.sonoma.edu/updates/reminder-regarding-may-15-pay-warrant-distribution\n",
      "[INT] Internal link: http://covid19.sonoma.edu/updates/phishing-criminals-stealing-direct-deposit-payments\n",
      "[+] NEW Total External links: 372\n",
      "[+] NEW Total Internal links: 587\n",
      "[+] NEW Total: 959\n",
      "[+] NEW Total External links: 372\n",
      "[+] NEW Total Internal links: 587\n",
      "[+] NEW Total: 959\n"
     ]
    },
    {
     "name": "stderr",
     "output_type": "stream",
     "text": [
      "Some characters could not be decoded, and were replaced with REPLACEMENT CHARACTER.\n"
     ]
    },
    {
     "name": "stdout",
     "output_type": "stream",
     "text": [
      "[+] NEW Total External links: 372\n",
      "[+] NEW Total Internal links: 587\n",
      "[+] NEW Total: 959\n",
      "[+] NEW Total External links: 375\n",
      "[+] NEW Total Internal links: 587\n",
      "[+] NEW Total: 962\n",
      "[+] NEW Total External links: 380\n",
      "[+] NEW Total Internal links: 587\n",
      "[+] NEW Total: 967\n"
     ]
    },
    {
     "name": "stderr",
     "output_type": "stream",
     "text": [
      "Some characters could not be decoded, and were replaced with REPLACEMENT CHARACTER.\n"
     ]
    },
    {
     "name": "stdout",
     "output_type": "stream",
     "text": [
      "[+] NEW Total External links: 380\n",
      "[+] NEW Total Internal links: 587\n",
      "[+] NEW Total: 967\n",
      "[+] NEW Total External links: 380\n",
      "[+] NEW Total Internal links: 587\n",
      "[+] NEW Total: 967\n",
      "[+] NEW Total External links: 380\n",
      "[+] NEW Total Internal links: 587\n",
      "[+] NEW Total: 967\n",
      "[+] NEW Total External links: 382\n",
      "[+] NEW Total Internal links: 587\n",
      "[+] NEW Total: 969\n"
     ]
    },
    {
     "name": "stderr",
     "output_type": "stream",
     "text": [
      "Some characters could not be decoded, and were replaced with REPLACEMENT CHARACTER.\n"
     ]
    },
    {
     "name": "stdout",
     "output_type": "stream",
     "text": [
      "[+] NEW Total External links: 382\n",
      "[+] NEW Total Internal links: 587\n",
      "[+] NEW Total: 969\n",
      "[+] NEW Total External links: 382\n",
      "[+] NEW Total Internal links: 587\n",
      "[+] NEW Total: 969\n",
      "[+] NEW Total External links: 382\n",
      "[+] NEW Total Internal links: 587\n",
      "[+] NEW Total: 969\n"
     ]
    },
    {
     "name": "stderr",
     "output_type": "stream",
     "text": [
      "Some characters could not be decoded, and were replaced with REPLACEMENT CHARACTER.\n"
     ]
    },
    {
     "name": "stdout",
     "output_type": "stream",
     "text": [
      "[+] NEW Total External links: 382\n",
      "[+] NEW Total Internal links: 587\n",
      "[+] NEW Total: 969\n",
      "[+] NEW Total External links: 382\n",
      "[+] NEW Total Internal links: 587\n",
      "[+] NEW Total: 969\n",
      "[+] NEW Total External links: 382\n",
      "[+] NEW Total Internal links: 587\n",
      "[+] NEW Total: 969\n",
      "[+] NEW Total External links: 382\n",
      "[+] NEW Total Internal links: 587\n",
      "[+] NEW Total: 969\n"
     ]
    },
    {
     "name": "stderr",
     "output_type": "stream",
     "text": [
      "Some characters could not be decoded, and were replaced with REPLACEMENT CHARACTER.\n"
     ]
    },
    {
     "name": "stdout",
     "output_type": "stream",
     "text": [
      "[+] NEW Total External links: 382\n",
      "[+] NEW Total Internal links: 587\n",
      "[+] NEW Total: 969\n"
     ]
    },
    {
     "name": "stderr",
     "output_type": "stream",
     "text": [
      "Some characters could not be decoded, and were replaced with REPLACEMENT CHARACTER.\n"
     ]
    },
    {
     "name": "stdout",
     "output_type": "stream",
     "text": [
      "[+] NEW Total External links: 382\n",
      "[+] NEW Total Internal links: 587\n",
      "[+] NEW Total: 969\n",
      "[+] NEW Total External links: 382\n",
      "[+] NEW Total Internal links: 587\n",
      "[+] NEW Total: 969\n",
      "99 2\n",
      "[+] NEW Total External links: 382\n",
      "[+] NEW Total Internal links: 587\n",
      "[+] NEW Total: 969\n",
      "[+] NEW Total External links: 382\n",
      "[+] NEW Total Internal links: 587\n",
      "[+] NEW Total: 969\n"
     ]
    },
    {
     "name": "stderr",
     "output_type": "stream",
     "text": [
      "Some characters could not be decoded, and were replaced with REPLACEMENT CHARACTER.\n"
     ]
    },
    {
     "name": "stdout",
     "output_type": "stream",
     "text": [
      "[+] NEW Total External links: 382\n",
      "[+] NEW Total Internal links: 587\n",
      "[+] NEW Total: 969\n"
     ]
    },
    {
     "name": "stderr",
     "output_type": "stream",
     "text": [
      "Some characters could not be decoded, and were replaced with REPLACEMENT CHARACTER.\n"
     ]
    },
    {
     "name": "stdout",
     "output_type": "stream",
     "text": [
      "[+] NEW Total External links: 382\n",
      "[+] NEW Total Internal links: 587\n",
      "[+] NEW Total: 969\n",
      "[+] NEW Total External links: 382\n",
      "[+] NEW Total Internal links: 587\n",
      "[+] NEW Total: 969\n",
      "[+] NEW Total External links: 382\n",
      "[+] NEW Total Internal links: 587\n",
      "[+] NEW Total: 969\n"
     ]
    },
    {
     "name": "stderr",
     "output_type": "stream",
     "text": [
      "Some characters could not be decoded, and were replaced with REPLACEMENT CHARACTER.\n"
     ]
    },
    {
     "name": "stdout",
     "output_type": "stream",
     "text": [
      "[+] NEW Total External links: 382\n",
      "[+] NEW Total Internal links: 587\n",
      "[+] NEW Total: 969\n",
      "[+] NEW Total External links: 382\n",
      "[+] NEW Total Internal links: 587\n",
      "[+] NEW Total: 969\n"
     ]
    },
    {
     "name": "stderr",
     "output_type": "stream",
     "text": [
      "Some characters could not be decoded, and were replaced with REPLACEMENT CHARACTER.\n"
     ]
    },
    {
     "name": "stdout",
     "output_type": "stream",
     "text": [
      "[+] NEW Total External links: 382\n",
      "[+] NEW Total Internal links: 587\n",
      "[+] NEW Total: 969\n"
     ]
    },
    {
     "name": "stderr",
     "output_type": "stream",
     "text": [
      "Some characters could not be decoded, and were replaced with REPLACEMENT CHARACTER.\n"
     ]
    },
    {
     "name": "stdout",
     "output_type": "stream",
     "text": [
      "[+] NEW Total External links: 382\n",
      "[+] NEW Total Internal links: 587\n",
      "[+] NEW Total: 969\n"
     ]
    },
    {
     "name": "stderr",
     "output_type": "stream",
     "text": [
      "Some characters could not be decoded, and were replaced with REPLACEMENT CHARACTER.\n"
     ]
    },
    {
     "name": "stdout",
     "output_type": "stream",
     "text": [
      "[+] NEW Total External links: 382\n",
      "[+] NEW Total Internal links: 587\n",
      "[+] NEW Total: 969\n",
      "[INT] Internal link: http://covid19.sonoma.edu/sites/covid19/files/covid-19_telecommuting_request_summary.xlsx\n",
      "[+] NEW Total External links: 382\n",
      "[+] NEW Total Internal links: 588\n",
      "[+] NEW Total: 970\n",
      "[+] NEW Total External links: 382\n",
      "[+] NEW Total Internal links: 588\n",
      "[+] NEW Total: 970\n",
      "[+] NEW Total External links: 382\n",
      "[+] NEW Total Internal links: 588\n",
      "[+] NEW Total: 970\n"
     ]
    },
    {
     "name": "stderr",
     "output_type": "stream",
     "text": [
      "Some characters could not be decoded, and were replaced with REPLACEMENT CHARACTER.\n"
     ]
    },
    {
     "name": "stdout",
     "output_type": "stream",
     "text": [
      "[+] NEW Total External links: 382\n",
      "[+] NEW Total Internal links: 588\n",
      "[+] NEW Total: 970\n",
      "[+] NEW Total External links: 382\n",
      "[+] NEW Total Internal links: 588\n",
      "[+] NEW Total: 970\n",
      "[+] NEW Total External links: 382\n",
      "[+] NEW Total Internal links: 588\n",
      "[+] NEW Total: 970\n"
     ]
    },
    {
     "name": "stderr",
     "output_type": "stream",
     "text": [
      "Some characters could not be decoded, and were replaced with REPLACEMENT CHARACTER.\n"
     ]
    },
    {
     "name": "stdout",
     "output_type": "stream",
     "text": [
      "[+] NEW Total External links: 382\n",
      "[+] NEW Total Internal links: 588\n",
      "[+] NEW Total: 970\n"
     ]
    },
    {
     "name": "stderr",
     "output_type": "stream",
     "text": [
      "Some characters could not be decoded, and were replaced with REPLACEMENT CHARACTER.\n"
     ]
    },
    {
     "name": "stdout",
     "output_type": "stream",
     "text": [
      "[+] NEW Total External links: 382\n",
      "[+] NEW Total Internal links: 588\n",
      "[+] NEW Total: 970\n",
      "[+] NEW Total External links: 382\n",
      "[+] NEW Total Internal links: 588\n",
      "[+] NEW Total: 970\n"
     ]
    },
    {
     "name": "stderr",
     "output_type": "stream",
     "text": [
      "Some characters could not be decoded, and were replaced with REPLACEMENT CHARACTER.\n"
     ]
    },
    {
     "name": "stdout",
     "output_type": "stream",
     "text": [
      "[+] NEW Total External links: 382\n",
      "[+] NEW Total Internal links: 588\n",
      "[+] NEW Total: 970\n",
      "[+] NEW Total External links: 382\n",
      "[+] NEW Total Internal links: 588\n",
      "[+] NEW Total: 970\n",
      "[+] NEW Total External links: 382\n",
      "[+] NEW Total Internal links: 588\n",
      "[+] NEW Total: 970\n",
      "[+] NEW Total External links: 382\n",
      "[+] NEW Total Internal links: 588\n",
      "[+] NEW Total: 970\n",
      "[+] NEW Total External links: 382\n",
      "[+] NEW Total Internal links: 588\n",
      "[+] NEW Total: 970\n"
     ]
    },
    {
     "name": "stderr",
     "output_type": "stream",
     "text": [
      "Some characters could not be decoded, and were replaced with REPLACEMENT CHARACTER.\n"
     ]
    },
    {
     "name": "stdout",
     "output_type": "stream",
     "text": [
      "[+] NEW Total External links: 382\n",
      "[+] NEW Total Internal links: 588\n",
      "[+] NEW Total: 970\n"
     ]
    },
    {
     "name": "stderr",
     "output_type": "stream",
     "text": [
      "Some characters could not be decoded, and were replaced with REPLACEMENT CHARACTER.\n"
     ]
    },
    {
     "name": "stdout",
     "output_type": "stream",
     "text": [
      "[+] NEW Total External links: 382\n",
      "[+] NEW Total Internal links: 588\n",
      "[+] NEW Total: 970\n",
      "[+] NEW Total External links: 382\n",
      "[+] NEW Total Internal links: 588\n",
      "[+] NEW Total: 970\n",
      "[+] NEW Total External links: 382\n",
      "[+] NEW Total Internal links: 588\n",
      "[+] NEW Total: 970\n",
      "[+] NEW Total External links: 382\n",
      "[+] NEW Total Internal links: 588\n",
      "[+] NEW Total: 970\n",
      "[+] NEW Total External links: 382\n",
      "[+] NEW Total Internal links: 588\n",
      "[+] NEW Total: 970\n"
     ]
    },
    {
     "name": "stderr",
     "output_type": "stream",
     "text": [
      "Some characters could not be decoded, and were replaced with REPLACEMENT CHARACTER.\n"
     ]
    },
    {
     "name": "stdout",
     "output_type": "stream",
     "text": [
      "[+] NEW Total External links: 382\n",
      "[+] NEW Total Internal links: 588\n",
      "[+] NEW Total: 970\n"
     ]
    },
    {
     "name": "stderr",
     "output_type": "stream",
     "text": [
      "Some characters could not be decoded, and were replaced with REPLACEMENT CHARACTER.\n"
     ]
    },
    {
     "name": "stdout",
     "output_type": "stream",
     "text": [
      "[+] NEW Total External links: 382\n",
      "[+] NEW Total Internal links: 588\n",
      "[+] NEW Total: 970\n"
     ]
    },
    {
     "name": "stderr",
     "output_type": "stream",
     "text": [
      "Some characters could not be decoded, and were replaced with REPLACEMENT CHARACTER.\n"
     ]
    },
    {
     "name": "stdout",
     "output_type": "stream",
     "text": [
      "[+] NEW Total External links: 382\n",
      "[+] NEW Total Internal links: 588\n",
      "[+] NEW Total: 970\n",
      "[+] NEW Total External links: 382\n",
      "[+] NEW Total Internal links: 588\n",
      "[+] NEW Total: 970\n"
     ]
    },
    {
     "name": "stderr",
     "output_type": "stream",
     "text": [
      "Some characters could not be decoded, and were replaced with REPLACEMENT CHARACTER.\n"
     ]
    },
    {
     "name": "stdout",
     "output_type": "stream",
     "text": [
      "[+] NEW Total External links: 382\n",
      "[+] NEW Total Internal links: 588\n",
      "[+] NEW Total: 970\n",
      "[+] NEW Total External links: 382\n",
      "[+] NEW Total Internal links: 588\n",
      "[+] NEW Total: 970\n",
      "[+] NEW Total External links: 382\n",
      "[+] NEW Total Internal links: 588\n",
      "[+] NEW Total: 970\n",
      "[+] NEW Total External links: 382\n",
      "[+] NEW Total Internal links: 588\n",
      "[+] NEW Total: 970\n"
     ]
    },
    {
     "name": "stderr",
     "output_type": "stream",
     "text": [
      "Some characters could not be decoded, and were replaced with REPLACEMENT CHARACTER.\n"
     ]
    },
    {
     "name": "stdout",
     "output_type": "stream",
     "text": [
      "[+] NEW Total External links: 382\n",
      "[+] NEW Total Internal links: 588\n",
      "[+] NEW Total: 970\n",
      "[+] NEW Total External links: 382\n",
      "[+] NEW Total Internal links: 588\n",
      "[+] NEW Total: 970\n",
      "[+] NEW Total External links: 382\n",
      "[+] NEW Total Internal links: 588\n",
      "[+] NEW Total: 970\n",
      "[+] NEW Total External links: 382\n",
      "[+] NEW Total Internal links: 588\n",
      "[+] NEW Total: 970\n"
     ]
    },
    {
     "name": "stderr",
     "output_type": "stream",
     "text": [
      "Some characters could not be decoded, and were replaced with REPLACEMENT CHARACTER.\n"
     ]
    },
    {
     "name": "stdout",
     "output_type": "stream",
     "text": [
      "[+] NEW Total External links: 382\n",
      "[+] NEW Total Internal links: 588\n",
      "[+] NEW Total: 970\n",
      "[+] NEW Total External links: 382\n",
      "[+] NEW Total Internal links: 588\n",
      "[+] NEW Total: 970\n",
      "[+] NEW Total External links: 382\n",
      "[+] NEW Total Internal links: 588\n",
      "[+] NEW Total: 970\n"
     ]
    },
    {
     "name": "stderr",
     "output_type": "stream",
     "text": [
      "Some characters could not be decoded, and were replaced with REPLACEMENT CHARACTER.\n"
     ]
    },
    {
     "name": "stdout",
     "output_type": "stream",
     "text": [
      "[+] NEW Total External links: 382\n",
      "[+] NEW Total Internal links: 588\n",
      "[+] NEW Total: 970\n",
      "[+] NEW Total External links: 382\n",
      "[+] NEW Total Internal links: 588\n",
      "[+] NEW Total: 970\n",
      "[+] NEW Total External links: 382\n",
      "[+] NEW Total Internal links: 588\n",
      "[+] NEW Total: 970\n",
      "[+] NEW Total External links: 382\n",
      "[+] NEW Total Internal links: 588\n",
      "[+] NEW Total: 970\n"
     ]
    },
    {
     "name": "stderr",
     "output_type": "stream",
     "text": [
      "Some characters could not be decoded, and were replaced with REPLACEMENT CHARACTER.\n"
     ]
    },
    {
     "name": "stdout",
     "output_type": "stream",
     "text": [
      "[+] NEW Total External links: 382\n",
      "[+] NEW Total Internal links: 588\n",
      "[+] NEW Total: 970\n",
      "[+] NEW Total External links: 382\n",
      "[+] NEW Total Internal links: 588\n",
      "[+] NEW Total: 970\n",
      "[+] NEW Total External links: 382\n",
      "[+] NEW Total Internal links: 588\n",
      "[+] NEW Total: 970\n",
      "[+] NEW Total External links: 382\n",
      "[+] NEW Total Internal links: 588\n",
      "[+] NEW Total: 970\n",
      "[+] NEW Total External links: 382\n",
      "[+] NEW Total Internal links: 588\n",
      "[+] NEW Total: 970\n",
      "[+] NEW Total External links: 382\n",
      "[+] NEW Total Internal links: 588\n",
      "[+] NEW Total: 970\n",
      "[+] NEW Total External links: 382\n",
      "[+] NEW Total Internal links: 588\n",
      "[+] NEW Total: 970\n",
      "[+] NEW Total External links: 382\n",
      "[+] NEW Total Internal links: 588\n",
      "[+] NEW Total: 970\n",
      "[+] NEW Total External links: 382\n",
      "[+] NEW Total Internal links: 588\n",
      "[+] NEW Total: 970\n",
      "[+] NEW Total External links: 382\n",
      "[+] NEW Total Internal links: 588\n",
      "[+] NEW Total: 970\n",
      "[+] NEW Total External links: 382\n",
      "[+] NEW Total Internal links: 588\n",
      "[+] NEW Total: 970\n"
     ]
    },
    {
     "name": "stderr",
     "output_type": "stream",
     "text": [
      "Some characters could not be decoded, and were replaced with REPLACEMENT CHARACTER.\n"
     ]
    },
    {
     "name": "stdout",
     "output_type": "stream",
     "text": [
      "[+] NEW Total External links: 382\n",
      "[+] NEW Total Internal links: 588\n",
      "[+] NEW Total: 970\n"
     ]
    },
    {
     "name": "stderr",
     "output_type": "stream",
     "text": [
      "Some characters could not be decoded, and were replaced with REPLACEMENT CHARACTER.\n"
     ]
    },
    {
     "name": "stdout",
     "output_type": "stream",
     "text": [
      "[+] NEW Total External links: 382\n",
      "[+] NEW Total Internal links: 588\n",
      "[+] NEW Total: 970\n",
      "[+] NEW Total External links: 382\n",
      "[+] NEW Total Internal links: 588\n",
      "[+] NEW Total: 970\n",
      "[+] NEW Total External links: 382\n",
      "[+] NEW Total Internal links: 588\n",
      "[+] NEW Total: 970\n",
      "[+] NEW Total External links: 382\n",
      "[+] NEW Total Internal links: 588\n",
      "[+] NEW Total: 970\n"
     ]
    },
    {
     "name": "stderr",
     "output_type": "stream",
     "text": [
      "Some characters could not be decoded, and were replaced with REPLACEMENT CHARACTER.\n"
     ]
    },
    {
     "name": "stdout",
     "output_type": "stream",
     "text": [
      "[+] NEW Total External links: 382\n",
      "[+] NEW Total Internal links: 588\n",
      "[+] NEW Total: 970\n",
      "[+] NEW Total External links: 382\n",
      "[+] NEW Total Internal links: 588\n",
      "[+] NEW Total: 970\n",
      "[+] NEW Total External links: 382\n",
      "[+] NEW Total Internal links: 588\n",
      "[+] NEW Total: 970\n"
     ]
    },
    {
     "name": "stderr",
     "output_type": "stream",
     "text": [
      "Some characters could not be decoded, and were replaced with REPLACEMENT CHARACTER.\n"
     ]
    },
    {
     "name": "stdout",
     "output_type": "stream",
     "text": [
      "[+] NEW Total External links: 382\n",
      "[+] NEW Total Internal links: 588\n",
      "[+] NEW Total: 970\n"
     ]
    },
    {
     "name": "stderr",
     "output_type": "stream",
     "text": [
      "Some characters could not be decoded, and were replaced with REPLACEMENT CHARACTER.\n"
     ]
    },
    {
     "name": "stdout",
     "output_type": "stream",
     "text": [
      "[+] NEW Total External links: 382\n",
      "[+] NEW Total Internal links: 588\n",
      "[+] NEW Total: 970\n",
      "[+] NEW Total External links: 382\n",
      "[+] NEW Total Internal links: 588\n",
      "[+] NEW Total: 970\n",
      "[+] NEW Total External links: 382\n",
      "[+] NEW Total Internal links: 588\n",
      "[+] NEW Total: 970\n",
      "[+] NEW Total External links: 382\n",
      "[+] NEW Total Internal links: 588\n",
      "[+] NEW Total: 970\n"
     ]
    },
    {
     "name": "stderr",
     "output_type": "stream",
     "text": [
      "Some characters could not be decoded, and were replaced with REPLACEMENT CHARACTER.\n"
     ]
    },
    {
     "name": "stdout",
     "output_type": "stream",
     "text": [
      "[+] NEW Total External links: 382\n",
      "[+] NEW Total Internal links: 588\n",
      "[+] NEW Total: 970\n",
      "[+] NEW Total External links: 382\n",
      "[+] NEW Total Internal links: 588\n",
      "[+] NEW Total: 970\n",
      "[+] NEW Total External links: 382\n",
      "[+] NEW Total Internal links: 588\n",
      "[+] NEW Total: 970\n"
     ]
    },
    {
     "name": "stderr",
     "output_type": "stream",
     "text": [
      "Some characters could not be decoded, and were replaced with REPLACEMENT CHARACTER.\n"
     ]
    },
    {
     "name": "stdout",
     "output_type": "stream",
     "text": [
      "[+] NEW Total External links: 382\n",
      "[+] NEW Total Internal links: 588\n",
      "[+] NEW Total: 970\n"
     ]
    },
    {
     "name": "stderr",
     "output_type": "stream",
     "text": [
      "Some characters could not be decoded, and were replaced with REPLACEMENT CHARACTER.\n"
     ]
    },
    {
     "name": "stdout",
     "output_type": "stream",
     "text": [
      "[+] NEW Total External links: 382\n",
      "[+] NEW Total Internal links: 588\n",
      "[+] NEW Total: 970\n"
     ]
    },
    {
     "name": "stderr",
     "output_type": "stream",
     "text": [
      "Some characters could not be decoded, and were replaced with REPLACEMENT CHARACTER.\n"
     ]
    },
    {
     "name": "stdout",
     "output_type": "stream",
     "text": [
      "[+] NEW Total External links: 382\n",
      "[+] NEW Total Internal links: 588\n",
      "[+] NEW Total: 970\n",
      "[+] NEW Total External links: 382\n",
      "[+] NEW Total Internal links: 588\n",
      "[+] NEW Total: 970\n",
      "[+] NEW Total External links: 382\n",
      "[+] NEW Total Internal links: 588\n",
      "[+] NEW Total: 970\n"
     ]
    },
    {
     "name": "stderr",
     "output_type": "stream",
     "text": [
      "Some characters could not be decoded, and were replaced with REPLACEMENT CHARACTER.\n"
     ]
    },
    {
     "name": "stdout",
     "output_type": "stream",
     "text": [
      "[+] NEW Total External links: 382\n",
      "[+] NEW Total Internal links: 588\n",
      "[+] NEW Total: 970\n",
      "[+] NEW Total External links: 382\n",
      "[+] NEW Total Internal links: 588\n",
      "[+] NEW Total: 970\n"
     ]
    },
    {
     "name": "stderr",
     "output_type": "stream",
     "text": [
      "Some characters could not be decoded, and were replaced with REPLACEMENT CHARACTER.\n"
     ]
    },
    {
     "name": "stdout",
     "output_type": "stream",
     "text": [
      "caught\n",
      "[+] NEW Total External links: 382\n",
      "[+] NEW Total Internal links: 588\n",
      "[+] NEW Total: 970\n",
      "[+] NEW Total External links: 382\n",
      "[+] NEW Total Internal links: 588\n",
      "[+] NEW Total: 970\n",
      "[+] NEW Total External links: 382\n",
      "[+] NEW Total Internal links: 588\n",
      "[+] NEW Total: 970\n"
     ]
    },
    {
     "name": "stderr",
     "output_type": "stream",
     "text": [
      "Some characters could not be decoded, and were replaced with REPLACEMENT CHARACTER.\n"
     ]
    },
    {
     "name": "stdout",
     "output_type": "stream",
     "text": [
      "[+] NEW Total External links: 382\n",
      "[+] NEW Total Internal links: 588\n",
      "[+] NEW Total: 970\n",
      "[+] NEW Total External links: 382\n",
      "[+] NEW Total Internal links: 588\n",
      "[+] NEW Total: 970\n"
     ]
    },
    {
     "name": "stderr",
     "output_type": "stream",
     "text": [
      "Some characters could not be decoded, and were replaced with REPLACEMENT CHARACTER.\n"
     ]
    },
    {
     "name": "stdout",
     "output_type": "stream",
     "text": [
      "[+] NEW Total External links: 382\n",
      "[+] NEW Total Internal links: 588\n",
      "[+] NEW Total: 970\n"
     ]
    },
    {
     "name": "stderr",
     "output_type": "stream",
     "text": [
      "Some characters could not be decoded, and were replaced with REPLACEMENT CHARACTER.\n"
     ]
    },
    {
     "name": "stdout",
     "output_type": "stream",
     "text": [
      "[+] NEW Total External links: 382\n",
      "[+] NEW Total Internal links: 588\n",
      "[+] NEW Total: 970\n",
      "[+] NEW Total External links: 382\n",
      "[+] NEW Total Internal links: 588\n",
      "[+] NEW Total: 970\n",
      "[+] NEW Total External links: 382\n",
      "[+] NEW Total Internal links: 588\n",
      "[+] NEW Total: 970\n",
      "[+] NEW Total External links: 382\n",
      "[+] NEW Total Internal links: 588\n",
      "[+] NEW Total: 970\n",
      "[+] NEW Total External links: 382\n",
      "[+] NEW Total Internal links: 588\n",
      "[+] NEW Total: 970\n",
      "[+] NEW Total External links: 382\n",
      "[+] NEW Total Internal links: 588\n",
      "[+] NEW Total: 970\n",
      "[+] NEW Total External links: 382\n",
      "[+] NEW Total Internal links: 588\n",
      "[+] NEW Total: 970\n",
      "[+] NEW Total External links: 382\n",
      "[+] NEW Total Internal links: 588\n",
      "[+] NEW Total: 970\n",
      "[+] NEW Total External links: 382\n",
      "[+] NEW Total Internal links: 588\n",
      "[+] NEW Total: 970\n",
      "100 3\n",
      "[+] NEW Total External links: 382\n",
      "[+] NEW Total Internal links: 588\n",
      "[+] NEW Total: 970\n",
      "[+] NEW Total External links: 382\n",
      "[+] NEW Total Internal links: 588\n",
      "[+] NEW Total: 970\n"
     ]
    },
    {
     "name": "stderr",
     "output_type": "stream",
     "text": [
      "Some characters could not be decoded, and were replaced with REPLACEMENT CHARACTER.\n"
     ]
    },
    {
     "name": "stdout",
     "output_type": "stream",
     "text": [
      "[+] NEW Total External links: 382\n",
      "[+] NEW Total Internal links: 588\n",
      "[+] NEW Total: 970\n"
     ]
    },
    {
     "name": "stderr",
     "output_type": "stream",
     "text": [
      "Some characters could not be decoded, and were replaced with REPLACEMENT CHARACTER.\n"
     ]
    },
    {
     "name": "stdout",
     "output_type": "stream",
     "text": [
      "[+] NEW Total External links: 382\n",
      "[+] NEW Total Internal links: 588\n",
      "[+] NEW Total: 970\n",
      "[+] NEW Total External links: 382\n",
      "[+] NEW Total Internal links: 588\n",
      "[+] NEW Total: 970\n",
      "[+] NEW Total External links: 382\n",
      "[+] NEW Total Internal links: 588\n",
      "[+] NEW Total: 970\n"
     ]
    },
    {
     "name": "stderr",
     "output_type": "stream",
     "text": [
      "Some characters could not be decoded, and were replaced with REPLACEMENT CHARACTER.\n"
     ]
    },
    {
     "name": "stdout",
     "output_type": "stream",
     "text": [
      "[+] NEW Total External links: 382\n",
      "[+] NEW Total Internal links: 588\n",
      "[+] NEW Total: 970\n",
      "[+] NEW Total External links: 382\n",
      "[+] NEW Total Internal links: 588\n",
      "[+] NEW Total: 970\n"
     ]
    },
    {
     "name": "stderr",
     "output_type": "stream",
     "text": [
      "Some characters could not be decoded, and were replaced with REPLACEMENT CHARACTER.\n"
     ]
    },
    {
     "name": "stdout",
     "output_type": "stream",
     "text": [
      "[+] NEW Total External links: 382\n",
      "[+] NEW Total Internal links: 588\n",
      "[+] NEW Total: 970\n"
     ]
    },
    {
     "name": "stderr",
     "output_type": "stream",
     "text": [
      "Some characters could not be decoded, and were replaced with REPLACEMENT CHARACTER.\n"
     ]
    },
    {
     "name": "stdout",
     "output_type": "stream",
     "text": [
      "[+] NEW Total External links: 382\n",
      "[+] NEW Total Internal links: 588\n",
      "[+] NEW Total: 970\n"
     ]
    },
    {
     "name": "stderr",
     "output_type": "stream",
     "text": [
      "Some characters could not be decoded, and were replaced with REPLACEMENT CHARACTER.\n"
     ]
    },
    {
     "name": "stdout",
     "output_type": "stream",
     "text": [
      "[+] NEW Total External links: 382\n",
      "[+] NEW Total Internal links: 588\n",
      "[+] NEW Total: 970\n",
      "[+] NEW Total External links: 382\n",
      "[+] NEW Total Internal links: 588\n",
      "[+] NEW Total: 970\n",
      "[+] NEW Total External links: 382\n",
      "[+] NEW Total Internal links: 588\n",
      "[+] NEW Total: 970\n",
      "[+] NEW Total External links: 382\n",
      "[+] NEW Total Internal links: 588\n",
      "[+] NEW Total: 970\n"
     ]
    },
    {
     "name": "stderr",
     "output_type": "stream",
     "text": [
      "Some characters could not be decoded, and were replaced with REPLACEMENT CHARACTER.\n"
     ]
    },
    {
     "name": "stdout",
     "output_type": "stream",
     "text": [
      "[+] NEW Total External links: 382\n",
      "[+] NEW Total Internal links: 588\n",
      "[+] NEW Total: 970\n",
      "[+] NEW Total External links: 382\n",
      "[+] NEW Total Internal links: 588\n",
      "[+] NEW Total: 970\n",
      "[INT] Internal link: http://covid19.sonoma.edu/return-to-campus/workplace-accommodation\n",
      "[+] NEW Total External links: 382\n",
      "[+] NEW Total Internal links: 589\n",
      "[+] NEW Total: 971\n"
     ]
    },
    {
     "name": "stderr",
     "output_type": "stream",
     "text": [
      "Some characters could not be decoded, and were replaced with REPLACEMENT CHARACTER.\n"
     ]
    },
    {
     "name": "stdout",
     "output_type": "stream",
     "text": [
      "[+] NEW Total External links: 382\n",
      "[+] NEW Total Internal links: 589\n",
      "[+] NEW Total: 971\n"
     ]
    },
    {
     "name": "stderr",
     "output_type": "stream",
     "text": [
      "Some characters could not be decoded, and were replaced with REPLACEMENT CHARACTER.\n"
     ]
    },
    {
     "name": "stdout",
     "output_type": "stream",
     "text": [
      "[+] NEW Total External links: 382\n",
      "[+] NEW Total Internal links: 589\n",
      "[+] NEW Total: 971\n",
      "[+] NEW Total External links: 382\n",
      "[+] NEW Total Internal links: 589\n",
      "[+] NEW Total: 971\n"
     ]
    },
    {
     "name": "stderr",
     "output_type": "stream",
     "text": [
      "Some characters could not be decoded, and were replaced with REPLACEMENT CHARACTER.\n"
     ]
    },
    {
     "name": "stdout",
     "output_type": "stream",
     "text": [
      "[+] NEW Total External links: 382\n",
      "[+] NEW Total Internal links: 589\n",
      "[+] NEW Total: 971\n",
      "[+] NEW Total External links: 382\n",
      "[+] NEW Total Internal links: 589\n",
      "[+] NEW Total: 971\n",
      "[+] NEW Total External links: 382\n",
      "[+] NEW Total Internal links: 589\n",
      "[+] NEW Total: 971\n",
      "[+] NEW Total External links: 383\n",
      "[+] NEW Total Internal links: 589\n",
      "[+] NEW Total: 972\n",
      "[+] NEW Total External links: 383\n",
      "[+] NEW Total Internal links: 589\n",
      "[+] NEW Total: 972\n"
     ]
    },
    {
     "name": "stderr",
     "output_type": "stream",
     "text": [
      "Some characters could not be decoded, and were replaced with REPLACEMENT CHARACTER.\n"
     ]
    },
    {
     "name": "stdout",
     "output_type": "stream",
     "text": [
      "[+] NEW Total External links: 383\n",
      "[+] NEW Total Internal links: 589\n",
      "[+] NEW Total: 972\n"
     ]
    },
    {
     "name": "stderr",
     "output_type": "stream",
     "text": [
      "Some characters could not be decoded, and were replaced with REPLACEMENT CHARACTER.\n"
     ]
    },
    {
     "name": "stdout",
     "output_type": "stream",
     "text": [
      "[+] NEW Total External links: 383\n",
      "[+] NEW Total Internal links: 589\n",
      "[+] NEW Total: 972\n",
      "[+] NEW Total External links: 383\n",
      "[+] NEW Total Internal links: 589\n",
      "[+] NEW Total: 972\n",
      "[INT] Internal link: https://covid19.sonoma.edu/return-to-campus/workplace-accommodation\n",
      "[+] NEW Total External links: 383\n",
      "[+] NEW Total Internal links: 590\n",
      "[+] NEW Total: 973\n",
      "[+] NEW Total External links: 383\n",
      "[+] NEW Total Internal links: 590\n",
      "[+] NEW Total: 973\n",
      "[+] NEW Total External links: 383\n",
      "[+] NEW Total Internal links: 590\n",
      "[+] NEW Total: 973\n"
     ]
    },
    {
     "name": "stderr",
     "output_type": "stream",
     "text": [
      "Some characters could not be decoded, and were replaced with REPLACEMENT CHARACTER.\n"
     ]
    },
    {
     "name": "stdout",
     "output_type": "stream",
     "text": [
      "[+] NEW Total External links: 383\n",
      "[+] NEW Total Internal links: 590\n",
      "[+] NEW Total: 973\n"
     ]
    },
    {
     "name": "stderr",
     "output_type": "stream",
     "text": [
      "Some characters could not be decoded, and were replaced with REPLACEMENT CHARACTER.\n"
     ]
    },
    {
     "name": "stdout",
     "output_type": "stream",
     "text": [
      "[+] NEW Total External links: 383\n",
      "[+] NEW Total Internal links: 590\n",
      "[+] NEW Total: 973\n"
     ]
    },
    {
     "name": "stderr",
     "output_type": "stream",
     "text": [
      "Some characters could not be decoded, and were replaced with REPLACEMENT CHARACTER.\n"
     ]
    },
    {
     "name": "stdout",
     "output_type": "stream",
     "text": [
      "[+] NEW Total External links: 383\n",
      "[+] NEW Total Internal links: 590\n",
      "[+] NEW Total: 973\n",
      "[+] NEW Total External links: 383\n",
      "[+] NEW Total Internal links: 590\n",
      "[+] NEW Total: 973\n"
     ]
    },
    {
     "name": "stderr",
     "output_type": "stream",
     "text": [
      "Some characters could not be decoded, and were replaced with REPLACEMENT CHARACTER.\n"
     ]
    },
    {
     "name": "stdout",
     "output_type": "stream",
     "text": [
      "[+] NEW Total External links: 383\n",
      "[+] NEW Total Internal links: 590\n",
      "[+] NEW Total: 973\n",
      "[+] NEW Total External links: 384\n",
      "[+] NEW Total Internal links: 590\n",
      "[+] NEW Total: 974\n",
      "[+] NEW Total External links: 384\n",
      "[+] NEW Total Internal links: 590\n",
      "[+] NEW Total: 974\n",
      "[+] NEW Total External links: 384\n",
      "[+] NEW Total Internal links: 590\n",
      "[+] NEW Total: 974\n"
     ]
    },
    {
     "name": "stderr",
     "output_type": "stream",
     "text": [
      "Some characters could not be decoded, and were replaced with REPLACEMENT CHARACTER.\n"
     ]
    },
    {
     "name": "stdout",
     "output_type": "stream",
     "text": [
      "[+] NEW Total External links: 384\n",
      "[+] NEW Total Internal links: 590\n",
      "[+] NEW Total: 974\n",
      "[+] NEW Total External links: 384\n",
      "[+] NEW Total Internal links: 590\n",
      "[+] NEW Total: 974\n",
      "[+] NEW Total External links: 384\n",
      "[+] NEW Total Internal links: 590\n",
      "[+] NEW Total: 974\n",
      "[+] NEW Total External links: 384\n",
      "[+] NEW Total Internal links: 590\n",
      "[+] NEW Total: 974\n"
     ]
    },
    {
     "name": "stderr",
     "output_type": "stream",
     "text": [
      "Some characters could not be decoded, and were replaced with REPLACEMENT CHARACTER.\n"
     ]
    },
    {
     "name": "stdout",
     "output_type": "stream",
     "text": [
      "[+] NEW Total External links: 384\n",
      "[+] NEW Total Internal links: 590\n",
      "[+] NEW Total: 974\n",
      "[+] NEW Total External links: 384\n",
      "[+] NEW Total Internal links: 590\n",
      "[+] NEW Total: 974\n",
      "[+] NEW Total External links: 384\n",
      "[+] NEW Total Internal links: 590\n",
      "[+] NEW Total: 974\n"
     ]
    },
    {
     "name": "stderr",
     "output_type": "stream",
     "text": [
      "Some characters could not be decoded, and were replaced with REPLACEMENT CHARACTER.\n"
     ]
    },
    {
     "name": "stdout",
     "output_type": "stream",
     "text": [
      "[+] NEW Total External links: 384\n",
      "[+] NEW Total Internal links: 590\n",
      "[+] NEW Total: 974\n",
      "[+] NEW Total External links: 384\n",
      "[+] NEW Total Internal links: 590\n",
      "[+] NEW Total: 974\n",
      "[+] NEW Total External links: 384\n",
      "[+] NEW Total Internal links: 590\n",
      "[+] NEW Total: 974\n",
      "[+] NEW Total External links: 384\n",
      "[+] NEW Total Internal links: 590\n",
      "[+] NEW Total: 974\n"
     ]
    },
    {
     "name": "stderr",
     "output_type": "stream",
     "text": [
      "Some characters could not be decoded, and were replaced with REPLACEMENT CHARACTER.\n"
     ]
    },
    {
     "name": "stdout",
     "output_type": "stream",
     "text": [
      "[+] NEW Total External links: 384\n",
      "[+] NEW Total Internal links: 590\n",
      "[+] NEW Total: 974\n",
      "[+] NEW Total External links: 384\n",
      "[+] NEW Total Internal links: 590\n",
      "[+] NEW Total: 974\n",
      "[+] NEW Total External links: 384\n",
      "[+] NEW Total Internal links: 590\n",
      "[+] NEW Total: 974\n",
      "[+] NEW Total External links: 384\n",
      "[+] NEW Total Internal links: 590\n",
      "[+] NEW Total: 974\n",
      "[+] NEW Total External links: 384\n",
      "[+] NEW Total Internal links: 590\n",
      "[+] NEW Total: 974\n",
      "[+] NEW Total External links: 384\n",
      "[+] NEW Total Internal links: 590\n",
      "[+] NEW Total: 974\n",
      "[+] NEW Total External links: 384\n",
      "[+] NEW Total Internal links: 590\n",
      "[+] NEW Total: 974\n"
     ]
    },
    {
     "name": "stderr",
     "output_type": "stream",
     "text": [
      "Some characters could not be decoded, and were replaced with REPLACEMENT CHARACTER.\n"
     ]
    },
    {
     "name": "stdout",
     "output_type": "stream",
     "text": [
      "[+] NEW Total External links: 384\n",
      "[+] NEW Total Internal links: 590\n",
      "[+] NEW Total: 974\n",
      "[+] NEW Total External links: 384\n",
      "[+] NEW Total Internal links: 590\n",
      "[+] NEW Total: 974\n",
      "[+] NEW Total External links: 384\n",
      "[+] NEW Total Internal links: 590\n",
      "[+] NEW Total: 974\n",
      "[+] NEW Total External links: 384\n",
      "[+] NEW Total Internal links: 590\n",
      "[+] NEW Total: 974\n",
      "[+] NEW Total External links: 384\n",
      "[+] NEW Total Internal links: 590\n",
      "[+] NEW Total: 974\n"
     ]
    },
    {
     "name": "stderr",
     "output_type": "stream",
     "text": [
      "Some characters could not be decoded, and were replaced with REPLACEMENT CHARACTER.\n"
     ]
    },
    {
     "name": "stdout",
     "output_type": "stream",
     "text": [
      "[+] NEW Total External links: 384\n",
      "[+] NEW Total Internal links: 590\n",
      "[+] NEW Total: 974\n"
     ]
    },
    {
     "name": "stderr",
     "output_type": "stream",
     "text": [
      "Some characters could not be decoded, and were replaced with REPLACEMENT CHARACTER.\n"
     ]
    },
    {
     "name": "stdout",
     "output_type": "stream",
     "text": [
      "[+] NEW Total External links: 384\n",
      "[+] NEW Total Internal links: 590\n",
      "[+] NEW Total: 974\n",
      "[+] NEW Total External links: 384\n",
      "[+] NEW Total Internal links: 590\n",
      "[+] NEW Total: 974\n",
      "[+] NEW Total External links: 384\n",
      "[+] NEW Total Internal links: 590\n",
      "[+] NEW Total: 974\n",
      "[+] NEW Total External links: 384\n",
      "[+] NEW Total Internal links: 590\n",
      "[+] NEW Total: 974\n"
     ]
    },
    {
     "name": "stderr",
     "output_type": "stream",
     "text": [
      "Some characters could not be decoded, and were replaced with REPLACEMENT CHARACTER.\n"
     ]
    },
    {
     "name": "stdout",
     "output_type": "stream",
     "text": [
      "[+] NEW Total External links: 384\n",
      "[+] NEW Total Internal links: 590\n",
      "[+] NEW Total: 974\n",
      "[+] NEW Total External links: 384\n",
      "[+] NEW Total Internal links: 590\n",
      "[+] NEW Total: 974\n",
      "[+] NEW Total External links: 384\n",
      "[+] NEW Total Internal links: 590\n",
      "[+] NEW Total: 974\n"
     ]
    },
    {
     "name": "stderr",
     "output_type": "stream",
     "text": [
      "Some characters could not be decoded, and were replaced with REPLACEMENT CHARACTER.\n"
     ]
    },
    {
     "name": "stdout",
     "output_type": "stream",
     "text": [
      "[+] NEW Total External links: 384\n",
      "[+] NEW Total Internal links: 590\n",
      "[+] NEW Total: 974\n"
     ]
    },
    {
     "name": "stderr",
     "output_type": "stream",
     "text": [
      "Some characters could not be decoded, and were replaced with REPLACEMENT CHARACTER.\n"
     ]
    },
    {
     "name": "stdout",
     "output_type": "stream",
     "text": [
      "[+] NEW Total External links: 384\n",
      "[+] NEW Total Internal links: 590\n",
      "[+] NEW Total: 974\n",
      "[+] NEW Total External links: 384\n",
      "[+] NEW Total Internal links: 590\n",
      "[+] NEW Total: 974\n",
      "[+] NEW Total External links: 384\n",
      "[+] NEW Total Internal links: 590\n",
      "[+] NEW Total: 974\n",
      "[+] NEW Total External links: 384\n",
      "[+] NEW Total Internal links: 590\n",
      "[+] NEW Total: 974\n"
     ]
    },
    {
     "name": "stderr",
     "output_type": "stream",
     "text": [
      "Some characters could not be decoded, and were replaced with REPLACEMENT CHARACTER.\n"
     ]
    },
    {
     "name": "stdout",
     "output_type": "stream",
     "text": [
      "[+] NEW Total External links: 384\n",
      "[+] NEW Total Internal links: 590\n",
      "[+] NEW Total: 974\n",
      "[+] NEW Total External links: 384\n",
      "[+] NEW Total Internal links: 590\n",
      "[+] NEW Total: 974\n",
      "[+] NEW Total External links: 384\n",
      "[+] NEW Total Internal links: 590\n",
      "[+] NEW Total: 974\n"
     ]
    },
    {
     "name": "stderr",
     "output_type": "stream",
     "text": [
      "Some characters could not be decoded, and were replaced with REPLACEMENT CHARACTER.\n"
     ]
    },
    {
     "name": "stdout",
     "output_type": "stream",
     "text": [
      "[+] NEW Total External links: 384\n",
      "[+] NEW Total Internal links: 590\n",
      "[+] NEW Total: 974\n"
     ]
    },
    {
     "name": "stderr",
     "output_type": "stream",
     "text": [
      "Some characters could not be decoded, and were replaced with REPLACEMENT CHARACTER.\n"
     ]
    },
    {
     "name": "stdout",
     "output_type": "stream",
     "text": [
      "[+] NEW Total External links: 384\n",
      "[+] NEW Total Internal links: 590\n",
      "[+] NEW Total: 974\n"
     ]
    },
    {
     "name": "stderr",
     "output_type": "stream",
     "text": [
      "Some characters could not be decoded, and were replaced with REPLACEMENT CHARACTER.\n"
     ]
    },
    {
     "name": "stdout",
     "output_type": "stream",
     "text": [
      "[+] NEW Total External links: 384\n",
      "[+] NEW Total Internal links: 590\n",
      "[+] NEW Total: 974\n",
      "[+] NEW Total External links: 384\n",
      "[+] NEW Total Internal links: 590\n",
      "[+] NEW Total: 974\n",
      "[+] NEW Total External links: 384\n",
      "[+] NEW Total Internal links: 590\n",
      "[+] NEW Total: 974\n"
     ]
    },
    {
     "name": "stderr",
     "output_type": "stream",
     "text": [
      "Some characters could not be decoded, and were replaced with REPLACEMENT CHARACTER.\n"
     ]
    },
    {
     "name": "stdout",
     "output_type": "stream",
     "text": [
      "[+] NEW Total External links: 384\n",
      "[+] NEW Total Internal links: 590\n",
      "[+] NEW Total: 974\n",
      "[+] NEW Total External links: 384\n",
      "[+] NEW Total Internal links: 590\n",
      "[+] NEW Total: 974\n"
     ]
    },
    {
     "name": "stderr",
     "output_type": "stream",
     "text": [
      "Some characters could not be decoded, and were replaced with REPLACEMENT CHARACTER.\n"
     ]
    },
    {
     "name": "stdout",
     "output_type": "stream",
     "text": [
      "caught\n",
      "[+] NEW Total External links: 384\n",
      "[+] NEW Total Internal links: 590\n",
      "[+] NEW Total: 974\n",
      "[+] NEW Total External links: 384\n",
      "[+] NEW Total Internal links: 590\n",
      "[+] NEW Total: 974\n",
      "[+] NEW Total External links: 384\n",
      "[+] NEW Total Internal links: 590\n",
      "[+] NEW Total: 974\n"
     ]
    },
    {
     "name": "stderr",
     "output_type": "stream",
     "text": [
      "Some characters could not be decoded, and were replaced with REPLACEMENT CHARACTER.\n"
     ]
    },
    {
     "name": "stdout",
     "output_type": "stream",
     "text": [
      "[+] NEW Total External links: 384\n",
      "[+] NEW Total Internal links: 590\n",
      "[+] NEW Total: 974\n",
      "[+] NEW Total External links: 384\n",
      "[+] NEW Total Internal links: 590\n",
      "[+] NEW Total: 974\n"
     ]
    },
    {
     "name": "stderr",
     "output_type": "stream",
     "text": [
      "Some characters could not be decoded, and were replaced with REPLACEMENT CHARACTER.\n"
     ]
    },
    {
     "name": "stdout",
     "output_type": "stream",
     "text": [
      "[+] NEW Total External links: 384\n",
      "[+] NEW Total Internal links: 590\n",
      "[+] NEW Total: 974\n"
     ]
    },
    {
     "name": "stderr",
     "output_type": "stream",
     "text": [
      "Some characters could not be decoded, and were replaced with REPLACEMENT CHARACTER.\n"
     ]
    },
    {
     "name": "stdout",
     "output_type": "stream",
     "text": [
      "[+] NEW Total External links: 384\n",
      "[+] NEW Total Internal links: 590\n",
      "[+] NEW Total: 974\n",
      "[+] NEW Total External links: 384\n",
      "[+] NEW Total Internal links: 590\n",
      "[+] NEW Total: 974\n",
      "[+] NEW Total External links: 384\n",
      "[+] NEW Total Internal links: 590\n",
      "[+] NEW Total: 974\n",
      "[+] NEW Total External links: 384\n",
      "[+] NEW Total Internal links: 590\n",
      "[+] NEW Total: 974\n",
      "[+] NEW Total External links: 384\n",
      "[+] NEW Total Internal links: 590\n",
      "[+] NEW Total: 974\n",
      "[+] NEW Total External links: 384\n",
      "[+] NEW Total Internal links: 590\n",
      "[+] NEW Total: 974\n",
      "[+] NEW Total External links: 384\n",
      "[+] NEW Total Internal links: 590\n",
      "[+] NEW Total: 974\n",
      "[+] NEW Total External links: 384\n",
      "[+] NEW Total Internal links: 590\n",
      "[+] NEW Total: 974\n",
      "[+] NEW Total External links: 384\n",
      "[+] NEW Total Internal links: 590\n",
      "[+] NEW Total: 974\n",
      "https://covid19.sonoma.edu/updates\n",
      "https://covid19.sonoma.edu/updates/covid-19-telecommuting-requests-guidance-appropriate-administrators\n",
      "https://covid19.sonoma.edu/sites/covid19/files/_zoom_bg_osborne_preserve_trail.png\n",
      "https://covid19.sonoma.edu/sites/covid19/files/_zoom_bg_galbreath_preserve_valley.png\n",
      "http://covid19.sonoma.edu/updates/phishing-criminals-stealing-direct-deposit-payments\n",
      "http://covid19.sonoma.edu/chancellor-white-statement-on-fall-2020\n",
      "https://covid19.sonoma.edu/sites/covid19/files/main-walkway-20-073_campus_zoom_backgrounds.jpg\n",
      "http://covid19.sonoma.edu/csu-chancellors-office\n",
      "https://covid19.sonoma.edu/sites/covid19/files/living-room20-073_campus_zoom_backgrounds.jpg\n",
      "https://covid19.sonoma.edu/sites/covid19/files/_zoom_bg_beaujolais_village.jpg\n",
      "https://covid19.sonoma.edu/sites/covid19/files/beaujolais-20-073_campus_zoom_backgrounds_logo.jpg\n",
      "http://covid19.sonoma.edu/updates/covid-19-telecommuting-requests-guidance-appropriate-administrators\n",
      "http://covid19.sonoma.edu/updates/reminder-regarding-may-15-pay-warrant-distribution\n",
      "http://covid19.sonoma.edu/students-faq/csu-cares-student-grants\n",
      "https://covid19.sonoma.edu/sites/covid19/files/_zoom_bg_library_roof.jpg\n",
      "https://covid19.sonoma.edu/students-faq\n",
      "http://covid19.sonoma.edu/return-to-campus/campus-facilities\n",
      "https://covid19.sonoma.edu/sites/covid19/files/_zoom_bg_student_center.jpg\n",
      "https://covid19.sonoma.edu/sites/covid19/files/big-nite-20-073_campus_zoom_backgrounds_logo.jpg\n",
      "https://covid19.sonoma.edu/updates/message-president-fall-2020-update\n",
      "https://covid19.sonoma.edu/sites/covid19/files/_zoom_bg_darwin_hall_sunset.jpg\n",
      "http://covid19.sonoma.edu/updates/plan-phased-staffing-announced\n",
      "http://covid19.sonoma.edu/return-to-campus\n",
      "https://covid19.sonoma.edu/return-to-campus/physical-safety\n",
      "http://covid19.sonoma.edu/all-employees-faq\n",
      "http://covid19.sonoma.edu/updates/message-president-fall-2020-update\n",
      "https://covid19.sonoma.edu/sites/covid19/files/campus-lakes-20-073_campus_zoom_backgrounds.jpg\n",
      "https://covid19.sonoma.edu/sites/covid19/files/music-ed-bldg-20-073_campus_zoom_backgrounds.jpg\n",
      "https://covid19.sonoma.edu/updates/reminder-regarding-may-15-pay-warrant-distribution\n",
      "https://covid19.sonoma.edu/return-to-campus/campus-facilities\n",
      "https://covid19.sonoma.edu/students-faq/csu-cares-student-grants\n",
      "https://covid19.sonoma.edu/return-to-campus/covid-19-reporting\n",
      "https://covid19.sonoma.edu/sites/covid19/files/_zoom_bg_lakes_w_geese.jpg\n",
      "https://covid19.sonoma.edu/sites/covid19/files/schulz-info-center-20-073_campus_zoom_backgrounds.jpg\n",
      "https://covid19.sonoma.edu/sites/covid19/files/_zoom_bg_weill_hall_courtyard.jpg\n",
      "http://covid19.sonoma.edu/updates/president-announces-extension-temporary-telecommuting\n",
      "https://covid19.sonoma.edu/sites/covid19/files/_zoom_bg_environmental_technology_center.jpg\n",
      "https://covid19.sonoma.edu/return-to-campus/workplace-accomodation\n",
      "https://covid19.sonoma.edu/return-to-campus\n",
      "https://covid19.sonoma.edu/updates/june-30-pay-warrant-distribution\n",
      "http://covid19.sonoma.edu/return-to-campus/travel-and-procurement\n",
      "https://covid19.sonoma.edu/sites/covid19/files/stevenson-quad-20-073_campus_zoom_backgrounds.jpg\n",
      "https://covid19.sonoma.edu/all-employees-faq\n",
      "https://covid19.sonoma.edu/home\n",
      "https://covid19.sonoma.edu/sites/covid19/files/student-center1-20-073_campus_zoom_backgrounds.jpg\n",
      "https://covid19.sonoma.edu/health-wellness\n",
      "http://covid19.sonoma.edu/return-to-campus/contractors-suppliers\n",
      "https://covid19.sonoma.edu/sites/covid19/files/_zoom_bg_osborne_preserve_creek.png\n",
      "http://covid19.sonoma.edu/student-emergency-grants\n",
      "http://covid19.sonoma.edu/updates/presidents-message-regarding-chancellors-statement-fall-2020\n",
      "http://covid19.sonoma.edu/return-to-campus/covid-19-reporting\n",
      "https://covid19.sonoma.edu/sites/covid19/files/fall-leaves-20-073_campus_zoom_backgrounds.jpg\n",
      "http://covid19.sonoma.edu/updates/temporary-processing-changes-extended\n",
      "https://covid19.sonoma.edu/updates/plan-phased-staffing-announced\n",
      "https://covid19.sonoma.edu/zoom-backgrounds\n",
      "http://covid19.sonoma.edu/return-to-campus/working-on-campus\n",
      "https://covid19.sonoma.edu/faculty-faq\n",
      "http://covid19.sonoma.edu/students-faq\n",
      "http://covid19.sonoma.edu/sites/covid19/files/covid-19_telecommuting_request_summary.xlsx\n",
      "https://covid19.sonoma.edu/updates/temporary-processing-changes-extended\n",
      "https://covid19.sonoma.edu/csu-chancellors-office\n",
      "http://covid19.sonoma.edu/updates/june-15-live-pay-warrant-distribution\n",
      "https://covid19.sonoma.edu/updates/presidents-message-regarding-chancellors-statement-fall-2020\n",
      "https://covid19.sonoma.edu/sites/covid19/files/grape-vines-wslc-20-073_campus_zoom_backgrounds.jpg\n",
      "https://covid19.sonoma.edu/sites/covid19/files/_zoom_bg_stevenson_quad.jpg\n",
      "https://covid19.sonoma.edu/updates/june-15-live-pay-warrant-distribution\n",
      "https://covid19.sonoma.edu/updates/president-announces-extension-temporary-telecommuting\n",
      "https://covid19.sonoma.edu/sites/covid19/files/zinfandel-20-073_campus_zoom_backgrounds_logo.jpg\n",
      "http://covid19.sonoma.edu/updates/message-vice-president-sawyer-fully-remote-semester-and-commencement-postponement\n",
      "http://covid19.sonoma.edu/updates/direct-deposit-statements-suspended\n",
      "https://covid19.sonoma.edu/sites/covid19/files/darwin-walkway-20-073_campus_zoom_backgrounds.jpg\n",
      "https://covid19.sonoma.edu/sites/covid19/files/lobo-grad-20-073_campus_zoom_backgrounds.jpg\n",
      "https://covid19.sonoma.edu/return-to-campus/travel-and-procurement\n",
      "http://covid19.sonoma.edu/updates/important-post-spring-break-message-faculty-students-and-staff\n",
      "http://covid19.sonoma.edu/updates/june-30-pay-warrant-distribution\n",
      "https://covid19.sonoma.edu/sites/covid19/files/_zoom_bg_lakes_path.jpg\n",
      "http://covid19.sonoma.edu/updates/ssu-covid-19-social-distancing-protocol-may-7-update\n",
      "http://covid19.sonoma.edu/faculty-faq\n",
      "https://covid19.sonoma.edu/sites/covid19/files/covid-19_telecommuting_request_summary.xlsx\n",
      "https://covid19.sonoma.edu/sites/covid19/files/north-entrance-20-073_campus_zoom_backgrounds.jpg\n",
      "https://covid19.sonoma.edu/sites/covid19/files/_zoom_bg_galbreath_preserve_pool.png\n",
      "https://covid19.sonoma.edu/student-emergency-grants\n",
      "https://covid19.sonoma.edu/\n",
      "https://covid19.sonoma.edu/sites/covid19/files/student-center2-20-073_campus_zoom_backgrounds.jpg\n",
      "https://covid19.sonoma.edu/updates/phishing-criminals-stealing-direct-deposit-payments\n",
      "https://covid19.sonoma.edu/sites/covid19/files/green-music-center-aerial-20-073_campus_zoom_backgrounds.jpg\n",
      "http://covid19.sonoma.edu/return-to-campus/physical-safety\n",
      "https://covid19.sonoma.edu/return-to-campus/contractors-suppliers\n",
      "https://covid19.sonoma.edu/sites/covid19/files/_zoom_bg_galbreath_preserve_field.png\n",
      "http://covid19.sonoma.edu/return-to-campus/workplace-accomodation\n",
      "https://covid19.sonoma.edu/sites/covid19/files/_zoom_bg_the_library.jpg\n",
      "https://covid19.sonoma.edu/sites/covid19/files/green-music-center-20-073_campus_zoom_backgrounds_logo.jpg\n",
      "http://covid19.sonoma.edu/health-wellness\n",
      "http://covid19.sonoma.edu/updates\n",
      "http://covid19.sonoma.edu/\n",
      "https://covid19.sonoma.edu/updates/ssu-covid-19-social-distancing-protocol-may-7-update\n",
      "https://covid19.sonoma.edu/chancellor-white-statement-on-fall-2020\n",
      "http://covid19.sonoma.edu/home\n",
      "https://covid19.sonoma.edu/updates/direct-deposit-statements-suspended\n",
      "https://covid19.sonoma.edu/return-to-campus/working-on-campus\n",
      "100\n",
      "https://covid19.sonoma.edu/updates\n",
      "https://covid19.sonoma.edu/updates/covid-19-telecommuting-requests-guidance-appropriate-administrators\n",
      "https://covid19.sonoma.edu/sites/covid19/files/_zoom_bg_osborne_preserve_trail.png\n",
      "https://covid19.sonoma.edu/sites/covid19/files/_zoom_bg_galbreath_preserve_valley.png\n",
      "http://covid19.sonoma.edu/updates/phishing-criminals-stealing-direct-deposit-payments\n",
      "http://covid19.sonoma.edu/chancellor-white-statement-on-fall-2020\n",
      "https://covid19.sonoma.edu/sites/covid19/files/main-walkway-20-073_campus_zoom_backgrounds.jpg\n",
      "http://covid19.sonoma.edu/csu-chancellors-office\n",
      "https://covid19.sonoma.edu/sites/covid19/files/living-room20-073_campus_zoom_backgrounds.jpg\n",
      "https://covid19.sonoma.edu/sites/covid19/files/_zoom_bg_beaujolais_village.jpg\n",
      "https://covid19.sonoma.edu/sites/covid19/files/beaujolais-20-073_campus_zoom_backgrounds_logo.jpg\n",
      "http://covid19.sonoma.edu/updates/covid-19-telecommuting-requests-guidance-appropriate-administrators\n",
      "http://covid19.sonoma.edu/updates/reminder-regarding-may-15-pay-warrant-distribution\n",
      "http://covid19.sonoma.edu/students-faq/csu-cares-student-grants\n",
      "https://covid19.sonoma.edu/sites/covid19/files/_zoom_bg_library_roof.jpg\n",
      "https://covid19.sonoma.edu/students-faq\n",
      "http://covid19.sonoma.edu/return-to-campus/campus-facilities\n",
      "https://covid19.sonoma.edu/sites/covid19/files/_zoom_bg_student_center.jpg\n",
      "https://covid19.sonoma.edu/sites/covid19/files/big-nite-20-073_campus_zoom_backgrounds_logo.jpg\n",
      "https://covid19.sonoma.edu/updates/message-president-fall-2020-update\n",
      "https://covid19.sonoma.edu/sites/covid19/files/_zoom_bg_darwin_hall_sunset.jpg\n",
      "http://covid19.sonoma.edu/updates/plan-phased-staffing-announced\n",
      "http://covid19.sonoma.edu/return-to-campus\n",
      "http://covid19.sonoma.edu/all-employees-faq\n",
      "http://covid19.sonoma.edu/updates/message-president-fall-2020-update\n",
      "https://covid19.sonoma.edu/sites/covid19/files/campus-lakes-20-073_campus_zoom_backgrounds.jpg\n",
      "https://covid19.sonoma.edu/sites/covid19/files/music-ed-bldg-20-073_campus_zoom_backgrounds.jpg\n",
      "https://covid19.sonoma.edu/updates/reminder-regarding-may-15-pay-warrant-distribution\n",
      "https://covid19.sonoma.edu/return-to-campus/campus-facilities\n",
      "https://covid19.sonoma.edu/students-faq/csu-cares-student-grants\n",
      "https://covid19.sonoma.edu/return-to-campus/covid-19-reporting\n",
      "https://covid19.sonoma.edu/sites/covid19/files/_zoom_bg_lakes_w_geese.jpg\n",
      "https://covid19.sonoma.edu/sites/covid19/files/schulz-info-center-20-073_campus_zoom_backgrounds.jpg\n",
      "https://covid19.sonoma.edu/sites/covid19/files/_zoom_bg_weill_hall_courtyard.jpg\n",
      "http://covid19.sonoma.edu/updates/president-announces-extension-temporary-telecommuting\n",
      "https://covid19.sonoma.edu/sites/covid19/files/_zoom_bg_environmental_technology_center.jpg\n",
      "https://covid19.sonoma.edu/return-to-campus/workplace-accomodation\n",
      "https://covid19.sonoma.edu/return-to-campus\n",
      "https://covid19.sonoma.edu/updates/june-30-pay-warrant-distribution\n",
      "https://covid19.sonoma.edu/sites/covid19/files/stevenson-quad-20-073_campus_zoom_backgrounds.jpg\n",
      "http://covid19.sonoma.edu/return-to-campus/travel-and-procurement\n",
      "https://covid19.sonoma.edu/all-employees-faq\n",
      "https://covid19.sonoma.edu/home\n",
      "https://covid19.sonoma.edu/sites/covid19/files/student-center1-20-073_campus_zoom_backgrounds.jpg\n",
      "https://covid19.sonoma.edu/health-wellness\n",
      "http://covid19.sonoma.edu/return-to-campus/contractors-suppliers\n",
      "https://covid19.sonoma.edu/sites/covid19/files/_zoom_bg_osborne_preserve_creek.png\n",
      "http://covid19.sonoma.edu/student-emergency-grants\n",
      "http://covid19.sonoma.edu/updates/presidents-message-regarding-chancellors-statement-fall-2020\n",
      "http://covid19.sonoma.edu/return-to-campus/covid-19-reporting\n",
      "https://covid19.sonoma.edu/sites/covid19/files/fall-leaves-20-073_campus_zoom_backgrounds.jpg\n",
      "http://covid19.sonoma.edu/updates/temporary-processing-changes-extended\n",
      "https://covid19.sonoma.edu/updates/plan-phased-staffing-announced\n",
      "https://covid19.sonoma.edu/zoom-backgrounds\n",
      "http://covid19.sonoma.edu/return-to-campus/working-on-campus\n",
      "https://covid19.sonoma.edu/faculty-faq\n",
      "http://covid19.sonoma.edu/students-faq\n",
      "http://covid19.sonoma.edu/sites/covid19/files/covid-19_telecommuting_request_summary.xlsx\n",
      "https://covid19.sonoma.edu/updates/temporary-processing-changes-extended\n",
      "https://covid19.sonoma.edu/csu-chancellors-office\n",
      "http://covid19.sonoma.edu/updates/june-15-live-pay-warrant-distribution\n",
      "https://covid19.sonoma.edu/updates/presidents-message-regarding-chancellors-statement-fall-2020\n",
      "https://covid19.sonoma.edu/sites/covid19/files/grape-vines-wslc-20-073_campus_zoom_backgrounds.jpg\n",
      "https://covid19.sonoma.edu/sites/covid19/files/_zoom_bg_stevenson_quad.jpg\n",
      "https://covid19.sonoma.edu/return-to-campus/working-on-campus\n",
      "https://covid19.sonoma.edu/updates/june-15-live-pay-warrant-distribution\n",
      "https://covid19.sonoma.edu/updates/president-announces-extension-temporary-telecommuting\n",
      "https://covid19.sonoma.edu/sites/covid19/files/zinfandel-20-073_campus_zoom_backgrounds_logo.jpg\n",
      "http://covid19.sonoma.edu/updates/message-vice-president-sawyer-fully-remote-semester-and-commencement-postponement\n",
      "http://covid19.sonoma.edu/updates/direct-deposit-statements-suspended\n",
      "https://covid19.sonoma.edu/sites/covid19/files/darwin-walkway-20-073_campus_zoom_backgrounds.jpg\n",
      "https://covid19.sonoma.edu/sites/covid19/files/lobo-grad-20-073_campus_zoom_backgrounds.jpg\n",
      "https://covid19.sonoma.edu/return-to-campus/travel-and-procurement\n",
      "http://covid19.sonoma.edu/updates/important-post-spring-break-message-faculty-students-and-staff\n",
      "http://covid19.sonoma.edu/updates/june-30-pay-warrant-distribution\n",
      "https://covid19.sonoma.edu/sites/covid19/files/_zoom_bg_lakes_path.jpg\n",
      "http://covid19.sonoma.edu/updates/ssu-covid-19-social-distancing-protocol-may-7-update\n",
      "http://covid19.sonoma.edu/faculty-faq\n",
      "https://covid19.sonoma.edu/sites/covid19/files/covid-19_telecommuting_request_summary.xlsx\n",
      "https://covid19.sonoma.edu/sites/covid19/files/north-entrance-20-073_campus_zoom_backgrounds.jpg\n",
      "https://covid19.sonoma.edu/sites/covid19/files/_zoom_bg_galbreath_preserve_pool.png\n",
      "https://covid19.sonoma.edu/student-emergency-grants\n",
      "https://covid19.sonoma.edu/\n",
      "https://covid19.sonoma.edu/sites/covid19/files/student-center2-20-073_campus_zoom_backgrounds.jpg\n",
      "https://covid19.sonoma.edu/updates/phishing-criminals-stealing-direct-deposit-payments\n",
      "https://covid19.sonoma.edu/sites/covid19/files/green-music-center-aerial-20-073_campus_zoom_backgrounds.jpg\n",
      "http://covid19.sonoma.edu/return-to-campus/physical-safety\n",
      "https://covid19.sonoma.edu/return-to-campus/contractors-suppliers\n",
      "https://covid19.sonoma.edu/sites/covid19/files/_zoom_bg_galbreath_preserve_field.png\n",
      "http://covid19.sonoma.edu/return-to-campus/workplace-accomodation\n",
      "https://covid19.sonoma.edu/sites/covid19/files/_zoom_bg_the_library.jpg\n",
      "https://covid19.sonoma.edu/sites/covid19/files/green-music-center-20-073_campus_zoom_backgrounds_logo.jpg\n",
      "http://covid19.sonoma.edu/health-wellness\n",
      "http://covid19.sonoma.edu/updates\n",
      "http://covid19.sonoma.edu/\n",
      "https://covid19.sonoma.edu/updates/ssu-covid-19-social-distancing-protocol-may-7-update\n",
      "https://covid19.sonoma.edu/chancellor-white-statement-on-fall-2020\n",
      "http://covid19.sonoma.edu/home\n",
      "https://covid19.sonoma.edu/updates/direct-deposit-statements-suspended\n",
      "https://covid19.sonoma.edu/return-to-campus/physical-safety\n",
      "100\n"
     ]
    },
    {
     "name": "stdout",
     "output_type": "stream",
     "text": [
      "200 can_save - https://covid19.sonoma.edu/updates\n",
      "200 can_save - https://covid19.sonoma.edu/updates/covid-19-telecommuting-requests-guidance-appropriate-administrators\n",
      "200 can_save - https://covid19.sonoma.edu/sites/covid19/files/_zoom_bg_osborne_preserve_trail.png\n",
      "200 can_save - https://covid19.sonoma.edu/sites/covid19/files/_zoom_bg_galbreath_preserve_valley.png\n",
      "200 can_save - http://covid19.sonoma.edu/updates/phishing-criminals-stealing-direct-deposit-payments\n",
      "200 can_save - http://covid19.sonoma.edu/chancellor-white-statement-on-fall-2020\n",
      "200 can_save - https://covid19.sonoma.edu/sites/covid19/files/main-walkway-20-073_campus_zoom_backgrounds.jpg\n",
      "200 can_save - http://covid19.sonoma.edu/csu-chancellors-office\n",
      "200 can_save - https://covid19.sonoma.edu/sites/covid19/files/living-room20-073_campus_zoom_backgrounds.jpg\n",
      "200 can_save - https://covid19.sonoma.edu/sites/covid19/files/_zoom_bg_beaujolais_village.jpg\n",
      "200 can_save - https://covid19.sonoma.edu/sites/covid19/files/beaujolais-20-073_campus_zoom_backgrounds_logo.jpg\n",
      "200 can_save - http://covid19.sonoma.edu/updates/covid-19-telecommuting-requests-guidance-appropriate-administrators\n",
      "200 can_save - http://covid19.sonoma.edu/updates/reminder-regarding-may-15-pay-warrant-distribution\n",
      "200 can_save - http://covid19.sonoma.edu/students-faq/csu-cares-student-grants\n",
      "200 can_save - https://covid19.sonoma.edu/sites/covid19/files/_zoom_bg_library_roof.jpg\n",
      "200 can_save - https://covid19.sonoma.edu/students-faq\n",
      "200 can_save - http://covid19.sonoma.edu/return-to-campus/campus-facilities\n",
      "200 can_save - https://covid19.sonoma.edu/sites/covid19/files/_zoom_bg_student_center.jpg\n",
      "200 can_save - https://covid19.sonoma.edu/sites/covid19/files/big-nite-20-073_campus_zoom_backgrounds_logo.jpg\n",
      "200 can_save - https://covid19.sonoma.edu/updates/message-president-fall-2020-update\n",
      "200 can_save - https://covid19.sonoma.edu/sites/covid19/files/_zoom_bg_darwin_hall_sunset.jpg\n",
      "200 can_save - http://covid19.sonoma.edu/updates/plan-phased-staffing-announced\n",
      "200 can_save - http://covid19.sonoma.edu/return-to-campus\n",
      "200 can_save - http://covid19.sonoma.edu/all-employees-faq\n",
      "200 can_save - http://covid19.sonoma.edu/updates/message-president-fall-2020-update\n",
      "200 can_save - https://covid19.sonoma.edu/sites/covid19/files/campus-lakes-20-073_campus_zoom_backgrounds.jpg\n",
      "200 can_save - https://covid19.sonoma.edu/sites/covid19/files/music-ed-bldg-20-073_campus_zoom_backgrounds.jpg\n",
      "200 can_save - https://covid19.sonoma.edu/updates/reminder-regarding-may-15-pay-warrant-distribution\n",
      "200 can_save - https://covid19.sonoma.edu/return-to-campus/campus-facilities\n",
      "200 can_save - https://covid19.sonoma.edu/students-faq/csu-cares-student-grants\n",
      "200 can_save - https://covid19.sonoma.edu/return-to-campus/covid-19-reporting\n",
      "200 can_save - https://covid19.sonoma.edu/sites/covid19/files/_zoom_bg_lakes_w_geese.jpg\n",
      "200 can_save - https://covid19.sonoma.edu/sites/covid19/files/schulz-info-center-20-073_campus_zoom_backgrounds.jpg\n",
      "200 can_save - https://covid19.sonoma.edu/sites/covid19/files/_zoom_bg_weill_hall_courtyard.jpg\n",
      "200 can_save - http://covid19.sonoma.edu/updates/president-announces-extension-temporary-telecommuting\n",
      "200 can_save - https://covid19.sonoma.edu/sites/covid19/files/_zoom_bg_environmental_technology_center.jpg\n",
      "discarded\n",
      "200 can_save - https://covid19.sonoma.edu/return-to-campus\n",
      "200 can_save - https://covid19.sonoma.edu/updates/june-30-pay-warrant-distribution\n",
      "200 can_save - https://covid19.sonoma.edu/sites/covid19/files/stevenson-quad-20-073_campus_zoom_backgrounds.jpg\n",
      "200 can_save - http://covid19.sonoma.edu/return-to-campus/travel-and-procurement\n",
      "200 can_save - https://covid19.sonoma.edu/all-employees-faq\n",
      "200 can_save - https://covid19.sonoma.edu/home\n",
      "200 can_save - https://covid19.sonoma.edu/sites/covid19/files/student-center1-20-073_campus_zoom_backgrounds.jpg\n",
      "200 can_save - https://covid19.sonoma.edu/health-wellness\n",
      "200 can_save - http://covid19.sonoma.edu/return-to-campus/contractors-suppliers\n",
      "200 can_save - https://covid19.sonoma.edu/sites/covid19/files/_zoom_bg_osborne_preserve_creek.png\n",
      "200 can_save - http://covid19.sonoma.edu/student-emergency-grants\n",
      "200 can_save - http://covid19.sonoma.edu/updates/presidents-message-regarding-chancellors-statement-fall-2020\n",
      "200 can_save - http://covid19.sonoma.edu/return-to-campus/covid-19-reporting\n",
      "200 can_save - https://covid19.sonoma.edu/sites/covid19/files/fall-leaves-20-073_campus_zoom_backgrounds.jpg\n",
      "200 can_save - http://covid19.sonoma.edu/updates/temporary-processing-changes-extended\n",
      "200 can_save - https://covid19.sonoma.edu/updates/plan-phased-staffing-announced\n",
      "200 can_save - https://covid19.sonoma.edu/zoom-backgrounds\n",
      "200 can_save - http://covid19.sonoma.edu/return-to-campus/working-on-campus\n",
      "200 can_save - https://covid19.sonoma.edu/faculty-faq\n",
      "200 can_save - http://covid19.sonoma.edu/students-faq\n",
      "200 can_save - http://covid19.sonoma.edu/sites/covid19/files/covid-19_telecommuting_request_summary.xlsx\n",
      "200 can_save - https://covid19.sonoma.edu/updates/temporary-processing-changes-extended\n",
      "200 can_save - https://covid19.sonoma.edu/csu-chancellors-office\n",
      "200 can_save - http://covid19.sonoma.edu/updates/june-15-live-pay-warrant-distribution\n",
      "200 can_save - https://covid19.sonoma.edu/updates/presidents-message-regarding-chancellors-statement-fall-2020\n",
      "200 can_save - https://covid19.sonoma.edu/sites/covid19/files/grape-vines-wslc-20-073_campus_zoom_backgrounds.jpg\n",
      "200 can_save - https://covid19.sonoma.edu/sites/covid19/files/_zoom_bg_stevenson_quad.jpg\n",
      "200 can_save - https://covid19.sonoma.edu/return-to-campus/working-on-campus\n",
      "200 can_save - https://covid19.sonoma.edu/updates/june-15-live-pay-warrant-distribution\n",
      "200 can_save - https://covid19.sonoma.edu/updates/president-announces-extension-temporary-telecommuting\n",
      "200 can_save - https://covid19.sonoma.edu/sites/covid19/files/zinfandel-20-073_campus_zoom_backgrounds_logo.jpg\n",
      "200 can_save - http://covid19.sonoma.edu/updates/message-vice-president-sawyer-fully-remote-semester-and-commencement-postponement\n",
      "200 can_save - http://covid19.sonoma.edu/updates/direct-deposit-statements-suspended\n",
      "200 can_save - https://covid19.sonoma.edu/sites/covid19/files/darwin-walkway-20-073_campus_zoom_backgrounds.jpg\n",
      "200 can_save - https://covid19.sonoma.edu/sites/covid19/files/lobo-grad-20-073_campus_zoom_backgrounds.jpg\n",
      "200 can_save - https://covid19.sonoma.edu/return-to-campus/travel-and-procurement\n",
      "200 can_save - http://covid19.sonoma.edu/updates/important-post-spring-break-message-faculty-students-and-staff\n",
      "200 can_save - http://covid19.sonoma.edu/updates/june-30-pay-warrant-distribution\n",
      "200 can_save - https://covid19.sonoma.edu/sites/covid19/files/_zoom_bg_lakes_path.jpg\n",
      "200 can_save - http://covid19.sonoma.edu/updates/ssu-covid-19-social-distancing-protocol-may-7-update\n",
      "200 can_save - http://covid19.sonoma.edu/faculty-faq\n",
      "200 can_save - https://covid19.sonoma.edu/sites/covid19/files/covid-19_telecommuting_request_summary.xlsx\n",
      "200 can_save - https://covid19.sonoma.edu/sites/covid19/files/north-entrance-20-073_campus_zoom_backgrounds.jpg\n",
      "200 can_save - https://covid19.sonoma.edu/sites/covid19/files/_zoom_bg_galbreath_preserve_pool.png\n",
      "200 can_save - https://covid19.sonoma.edu/student-emergency-grants\n",
      "200 can_save - https://covid19.sonoma.edu/\n",
      "200 can_save - https://covid19.sonoma.edu/sites/covid19/files/student-center2-20-073_campus_zoom_backgrounds.jpg\n",
      "200 can_save - https://covid19.sonoma.edu/updates/phishing-criminals-stealing-direct-deposit-payments\n",
      "200 can_save - https://covid19.sonoma.edu/sites/covid19/files/green-music-center-aerial-20-073_campus_zoom_backgrounds.jpg\n",
      "200 can_save - http://covid19.sonoma.edu/return-to-campus/physical-safety\n",
      "200 can_save - https://covid19.sonoma.edu/return-to-campus/contractors-suppliers\n",
      "200 can_save - https://covid19.sonoma.edu/sites/covid19/files/_zoom_bg_galbreath_preserve_field.png\n",
      "discarded\n",
      "200 can_save - https://covid19.sonoma.edu/sites/covid19/files/_zoom_bg_the_library.jpg\n",
      "200 can_save - https://covid19.sonoma.edu/sites/covid19/files/green-music-center-20-073_campus_zoom_backgrounds_logo.jpg\n",
      "200 can_save - http://covid19.sonoma.edu/health-wellness\n",
      "200 can_save - http://covid19.sonoma.edu/updates\n",
      "200 can_save - http://covid19.sonoma.edu/\n"
     ]
    },
    {
     "name": "stdout",
     "output_type": "stream",
     "text": [
      "200 can_save - https://covid19.sonoma.edu/updates/ssu-covid-19-social-distancing-protocol-may-7-update\n",
      "200 can_save - https://covid19.sonoma.edu/chancellor-white-statement-on-fall-2020\n",
      "200 can_save - http://covid19.sonoma.edu/home\n",
      "200 can_save - https://covid19.sonoma.edu/updates/direct-deposit-statements-suspended\n",
      "200 can_save - https://covid19.sonoma.edu/return-to-campus/physical-safety\n",
      "Webpages save as HTML :98\n",
      "Webpages unable to save as HTML :2\n",
      "Pdfs saved: 0\n",
      "100\n",
      "98\n",
      "1 of 98 - https://covid19.sonoma.edu/updates\n",
      "2 of 98 - https://covid19.sonoma.edu/updates/covid-19-telecommuting-requests-guidance-appropriate-administrators\n",
      "3 of 98 - https://covid19.sonoma.edu/sites/covid19/files/_zoom_bg_osborne_preserve_trail.png\n",
      "4 of 98 - https://covid19.sonoma.edu/home\n",
      "5 of 98 - https://covid19.sonoma.edu/sites/covid19/files/student-center1-20-073_campus_zoom_backgrounds.jpg\n",
      "6 of 98 - https://covid19.sonoma.edu/health-wellness\n",
      "7 of 98 - http://covid19.sonoma.edu/return-to-campus/contractors-suppliers\n",
      "8 of 98 - https://covid19.sonoma.edu/sites/covid19/files/_zoom_bg_galbreath_preserve_valley.png\n",
      "9 of 98 - http://covid19.sonoma.edu/updates/phishing-criminals-stealing-direct-deposit-payments\n",
      "10 of 98 - http://covid19.sonoma.edu/chancellor-white-statement-on-fall-2020\n",
      "11 of 98 - https://covid19.sonoma.edu/sites/covid19/files/_zoom_bg_osborne_preserve_creek.png\n",
      "12 of 98 - http://covid19.sonoma.edu/student-emergency-grants\n",
      "13 of 98 - http://covid19.sonoma.edu/return-to-campus/covid-19-reporting\n",
      "14 of 98 - https://covid19.sonoma.edu/sites/covid19/files/fall-leaves-20-073_campus_zoom_backgrounds.jpg\n",
      "15 of 98 - http://covid19.sonoma.edu/updates/temporary-processing-changes-extended\n",
      "16 of 98 - https://covid19.sonoma.edu/sites/covid19/files/main-walkway-20-073_campus_zoom_backgrounds.jpg\n",
      "17 of 98 - http://covid19.sonoma.edu/csu-chancellors-office\n",
      "18 of 98 - https://covid19.sonoma.edu/updates/plan-phased-staffing-announced\n",
      "19 of 98 - https://covid19.sonoma.edu/zoom-backgrounds\n",
      "20 of 98 - https://covid19.sonoma.edu/sites/covid19/files/living-room20-073_campus_zoom_backgrounds.jpg\n",
      "21 of 98 - http://covid19.sonoma.edu/return-to-campus/working-on-campus\n",
      "22 of 98 - https://covid19.sonoma.edu/faculty-faq\n",
      "23 of 98 - https://covid19.sonoma.edu/sites/covid19/files/_zoom_bg_beaujolais_village.jpg\n",
      "24 of 98 - http://covid19.sonoma.edu/students-faq\n",
      "25 of 98 - https://covid19.sonoma.edu/all-employees-faq\n",
      "26 of 98 - http://covid19.sonoma.edu/sites/covid19/files/covid-19_telecommuting_request_summary.xlsx\n",
      "27 of 98 - https://covid19.sonoma.edu/updates/temporary-processing-changes-extended\n",
      "28 of 98 - https://covid19.sonoma.edu/csu-chancellors-office\n",
      "29 of 98 - https://covid19.sonoma.edu/sites/covid19/files/beaujolais-20-073_campus_zoom_backgrounds_logo.jpg\n",
      "30 of 98 - http://covid19.sonoma.edu/updates/june-15-live-pay-warrant-distribution\n",
      "31 of 98 - https://covid19.sonoma.edu/updates/presidents-message-regarding-chancellors-statement-fall-2020\n",
      "32 of 98 - http://covid19.sonoma.edu/updates/covid-19-telecommuting-requests-guidance-appropriate-administrators\n",
      "33 of 98 - http://covid19.sonoma.edu/updates/reminder-regarding-may-15-pay-warrant-distribution\n",
      "34 of 98 - http://covid19.sonoma.edu/students-faq/csu-cares-student-grants\n",
      "35 of 98 - https://covid19.sonoma.edu/sites/covid19/files/stevenson-quad-20-073_campus_zoom_backgrounds.jpg\n",
      "36 of 98 - https://covid19.sonoma.edu/sites/covid19/files/_zoom_bg_library_roof.jpg\n",
      "37 of 98 - https://covid19.sonoma.edu/sites/covid19/files/grape-vines-wslc-20-073_campus_zoom_backgrounds.jpg\n",
      "38 of 98 - https://covid19.sonoma.edu/students-faq\n",
      "39 of 98 - http://covid19.sonoma.edu/return-to-campus/campus-facilities\n",
      "40 of 98 - https://covid19.sonoma.edu/sites/covid19/files/_zoom_bg_stevenson_quad.jpg\n",
      "41 of 98 - https://covid19.sonoma.edu/return-to-campus/working-on-campus\n",
      "42 of 98 - https://covid19.sonoma.edu/updates/june-15-live-pay-warrant-distribution\n",
      "43 of 98 - https://covid19.sonoma.edu/updates/president-announces-extension-temporary-telecommuting\n",
      "44 of 98 - https://covid19.sonoma.edu/sites/covid19/files/zinfandel-20-073_campus_zoom_backgrounds_logo.jpg\n",
      "45 of 98 - http://covid19.sonoma.edu/updates/message-vice-president-sawyer-fully-remote-semester-and-commencement-postponement\n",
      "46 of 98 - https://covid19.sonoma.edu/sites/covid19/files/_zoom_bg_student_center.jpg\n",
      "47 of 98 - https://covid19.sonoma.edu/sites/covid19/files/big-nite-20-073_campus_zoom_backgrounds_logo.jpg\n",
      "48 of 98 - http://covid19.sonoma.edu/updates/direct-deposit-statements-suspended\n",
      "49 of 98 - http://covid19.sonoma.edu/updates/presidents-message-regarding-chancellors-statement-fall-2020\n",
      "50 of 98 - https://covid19.sonoma.edu/sites/covid19/files/darwin-walkway-20-073_campus_zoom_backgrounds.jpg\n",
      "51 of 98 - https://covid19.sonoma.edu/sites/covid19/files/lobo-grad-20-073_campus_zoom_backgrounds.jpg\n",
      "52 of 98 - https://covid19.sonoma.edu/return-to-campus/travel-and-procurement\n",
      "53 of 98 - http://covid19.sonoma.edu/updates/important-post-spring-break-message-faculty-students-and-staff\n",
      "54 of 98 - https://covid19.sonoma.edu/updates/message-president-fall-2020-update\n",
      "55 of 98 - http://covid19.sonoma.edu/updates/june-30-pay-warrant-distribution\n",
      "56 of 98 - https://covid19.sonoma.edu/sites/covid19/files/_zoom_bg_darwin_hall_sunset.jpg\n",
      "57 of 98 - https://covid19.sonoma.edu/sites/covid19/files/_zoom_bg_lakes_path.jpg\n",
      "58 of 98 - http://covid19.sonoma.edu/updates/plan-phased-staffing-announced\n",
      "59 of 98 - http://covid19.sonoma.edu/updates/ssu-covid-19-social-distancing-protocol-may-7-update\n",
      "60 of 98 - http://covid19.sonoma.edu/faculty-faq\n",
      "61 of 98 - http://covid19.sonoma.edu/return-to-campus\n",
      "62 of 98 - https://covid19.sonoma.edu/sites/covid19/files/covid-19_telecommuting_request_summary.xlsx\n",
      "63 of 98 - https://covid19.sonoma.edu/sites/covid19/files/north-entrance-20-073_campus_zoom_backgrounds.jpg\n",
      "64 of 98 - https://covid19.sonoma.edu/sites/covid19/files/_zoom_bg_galbreath_preserve_pool.png\n",
      "65 of 98 - http://covid19.sonoma.edu/all-employees-faq\n",
      "66 of 98 - https://covid19.sonoma.edu/student-emergency-grants\n",
      "67 of 98 - https://covid19.sonoma.edu/\n",
      "68 of 98 - http://covid19.sonoma.edu/updates/message-president-fall-2020-update\n",
      "69 of 98 - https://covid19.sonoma.edu/sites/covid19/files/student-center2-20-073_campus_zoom_backgrounds.jpg\n",
      "70 of 98 - https://covid19.sonoma.edu/updates/phishing-criminals-stealing-direct-deposit-payments\n",
      "71 of 98 - https://covid19.sonoma.edu/sites/covid19/files/green-music-center-aerial-20-073_campus_zoom_backgrounds.jpg\n",
      "72 of 98 - https://covid19.sonoma.edu/sites/covid19/files/campus-lakes-20-073_campus_zoom_backgrounds.jpg\n",
      "73 of 98 - https://covid19.sonoma.edu/sites/covid19/files/music-ed-bldg-20-073_campus_zoom_backgrounds.jpg\n",
      "74 of 98 - http://covid19.sonoma.edu/return-to-campus/physical-safety\n",
      "75 of 98 - https://covid19.sonoma.edu/return-to-campus/contractors-suppliers\n",
      "76 of 98 - https://covid19.sonoma.edu/updates/reminder-regarding-may-15-pay-warrant-distribution\n",
      "77 of 98 - https://covid19.sonoma.edu/return-to-campus/campus-facilities\n",
      "78 of 98 - https://covid19.sonoma.edu/students-faq/csu-cares-student-grants\n",
      "79 of 98 - https://covid19.sonoma.edu/return-to-campus/covid-19-reporting\n",
      "80 of 98 - https://covid19.sonoma.edu/sites/covid19/files/_zoom_bg_galbreath_preserve_field.png\n",
      "81 of 98 - https://covid19.sonoma.edu/sites/covid19/files/_zoom_bg_the_library.jpg\n",
      "82 of 98 - https://covid19.sonoma.edu/sites/covid19/files/green-music-center-20-073_campus_zoom_backgrounds_logo.jpg\n",
      "83 of 98 - https://covid19.sonoma.edu/sites/covid19/files/_zoom_bg_lakes_w_geese.jpg\n",
      "84 of 98 - http://covid19.sonoma.edu/health-wellness\n",
      "85 of 98 - https://covid19.sonoma.edu/sites/covid19/files/schulz-info-center-20-073_campus_zoom_backgrounds.jpg\n",
      "86 of 98 - https://covid19.sonoma.edu/sites/covid19/files/_zoom_bg_weill_hall_courtyard.jpg\n",
      "87 of 98 - http://covid19.sonoma.edu/updates\n",
      "88 of 98 - http://covid19.sonoma.edu/\n",
      "89 of 98 - http://covid19.sonoma.edu/updates/president-announces-extension-temporary-telecommuting\n",
      "90 of 98 - https://covid19.sonoma.edu/updates/ssu-covid-19-social-distancing-protocol-may-7-update\n",
      "91 of 98 - https://covid19.sonoma.edu/sites/covid19/files/_zoom_bg_environmental_technology_center.jpg\n"
     ]
    },
    {
     "name": "stdout",
     "output_type": "stream",
     "text": [
      "92 of 98 - https://covid19.sonoma.edu/chancellor-white-statement-on-fall-2020\n",
      "93 of 98 - http://covid19.sonoma.edu/home\n",
      "94 of 98 - https://covid19.sonoma.edu/return-to-campus\n",
      "95 of 98 - https://covid19.sonoma.edu/updates/direct-deposit-statements-suspended\n",
      "96 of 98 - https://covid19.sonoma.edu/updates/june-30-pay-warrant-distribution\n",
      "97 of 98 - http://covid19.sonoma.edu/return-to-campus/travel-and-procurement\n",
      "98 of 98 - https://covid19.sonoma.edu/return-to-campus/physical-safety\n",
      "Saving Completed\n",
      "1 of 100\n",
      "Visiting covid19.sonoma.edu//updates\n",
      "...Taking a screenshot\n",
      "Screenshot of updates page taken! \n",
      "\n",
      "2 of 100\n",
      "Visiting covid19.sonoma.edu//updatescovid-19-telecommuting-requests-guidance-appropriate-administrators\n",
      "...Taking a screenshot\n",
      "Screenshot of updatescovid-19-telecommuting-requests-guidance-appropriate-administrators page taken! \n",
      "\n",
      "3 of 100\n",
      "Visiting covid19.sonoma.edu//sitescovid19files_zoom_bg_osborne_preserve_trail.png\n",
      "...Taking a screenshot\n",
      "Screenshot of sitescovid19files_zoom_bg_osborne_preserve_trail.png page taken! \n",
      "\n",
      "4 of 100\n",
      "Visiting covid19.sonoma.edu//home\n",
      "...Taking a screenshot\n",
      "Screenshot of home page taken! \n",
      "\n",
      "5 of 100\n",
      "Visiting covid19.sonoma.edu//sitescovid19filesstudent-center1-20-073_campus_zoom_backgrounds.jpg\n",
      "...Taking a screenshot\n",
      "Screenshot of sitescovid19filesstudent-center1-20-073_campus_zoom_backgrounds.jpg page taken! \n",
      "\n",
      "6 of 100\n",
      "Visiting covid19.sonoma.edu//health-wellness\n",
      "...Taking a screenshot\n",
      "Screenshot of health-wellness page taken! \n",
      "\n",
      "7 of 100\n",
      "Visiting covid19.sonoma.edu//http:covid19.sonoma.edureturn-to-campuscontractors-suppliers\n",
      "...Taking a screenshot\n",
      "Screenshot of http:covid19.sonoma.edureturn-to-campuscontractors-suppliers page taken! \n",
      "\n",
      "8 of 100\n",
      "Visiting covid19.sonoma.edu//sitescovid19files_zoom_bg_galbreath_preserve_valley.png\n",
      "...Taking a screenshot\n",
      "Screenshot of sitescovid19files_zoom_bg_galbreath_preserve_valley.png page taken! \n",
      "\n",
      "9 of 100\n",
      "Visiting covid19.sonoma.edu//http:covid19.sonoma.eduupdatesphishing-criminals-stealing-direct-deposit-payments\n",
      "...Taking a screenshot\n",
      "Screenshot of http:covid19.sonoma.eduupdatesphishing-criminals-stealing-direct-deposit-payments page taken! \n",
      "\n",
      "10 of 100\n",
      "Visiting covid19.sonoma.edu//http:covid19.sonoma.educhancellor-white-statement-on-fall-2020\n",
      "...Taking a screenshot\n",
      "Screenshot of http:covid19.sonoma.educhancellor-white-statement-on-fall-2020 page taken! \n",
      "\n",
      "11 of 100\n",
      "Visiting covid19.sonoma.edu//sitescovid19files_zoom_bg_osborne_preserve_creek.png\n",
      "...Taking a screenshot\n",
      "Screenshot of sitescovid19files_zoom_bg_osborne_preserve_creek.png page taken! \n",
      "\n",
      "12 of 100\n",
      "Visiting covid19.sonoma.edu//http:covid19.sonoma.edustudent-emergency-grants\n",
      "...Taking a screenshot\n",
      "Screenshot of http:covid19.sonoma.edustudent-emergency-grants page taken! \n",
      "\n",
      "13 of 100\n",
      "Visiting covid19.sonoma.edu//http:covid19.sonoma.edureturn-to-campuscovid-19-reporting\n",
      "...Taking a screenshot\n",
      "Screenshot of http:covid19.sonoma.edureturn-to-campuscovid-19-reporting page taken! \n",
      "\n",
      "14 of 100\n",
      "Visiting covid19.sonoma.edu//sitescovid19filesfall-leaves-20-073_campus_zoom_backgrounds.jpg\n",
      "...Taking a screenshot\n",
      "Screenshot of sitescovid19filesfall-leaves-20-073_campus_zoom_backgrounds.jpg page taken! \n",
      "\n",
      "15 of 100\n",
      "Visiting covid19.sonoma.edu//http:covid19.sonoma.eduupdatestemporary-processing-changes-extended\n",
      "...Taking a screenshot\n",
      "Screenshot of http:covid19.sonoma.eduupdatestemporary-processing-changes-extended page taken! \n",
      "\n",
      "16 of 100\n",
      "Visiting covid19.sonoma.edu//sitescovid19filesmain-walkway-20-073_campus_zoom_backgrounds.jpg\n",
      "...Taking a screenshot\n",
      "Screenshot of sitescovid19filesmain-walkway-20-073_campus_zoom_backgrounds.jpg page taken! \n",
      "\n",
      "17 of 100\n",
      "Visiting covid19.sonoma.edu//http:covid19.sonoma.educsu-chancellors-office\n",
      "...Taking a screenshot\n",
      "Screenshot of http:covid19.sonoma.educsu-chancellors-office page taken! \n",
      "\n",
      "18 of 100\n",
      "Visiting covid19.sonoma.edu//updatesplan-phased-staffing-announced\n",
      "...Taking a screenshot\n",
      "Screenshot of updatesplan-phased-staffing-announced page taken! \n",
      "\n",
      "19 of 100\n",
      "Visiting covid19.sonoma.edu//zoom-backgrounds\n",
      "...Taking a screenshot\n",
      "Screenshot of zoom-backgrounds page taken! \n",
      "\n",
      "20 of 100\n",
      "Visiting covid19.sonoma.edu//sitescovid19filesliving-room20-073_campus_zoom_backgrounds.jpg\n",
      "...Taking a screenshot\n",
      "Screenshot of sitescovid19filesliving-room20-073_campus_zoom_backgrounds.jpg page taken! \n",
      "\n",
      "21 of 100\n",
      "Visiting covid19.sonoma.edu//http:covid19.sonoma.edureturn-to-campusworking-on-campus\n",
      "...Taking a screenshot\n",
      "Screenshot of http:covid19.sonoma.edureturn-to-campusworking-on-campus page taken! \n",
      "\n",
      "22 of 100\n",
      "Visiting covid19.sonoma.edu//faculty-faq\n",
      "...Taking a screenshot\n",
      "Screenshot of faculty-faq page taken! \n",
      "\n",
      "23 of 100\n",
      "Visiting covid19.sonoma.edu//sitescovid19files_zoom_bg_beaujolais_village.jpg\n",
      "...Taking a screenshot\n",
      "Screenshot of sitescovid19files_zoom_bg_beaujolais_village.jpg page taken! \n",
      "\n",
      "24 of 100\n",
      "Visiting covid19.sonoma.edu//http:covid19.sonoma.edustudents-faq\n",
      "...Taking a screenshot\n",
      "Screenshot of http:covid19.sonoma.edustudents-faq page taken! \n",
      "\n",
      "25 of 100\n",
      "Visiting covid19.sonoma.edu//http:covid19.sonoma.edusitescovid19filescovid-19_telecommuting_request_summary.xlsx\n",
      "...Taking a screenshot\n",
      "Screenshot of http:covid19.sonoma.edusitescovid19filescovid-19_telecommuting_request_summary.xlsx page taken! \n",
      "\n",
      "26 of 100\n",
      "Visiting covid19.sonoma.edu//updatestemporary-processing-changes-extended\n",
      "...Taking a screenshot\n",
      "Screenshot of updatestemporary-processing-changes-extended page taken! \n",
      "\n",
      "27 of 100\n",
      "Visiting covid19.sonoma.edu//csu-chancellors-office\n",
      "...Taking a screenshot\n",
      "Screenshot of csu-chancellors-office page taken! \n",
      "\n",
      "28 of 100\n",
      "Visiting covid19.sonoma.edu//sitescovid19filesbeaujolais-20-073_campus_zoom_backgrounds_logo.jpg\n",
      "...Taking a screenshot\n",
      "Screenshot of sitescovid19filesbeaujolais-20-073_campus_zoom_backgrounds_logo.jpg page taken! \n",
      "\n",
      "29 of 100\n",
      "Visiting covid19.sonoma.edu//http:covid19.sonoma.eduupdatesjune-15-live-pay-warrant-distribution\n",
      "...Taking a screenshot\n",
      "Screenshot of http:covid19.sonoma.eduupdatesjune-15-live-pay-warrant-distribution page taken! \n",
      "\n",
      "30 of 100\n",
      "Visiting covid19.sonoma.edu//updatespresidents-message-regarding-chancellors-statement-fall-2020\n",
      "...Taking a screenshot\n",
      "Screenshot of updatespresidents-message-regarding-chancellors-statement-fall-2020 page taken! \n",
      "\n",
      "31 of 100\n",
      "Visiting covid19.sonoma.edu//http:covid19.sonoma.eduupdatescovid-19-telecommuting-requests-guidance-appropriate-administrators\n",
      "...Taking a screenshot\n",
      "Screenshot of http:covid19.sonoma.eduupdatescovid-19-telecommuting-requests-guidance-appropriate-administrators page taken! \n",
      "\n",
      "32 of 100\n",
      "Visiting covid19.sonoma.edu//http:covid19.sonoma.eduupdatesreminder-regarding-may-15-pay-warrant-distribution\n",
      "...Taking a screenshot\n",
      "Screenshot of http:covid19.sonoma.eduupdatesreminder-regarding-may-15-pay-warrant-distribution page taken! \n",
      "\n",
      "33 of 100\n",
      "Visiting covid19.sonoma.edu//http:covid19.sonoma.edustudents-faqcsu-cares-student-grants\n",
      "...Taking a screenshot\n",
      "Screenshot of http:covid19.sonoma.edustudents-faqcsu-cares-student-grants page taken! \n",
      "\n",
      "34 of 100\n",
      "Visiting covid19.sonoma.edu//sitescovid19files_zoom_bg_library_roof.jpg\n",
      "...Taking a screenshot\n",
      "Screenshot of sitescovid19files_zoom_bg_library_roof.jpg page taken! \n",
      "\n",
      "35 of 100\n",
      "Visiting covid19.sonoma.edu//sitescovid19filesgrape-vines-wslc-20-073_campus_zoom_backgrounds.jpg\n",
      "...Taking a screenshot\n",
      "Screenshot of sitescovid19filesgrape-vines-wslc-20-073_campus_zoom_backgrounds.jpg page taken! \n",
      "\n",
      "36 of 100\n",
      "Visiting covid19.sonoma.edu//students-faq\n",
      "...Taking a screenshot\n",
      "Screenshot of students-faq page taken! \n",
      "\n",
      "37 of 100\n",
      "Visiting covid19.sonoma.edu//http:covid19.sonoma.edureturn-to-campustravel-and-procurement\n",
      "...Taking a screenshot\n",
      "Screenshot of http:covid19.sonoma.edureturn-to-campustravel-and-procurement page taken! \n",
      "\n",
      "38 of 100\n",
      "Visiting covid19.sonoma.edu//http:covid19.sonoma.edureturn-to-campuscampus-facilities\n",
      "...Taking a screenshot\n",
      "Screenshot of http:covid19.sonoma.edureturn-to-campuscampus-facilities page taken! \n",
      "\n",
      "39 of 100\n",
      "Visiting covid19.sonoma.edu//sitescovid19files_zoom_bg_stevenson_quad.jpg\n",
      "...Taking a screenshot\n",
      "Screenshot of sitescovid19files_zoom_bg_stevenson_quad.jpg page taken! \n",
      "\n",
      "40 of 100\n",
      "Visiting covid19.sonoma.edu//return-to-campusworking-on-campus\n",
      "...Taking a screenshot\n",
      "Screenshot of return-to-campusworking-on-campus page taken! \n",
      "\n",
      "41 of 100\n",
      "Visiting covid19.sonoma.edu//updatesjune-15-live-pay-warrant-distribution\n",
      "...Taking a screenshot\n"
     ]
    },
    {
     "name": "stdout",
     "output_type": "stream",
     "text": [
      "Screenshot of updatesjune-15-live-pay-warrant-distribution page taken! \n",
      "\n",
      "42 of 100\n",
      "Visiting covid19.sonoma.edu//updatespresident-announces-extension-temporary-telecommuting\n",
      "...Taking a screenshot\n",
      "Screenshot of updatespresident-announces-extension-temporary-telecommuting page taken! \n",
      "\n",
      "43 of 100\n",
      "Visiting covid19.sonoma.edu//sitescovid19fileszinfandel-20-073_campus_zoom_backgrounds_logo.jpg\n",
      "...Taking a screenshot\n",
      "Screenshot of sitescovid19fileszinfandel-20-073_campus_zoom_backgrounds_logo.jpg page taken! \n",
      "\n",
      "44 of 100\n",
      "Visiting covid19.sonoma.edu//http:covid19.sonoma.eduupdatesmessage-vice-president-sawyer-fully-remote-semester-and-commencement-postponement\n",
      "...Taking a screenshot\n",
      "Screenshot of http:covid19.sonoma.eduupdatesmessage-vice-president-sawyer-fully-remote-semester-and-commencement-postponement page taken! \n",
      "\n",
      "45 of 100\n",
      "Visiting covid19.sonoma.edu//sitescovid19files_zoom_bg_student_center.jpg\n",
      "...Taking a screenshot\n",
      "Screenshot of sitescovid19files_zoom_bg_student_center.jpg page taken! \n",
      "\n",
      "46 of 100\n",
      "Visiting covid19.sonoma.edu//sitescovid19filesbig-nite-20-073_campus_zoom_backgrounds_logo.jpg\n",
      "...Taking a screenshot\n",
      "Screenshot of sitescovid19filesbig-nite-20-073_campus_zoom_backgrounds_logo.jpg page taken! \n",
      "\n",
      "47 of 100\n",
      "Visiting covid19.sonoma.edu//http:covid19.sonoma.eduupdatesdirect-deposit-statements-suspended\n",
      "...Taking a screenshot\n",
      "Screenshot of http:covid19.sonoma.eduupdatesdirect-deposit-statements-suspended page taken! \n",
      "\n",
      "48 of 100\n",
      "Visiting covid19.sonoma.edu//http:covid19.sonoma.eduupdatespresidents-message-regarding-chancellors-statement-fall-2020\n",
      "...Taking a screenshot\n",
      "Screenshot of http:covid19.sonoma.eduupdatespresidents-message-regarding-chancellors-statement-fall-2020 page taken! \n",
      "\n",
      "49 of 100\n",
      "Visiting covid19.sonoma.edu//sitescovid19filesdarwin-walkway-20-073_campus_zoom_backgrounds.jpg\n",
      "...Taking a screenshot\n",
      "Screenshot of sitescovid19filesdarwin-walkway-20-073_campus_zoom_backgrounds.jpg page taken! \n",
      "\n",
      "50 of 100\n",
      "Visiting covid19.sonoma.edu//sitescovid19fileslobo-grad-20-073_campus_zoom_backgrounds.jpg\n",
      "...Taking a screenshot\n",
      "Screenshot of sitescovid19fileslobo-grad-20-073_campus_zoom_backgrounds.jpg page taken! \n",
      "\n",
      "51 of 100\n",
      "Visiting covid19.sonoma.edu//return-to-campustravel-and-procurement\n",
      "...Taking a screenshot\n",
      "Screenshot of return-to-campustravel-and-procurement page taken! \n",
      "\n",
      "52 of 100\n",
      "Visiting covid19.sonoma.edu//http:covid19.sonoma.eduupdatesimportant-post-spring-break-message-faculty-students-and-staff\n",
      "...Taking a screenshot\n",
      "Screenshot of http:covid19.sonoma.eduupdatesimportant-post-spring-break-message-faculty-students-and-staff page taken! \n",
      "\n",
      "53 of 100\n",
      "Visiting covid19.sonoma.edu//updatesmessage-president-fall-2020-update\n",
      "...Taking a screenshot\n",
      "Screenshot of updatesmessage-president-fall-2020-update page taken! \n",
      "\n",
      "54 of 100\n",
      "Visiting covid19.sonoma.edu//http:covid19.sonoma.eduupdatesjune-30-pay-warrant-distribution\n",
      "...Taking a screenshot\n",
      "Screenshot of http:covid19.sonoma.eduupdatesjune-30-pay-warrant-distribution page taken! \n",
      "\n",
      "55 of 100\n",
      "Visiting covid19.sonoma.edu//sitescovid19files_zoom_bg_darwin_hall_sunset.jpg\n",
      "...Taking a screenshot\n",
      "Screenshot of sitescovid19files_zoom_bg_darwin_hall_sunset.jpg page taken! \n",
      "\n",
      "56 of 100\n",
      "Visiting covid19.sonoma.edu//sitescovid19files_zoom_bg_lakes_path.jpg\n",
      "...Taking a screenshot\n",
      "Screenshot of sitescovid19files_zoom_bg_lakes_path.jpg page taken! \n",
      "\n",
      "57 of 100\n",
      "Visiting covid19.sonoma.edu//http:covid19.sonoma.eduupdatesplan-phased-staffing-announced\n",
      "...Taking a screenshot\n",
      "Screenshot of http:covid19.sonoma.eduupdatesplan-phased-staffing-announced page taken! \n",
      "\n",
      "58 of 100\n",
      "Visiting covid19.sonoma.edu//http:covid19.sonoma.eduupdatesssu-covid-19-social-distancing-protocol-may-7-update\n",
      "...Taking a screenshot\n",
      "Screenshot of http:covid19.sonoma.eduupdatesssu-covid-19-social-distancing-protocol-may-7-update page taken! \n",
      "\n",
      "59 of 100\n",
      "Visiting covid19.sonoma.edu//http:covid19.sonoma.edufaculty-faq\n",
      "...Taking a screenshot\n",
      "Screenshot of http:covid19.sonoma.edufaculty-faq page taken! \n",
      "\n",
      "60 of 100\n",
      "Visiting covid19.sonoma.edu//http:covid19.sonoma.edureturn-to-campus\n",
      "...Taking a screenshot\n",
      "Screenshot of http:covid19.sonoma.edureturn-to-campus page taken! \n",
      "\n",
      "61 of 100\n",
      "Visiting covid19.sonoma.edu//sitescovid19filescovid-19_telecommuting_request_summary.xlsx\n",
      "...Taking a screenshot\n",
      "Screenshot of sitescovid19filescovid-19_telecommuting_request_summary.xlsx page taken! \n",
      "\n",
      "62 of 100\n",
      "Visiting covid19.sonoma.edu//return-to-campusphysical-safety\n",
      "...Taking a screenshot\n",
      "Screenshot of return-to-campusphysical-safety page taken! \n",
      "\n",
      "63 of 100\n",
      "Visiting covid19.sonoma.edu//sitescovid19filesnorth-entrance-20-073_campus_zoom_backgrounds.jpg\n",
      "...Taking a screenshot\n",
      "Screenshot of sitescovid19filesnorth-entrance-20-073_campus_zoom_backgrounds.jpg page taken! \n",
      "\n",
      "64 of 100\n",
      "Visiting covid19.sonoma.edu//sitescovid19files_zoom_bg_galbreath_preserve_pool.png\n",
      "...Taking a screenshot\n",
      "Screenshot of sitescovid19files_zoom_bg_galbreath_preserve_pool.png page taken! \n",
      "\n",
      "65 of 100\n",
      "Visiting covid19.sonoma.edu//http:covid19.sonoma.eduall-employees-faq\n",
      "...Taking a screenshot\n",
      "Screenshot of http:covid19.sonoma.eduall-employees-faq page taken! \n",
      "\n",
      "66 of 100\n",
      "Visiting covid19.sonoma.edu//student-emergency-grants\n",
      "...Taking a screenshot\n",
      "Screenshot of student-emergency-grants page taken! \n",
      "\n",
      "67 of 100\n",
      "Visiting covid19.sonoma.edu//Home\n",
      "...Taking a screenshot\n",
      "Screenshot of Home page taken! \n",
      "\n",
      "68 of 100\n",
      "Visiting covid19.sonoma.edu//http:covid19.sonoma.eduupdatesmessage-president-fall-2020-update\n",
      "...Taking a screenshot\n",
      "Screenshot of http:covid19.sonoma.eduupdatesmessage-president-fall-2020-update page taken! \n",
      "\n",
      "69 of 100\n",
      "Visiting covid19.sonoma.edu//sitescovid19filesstudent-center2-20-073_campus_zoom_backgrounds.jpg\n",
      "...Taking a screenshot\n",
      "Screenshot of sitescovid19filesstudent-center2-20-073_campus_zoom_backgrounds.jpg page taken! \n",
      "\n",
      "70 of 100\n",
      "Visiting covid19.sonoma.edu//updatesphishing-criminals-stealing-direct-deposit-payments\n",
      "...Taking a screenshot\n",
      "Screenshot of updatesphishing-criminals-stealing-direct-deposit-payments page taken! \n",
      "\n",
      "71 of 100\n",
      "Visiting covid19.sonoma.edu//sitescovid19filesgreen-music-center-aerial-20-073_campus_zoom_backgrounds.jpg\n",
      "...Taking a screenshot\n",
      "Screenshot of sitescovid19filesgreen-music-center-aerial-20-073_campus_zoom_backgrounds.jpg page taken! \n",
      "\n",
      "72 of 100\n",
      "Visiting covid19.sonoma.edu//sitescovid19filescampus-lakes-20-073_campus_zoom_backgrounds.jpg\n",
      "...Taking a screenshot\n",
      "Screenshot of sitescovid19filescampus-lakes-20-073_campus_zoom_backgrounds.jpg page taken! \n",
      "\n",
      "73 of 100\n",
      "Visiting covid19.sonoma.edu//sitescovid19filesmusic-ed-bldg-20-073_campus_zoom_backgrounds.jpg\n",
      "...Taking a screenshot\n",
      "Screenshot of sitescovid19filesmusic-ed-bldg-20-073_campus_zoom_backgrounds.jpg page taken! \n",
      "\n",
      "74 of 100\n",
      "Visiting covid19.sonoma.edu//http:covid19.sonoma.edureturn-to-campusphysical-safety\n",
      "...Taking a screenshot\n",
      "Screenshot of http:covid19.sonoma.edureturn-to-campusphysical-safety page taken! \n",
      "\n",
      "75 of 100\n",
      "Visiting covid19.sonoma.edu//return-to-campuscontractors-suppliers\n",
      "...Taking a screenshot\n",
      "Screenshot of return-to-campuscontractors-suppliers page taken! \n",
      "\n",
      "76 of 100\n",
      "Visiting covid19.sonoma.edu//updatesreminder-regarding-may-15-pay-warrant-distribution\n",
      "...Taking a screenshot\n",
      "Screenshot of updatesreminder-regarding-may-15-pay-warrant-distribution page taken! \n",
      "\n",
      "77 of 100\n",
      "Visiting covid19.sonoma.edu//return-to-campuscampus-facilities\n",
      "...Taking a screenshot\n",
      "Screenshot of return-to-campuscampus-facilities page taken! \n",
      "\n",
      "78 of 100\n",
      "Visiting covid19.sonoma.edu//students-faqcsu-cares-student-grants\n",
      "...Taking a screenshot\n",
      "Screenshot of students-faqcsu-cares-student-grants page taken! \n",
      "\n",
      "79 of 100\n",
      "Visiting covid19.sonoma.edu//return-to-campuscovid-19-reporting\n",
      "...Taking a screenshot\n",
      "Screenshot of return-to-campuscovid-19-reporting page taken! \n",
      "\n",
      "80 of 100\n",
      "Visiting covid19.sonoma.edu//sitescovid19files_zoom_bg_galbreath_preserve_field.png\n",
      "...Taking a screenshot\n",
      "Screenshot of sitescovid19files_zoom_bg_galbreath_preserve_field.png page taken! \n",
      "\n",
      "81 of 100\n",
      "Visiting covid19.sonoma.edu//http:covid19.sonoma.edureturn-to-campusworkplace-accomodation\n",
      "...Taking a screenshot\n",
      "Screenshot of http:covid19.sonoma.edureturn-to-campusworkplace-accomodation page taken! \n",
      "\n",
      "82 of 100\n",
      "Visiting covid19.sonoma.edu//sitescovid19files_zoom_bg_the_library.jpg\n",
      "...Taking a screenshot\n"
     ]
    },
    {
     "name": "stdout",
     "output_type": "stream",
     "text": [
      "Screenshot of sitescovid19files_zoom_bg_the_library.jpg page taken! \n",
      "\n",
      "83 of 100\n",
      "Visiting covid19.sonoma.edu//sitescovid19filesgreen-music-center-20-073_campus_zoom_backgrounds_logo.jpg\n",
      "...Taking a screenshot\n",
      "Screenshot of sitescovid19filesgreen-music-center-20-073_campus_zoom_backgrounds_logo.jpg page taken! \n",
      "\n",
      "84 of 100\n",
      "Visiting covid19.sonoma.edu//sitescovid19files_zoom_bg_lakes_w_geese.jpg\n",
      "...Taking a screenshot\n",
      "Screenshot of sitescovid19files_zoom_bg_lakes_w_geese.jpg page taken! \n",
      "\n",
      "85 of 100\n",
      "Visiting covid19.sonoma.edu//http:covid19.sonoma.eduhealth-wellness\n",
      "...Taking a screenshot\n",
      "Screenshot of http:covid19.sonoma.eduhealth-wellness page taken! \n",
      "\n",
      "86 of 100\n",
      "Visiting covid19.sonoma.edu//sitescovid19filesschulz-info-center-20-073_campus_zoom_backgrounds.jpg\n",
      "...Taking a screenshot\n",
      "Screenshot of sitescovid19filesschulz-info-center-20-073_campus_zoom_backgrounds.jpg page taken! \n",
      "\n",
      "87 of 100\n",
      "Visiting covid19.sonoma.edu//sitescovid19files_zoom_bg_weill_hall_courtyard.jpg\n",
      "...Taking a screenshot\n",
      "Screenshot of sitescovid19files_zoom_bg_weill_hall_courtyard.jpg page taken! \n",
      "\n",
      "88 of 100\n",
      "Visiting covid19.sonoma.edu//http:covid19.sonoma.eduupdates\n",
      "...Taking a screenshot\n",
      "Screenshot of http:covid19.sonoma.eduupdates page taken! \n",
      "\n",
      "89 of 100\n",
      "Visiting covid19.sonoma.edu//http:covid19.sonoma.edu\n",
      "...Taking a screenshot\n",
      "Screenshot of http:covid19.sonoma.edu page taken! \n",
      "\n",
      "90 of 100\n",
      "Visiting covid19.sonoma.edu//http:covid19.sonoma.eduupdatespresident-announces-extension-temporary-telecommuting\n",
      "...Taking a screenshot\n",
      "Screenshot of http:covid19.sonoma.eduupdatespresident-announces-extension-temporary-telecommuting page taken! \n",
      "\n",
      "91 of 100\n",
      "Visiting covid19.sonoma.edu//updatesssu-covid-19-social-distancing-protocol-may-7-update\n",
      "...Taking a screenshot\n",
      "Screenshot of updatesssu-covid-19-social-distancing-protocol-may-7-update page taken! \n",
      "\n",
      "92 of 100\n",
      "Visiting covid19.sonoma.edu//sitescovid19files_zoom_bg_environmental_technology_center.jpg\n",
      "...Taking a screenshot\n",
      "Screenshot of sitescovid19files_zoom_bg_environmental_technology_center.jpg page taken! \n",
      "\n",
      "93 of 100\n",
      "Visiting covid19.sonoma.edu//return-to-campusworkplace-accomodation\n",
      "...Taking a screenshot\n",
      "Screenshot of return-to-campusworkplace-accomodation page taken! \n",
      "\n",
      "94 of 100\n",
      "Visiting covid19.sonoma.edu//chancellor-white-statement-on-fall-2020\n",
      "...Taking a screenshot\n",
      "Screenshot of chancellor-white-statement-on-fall-2020 page taken! \n",
      "\n",
      "95 of 100\n",
      "Visiting covid19.sonoma.edu//http:covid19.sonoma.eduhome\n",
      "...Taking a screenshot\n",
      "Screenshot of http:covid19.sonoma.eduhome page taken! \n",
      "\n",
      "96 of 100\n",
      "Visiting covid19.sonoma.edu//return-to-campus\n",
      "...Taking a screenshot\n",
      "Screenshot of return-to-campus page taken! \n",
      "\n",
      "97 of 100\n",
      "Visiting covid19.sonoma.edu//updatesdirect-deposit-statements-suspended\n",
      "...Taking a screenshot\n",
      "Screenshot of updatesdirect-deposit-statements-suspended page taken! \n",
      "\n",
      "98 of 100\n",
      "Visiting covid19.sonoma.edu//updatesjune-30-pay-warrant-distribution\n",
      "...Taking a screenshot\n",
      "Screenshot of updatesjune-30-pay-warrant-distribution page taken! \n",
      "\n",
      "99 of 100\n",
      "Visiting covid19.sonoma.edu//sitescovid19filesstevenson-quad-20-073_campus_zoom_backgrounds.jpg\n",
      "...Taking a screenshot\n",
      "Screenshot of sitescovid19filesstevenson-quad-20-073_campus_zoom_backgrounds.jpg page taken! \n",
      "\n",
      "100 of 100\n",
      "Visiting covid19.sonoma.edu//all-employees-faq\n",
      "...Taking a screenshot\n",
      "Screenshot of all-employees-faq page taken! \n",
      "\n",
      "Task Completed! Files stored in the Masters\\covid19.sonoma.edu_Screenshots Folder\n",
      "ParseResult(scheme='http', netloc='www.southeastern.edu', path='/about/safe_campus/covid-19/', params='', query='', fragment='')\n",
      "http://www.southeastern.edu\n",
      "www.southeastern.edu/about/safe_campus/covid-19/\n",
      "www.southeastern.edu\n",
      "[INT] Internal link: http://www.southeastern.edu\n",
      "[INT] Internal link: http://www.southeastern.edu/apply/index.html\n",
      "[INT] Internal link: http://www.southeastern.edu/alumni_donors/alumni_assoc/index.html\n",
      "[INT] Internal link: http://www.southeastern.edu/alumni_donors/foundation/index.html\n",
      "[INT] Internal link: http://www.southeastern.edu/visit/index.html\n",
      "[INT] Internal link: http://www.southeastern.edu/myden/\n",
      "[INT] Internal link: http://www.southeastern.edu/admin/admissions/index.html\n",
      "[INT] Internal link: http://www.southeastern.edu/admin/controller/tuition/index.html\n",
      "[INT] Internal link: http://www.southeastern.edu/admin/fin_aid/index.html\n",
      "[INT] Internal link: http://www.southeastern.edu/admin/fin_aid/scholarships/index.html\n",
      "[INT] Internal link: http://www.southeastern.edu/apply/freshmen/index.html\n",
      "[INT] Internal link: http://www.southeastern.edu/apply/transfer/index.html\n",
      "[INT] Internal link: http://www.southeastern.edu/apply/graduate/index.html\n",
      "[INT] Internal link: http://www.southeastern.edu/admin/admissions/parents/\n",
      "[INT] Internal link: http://www.southeastern.edu/apply/high_school/index.html\n",
      "[INT] Internal link: http://www.southeastern.edu/admin/rec_reg/index.html\n",
      "[INT] Internal link: http://www.southeastern.edu/acad_research/index.html\n",
      "[INT] Internal link: http://www.southeastern.edu/acad_research/colleges/\n",
      "[INT] Internal link: http://www.southeastern.edu/acad_research/degrees/\n",
      "[INT] Internal link: http://www.southeastern.edu/acad_research/programs/grad_school/index.html\n",
      "[INT] Internal link: http://www.southeastern.edu/acad_research/programs/online_learning/\n",
      "[INT] Internal link: http://www.southeastern.edu/acad_research/programs/\n",
      "[INT] Internal link: http://www.southeastern.edu/acad_research/resources/\n",
      "[INT] Internal link: http://www.southeastern.edu/admin/rec_reg/university_catalogue/index.html\n",
      "[INT] Internal link: http://www.southeastern.edu/admin/rec_reg/class_schedule/index.html\n",
      "[INT] Internal link: http://www.southeastern.edu/acad_research/research/\n",
      "[INT] Internal link: http://www.southeastern.edu/library/index.html\n",
      "[INT] Internal link: http://www.southeastern.edu/campus_life/index.html\n",
      "[INT] Internal link: http://www.southeastern.edu/admin/housing/\n",
      "[INT] Internal link: http://www.southeastern.edu/admin/dining/\n",
      "[INT] Internal link: http://www.southeastern.edu/admin/health_ctr/index.html\n",
      "[INT] Internal link: http://www.southeastern.edu/admin/transport/\n",
      "[INT] Internal link: http://www.southeastern.edu/admin/rec_sports/index.html\n",
      "[INT] Internal link: http://www.southeastern.edu/about/safe_campus/alert/index.html\n",
      "[INT] Internal link: http://www.southeastern.edu/admin/stu_affairs/\n",
      "[INT] Internal link: http://www.southeastern.edu/about/index.html\n",
      "[INT] Internal link: http://www.southeastern.edu/about/history/\n",
      "[INT] Internal link: http://www.southeastern.edu/admin/\n",
      "[INT] Internal link: http://www.southeastern.edu/admin/admin_offices/index.html\n",
      "[INT] Internal link: http://www.southeastern.edu/about/general/accreditation/\n",
      "[INT] Internal link: http://www.southeastern.edu/about/general/\n",
      "[INT] Internal link: http://www.southeastern.edu/about/safe_campus/\n",
      "[INT] Internal link: http://www.southeastern.edu/about/outreach/index.html\n",
      "[INT] Internal link: http://www.southeastern.edu/about/student_achievement/index.html\n",
      "[INT] Internal link: http://www.southeastern.edu/news_media/index.html\n",
      "[INT] Internal link: http://www.southeastern.edu/index.html\n",
      "[INT] Internal link: http://www.southeastern.edu/about/safe_campus/index.html\n",
      "[INT] Internal link: http://www.southeastern.edu/about/safe_campus/covid-19/remote/index.html\n",
      "[INT] Internal link: http://www.southeastern.edu/about/safe_campus/covid-19/services/index.html\n",
      "[INT] Internal link: http://www.southeastern.edu/about/safe_campus/covid-19/general/index.html\n",
      "[INT] Internal link: http://www.southeastern.edu/about/safe_campus/covid-19/resources/index.html\n",
      "[INT] Internal link: http://www.southeastern.edu/about/safe_campus/covid-19/communication/index.html\n",
      "[INT] Internal link: http://www.southeastern.edu/about/safe_campus/covid-19/maskup/index.html\n",
      "[INT] Internal link: http://www.southeastern.edu/about/safe_campus/covid-19/assets/safe-campus-2020.pdf\n",
      "[INT] Internal link: http://www.southeastern.edu/about/safe_campus/covid-19/students/index.html\n",
      "[INT] Internal link: http://www.southeastern.edu/about/safe_campus/covid-19/fac-staff/index.html\n",
      "[INT] Internal link: http://www.southeastern.edu/about/safe_campus/covid-19/communication/062520-dos-update.html\n",
      "[INT] Internal link: http://www.southeastern.edu/admin/president/messages/2020/062220.html\n",
      "[INT] Internal link: http://www.southeastern.edu/admin/president/messages/2020/060820.html\n",
      "[INT] Internal link: http://www.southeastern.edu/admin/president/messages/2020/060420.html\n",
      "[INT] Internal link: http://www.southeastern.edu/search/index.html\n",
      "[INT] Internal link: http://www.southeastern.edu/news_media/rss/\n",
      "[INT] Internal link: http://www.southeastern.edu/\n",
      "[INT] Internal link: http://www.southeastern.edu/contact/index.html\n",
      "[INT] Internal link: http://www.southeastern.edu/resources/policies/index.html\n",
      "[INT] Internal link: http://www.southeastern.edu/admin/admissions/cost_aid/index.html\n",
      "[INT] Internal link: http://www.southeastern.edu/admin/rec_reg/calendar/index.html\n",
      "[INT] Internal link: http://www.southeastern.edu/admin/rec_reg/exam_sch/index.html\n",
      "[INT] Internal link: http://www.southeastern.edu/acad_research/degrees/index.html\n",
      "[INT] Internal link: http://www.southeastern.edu/map/\n",
      "[INT] Internal link: http://www.southeastern.edu/admin/uccs/about/index.html\n",
      "[INT] Internal link: http://www.southeastern.edu/resources/policies/unive_disc/index.html\n",
      "[INT] Internal link: http://www.southeastern.edu/resources/universitybrand/graphicidentitystandards/index.html\n",
      "[INT] Internal link: http://www.southeastern.edu/admin/cs/help/index.html\n",
      "[INT] Internal link: http://www.southeastern.edu/admin/stu_affairs/handbook/\n",
      "[INT] Internal link: http://www.southeastern.edu/about/general/accreditation/index.html\n",
      "[+] Total External links: 402\n",
      "[+] Total Internal links: 667\n",
      "[+] Total: 1069\n",
      "11 0\n"
     ]
    },
    {
     "name": "stdout",
     "output_type": "stream",
     "text": [
      "[INT] Internal link: http://www.southeastern.edu/about/safe_campus/covid-19/index.html\n",
      "[INT] Internal link: http://www.southeastern.edu/about/safe_campus/covid-19/communication/students/index.html\n",
      "[INT] Internal link: http://www.southeastern.edu/about/safe_campus/covid-19/communication/employees/index.html\n",
      "[INT] Internal link: http://www.southeastern.edu/admin/president/messages/2020/051520.html\n",
      "[INT] Internal link: http://www.southeastern.edu/admin/president/messages/2020/051420.html\n",
      "[INT] Internal link: http://www.southeastern.edu/admin/president/messages/2020/051320.html\n",
      "[INT] Internal link: http://www.southeastern.edu/admin/president/messages/2020/050820.html\n",
      "[INT] Internal link: http://www.southeastern.edu/admin/president/messages/2020/050120.html\n",
      "[INT] Internal link: http://www.southeastern.edu/about/safe_campus/covid-19/communication/042720-uls.html\n",
      "[INT] Internal link: http://www.southeastern.edu/admin/president/messages/2020/041620.html\n",
      "[INT] Internal link: http://www.southeastern.edu/about/safe_campus/covid-19/communication/041020-dos.html\n",
      "[INT] Internal link: http://www.southeastern.edu/about/safe_campus/covid-19/communication/040920-maskup.html\n",
      "[INT] Internal link: http://www.southeastern.edu/admin/president/messages/2020/040820.html\n",
      "[INT] Internal link: http://www.southeastern.edu/about/safe_campus/covid-19/communication/040420-order.html\n",
      "[INT] Internal link: http://www.southeastern.edu/about/safe_campus/covid-19/communication/040320-summer.html\n",
      "[INT] Internal link: http://www.southeastern.edu/admin/president/messages/2020/040220.html\n",
      "[INT] Internal link: http://www.southeastern.edu/about/safe_campus/covid-19/communication/033120-case.html\n",
      "[INT] Internal link: http://www.southeastern.edu/admin/provost/messages/2020/033120.html\n",
      "[INT] Internal link: http://www.southeastern.edu/about/safe_campus/covid-19/communication/033120-dos-update.html\n",
      "[INT] Internal link: http://www.southeastern.edu/about/safe_campus/covid-19/communication/032620-note.html\n",
      "[INT] Internal link: http://www.southeastern.edu/admin/provost/messages/2020/032620.html\n",
      "[INT] Internal link: http://www.southeastern.edu/admin/president/messages/2020/032320.html\n",
      "[INT] Internal link: http://www.southeastern.edu/about/safe_campus/covid-19/communication/032220-uls.html\n",
      "[INT] Internal link: http://www.southeastern.edu/about/safe_campus/covid-19/communication/031920-pres.html\n",
      "[INT] Internal link: http://www.southeastern.edu/about/safe_campus/covid-19/communication/031820-dos-update.html\n",
      "[INT] Internal link: http://www.southeastern.edu/admin/president/messages/2020/031820.html\n",
      "[INT] Internal link: http://www.southeastern.edu/admin/president/messages/2020/031720.html\n",
      "[INT] Internal link: http://www.southeastern.edu/about/safe_campus/covid-19/communication/031720-dos-update.html\n",
      "[INT] Internal link: http://www.southeastern.edu/admin/president/messages/2020/031620.html\n",
      "[INT] Internal link: http://www.southeastern.edu/admin/president/messages/2020/031320.html\n",
      "[INT] Internal link: http://www.southeastern.edu/admin/president/messages/2020/031220.html\n",
      "[INT] Internal link: http://www.southeastern.edu/admin/president/messages/2020/031020.html\n",
      "[INT] Internal link: http://www.southeastern.edu/admin/president/messages/2020/030620.html\n",
      "[INT] Internal link: http://www.southeastern.edu/about/safe_campus/covid-19/3420-provost/index.html\n",
      "[INT] Internal link: http://www.southeastern.edu/admin/president/messages/2020/030320.html\n",
      "[+] NEW Total External links: 404\n",
      "[+] NEW Total Internal links: 702\n",
      "[+] NEW Total: 1106\n",
      "[INT] Internal link: http://www.southeastern.edu/admin/hr/index.html\n",
      "[INT] Internal link: http://www.southeastern.edu/admin/provost/index.html\n",
      "[INT] Internal link: http://www.southeastern.edu/acad_research/colleges/index.html\n",
      "[INT] Internal link: http://www.southeastern.edu/about/safe_campus/covid-19/telecommuting/index.html\n",
      "[+] NEW Total External links: 411\n",
      "[+] NEW Total Internal links: 706\n",
      "[+] NEW Total: 1117\n",
      "[INT] Internal link: http://www.southeastern.edu/resources/policies/policy_detail/face_coverings.html\n",
      "[INT] Internal link: http://www.southeastern.edu/about/safe_campus/covid-19/fac-staff/leave/index.html\n",
      "[+] NEW Total External links: 411\n",
      "[+] NEW Total Internal links: 708\n",
      "[+] NEW Total: 1119\n",
      "[INT] Internal link: http://www.southeastern.edu/alumni_donors/foundation/giving/maskup/index.html\n",
      "[INT] Internal link: http://www.southeastern.edu/about/safe_campus/covid-19/maskup/assets/pleated_mask_pattern.pdf\n",
      "[+] NEW Total External links: 412\n",
      "[+] NEW Total Internal links: 710\n",
      "[+] NEW Total: 1122\n",
      "[INT] Internal link: http://www.southeastern.edu/about/safe_campus/covid-19/assets/grading-accomodations.pdf\n",
      "[INT] Internal link: http://www.southeastern.edu/about/safe_campus/covid-19/remote/grading/index.html\n",
      "[INT] Internal link: http://www.southeastern.edu/acad_research/programs/online_learning/classcontinuitypreparation/index.html\n",
      "[INT] Internal link: http://www.southeastern.edu/acad_research/programs/cse/index.html\n",
      "[INT] Internal link: http://www.southeastern.edu/admin/cfe/index.html\n",
      "[+] NEW Total External links: 413\n",
      "[+] NEW Total Internal links: 715\n",
      "[+] NEW Total: 1128\n",
      "[INT] Internal link: http://www.southeastern.edu/admin/stu_dev/concern/index.html\n",
      "[+] NEW Total External links: 415\n",
      "[+] NEW Total Internal links: 716\n",
      "[+] NEW Total: 1131\n"
     ]
    },
    {
     "name": "stderr",
     "output_type": "stream",
     "text": [
      "Some characters could not be decoded, and were replaced with REPLACEMENT CHARACTER.\n"
     ]
    },
    {
     "name": "stdout",
     "output_type": "stream",
     "text": [
      "[+] NEW Total External links: 415\n",
      "[+] NEW Total Internal links: 716\n",
      "[+] NEW Total: 1131\n",
      "[INT] Internal link: http://www.southeastern.edu/about/safe_campus/covid-19/assets/safe-campus-students.pdf\n",
      "[INT] Internal link: http://www.southeastern.edu/about/safe_campus/covid-19/assets/study-tips.pdf\n",
      "[INT] Internal link: http://www.southeastern.edu/about/safe_campus/covid-19/assets/uls-system-provisions.pdf\n",
      "[INT] Internal link: http://www.southeastern.edu/admin/fin_aid/scholarships/cares/index.html\n",
      "[+] NEW Total External links: 415\n",
      "[+] NEW Total Internal links: 720\n",
      "[+] NEW Total: 1135\n",
      "[+] NEW Total External links: 415\n",
      "[+] NEW Total Internal links: 720\n",
      "[+] NEW Total: 1135\n",
      "[INT] Internal link: http://www.southeastern.edu/about/safe_campus/covid-19/services/status/index.html\n",
      "[INT] Internal link: https://www.southeastern.edu/admin/health_ctr/\n",
      "[INT] Internal link: http://www.southeastern.edu/admin/counseling/\n",
      "[INT] Internal link: https://www.southeastern.edu/library/index.html\n",
      "[INT] Internal link: http://www.southeastern.edu/admin/sps/labs/hours/index.html\n",
      "[INT] Internal link: http://www.southeastern.edu/acad_research/programs/cse/tutoring/index.html\n",
      "[INT] Internal link: https://www.southeastern.edu/admin/fin_aid/index.html\n",
      "[+] NEW Total External links: 418\n",
      "[+] NEW Total Internal links: 727\n",
      "[+] NEW Total: 1145\n",
      "[+] NEW Total External links: 422\n",
      "[+] NEW Total Internal links: 727\n",
      "[+] NEW Total: 1149\n",
      "36 1\n"
     ]
    },
    {
     "name": "stderr",
     "output_type": "stream",
     "text": [
      "Some characters could not be decoded, and were replaced with REPLACEMENT CHARACTER.\n"
     ]
    },
    {
     "name": "stdout",
     "output_type": "stream",
     "text": [
      "[+] NEW Total External links: 422\n",
      "[+] NEW Total Internal links: 727\n",
      "[+] NEW Total: 1149\n"
     ]
    },
    {
     "name": "stderr",
     "output_type": "stream",
     "text": [
      "Some characters could not be decoded, and were replaced with REPLACEMENT CHARACTER.\n"
     ]
    },
    {
     "name": "stdout",
     "output_type": "stream",
     "text": [
      "[+] NEW Total External links: 422\n",
      "[+] NEW Total Internal links: 727\n",
      "[+] NEW Total: 1149\n",
      "[+] NEW Total External links: 422\n",
      "[+] NEW Total Internal links: 727\n",
      "[+] NEW Total: 1149\n",
      "[INT] Internal link: http://www.southeastern.edu/about/safe_campus/general/index.html\n",
      "[INT] Internal link: http://www.southeastern.edu/about/safe_campus/hurricane/index.html\n",
      "[INT] Internal link: http://www.southeastern.edu/about/safe_campus/sexual-misconduct/index.html\n",
      "[INT] Internal link: http://www.southeastern.edu/about/safe_campus/hazing/index.html\n",
      "[INT] Internal link: http://www.southeastern.edu/about/safe_campus/alcohol/index.html\n",
      "[INT] Internal link: http://www.southeastern.edu/about/safe_campus/mental-health/index.html\n",
      "[INT] Internal link: http://www.southeastern.edu/about/safe_campus/violence/index.html\n",
      "[INT] Internal link: http://www.southeastern.edu/about/safe_campus/civility/index.html\n",
      "[INT] Internal link: http://www.southeastern.edu/about/safe_campus/reference/index.html\n",
      "[+] NEW Total External links: 423\n",
      "[+] NEW Total Internal links: 736\n",
      "[+] NEW Total: 1159\n",
      "[+] NEW Total External links: 423\n",
      "[+] NEW Total Internal links: 736\n",
      "[+] NEW Total: 1159\n"
     ]
    },
    {
     "name": "stderr",
     "output_type": "stream",
     "text": [
      "Some characters could not be decoded, and were replaced with REPLACEMENT CHARACTER.\n"
     ]
    },
    {
     "name": "stdout",
     "output_type": "stream",
     "text": [
      "[+] NEW Total External links: 423\n",
      "[+] NEW Total Internal links: 736\n",
      "[+] NEW Total: 1159\n",
      "[INT] Internal link: http://www.southeastern.edu/maskup\n",
      "[+] NEW Total External links: 424\n",
      "[+] NEW Total Internal links: 737\n",
      "[+] NEW Total: 1161\n",
      "[+] NEW Total External links: 424\n",
      "[+] NEW Total Internal links: 737\n",
      "[+] NEW Total: 1161\n",
      "[+] NEW Total External links: 424\n",
      "[+] NEW Total Internal links: 737\n",
      "[+] NEW Total: 1161\n",
      "[+] NEW Total External links: 424\n",
      "[+] NEW Total Internal links: 737\n",
      "[+] NEW Total: 1161\n",
      "[+] NEW Total External links: 424\n",
      "[+] NEW Total Internal links: 737\n",
      "[+] NEW Total: 1161\n",
      "[+] NEW Total External links: 424\n",
      "[+] NEW Total Internal links: 737\n",
      "[+] NEW Total: 1161\n",
      "[+] NEW Total External links: 424\n",
      "[+] NEW Total Internal links: 737\n",
      "[+] NEW Total: 1161\n",
      "[+] NEW Total External links: 424\n",
      "[+] NEW Total Internal links: 737\n",
      "[+] NEW Total: 1161\n",
      "[+] NEW Total External links: 425\n",
      "[+] NEW Total Internal links: 737\n",
      "[+] NEW Total: 1162\n",
      "[+] NEW Total External links: 425\n",
      "[+] NEW Total Internal links: 737\n",
      "[+] NEW Total: 1162\n",
      "[INT] Internal link: http://www.southeastern.edu/admin/vet_success/index.html\n",
      "[INT] Internal link: http://www.southeastern.edu/admin/ds/index.html\n",
      "[INT] Internal link: http://www.southeastern.edu/admin/tb_rental/index.html\n",
      "[+] NEW Total External links: 426\n",
      "[+] NEW Total Internal links: 740\n",
      "[+] NEW Total: 1166\n",
      "[+] NEW Total External links: 426\n",
      "[+] NEW Total Internal links: 740\n",
      "[+] NEW Total: 1166\n",
      "[+] NEW Total External links: 433\n",
      "[+] NEW Total Internal links: 740\n",
      "[+] NEW Total: 1173\n",
      "[+] NEW Total External links: 434\n",
      "[+] NEW Total Internal links: 740\n",
      "[+] NEW Total: 1174\n"
     ]
    }
   ],
   "source": [
    "for base_url in base_urls:\n",
    "    internal_urls.add(base_url)\n",
    "    parsedurl = urlparse(base_url)\n",
    "    print(parsedurl)\n",
    "    base_url_main = parsedurl.scheme+\"://\"+parsedurl.netloc\n",
    "    print(base_url_main)\n",
    "    # base_url_text = base_url.split(\"//\",1)[1]\n",
    "    base_url_text = parsedurl.netloc+parsedurl.path\n",
    "    print(base_url_text)\n",
    "    # base_url_text_domain = base_url_text.split(\"/\",1)[0]\n",
    "    base_url_text_domain = parsedurl.netloc\n",
    "    print(base_url_text_domain)\n",
    "    crawl(base_url)\n",
    "    print(\"[+] Total External links:\", len(external_urls))\n",
    "    print(\"[+] Total Internal links:\", len(internal_urls))\n",
    "    print(\"[+] Total:\", len(external_urls) + len(internal_urls))\n",
    "    count = 0\n",
    "    last_count = 989874\n",
    "    immediate_urls = set() #Linked Associated with the current page, https://umd.edu/virusinfo/ in this case\n",
    "\n",
    "    for i in range(0,4):\n",
    "        for url in internal_urls:\n",
    "            if base_url_text in url:\n",
    "                immediate_urls.add(url)\n",
    "        count = len(immediate_urls)\n",
    "        print(count,i)\n",
    "        if(count == last_count):\n",
    "            break\n",
    "        last_count = count\n",
    "        for immediate_url in immediate_urls:\n",
    "            try:\n",
    "                crawl(immediate_url)\n",
    "                print(\"[+] NEW Total External links:\", len(external_urls))\n",
    "                print(\"[+] NEW Total Internal links:\", len(internal_urls))\n",
    "                print(\"[+] NEW Total:\", len(external_urls) + len(internal_urls))\n",
    "                if len(internal_urls)>1000:\n",
    "                    break\n",
    "            except requests.exceptions.ConnectionError:\n",
    "                continue\n",
    "\n",
    "    def removeAfterN(yourStr, nth, occurenceOf):\n",
    "        return occurenceOf.join(yourStr.split(occurenceOf)[:nth])\n",
    "    \n",
    "    \n",
    "    semifinal_immediate_urls = set()\n",
    "\n",
    "    for immediate_url in immediate_urls:\n",
    "        stripped_url = removeAfterN(immediate_url,2,\"http\")\n",
    "\n",
    "\n",
    "        semifinal_immediate_urls.add(stripped_url)\n",
    "    #     final_immediate_urls.add(rest)\n",
    "    #     print(rest)\n",
    "\n",
    "\n",
    "\n",
    "    for i in semifinal_immediate_urls:\n",
    "        print(i)\n",
    "    total_count = len(semifinal_immediate_urls)\n",
    "    print(total_count)\n",
    "    \n",
    "    \n",
    "    final_immediate_urls = set()\n",
    "    for semifinal_immediate_url in semifinal_immediate_urls:\n",
    "        if \"tel:\" not in semifinal_immediate_url:\n",
    "            final_immediate_urls.add(semifinal_immediate_url)\n",
    "\n",
    "\n",
    "    for i in final_immediate_urls:\n",
    "        print(i)\n",
    "    total_count = len(final_immediate_urls)\n",
    "    print(total_count)       \n",
    "    \n",
    "    \n",
    "    \n",
    "    parent_folder = \"Masters\" #Change based on folder\n",
    "    name_of_folder = f'{base_url_text_domain}_Screenshots'\n",
    "    options = webdriver.ChromeOptions()\n",
    "    options.headless = True\n",
    "    driver = webdriver.Chrome(options=options,executable_path='chromedriver.exe') # #Local Path of chrome driver\n",
    "    if not os.path.exists(f'{parent_folder}\\\\{name_of_folder}'):\n",
    "        os.makedirs(f'{parent_folder}\\\\{name_of_folder}')\n",
    "    \n",
    "    \n",
    "    \n",
    "    webpage_save = set()\n",
    "    webpage_save_count = 0\n",
    "    webpage_cannot_save = 0\n",
    "    for i in final_immediate_urls:\n",
    "        if ' ' in i:\n",
    "            continue\n",
    "        try:\n",
    "            code=urlopen(i).getcode()\n",
    "            webpage_save.add(i)\n",
    "            webpage_save_count = webpage_save_count+1\n",
    "            print(f\"{code} can_save - {i}\")\n",
    "        except (urllib.error.HTTPError,urllib.error.URLError) as e:\n",
    "            print(\"discarded\")\n",
    "            webpage_cannot_save = webpage_cannot_save+1\n",
    "            continue\n",
    "\n",
    "    print(f'Webpages saved as HTML :{webpage_save_count}')\n",
    "    print(f'Webpages unable to save as HTML :{webpage_cannot_save}')\n",
    "\n",
    "    \n",
    "    pdf_count = 0\n",
    "    pdf_urls = set()\n",
    "    for webpage in webpage_save:\n",
    "        try:\n",
    "            if webpage[-4:] == \".pdf\":\n",
    "                url = webpage\n",
    "                file_name = url.replace(base_url,'')\n",
    "                file_name = file_name.replace('/','')\n",
    "                if file_name == '':\n",
    "                    file_name = \"Home\"\n",
    "                pdf_urls.add(webpage)\n",
    "                print(webpage)\n",
    "                r = requests.get(url, stream=True)\n",
    "                with open(f'{parent_folder}\\\\{name_of_folder}\\\\{file_name}.pdf', 'wb') as fd:\n",
    "                    for chunk in r.iter_content(2000):\n",
    "                        fd.write(chunk)\n",
    "                pdf_count = pdf_count + 1\n",
    "        except:\n",
    "            print(\"caught\")\n",
    "\n",
    "    print(f\"Pdfs saved: {pdf_count}\")\n",
    "    \n",
    "    \n",
    "    \n",
    "    final_immediate_urls = final_immediate_urls - pdf_urls\n",
    "    webpage_save = webpage_save - pdf_urls\n",
    "    web_save_count = len(webpage_save)\n",
    "    total_count = len(final_immediate_urls)\n",
    "    print(total_count) \n",
    "    \n",
    "    \n",
    "    \n",
    "    final_webpage_save_count = webpage_save_count - pdf_count\n",
    "    print(final_webpage_save_count)\n",
    "    \n",
    "    \n",
    "    webpage_save_counter_loop = 0\n",
    "    for webpage in webpage_save:\n",
    "        try:\n",
    "            url = webpage\n",
    "            file_name = url.replace(base_url,'')\n",
    "            file_name = file_name.replace('/','')\n",
    "            if file_name == '':\n",
    "                    file_name = \"Home\"\n",
    "            urllib.request.urlretrieve (webpage, f\"{parent_folder}\\\\{name_of_folder}\\\\{file_name}.html\")\n",
    "            webpage_save_counter_loop = webpage_save_counter_loop+1\n",
    "            print(f'{webpage_save_counter_loop} of {final_webpage_save_count} - {webpage}')\n",
    "        except:\n",
    "            print(\"caught\")\n",
    "\n",
    "    print(\"Saving Completed\")\n",
    "    \n",
    "    \n",
    "    count = 0\n",
    "    for i in final_immediate_urls:\n",
    "        try:\n",
    "            url = i\n",
    "            file_name = url.replace(base_url,'')\n",
    "            file_name = file_name.replace('/','')\n",
    "            if file_name == '':\n",
    "                    file_name = \"Home\"\n",
    "            count = count + 1\n",
    "            print(f\"{count} of {total_count}\")\n",
    "            print(f'Visiting {base_url_text}/{file_name}')\n",
    "            print(f'...Taking a screenshot')\n",
    "            driver.get(url)\n",
    "            S = lambda X: driver.execute_script('return document.body.parentNode.scroll'+X)\n",
    "            driver.set_window_size(S('Width'),S('Height')) # May need manual adjustment                                                                                                                \n",
    "            driver.find_element_by_tag_name('body').screenshot(f'{parent_folder}\\\\{name_of_folder}\\\\{file_name}.png')\n",
    "            print(f'Screenshot of {file_name} page taken! \\n')\n",
    "        except:\n",
    "            print(\"caught\")\n",
    "    #     print(\"Saving HTML\")\n",
    "    #     pyautogui.hotkey('ctrl', 's')\n",
    "    #     time.sleep(1)\n",
    "    #     pyautogui.typewrite(f'{file_name}.html')\n",
    "    #     pyautogui.hotkey('enter')\n",
    "    driver.quit()\n",
    "\n",
    "    print(f'Task Completed! Files stored in the {parent_folder}\\\\{name_of_folder} Folder')"
   ]
  },
  {
   "cell_type": "code",
   "execution_count": null,
   "metadata": {},
   "outputs": [],
   "source": [
    "print(\"DONE\")"
   ]
  },
  {
   "cell_type": "code",
   "execution_count": null,
   "metadata": {},
   "outputs": [],
   "source": []
  }
 ],
 "metadata": {
  "kernelspec": {
   "display_name": "Python 3",
   "language": "python",
   "name": "python3"
  },
  "language_info": {
   "codemirror_mode": {
    "name": "ipython",
    "version": 3
   },
   "file_extension": ".py",
   "mimetype": "text/x-python",
   "name": "python",
   "nbconvert_exporter": "python",
   "pygments_lexer": "ipython3",
   "version": "3.8.2"
  }
 },
 "nbformat": 4,
 "nbformat_minor": 4
}
