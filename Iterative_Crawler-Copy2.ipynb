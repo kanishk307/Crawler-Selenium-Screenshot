{
 "cells": [
  {
   "cell_type": "code",
   "execution_count": 65,
   "metadata": {},
   "outputs": [],
   "source": [
    "#Imports\n",
    "import time\n",
    "import requests\n",
    "from urllib.parse import urlparse, urljoin\n",
    "from bs4 import BeautifulSoup\n",
    "from selenium import webdriver\n",
    "from selenium.webdriver.chrome.options import Options\n",
    "import os\n",
    "import urllib.request\n",
    "from urllib.request import urlopen\n",
    "import pyautogui\n",
    "from requests.exceptions import ConnectionError\n",
    "# from pywebcopy import save_webpage"
   ]
  },
  {
   "cell_type": "code",
   "execution_count": 66,
   "metadata": {},
   "outputs": [],
   "source": [
    "\n",
    "internal_urls = set()\n",
    "external_urls = set()"
   ]
  },
  {
   "cell_type": "code",
   "execution_count": 67,
   "metadata": {},
   "outputs": [],
   "source": [
    "def is_url_valid(url):\n",
    "   #Checks if the url is valid or not\n",
    "    parsedURL = urlparse(url)\n",
    "    return bool(parsedURL.netloc) and bool(parsedURL.scheme)\n",
    "\n",
    "#The above function works as follows. We check if the scheme is present and there is a value in the network location part\n",
    "# url = \"https://umd.edu/virusinfo\"\n",
    "# urlparse(url)\n",
    "# ParseResult(scheme='https', netloc='umd.edu', path='/virusinfo', \n",
    "# params='', query='', fragment='')"
   ]
  },
  {
   "cell_type": "code",
   "execution_count": 68,
   "metadata": {},
   "outputs": [],
   "source": [
    "\n",
    "#The function gives all urls\n",
    "def get_all_urls(url):\n",
    "    urls = set()\n",
    "    # domain name of the URL without the protocol (umd.edu in this case)\n",
    "    domain_name = urlparse(url).netloc\n",
    "    soup = BeautifulSoup(requests.get(url).content, \"html.parser\")\n",
    "    for a_tag in soup.findAll(\"a\"):\n",
    "        href = a_tag.attrs.get(\"href\")\n",
    "        if href == \"\" or href is None:\n",
    "            #href is empty and we don't need that a element\n",
    "            continue\n",
    "        #if the link is not absolute, make it by joining relative to the base\n",
    "        href = urljoin(url, href)\n",
    "        parsed_href = urlparse(href)\n",
    "        #constructing an absolute URL from parsed data\n",
    "        href = parsed_href.scheme + \"://\" + parsed_href.netloc + parsed_href.path\n",
    "        if not is_url_valid(href):\n",
    "            #in valid url\n",
    "            continue\n",
    "        if href in internal_urls:\n",
    "            #it is already in the set, so we don't need to add\n",
    "            continue\n",
    "        if domain_name not in href:\n",
    "            #it is an external link. i.e\n",
    "            # Check if it is already there \n",
    "            if href not in external_urls:\n",
    "#                 print(f\"[EXT] External link: {href}\")\n",
    "                external_urls.add(href)\n",
    "            continue\n",
    "#         print(\".\",end=\" \")\n",
    "        print(f\"[INT] Internal link: {href}\")\n",
    "\n",
    "        urls.add(href)\n",
    "        internal_urls.add(href)\n",
    "    return urls\n"
   ]
  },
  {
   "cell_type": "code",
   "execution_count": 69,
   "metadata": {},
   "outputs": [],
   "source": [
    "total_urls_visited = 0\n",
    "def crawl(url, max_urls=50):\n",
    "    #Max URL is just to decrease the time if there are a lot of pages.\n",
    "    #The following code was openly available of github and I found this\n",
    "    #idea useful to inhibit crawling time\n",
    "    global total_urls_visited\n",
    "    total_urls_visited += 1\n",
    "    try:\n",
    "        links = get_all_urls(url)\n",
    "        for link in links:\n",
    "            if total_urls_visited > max_urls:\n",
    "                break\n",
    "            crawl(link, max_urls=max_urls)\n",
    "    except:\n",
    "        print(\"caught\")\n"
   ]
  },
  {
   "cell_type": "code",
   "execution_count": 70,
   "metadata": {},
   "outputs": [],
   "source": [
    "#base_url = \"https://umd.edu/virusinfo\"\n",
    "#Input\n",
    "# base_url = input(\"Enter the URL : \")\n",
    "base_url = \"https://www.bethel.edu/covid-19/\"\n",
    "internal_urls.add(base_url)"
   ]
  },
  {
   "cell_type": "code",
   "execution_count": 71,
   "metadata": {},
   "outputs": [
    {
     "name": "stdout",
     "output_type": "stream",
     "text": [
      "ParseResult(scheme='https', netloc='www.bethel.edu', path='/covid-19/', params='', query='', fragment='')\n",
      "https://www.bethel.edu\n",
      "www.bethel.edu/covid-19/\n",
      "www.bethel.edu\n"
     ]
    }
   ],
   "source": [
    "parsedurl = urlparse(base_url)\n",
    "print(parsedurl)\n",
    "base_url_main = parsedurl.scheme+\"://\"+parsedurl.netloc\n",
    "print(base_url_main)\n",
    "# base_url_text = base_url.split(\"//\",1)[1]\n",
    "base_url_text = parsedurl.netloc+parsedurl.path\n",
    "print(base_url_text)\n",
    "# base_url_text_domain = base_url_text.split(\"/\",1)[0]\n",
    "base_url_text_domain = parsedurl.netloc\n",
    "print(base_url_text_domain)"
   ]
  },
  {
   "cell_type": "code",
   "execution_count": 72,
   "metadata": {},
   "outputs": [],
   "source": [
    "# internal_urls"
   ]
  },
  {
   "cell_type": "code",
   "execution_count": null,
   "metadata": {},
   "outputs": [],
   "source": []
  },
  {
   "cell_type": "code",
   "execution_count": 73,
   "metadata": {},
   "outputs": [
    {
     "name": "stdout",
     "output_type": "stream",
     "text": [
      "[INT] Internal link: https://www.bethel.edu\n",
      "[INT] Internal link: https://www.bethel.edu/about/\n",
      "[INT] Internal link: https://www.bethel.edu/admissions/\n",
      "[INT] Internal link: https://www.bethel.edu/undergrad/admissions/\n",
      "[INT] Internal link: https://www.bethel.edu/graduate/admissions/\n",
      "[INT] Internal link: https://www.bethel.edu/adult-undergrad/admissions/\n",
      "[INT] Internal link: https://www.bethel.edu/seminary/admissions/\n",
      "[INT] Internal link: https://www.bethel.edu/academics/\n",
      "[INT] Internal link: https://www.bethel.edu/undergrad/academics/\n",
      "[INT] Internal link: https://www.bethel.edu/graduate/academics/\n",
      "[INT] Internal link: https://www.bethel.edu/adult-undergrad/academics/\n",
      "[INT] Internal link: https://www.bethel.edu/seminary/academics/\n",
      "[INT] Internal link: https://www.bethel.edu/undergrad/student-life/\n",
      "[INT] Internal link: https://www.bethel.edu/christian-formation/\n",
      "[INT] Internal link: https://www.bethel.edu/offices\n",
      "[INT] Internal link: https://www.bethel.edu/news/\n",
      "[INT] Internal link: https://www.bethel.edu/events/\n",
      "[INT] Internal link: https://www.bethel.edu/admissions/apply/\n",
      "[INT] Internal link: https://www.bethel.edu/admissions/visit\n",
      "[INT] Internal link: https://www.bethel.edu/giving/\n",
      "[INT] Internal link: https://www.bethel.edu/search/\n",
      "[INT] Internal link: https://www.bethel.edu/covid-19/office-hours\n",
      "[INT] Internal link: https://www.bethel.edu/covid-19/faq/\n",
      "[INT] Internal link: https://www.bethel.edu/covid-19/faq/students\n",
      "[INT] Internal link: https://www.bethel.edu/covid-19/faq/faculty-staff\n",
      "[INT] Internal link: https://www.bethel.edu/covid-19/faq/cares-act\n",
      "[INT] Internal link: https://www.bethel.edu/covid-19/financial-assistance\n",
      "[INT] Internal link: https://www.bethel.edu/covid-19/employee-reopening-plan\n",
      "[INT] Internal link: https://www.bethel.edu/covid-19/student-worker-reopening-plan\n",
      "[INT] Internal link: https://www.bethel.edu/covid-19/working-groups\n",
      "[INT] Internal link: https://www.bethel.edu/covid-19/campus-access/\n",
      "[INT] Internal link: https://www.bethel.edu/covid-19/health-screening/\n",
      "[INT] Internal link: https://www.bethel.edu/covid-19/notification-form\n",
      "[INT] Internal link: https://www.bethel.edu/covid-19/images/6-19-20-covid-19-update.pdf\n",
      "[INT] Internal link: https://www.bethel.edu/covid-19/images/6-12-20-covid-19-update.pdf\n",
      "[INT] Internal link: https://www.bethel.edu/covid-19/images/5-29-20-covid-19-update-2.pdf\n",
      "[INT] Internal link: https://www.bethel.edu/covid-19/images/5-29-20-covid-19-update.pdf\n",
      "[INT] Internal link: https://www.bethel.edu/covid-19/images/5-11-20-covid-19-update.pdf\n",
      "[INT] Internal link: https://www.bethel.edu/covid-19/images/5-1-20-covid-19-update-2.pdf\n",
      "[INT] Internal link: https://www.bethel.edu/covid-19/images/5-1-20-covid-19-update.pdf\n",
      "[INT] Internal link: https://www.bethel.edu/news/articles/2020/april/covid-19-update-11\n",
      "[INT] Internal link: https://www.bethel.edu/covid-19/images/4-9-20-covid-19-update.pdf\n",
      "[INT] Internal link: https://www.bethel.edu/covid-19/images/4-8-20-covid-19-update.pdf\n",
      "[INT] Internal link: https://www.bethel.edu/covid-19/images/4-7-20-covid-19-update.pdf\n",
      "[INT] Internal link: https://www.bethel.edu/covid-19/images/4-3-20-covid19-update.pdf\n",
      "[INT] Internal link: https://www.bethel.edu/covid-19/images/04-02-20-covid-19-update.pdf\n",
      "[INT] Internal link: https://www.bethel.edu/covid-19/images/04-01-20-covid-19-update.pdf\n",
      "[INT] Internal link: https://www.bethel.edu/news/articles/2020/april/covid-19-update-10\n",
      "[INT] Internal link: https://www.bethel.edu/covid-19/images/03-31-20-covid19-update.pdf\n",
      "[INT] Internal link: https://www.bethel.edu/covid-19/images/03-27-20-covid-19-update.pdf\n",
      "[INT] Internal link: https://www.bethel.edu/covid-19/images/03-26-20-covid-19-update.pdf\n",
      "[INT] Internal link: https://www.bethel.edu/covid-19/images/03-24-20-covid-19-update.pdf\n",
      "[INT] Internal link: https://www.bethel.edu/news/articles/2020/march/covid-19-update-9\n",
      "[INT] Internal link: https://www.bethel.edu/news/articles/2020/march/covid-19-update-8\n",
      "[INT] Internal link: https://www.bethel.edu/news/articles/2020/march/covid-19-update-7\n",
      "[INT] Internal link: https://www.bethel.edu/news/articles/2020/march/covid-19-update-6\n",
      "[INT] Internal link: https://www.bethel.edu/news/articles/2020/march/covid-19-update-5\n",
      "[INT] Internal link: https://www.bethel.edu/news/articles/2020/march/covid-19-update-4\n",
      "[INT] Internal link: https://www.bethel.edu/news/articles/2020/march/continued-coronavirus-response\n",
      "[INT] Internal link: https://www.bethel.edu/news/articles/2020/march/coronavirus-continuing-response\n",
      "[INT] Internal link: https://www.bethel.edu/news/articles/2020/march/spring-break-trips\n",
      "[INT] Internal link: https://www.bethel.edu/news/articles/2020/march/coronavirus\n",
      "[INT] Internal link: https://www.bethel.edu/covid-19/images/organizational-structure.pdf\n",
      "[INT] Internal link: https://www.bethel.edu/bethel-alert/\n",
      "[INT] Internal link: https://www.bethel.edu/alumni/\n",
      "[INT] Internal link: https://www.bethel.edu/parents/\n",
      "[INT] Internal link: https://www.bethel.edu/christian-formation/church-relations/\n",
      "[INT] Internal link: https://www.bethel.edu/about/maps-directions/\n",
      "[INT] Internal link: https://www.bethel.edu/employment/\n",
      "[INT] Internal link: https://www.bethel.edu/events/calendar/\n",
      "[INT] Internal link: https://www.bethel.edu/library/\n",
      "[INT] Internal link: https://www.bethel.edu/about/contact/questions-comments\n",
      "[INT] Internal link: https://www.bethel.edu/human-resources/complaints-concerns/\n",
      "[INT] Internal link: https://www.bethel.edu/academics/catalog\n",
      "[INT] Internal link: https://www.bethel.edu/about/bethel-glance/accreditation/california-bppe/\n",
      "[INT] Internal link: https://www.bethel.edu/adult-undergrad/\n",
      "[INT] Internal link: https://www.bethel.edu/adult-undergrad/financial-aid/\n",
      "[INT] Internal link: https://www.bethel.edu/student-success/\n",
      "[INT] Internal link: https://www.bethel.edu/adult-undergrad/admissions/events/\n",
      "[INT] Internal link: https://www.bethel.edu/adult-undergrad/admissions/apply/\n",
      "[INT] Internal link: https://www.bethel.edu/adult-undergrad/admissions/apply/deadlines\n",
      "[INT] Internal link: https://www.bethel.edu/adult-undergrad/admissions/visit/\n",
      "[INT] Internal link: https://www.bethel.edu/adult-undergrad/admissions/visit/schedule-visit\n",
      "[INT] Internal link: https://www.bethel.edu/adult-undergrad/admissions/counselors/\n",
      "[INT] Internal link: https://www.bethel.edu/adult-undergrad/admissions/counselors/jessica-rask\n",
      "[INT] Internal link: https://www.bethel.edu/adult-undergrad/admissions/counselors/ellyn-lluch\n",
      "[INT] Internal link: https://www.bethel.edu/adult-undergrad/admissions/counselors/kristin-marvin\n",
      "[INT] Internal link: https://www.bethel.edu/adult-undergrad/admissions/counselors/sean-ulrikson\n",
      "[INT] Internal link: https://www.bethel.edu/adult-undergrad/admissions/counselors/taylor-burgraff\n",
      "[INT] Internal link: https://www.bethel.edu/adult-undergrad/admissions/business-partnerships/\n",
      "[INT] Internal link: https://www.bethel.edu/adult-undergrad/admissions/business-partnerships/partners\n",
      "[INT] Internal link: https://www.bethel.edu/adult-undergrad/admissions/business-partnerships/contact\n",
      "[INT] Internal link: https://www.bethel.edu/adult-undergrad/admissions/why-bethel\n",
      "[INT] Internal link: https://www.bethel.edu/adult-undergrad/admissions/faq\n",
      "[INT] Internal link: https://www.bethel.edu/adult-undergrad/admissions/referral-program\n",
      "[INT] Internal link: https://www.bethel.edu/adult-undergrad/admissions/contact/\n",
      "[INT] Internal link: https://www.bethel.edu/adult-undergrad/admissions/contact/request-information/\n",
      "[INT] Internal link: https://www.bethel.edu/adult-undergrad/academics/associates/\n",
      "[INT] Internal link: https://www.bethel.edu/adult-undergrad/academics/certificates/addiction-studies/\n",
      "[INT] Internal link: https://www.bethel.edu/adult-undergrad/academics/certificates/alcohol-drug-counseling/\n",
      "[INT] Internal link: https://www.bethel.edu/adult-undergrad/academics/certificates/senior-care-leadership/\n",
      "[INT] Internal link: https://www.bethel.edu/adult-undergrad/academics/accounting/\n",
      "[INT] Internal link: https://www.bethel.edu/adult-undergrad/academics/business-management/\n",
      "[INT] Internal link: https://www.bethel.edu/adult-undergrad/academics/christian-ministries/\n",
      "[INT] Internal link: https://www.bethel.edu/adult-undergrad/academics/finance/\n",
      "[INT] Internal link: https://www.bethel.edu/adult-undergrad/academics/human-services/\n",
      "[INT] Internal link: https://www.bethel.edu/adult-undergrad/academics/nursing/\n",
      "[INT] Internal link: https://www.bethel.edu/adult-undergrad/academics/organizational-leadership/\n",
      "[INT] Internal link: https://www.bethel.edu/adult-undergrad/academics/post-baccalaureate-nursing/\n",
      "[INT] Internal link: https://www.bethel.edu/adult-undergrad/academics/psychology/\n",
      "[INT] Internal link: https://www.bethel.edu/adult-undergrad/academics/special-education/\n"
     ]
    },
    {
     "name": "stdout",
     "output_type": "stream",
     "text": [
      "[INT] Internal link: https://www.bethel.edu/adult-undergrad/academics/certificates/\n",
      "[INT] Internal link: https://www.bethel.edu/adult-undergrad/academics/certificates/alcohol-drug-counseling/program-details/\n",
      "[INT] Internal link: https://www.bethel.edu/adult-undergrad/academics/certificates/alcohol-drug-counseling/how-to-apply\n",
      "[INT] Internal link: https://www.bethel.edu/adult-undergrad/academics/ways-to-earn-credit/prior-learning-credit\n",
      "[INT] Internal link: https://www.bethel.edu/academics/program-details-disclaimer\n",
      "[INT] Internal link: https://www.bethel.edu/academics/program-licensure/\n",
      "[INT] Internal link: https://www.bethel.edu/adult-undergrad/academics/ways-to-earn-credit/\n",
      "[INT] Internal link: https://www.bethel.edu/adult-undergrad/academics/bachelors\n",
      "[INT] Internal link: https://www.bethel.edu/adult-undergrad/academics/associates-degrees\n",
      "[INT] Internal link: https://www.bethel.edu/adult-undergrad/academics/online\n",
      "[INT] Internal link: https://www.bethel.edu/adult-undergrad/academics/faculty\n",
      "[INT] Internal link: https://www.bethel.edu/adult-undergrad/academics/ways-to-earn-credit/individual-courses/\n",
      "[INT] Internal link: https://www.bethel.edu/adult-undergrad/academics/ways-to-earn-credit/exam-credits/\n",
      "[INT] Internal link: https://www.bethel.edu/adult-undergrad/academics/catalog/\n",
      "[INT] Internal link: https://www.bethel.edu/adult-undergrad/academics/catalog/19-20-caps-catalog.pdf\n",
      "[INT] Internal link: https://www.bethel.edu/adult-undergrad/academics/catalog/19-20-caps-catalog-spring-addendum.pdf\n",
      "[INT] Internal link: https://www.bethel.edu/adult-undergrad/academics/catalog/bsn-post-baccalaureate-addendum.pdf\n",
      "[INT] Internal link: https://www.bethel.edu/adult-undergrad/academics/catalog/18-19-caps-catalog.pdf\n",
      "[INT] Internal link: https://www.bethel.edu/adult-undergrad/academics/catalog/ba-psychology-addendum.pdf\n",
      "[INT] Internal link: https://www.bethel.edu/adult-undergrad/academics/catalog/ba-sped-program-addendum.pdf\n",
      "[INT] Internal link: https://www.bethel.edu/adult-undergrad/academics/catalog/17-18-caps-catalog.pdf\n",
      "[INT] Internal link: https://www.bethel.edu/adult-undergrad/academics/catalog/16-17-caps-catalog.pdf\n",
      "[INT] Internal link: https://www.bethel.edu/adult-undergrad/academics/catalog/15-16-caps-catalog.pdf\n",
      "[INT] Internal link: https://www.bethel.edu/adult-undergrad/academics/catalog/14-15\n",
      "[INT] Internal link: https://www.bethel.edu/adult-undergrad/academics/catalog/14-15-caps-catalog.pdf\n",
      "[INT] Internal link: https://www.bethel.edu/adult-undergrad/academics/catalog/13-14\n",
      "[INT] Internal link: https://www.bethel.edu/adult-undergrad/academics/catalog/13-14-caps-catalog.pdf\n",
      "[INT] Internal link: https://www.bethel.edu/adult-undergrad/academics/catalog/12-13-caps-catalog.pdf\n",
      "[INT] Internal link: https://www.bethel.edu/adult-undergrad/academics/catalog/11-12-caps-catalog.pdf\n",
      "[INT] Internal link: https://www.bethel.edu/adult-undergrad/academics/catalog/10-11-caps-catalog.pdf\n",
      "[INT] Internal link: https://www.bethel.edu/adult-undergrad/academics/catalog/09-10-caps-catalog.pdf\n",
      "[INT] Internal link: https://www.bethel.edu/adult-undergrad/academics/catalog/08-09-caps-catalog.pdf\n"
     ]
    },
    {
     "name": "stderr",
     "output_type": "stream",
     "text": [
      "Some characters could not be decoded, and were replaced with REPLACEMENT CHARACTER.\n",
      "Some characters could not be decoded, and were replaced with REPLACEMENT CHARACTER.\n",
      "Some characters could not be decoded, and were replaced with REPLACEMENT CHARACTER.\n",
      "Some characters could not be decoded, and were replaced with REPLACEMENT CHARACTER.\n",
      "Some characters could not be decoded, and were replaced with REPLACEMENT CHARACTER.\n",
      "Some characters could not be decoded, and were replaced with REPLACEMENT CHARACTER.\n",
      "Some characters could not be decoded, and were replaced with REPLACEMENT CHARACTER.\n",
      "Some characters could not be decoded, and were replaced with REPLACEMENT CHARACTER.\n",
      "Some characters could not be decoded, and were replaced with REPLACEMENT CHARACTER.\n",
      "Some characters could not be decoded, and were replaced with REPLACEMENT CHARACTER.\n",
      "Some characters could not be decoded, and were replaced with REPLACEMENT CHARACTER.\n",
      "Some characters could not be decoded, and were replaced with REPLACEMENT CHARACTER.\n",
      "Some characters could not be decoded, and were replaced with REPLACEMENT CHARACTER.\n",
      "Some characters could not be decoded, and were replaced with REPLACEMENT CHARACTER.\n",
      "Some characters could not be decoded, and were replaced with REPLACEMENT CHARACTER.\n",
      "Some characters could not be decoded, and were replaced with REPLACEMENT CHARACTER.\n"
     ]
    },
    {
     "name": "stdout",
     "output_type": "stream",
     "text": [
      "[INT] Internal link: https://www.bethel.edu/adult-undergrad/academics/accounting/program-details/\n",
      "[INT] Internal link: https://www.bethel.edu/adult-undergrad/academics/certificates/addiction-studies/program-details/\n",
      "[INT] Internal link: https://www.bethel.edu/adult-undergrad/academics/associates/program-details/associate-arts\n",
      "[INT] Internal link: https://www.bethel.edu/adult-undergrad/academics/associates/program-details/associate-science\n",
      "[INT] Internal link: https://www.bethel.edu/adult-undergrad/academics/business-management/program-details/global-business\n",
      "[INT] Internal link: https://www.bethel.edu/adult-undergrad/academics/business-management/program-details/senior-care-leadership\n",
      "[INT] Internal link: https://www.bethel.edu/adult-undergrad/academics/business-management/program-details/management\n",
      "[INT] Internal link: https://www.bethel.edu/adult-undergrad/academics/christian-ministries/program-details/\n",
      "[INT] Internal link: https://www.bethel.edu/adult-undergrad/academics/human-services/program-details/\n",
      "[INT] Internal link: https://www.bethel.edu/adult-undergrad/academics/nursing/program-details/\n",
      "[INT] Internal link: https://www.bethel.edu/adult-undergrad/academics/organizational-leadership/program-details/organizational-leadership\n",
      "[INT] Internal link: https://www.bethel.edu/adult-undergrad/academics/organizational-leadership/program-details/christian-ministries\n",
      "[INT] Internal link: https://www.bethel.edu/adult-undergrad/academics/organizational-leadership/program-details/human-services\n",
      "[INT] Internal link: https://www.bethel.edu/adult-undergrad/academics/psychology/program-details/\n",
      "[INT] Internal link: https://www.bethel.edu/adult-undergrad/academics/certificates/senior-care-leadership/program-details/\n",
      "[INT] Internal link: https://www.bethel.edu/adult-undergrad/academics/special-education/program-details/\n",
      "[INT] Internal link: https://www.bethel.edu/adult-undergrad/academics/organizational-leadership/program-details/\n",
      "[INT] Internal link: https://www.bethel.edu/adult-undergrad/academics/organizational-leadership/public-information\n",
      "[INT] Internal link: https://www.bethel.edu/adult-undergrad/academics/organizational-leadership/faculty\n",
      "[INT] Internal link: https://www.bethel.edu/adult-undergrad/academics/organizational-leadership/how-to-apply\n",
      "[INT] Internal link: https://www.bethel.edu/adult-undergrad/academics/organizational-leadership/public-information.pdf\n"
     ]
    },
    {
     "name": "stderr",
     "output_type": "stream",
     "text": [
      "Some characters could not be decoded, and were replaced with REPLACEMENT CHARACTER.\n"
     ]
    },
    {
     "name": "stdout",
     "output_type": "stream",
     "text": [
      "[INT] Internal link: https://www.bethel.edu/academics/faculty/arkema-jentine\n",
      "[INT] Internal link: https://www.bethel.edu/academics/faculty/bostrom-cheryl\n",
      "[INT] Internal link: https://www.bethel.edu/academics/faculty/taylor-hoffer\n",
      "[INT] Internal link: https://www.bethel.edu/academics/faculty/lindberg-gregg\n",
      "[INT] Internal link: https://www.bethel.edu/academics/faculty/michener-mary\n",
      "[INT] Internal link: https://www.bethel.edu/academics/faculty/nauman-brad\n",
      "[INT] Internal link: https://www.bethel.edu/academics/faculty/prentice-al\n",
      "[INT] Internal link: https://www.bethel.edu/academics/faculty/sorensen-andrea\n",
      "[INT] Internal link: https://www.bethel.edu/academics/faculty/\n",
      "[INT] Internal link: https://www.bethel.edu/graduate/academics/teaching/\n",
      "[INT] Internal link: https://www.bethel.edu/graduate/\n",
      "[INT] Internal link: https://www.bethel.edu/graduate/financial-aid/\n",
      "[INT] Internal link: https://www.bethel.edu/graduate/academics/teaching/program-details/\n",
      "[INT] Internal link: https://www.bethel.edu/graduate/academics/teaching/license-options\n",
      "[INT] Internal link: https://www.bethel.edu/graduate/academics/teaching/faculty\n",
      "[INT] Internal link: https://www.bethel.edu/graduate/academics/teaching/how-to-apply\n",
      "[INT] Internal link: https://www.bethel.edu/graduate/admissions/visit/\n",
      "[INT] Internal link: https://www.bethel.edu/graduate/admissions/contact/request-information/\n",
      "[INT] Internal link: https://www.bethel.edu/graduate/admissions/contact/\n",
      "[INT] Internal link: https://www.bethel.edu/graduate/admissions/apply/\n",
      "[INT] Internal link: https://www.bethel.edu/events/2020/admissions/ms-physician-assistant-online-info-session2\n",
      "[INT] Internal link: https://www.bethel.edu/events/2020/admissions/mba-and-strategic-leadership-ba-online-info-session\n",
      "[INT] Internal link: https://www.bethel.edu/graduate/admissions/events/\n",
      "[INT] Internal link: https://www.bethel.edu/graduate/admissions/counselors/erica-hering\n",
      "[INT] Internal link: https://www.bethel.edu/graduate/admissions/counselors/\n",
      "[INT] Internal link: https://www.bethel.edu/graduate/admissions/apply/deadlines\n",
      "[INT] Internal link: https://www.bethel.edu/graduate/admissions/visit/schedule-visit\n",
      "[INT] Internal link: https://www.bethel.edu/graduate/admissions/counselors/tanner-balk\n",
      "[INT] Internal link: https://www.bethel.edu/graduate/admissions/counselors/kari-boike\n",
      "[INT] Internal link: https://www.bethel.edu/graduate/admissions/counselors/kelly-buzzell\n",
      "[INT] Internal link: https://www.bethel.edu/graduate/admissions/counselors/janna-collins\n",
      "[INT] Internal link: https://www.bethel.edu/graduate/admissions/counselors/adam-dommeyer\n",
      "[INT] Internal link: https://www.bethel.edu/graduate/admissions/counselors/erica-garrett\n",
      "[INT] Internal link: https://www.bethel.edu/graduate/admissions/counselors/devin-lehnhoff\n",
      "[INT] Internal link: https://www.bethel.edu/graduate/admissions/counselors/kasin-lewicki\n",
      "[INT] Internal link: https://www.bethel.edu/graduate/admissions/counselors/aimee-roddel\n",
      "[INT] Internal link: https://www.bethel.edu/graduate/admissions/counselors/jacob-thompson\n",
      "[INT] Internal link: https://www.bethel.edu/graduate/admissions/counselors/rose-nelessen\n",
      "[INT] Internal link: https://www.bethel.edu/graduate/admissions/counselors/hilary-brodeur\n",
      "[INT] Internal link: https://www.bethel.edu/graduate/admissions/academic-partnerships/\n",
      "[INT] Internal link: https://www.bethel.edu/graduate/admissions/business-partnerships/\n",
      "[INT] Internal link: https://www.bethel.edu/graduate/admissions/business-partnerships/partners\n",
      "[INT] Internal link: https://www.bethel.edu/graduate/admissions/business-partnerships/contact\n",
      "[INT] Internal link: https://www.bethel.edu/graduate/admissions/why-bethel\n",
      "[INT] Internal link: https://www.bethel.edu/graduate/admissions/faq\n",
      "[INT] Internal link: https://www.bethel.edu/graduate/admissions/referral-program/\n",
      "[INT] Internal link: https://www.bethel.edu/graduate/admissions/counselors/kate-gunderson\n",
      "[INT] Internal link: http://www.bethel.edu/finaid/gs/\n",
      "[INT] Internal link: http://www.bethel.edu/about/\n",
      "[INT] Internal link: http://www.bethel.edu/admissions/\n",
      "[INT] Internal link: http://www.bethel.edu/undergrad/admissions/\n",
      "[INT] Internal link: http://www.bethel.edu/graduate/admissions/\n",
      "[INT] Internal link: http://www.bethel.edu/adult-undergrad/admissions/\n",
      "[INT] Internal link: http://www.bethel.edu/seminary/admissions/\n",
      "[INT] Internal link: http://www.bethel.edu/academics/\n",
      "[INT] Internal link: http://www.bethel.edu/undergrad/academics/\n",
      "[INT] Internal link: http://www.bethel.edu/graduate/academics/\n",
      "[INT] Internal link: http://www.bethel.edu/adult-undergrad/academics/\n",
      "[INT] Internal link: http://www.bethel.edu/seminary/academics/\n",
      "[INT] Internal link: http://www.bethel.edu/undergrad/student-life/\n",
      "[INT] Internal link: http://www.bethel.edu/christian-formation/\n",
      "[INT] Internal link: http://www.bethel.edu/offices\n",
      "[INT] Internal link: http://www.bethel.edu/news/\n",
      "[INT] Internal link: http://www.bethel.edu/events/\n",
      "[INT] Internal link: http://www.bethel.edu/admissions/apply/\n",
      "[INT] Internal link: http://www.bethel.edu/admissions/visit\n",
      "[INT] Internal link: http://www.bethel.edu/giving/\n",
      "[INT] Internal link: http://www.bethel.edu/search/\n",
      "[INT] Internal link: http://www.bethel.edu/graduate/\n",
      "[INT] Internal link: http://www.bethel.edu/graduate/financial-aid/\n",
      "[INT] Internal link: http://www.bethel.edu/finaid/gs/2021-overview\n",
      "[INT] Internal link: http://www.bethel.edu/finaid/gs/19-20-overview\n",
      "[INT] Internal link: http://www.bethel.edu/graduate/financial-aid/types/\n",
      "[INT] Internal link: http://www.bethel.edu/graduate/financial-aid/types/grants-scholarships/\n",
      "[INT] Internal link: http://www.bethel.edu/finaid/gs/types/grants-scholarships/private\n",
      "[INT] Internal link: http://www.bethel.edu/graduate/financial-aid/types/loans/\n",
      "[INT] Internal link: http://www.bethel.edu/graduate/financial-aid/types/military-benefits/\n",
      "[INT] Internal link: http://www.bethel.edu/finaid/gs/types/military-benefits/faq\n",
      "[INT] Internal link: http://www.bethel.edu/finaid/gs/financial-aid-timeline-basic\n",
      "[INT] Internal link: http://www.bethel.edu/graduate/financial-aid/before-apply/\n",
      "[INT] Internal link: http://www.bethel.edu/finaid/gs/before-apply/aid-changes\n",
      "[INT] Internal link: http://www.bethel.edu/graduate/financial-aid/apply/\n",
      "[INT] Internal link: http://www.bethel.edu/finaid/gs/apply/tax-updates\n",
      "[INT] Internal link: http://www.bethel.edu/finaid/gs/apply/verification\n",
      "[INT] Internal link: http://www.bethel.edu/graduate/financial-aid/after-awarded/\n",
      "[INT] Internal link: http://www.bethel.edu/finaid/gs/after-awarded/compare-loans\n",
      "[INT] Internal link: http://www.bethel.edu/finaid/gs/after-awarded/apply-for-loans\n",
      "[INT] Internal link: http://www.bethel.edu/finaid/gs/after-awarded/enrollment-changes\n",
      "[INT] Internal link: http://www.bethel.edu/graduate/financial-aid/repayment/\n",
      "[INT] Internal link: http://www.bethel.edu/finaid/gs/repayment/federal-consolidation\n",
      "[INT] Internal link: http://www.bethel.edu/finaid/gs/repayment/private-consolidation\n",
      "[INT] Internal link: http://www.bethel.edu/finaid/gs/repayment/borrow-wisely-graduate\n",
      "[INT] Internal link: http://www.bethel.edu/graduate/financial-aid/eligibility/\n",
      "[INT] Internal link: http://www.bethel.edu/finaid/gs/eligibility/academic-progress\n",
      "[INT] Internal link: http://www.bethel.edu/finaid/gs/eligibility/programs\n",
      "[INT] Internal link: http://www.bethel.edu/finaid/gs/dates-deadlines\n",
      "[INT] Internal link: http://www.bethel.edu/graduate/financial-aid/tuition/\n",
      "[INT] Internal link: http://www.bethel.edu/finaid/gs/tuition/refunds\n",
      "[INT] Internal link: http://www.bethel.edu/finaid/gs/tuition/costs-19-20\n",
      "[INT] Internal link: http://www.bethel.edu/finaid/gs/faq\n",
      "[INT] Internal link: http://www.bethel.edu/graduate/financial-aid/forms/\n",
      "[INT] Internal link: http://www.bethel.edu/finaid/gs/forms/consumer-information\n",
      "[INT] Internal link: http://www.bethel.edu/graduate/financial-aid/contact/\n",
      "[INT] Internal link: http://www.bethel.edu/graduate/financial-aid/contact/counselors/\n",
      "[INT] Internal link: http://www.bethel.edu/finaid/gs/contact/counselors/anita-ostercamp\n",
      "[INT] Internal link: http://www.bethel.edu/finaid/gs/contact/counselors/caitlin-zwiener\n",
      "[INT] Internal link: http://www.bethel.edu/finaid/gs/contact/counselors/dawn-reed\n",
      "[INT] Internal link: http://www.bethel.edu/finaid/gs/contact/counselors/debra-cordova\n",
      "[INT] Internal link: http://www.bethel.edu/finaid/gs/contact/counselors/devika-persaud\n",
      "[INT] Internal link: http://www.bethel.edu/finaid/gs/contact/counselors/jeff-olson\n",
      "[INT] Internal link: http://www.bethel.edu/finaid/gs/contact/counselors/laura-ellwanger\n",
      "[INT] Internal link: http://www.bethel.edu/finaid/gs/contact/counselors/marla-rupp\n",
      "[INT] Internal link: http://www.bethel.edu/finaid/gs/contact/counselors/melissa-zugschwert\n",
      "[INT] Internal link: http://www.bethel.edu/finaid/gs/contact/counselors/shema-echano\n",
      "[INT] Internal link: http://www.bethel.edu/financial-aid/timeline\n",
      "[INT] Internal link: http://www.bethel.edu/finaid/gs/before-apply/\n",
      "[INT] Internal link: http://www.bethel.edu/finaid/gs/apply/\n",
      "[INT] Internal link: http://www.bethel.edu/finaid/gs/after-awarded/\n",
      "[INT] Internal link: http://www.bethel.edu/finaid/gs/types/grants-scholarships/\n",
      "[INT] Internal link: http://www.bethel.edu/finaid/gs/types/loans/\n",
      "[INT] Internal link: http://www.bethel.edu/finaid/gs/types/military-benefits/\n",
      "[INT] Internal link: http://www.bethel.edu/finaid/gs/tuition/\n",
      "[INT] Internal link: http://www.bethel.edu/finaid/gs/types/\n",
      "[INT] Internal link: http://www.bethel.edu/finaid/gs/contact/\n",
      "[INT] Internal link: http://www.bethel.edu/alumni/\n",
      "[INT] Internal link: http://www.bethel.edu/parents/\n",
      "[INT] Internal link: http://www.bethel.edu/christian-formation/church-relations/\n",
      "[INT] Internal link: http://www.bethel.edu/about/maps-directions/\n",
      "[INT] Internal link: http://www.bethel.edu/employment/\n",
      "[INT] Internal link: http://www.bethel.edu/events/calendar/\n",
      "[INT] Internal link: http://www.bethel.edu/library/\n",
      "[INT] Internal link: http://www.bethel.edu/about/contact/questions-comments\n",
      "[INT] Internal link: http://www.bethel.edu/human-resources/complaints-concerns/\n",
      "[INT] Internal link: http://www.bethel.edu/academics/catalog\n",
      "[INT] Internal link: http://www.bethel.edu/about/bethel-glance/accreditation/california-bppe/\n"
     ]
    },
    {
     "name": "stdout",
     "output_type": "stream",
     "text": [
      "[INT] Internal link: http://www.bethel.edu/finaid/gs/contact/2021-overview\n",
      "[INT] Internal link: http://www.bethel.edu/finaid/gs/contact/19-20-overview\n",
      "[INT] Internal link: http://www.bethel.edu/finaid/gs/contact/types/grants-scholarships/private\n",
      "[INT] Internal link: http://www.bethel.edu/finaid/gs/contact/types/military-benefits/faq\n",
      "[INT] Internal link: http://www.bethel.edu/finaid/gs/contact/financial-aid-timeline-basic\n",
      "[INT] Internal link: http://www.bethel.edu/finaid/gs/contact/before-apply/aid-changes\n",
      "[INT] Internal link: http://www.bethel.edu/finaid/gs/contact/apply/tax-updates\n",
      "[INT] Internal link: http://www.bethel.edu/finaid/gs/contact/apply/verification\n",
      "[INT] Internal link: http://www.bethel.edu/finaid/gs/contact/after-awarded/compare-loans\n",
      "[INT] Internal link: http://www.bethel.edu/finaid/gs/contact/after-awarded/apply-for-loans\n",
      "[INT] Internal link: http://www.bethel.edu/finaid/gs/contact/after-awarded/enrollment-changes\n",
      "[INT] Internal link: http://www.bethel.edu/finaid/gs/contact/repayment/federal-consolidation\n",
      "[INT] Internal link: http://www.bethel.edu/finaid/gs/contact/repayment/private-consolidation\n",
      "[INT] Internal link: http://www.bethel.edu/finaid/gs/contact/repayment/borrow-wisely-graduate\n",
      "[INT] Internal link: http://www.bethel.edu/finaid/gs/contact/eligibility/academic-progress\n",
      "[INT] Internal link: http://www.bethel.edu/finaid/gs/contact/eligibility/programs\n",
      "[INT] Internal link: http://www.bethel.edu/finaid/gs/contact/dates-deadlines\n",
      "[INT] Internal link: http://www.bethel.edu/finaid/gs/contact/tuition/refunds\n",
      "[INT] Internal link: http://www.bethel.edu/finaid/gs/contact/tuition/costs-19-20\n",
      "[INT] Internal link: http://www.bethel.edu/finaid/gs/contact/faq\n",
      "[INT] Internal link: http://www.bethel.edu/finaid/gs/contact/forms/consumer-information\n",
      "[INT] Internal link: http://www.bethel.edu/finaid/gs/contact/counselors/counselors/anita-ostercamp\n",
      "[INT] Internal link: http://www.bethel.edu/finaid/gs/contact/counselors/counselors/caitlin-zwiener\n",
      "[INT] Internal link: http://www.bethel.edu/finaid/gs/contact/counselors/counselors/dawn-reed\n",
      "[INT] Internal link: http://www.bethel.edu/finaid/gs/contact/counselors/counselors/debra-cordova\n",
      "[INT] Internal link: http://www.bethel.edu/finaid/gs/contact/counselors/counselors/devika-persaud\n",
      "[INT] Internal link: http://www.bethel.edu/finaid/gs/contact/counselors/counselors/jeff-olson\n",
      "[INT] Internal link: http://www.bethel.edu/finaid/gs/contact/counselors/counselors/laura-ellwanger\n",
      "[INT] Internal link: http://www.bethel.edu/finaid/gs/contact/counselors/counselors/marla-rupp\n",
      "[INT] Internal link: http://www.bethel.edu/finaid/gs/contact/counselors/counselors/melissa-zugschwert\n",
      "[INT] Internal link: http://www.bethel.edu/finaid/gs/contact/counselors/counselors/shema-echano\n",
      "[INT] Internal link: http://www.bethel.edu/finaid/financial-aid/forms/secure-document-upload\n",
      "[INT] Internal link: http://www.bethel.edu/finaid/covid-19/\n",
      "[INT] Internal link: http://www.bethel.edu/finaid/financial-aid/forms/scheduling-tool\n",
      "[INT] Internal link: http://www.bethel.edu/finaid/financial-aid/\n",
      "[INT] Internal link: http://www.bethel.edu/finaid/gs/contact/types/\n",
      "[INT] Internal link: http://www.bethel.edu/finaid/gs/contact/apply/\n",
      "[INT] Internal link: http://www.bethel.edu/finaid/gs/contact/counselors/\n",
      "[INT] Internal link: http://www.bethel.edu/finaid/gs/contact/tuition/counselors/anita-ostercamp\n",
      "[INT] Internal link: http://www.bethel.edu/finaid/gs/contact/tuition/counselors/caitlin-zwiener\n",
      "[INT] Internal link: http://www.bethel.edu/finaid/gs/contact/tuition/counselors/dawn-reed\n",
      "[INT] Internal link: http://www.bethel.edu/finaid/gs/contact/tuition/counselors/debra-cordova\n",
      "[INT] Internal link: http://www.bethel.edu/finaid/gs/contact/tuition/counselors/devika-persaud\n",
      "[INT] Internal link: http://www.bethel.edu/finaid/gs/contact/tuition/counselors/jeff-olson\n",
      "[INT] Internal link: http://www.bethel.edu/finaid/gs/contact/tuition/counselors/laura-ellwanger\n",
      "[INT] Internal link: http://www.bethel.edu/finaid/gs/contact/tuition/counselors/marla-rupp\n",
      "[INT] Internal link: http://www.bethel.edu/finaid/gs/contact/tuition/counselors/melissa-zugschwert\n",
      "[INT] Internal link: http://www.bethel.edu/finaid/gs/contact/tuition/counselors/shema-echano\n",
      "[INT] Internal link: http://www.bethel.edu/finaid/gs/contact/tuition/\n",
      "[INT] Internal link: http://www.bethel.edu/finaid/gs/contact/tuition/2021-overview\n",
      "[INT] Internal link: http://www.bethel.edu/finaid/gs/contact/tuition/19-20-overview\n",
      "[INT] Internal link: http://www.bethel.edu/finaid/gs/contact/tuition/types/grants-scholarships/private\n",
      "[INT] Internal link: http://www.bethel.edu/finaid/gs/contact/tuition/types/military-benefits/faq\n",
      "[INT] Internal link: http://www.bethel.edu/finaid/gs/contact/tuition/financial-aid-timeline-basic\n",
      "[INT] Internal link: http://www.bethel.edu/finaid/gs/contact/tuition/before-apply/aid-changes\n",
      "[INT] Internal link: http://www.bethel.edu/finaid/gs/contact/tuition/apply/tax-updates\n",
      "[INT] Internal link: http://www.bethel.edu/finaid/gs/contact/tuition/apply/verification\n",
      "[INT] Internal link: http://www.bethel.edu/finaid/gs/contact/tuition/after-awarded/compare-loans\n",
      "[INT] Internal link: http://www.bethel.edu/finaid/gs/contact/tuition/after-awarded/apply-for-loans\n",
      "[INT] Internal link: http://www.bethel.edu/finaid/gs/contact/tuition/after-awarded/enrollment-changes\n",
      "[INT] Internal link: http://www.bethel.edu/finaid/gs/contact/tuition/repayment/federal-consolidation\n",
      "[INT] Internal link: http://www.bethel.edu/finaid/gs/contact/tuition/repayment/private-consolidation\n",
      "[INT] Internal link: http://www.bethel.edu/finaid/gs/contact/tuition/repayment/borrow-wisely-graduate\n",
      "[INT] Internal link: http://www.bethel.edu/finaid/gs/contact/tuition/eligibility/academic-progress\n",
      "[INT] Internal link: http://www.bethel.edu/finaid/gs/contact/tuition/eligibility/programs\n",
      "[INT] Internal link: http://www.bethel.edu/finaid/gs/contact/tuition/dates-deadlines\n",
      "[INT] Internal link: http://www.bethel.edu/finaid/gs/contact/tuition/tuition/refunds\n",
      "[INT] Internal link: http://www.bethel.edu/finaid/gs/contact/tuition/tuition/costs-19-20\n",
      "[INT] Internal link: http://www.bethel.edu/finaid/gs/contact/tuition/faq\n",
      "[INT] Internal link: http://www.bethel.edu/finaid/gs/contact/tuition/forms/consumer-information\n",
      "[INT] Internal link: http://www.bethel.edu/finaid/gs/contact/tuition/counselors/counselors/anita-ostercamp\n",
      "[INT] Internal link: http://www.bethel.edu/finaid/gs/contact/tuition/counselors/counselors/caitlin-zwiener\n",
      "[INT] Internal link: http://www.bethel.edu/finaid/gs/contact/tuition/counselors/counselors/dawn-reed\n",
      "[INT] Internal link: http://www.bethel.edu/finaid/gs/contact/tuition/counselors/counselors/debra-cordova\n",
      "[INT] Internal link: http://www.bethel.edu/finaid/gs/contact/tuition/counselors/counselors/devika-persaud\n",
      "[INT] Internal link: http://www.bethel.edu/finaid/gs/contact/tuition/counselors/counselors/jeff-olson\n",
      "[INT] Internal link: http://www.bethel.edu/finaid/gs/contact/tuition/counselors/counselors/laura-ellwanger\n",
      "[INT] Internal link: http://www.bethel.edu/finaid/gs/contact/tuition/counselors/counselors/marla-rupp\n",
      "[INT] Internal link: http://www.bethel.edu/finaid/gs/contact/tuition/counselors/counselors/melissa-zugschwert\n",
      "[INT] Internal link: http://www.bethel.edu/finaid/gs/contact/tuition/counselors/counselors/shema-echano\n",
      "[INT] Internal link: http://www.bethel.edu/finaid/gs/financial-aid/forms/secure-document-upload\n",
      "[INT] Internal link: http://www.bethel.edu/finaid/gs/covid-19/\n",
      "[INT] Internal link: http://www.bethel.edu/finaid/gs/financial-aid/forms/scheduling-tool\n",
      "[INT] Internal link: http://www.bethel.edu/finaid/gs/financial-aid/\n",
      "[INT] Internal link: http://www.bethel.edu/finaid/gs/contact/tuition/types/\n",
      "[INT] Internal link: http://www.bethel.edu/finaid/gs/contact/tuition/apply/\n",
      "[INT] Internal link: http://www.bethel.edu/finaid/gs/contact/tuition/counselors/\n",
      "[+] Total External links: 56\n",
      "[+] Total Internal links: 387\n",
      "[+] Total: 443\n"
     ]
    }
   ],
   "source": [
    "crawl(base_url)\n",
    "print(\"[+] Total External links:\", len(external_urls))\n",
    "print(\"[+] Total Internal links:\", len(internal_urls))\n",
    "print(\"[+] Total:\", len(external_urls) + len(internal_urls))"
   ]
  },
  {
   "cell_type": "code",
   "execution_count": 74,
   "metadata": {},
   "outputs": [
    {
     "name": "stdout",
     "output_type": "stream",
     "text": [
      "31 0\n"
     ]
    },
    {
     "name": "stderr",
     "output_type": "stream",
     "text": [
      "Some characters could not be decoded, and were replaced with REPLACEMENT CHARACTER.\n"
     ]
    },
    {
     "name": "stdout",
     "output_type": "stream",
     "text": [
      "[+] NEW Total External links: 56\n",
      "[+] NEW Total Internal links: 387\n",
      "[+] NEW Total: 443\n"
     ]
    },
    {
     "name": "stderr",
     "output_type": "stream",
     "text": [
      "Some characters could not be decoded, and were replaced with REPLACEMENT CHARACTER.\n"
     ]
    },
    {
     "name": "stdout",
     "output_type": "stream",
     "text": [
      "[+] NEW Total External links: 56\n",
      "[+] NEW Total Internal links: 387\n",
      "[+] NEW Total: 443\n"
     ]
    },
    {
     "name": "stderr",
     "output_type": "stream",
     "text": [
      "Some characters could not be decoded, and were replaced with REPLACEMENT CHARACTER.\n"
     ]
    },
    {
     "name": "stdout",
     "output_type": "stream",
     "text": [
      "[+] NEW Total External links: 56\n",
      "[+] NEW Total Internal links: 387\n",
      "[+] NEW Total: 443\n",
      "[INT] Internal link: https://www.bethel.edu/covid-19/health-screening/logout\n",
      "[+] NEW Total External links: 58\n",
      "[+] NEW Total Internal links: 388\n",
      "[+] NEW Total: 446\n"
     ]
    },
    {
     "name": "stderr",
     "output_type": "stream",
     "text": [
      "Some characters could not be decoded, and were replaced with REPLACEMENT CHARACTER.\n"
     ]
    },
    {
     "name": "stdout",
     "output_type": "stream",
     "text": [
      "[+] NEW Total External links: 58\n",
      "[+] NEW Total Internal links: 388\n",
      "[+] NEW Total: 446\n"
     ]
    },
    {
     "name": "stderr",
     "output_type": "stream",
     "text": [
      "Some characters could not be decoded, and were replaced with REPLACEMENT CHARACTER.\n"
     ]
    },
    {
     "name": "stdout",
     "output_type": "stream",
     "text": [
      "[+] NEW Total External links: 58\n",
      "[+] NEW Total Internal links: 388\n",
      "[+] NEW Total: 446\n",
      "[+] NEW Total External links: 58\n",
      "[+] NEW Total Internal links: 388\n",
      "[+] NEW Total: 446\n"
     ]
    },
    {
     "name": "stderr",
     "output_type": "stream",
     "text": [
      "Some characters could not be decoded, and were replaced with REPLACEMENT CHARACTER.\n"
     ]
    },
    {
     "name": "stdout",
     "output_type": "stream",
     "text": [
      "[+] NEW Total External links: 58\n",
      "[+] NEW Total Internal links: 388\n",
      "[+] NEW Total: 446\n"
     ]
    },
    {
     "name": "stderr",
     "output_type": "stream",
     "text": [
      "Some characters could not be decoded, and were replaced with REPLACEMENT CHARACTER.\n"
     ]
    },
    {
     "name": "stdout",
     "output_type": "stream",
     "text": [
      "[+] NEW Total External links: 58\n",
      "[+] NEW Total Internal links: 388\n",
      "[+] NEW Total: 446\n",
      "[INT] Internal link: https://www.bethel.edu/covid-19/mask-request\n",
      "[+] NEW Total External links: 63\n",
      "[+] NEW Total Internal links: 389\n",
      "[+] NEW Total: 452\n",
      "[INT] Internal link: https://www.bethel.edu/its/contact\n",
      "[INT] Internal link: https://www.bethel.edu/covid-19/faq/wellbeing-resource.pdf\n",
      "[INT] Internal link: https://www.bethel.edu/human-resources/contact-us\n",
      "[INT] Internal link: https://www.bethel.edu/registrar/transcripts-records/change-of-data\n",
      "[INT] Internal link: https://www.bethel.edu/financial-aid/forms/secure-document-upload\n",
      "[INT] Internal link: https://www.bethel.edu/undergrad/student-life/residence-life/\n",
      "[INT] Internal link: https://www.bethel.edu/business-office/\n",
      "[INT] Internal link: https://www.bethel.edu/campus-store/\n",
      "[INT] Internal link: https://www.bethel.edu/business-office/services\n",
      "[INT] Internal link: https://www.bethel.edu/business-office/employees/\n",
      "[+] NEW Total External links: 76\n",
      "[+] NEW Total Internal links: 399\n",
      "[+] NEW Total: 475\n",
      "[INT] Internal link: https://www.bethel.edu/dining-services/hours-of-operation\n",
      "[+] NEW Total External links: 115\n",
      "[+] NEW Total Internal links: 400\n",
      "[+] NEW Total: 515\n",
      "[INT] Internal link: https://www.bethel.edu/covid-19/financial-assistance-application\n",
      "[INT] Internal link: https://www.bethel.edu/financial-aid/forms/appeal-form-2021\n",
      "[+] NEW Total External links: 115\n",
      "[+] NEW Total Internal links: 402\n",
      "[+] NEW Total: 517\n"
     ]
    },
    {
     "name": "stderr",
     "output_type": "stream",
     "text": [
      "Some characters could not be decoded, and were replaced with REPLACEMENT CHARACTER.\n"
     ]
    },
    {
     "name": "stdout",
     "output_type": "stream",
     "text": [
      "[+] NEW Total External links: 115\n",
      "[+] NEW Total Internal links: 402\n",
      "[+] NEW Total: 517\n"
     ]
    },
    {
     "name": "stderr",
     "output_type": "stream",
     "text": [
      "Some characters could not be decoded, and were replaced with REPLACEMENT CHARACTER.\n"
     ]
    },
    {
     "name": "stdout",
     "output_type": "stream",
     "text": [
      "[+] NEW Total External links: 115\n",
      "[+] NEW Total Internal links: 402\n",
      "[+] NEW Total: 517\n",
      "[+] NEW Total External links: 115\n",
      "[+] NEW Total Internal links: 402\n",
      "[+] NEW Total: 517\n"
     ]
    },
    {
     "name": "stderr",
     "output_type": "stream",
     "text": [
      "Some characters could not be decoded, and were replaced with REPLACEMENT CHARACTER.\n"
     ]
    },
    {
     "name": "stdout",
     "output_type": "stream",
     "text": [
      "[+] NEW Total External links: 115\n",
      "[+] NEW Total Internal links: 402\n",
      "[+] NEW Total: 517\n"
     ]
    },
    {
     "name": "stderr",
     "output_type": "stream",
     "text": [
      "Some characters could not be decoded, and were replaced with REPLACEMENT CHARACTER.\n"
     ]
    },
    {
     "name": "stdout",
     "output_type": "stream",
     "text": [
      "[+] NEW Total External links: 115\n",
      "[+] NEW Total Internal links: 402\n",
      "[+] NEW Total: 517\n",
      "[+] NEW Total External links: 115\n",
      "[+] NEW Total Internal links: 402\n",
      "[+] NEW Total: 517\n",
      "[INT] Internal link: https://www.bethel.edu/health-services/\n",
      "[INT] Internal link: https://www.bethel.edu/counseling-services/\n",
      "[INT] Internal link: https://www.bethel.edu/disability/\n",
      "[INT] Internal link: https://www.bethel.edu/covid-19/faq/I%20am an undergraduate student. How can I learn more about the new pass/fail grading system\n",
      "[INT] Internal link: https://www.bethel.edu/registrar/grades/\n",
      "[+] NEW Total External links: 123\n",
      "[+] NEW Total Internal links: 407\n",
      "[+] NEW Total: 530\n"
     ]
    },
    {
     "name": "stderr",
     "output_type": "stream",
     "text": [
      "Some characters could not be decoded, and were replaced with REPLACEMENT CHARACTER.\n"
     ]
    },
    {
     "name": "stdout",
     "output_type": "stream",
     "text": [
      "[+] NEW Total External links: 123\n",
      "[+] NEW Total Internal links: 407\n",
      "[+] NEW Total: 530\n"
     ]
    },
    {
     "name": "stderr",
     "output_type": "stream",
     "text": [
      "Some characters could not be decoded, and were replaced with REPLACEMENT CHARACTER.\n"
     ]
    },
    {
     "name": "stdout",
     "output_type": "stream",
     "text": [
      "[+] NEW Total External links: 123\n",
      "[+] NEW Total Internal links: 407\n",
      "[+] NEW Total: 530\n",
      "[INT] Internal link: https://www.bethel.edu/covid-19/campus-access/logout\n",
      "[+] NEW Total External links: 123\n",
      "[+] NEW Total Internal links: 408\n",
      "[+] NEW Total: 531\n"
     ]
    },
    {
     "name": "stderr",
     "output_type": "stream",
     "text": [
      "Some characters could not be decoded, and were replaced with REPLACEMENT CHARACTER.\n"
     ]
    },
    {
     "name": "stdout",
     "output_type": "stream",
     "text": [
      "[+] NEW Total External links: 123\n",
      "[+] NEW Total Internal links: 408\n",
      "[+] NEW Total: 531\n",
      "[+] NEW Total External links: 123\n",
      "[+] NEW Total Internal links: 408\n",
      "[+] NEW Total: 531\n"
     ]
    },
    {
     "name": "stderr",
     "output_type": "stream",
     "text": [
      "Some characters could not be decoded, and were replaced with REPLACEMENT CHARACTER.\n"
     ]
    },
    {
     "name": "stdout",
     "output_type": "stream",
     "text": [
      "[+] NEW Total External links: 123\n",
      "[+] NEW Total Internal links: 408\n",
      "[+] NEW Total: 531\n",
      "[INT] Internal link: https://www.bethel.edu/covid-19/logout\n",
      "[+] NEW Total External links: 123\n",
      "[+] NEW Total Internal links: 409\n",
      "[+] NEW Total: 532\n",
      "[+] NEW Total External links: 123\n",
      "[+] NEW Total Internal links: 409\n",
      "[+] NEW Total: 532\n"
     ]
    },
    {
     "name": "stderr",
     "output_type": "stream",
     "text": [
      "Some characters could not be decoded, and were replaced with REPLACEMENT CHARACTER.\n"
     ]
    },
    {
     "name": "stdout",
     "output_type": "stream",
     "text": [
      "[+] NEW Total External links: 123\n",
      "[+] NEW Total Internal links: 409\n",
      "[+] NEW Total: 532\n"
     ]
    },
    {
     "name": "stderr",
     "output_type": "stream",
     "text": [
      "Some characters could not be decoded, and were replaced with REPLACEMENT CHARACTER.\n"
     ]
    },
    {
     "name": "stdout",
     "output_type": "stream",
     "text": [
      "[+] NEW Total External links: 123\n",
      "[+] NEW Total Internal links: 409\n",
      "[+] NEW Total: 532\n"
     ]
    },
    {
     "name": "stderr",
     "output_type": "stream",
     "text": [
      "Some characters could not be decoded, and were replaced with REPLACEMENT CHARACTER.\n"
     ]
    },
    {
     "name": "stdout",
     "output_type": "stream",
     "text": [
      "[+] NEW Total External links: 123\n",
      "[+] NEW Total Internal links: 409\n",
      "[+] NEW Total: 532\n",
      "38 1\n"
     ]
    },
    {
     "name": "stderr",
     "output_type": "stream",
     "text": [
      "Some characters could not be decoded, and were replaced with REPLACEMENT CHARACTER.\n"
     ]
    },
    {
     "name": "stdout",
     "output_type": "stream",
     "text": [
      "[+] NEW Total External links: 123\n",
      "[+] NEW Total Internal links: 409\n",
      "[+] NEW Total: 532\n"
     ]
    },
    {
     "name": "stderr",
     "output_type": "stream",
     "text": [
      "Some characters could not be decoded, and were replaced with REPLACEMENT CHARACTER.\n"
     ]
    },
    {
     "name": "stdout",
     "output_type": "stream",
     "text": [
      "[+] NEW Total External links: 123\n",
      "[+] NEW Total Internal links: 409\n",
      "[+] NEW Total: 532\n",
      "[+] NEW Total External links: 123\n",
      "[+] NEW Total Internal links: 409\n",
      "[+] NEW Total: 532\n"
     ]
    },
    {
     "name": "stderr",
     "output_type": "stream",
     "text": [
      "Some characters could not be decoded, and were replaced with REPLACEMENT CHARACTER.\n"
     ]
    },
    {
     "name": "stdout",
     "output_type": "stream",
     "text": [
      "[+] NEW Total External links: 123\n",
      "[+] NEW Total Internal links: 409\n",
      "[+] NEW Total: 532\n",
      "[+] NEW Total External links: 123\n",
      "[+] NEW Total Internal links: 409\n",
      "[+] NEW Total: 532\n"
     ]
    },
    {
     "name": "stderr",
     "output_type": "stream",
     "text": [
      "Some characters could not be decoded, and were replaced with REPLACEMENT CHARACTER.\n"
     ]
    },
    {
     "name": "stdout",
     "output_type": "stream",
     "text": [
      "[+] NEW Total External links: 123\n",
      "[+] NEW Total Internal links: 409\n",
      "[+] NEW Total: 532\n"
     ]
    },
    {
     "name": "stderr",
     "output_type": "stream",
     "text": [
      "Some characters could not be decoded, and were replaced with REPLACEMENT CHARACTER.\n"
     ]
    },
    {
     "name": "stdout",
     "output_type": "stream",
     "text": [
      "[+] NEW Total External links: 123\n",
      "[+] NEW Total Internal links: 409\n",
      "[+] NEW Total: 532\n"
     ]
    },
    {
     "name": "stderr",
     "output_type": "stream",
     "text": [
      "Some characters could not be decoded, and were replaced with REPLACEMENT CHARACTER.\n"
     ]
    },
    {
     "name": "stdout",
     "output_type": "stream",
     "text": [
      "[+] NEW Total External links: 123\n",
      "[+] NEW Total Internal links: 409\n",
      "[+] NEW Total: 532\n",
      "[+] NEW Total External links: 123\n",
      "[+] NEW Total Internal links: 409\n",
      "[+] NEW Total: 532\n"
     ]
    },
    {
     "name": "stderr",
     "output_type": "stream",
     "text": [
      "Some characters could not be decoded, and were replaced with REPLACEMENT CHARACTER.\n"
     ]
    },
    {
     "name": "stdout",
     "output_type": "stream",
     "text": [
      "[+] NEW Total External links: 123\n",
      "[+] NEW Total Internal links: 409\n",
      "[+] NEW Total: 532\n"
     ]
    },
    {
     "name": "stderr",
     "output_type": "stream",
     "text": [
      "Some characters could not be decoded, and were replaced with REPLACEMENT CHARACTER.\n"
     ]
    },
    {
     "name": "stdout",
     "output_type": "stream",
     "text": [
      "[+] NEW Total External links: 123\n",
      "[+] NEW Total Internal links: 409\n",
      "[+] NEW Total: 532\n",
      "[+] NEW Total External links: 123\n",
      "[+] NEW Total Internal links: 409\n",
      "[+] NEW Total: 532\n",
      "[+] NEW Total External links: 123\n",
      "[+] NEW Total Internal links: 409\n",
      "[+] NEW Total: 532\n",
      "[+] NEW Total External links: 123\n",
      "[+] NEW Total Internal links: 409\n",
      "[+] NEW Total: 532\n",
      "[+] NEW Total External links: 123\n",
      "[+] NEW Total Internal links: 409\n",
      "[+] NEW Total: 532\n",
      "[+] NEW Total External links: 123\n",
      "[+] NEW Total Internal links: 409\n",
      "[+] NEW Total: 532\n"
     ]
    },
    {
     "name": "stderr",
     "output_type": "stream",
     "text": [
      "Some characters could not be decoded, and were replaced with REPLACEMENT CHARACTER.\n"
     ]
    },
    {
     "name": "stdout",
     "output_type": "stream",
     "text": [
      "[+] NEW Total External links: 123\n",
      "[+] NEW Total Internal links: 409\n",
      "[+] NEW Total: 532\n"
     ]
    },
    {
     "name": "stderr",
     "output_type": "stream",
     "text": [
      "Some characters could not be decoded, and were replaced with REPLACEMENT CHARACTER.\n"
     ]
    },
    {
     "name": "stdout",
     "output_type": "stream",
     "text": [
      "[+] NEW Total External links: 123\n",
      "[+] NEW Total Internal links: 409\n",
      "[+] NEW Total: 532\n",
      "[+] NEW Total External links: 123\n",
      "[+] NEW Total Internal links: 409\n",
      "[+] NEW Total: 532\n"
     ]
    },
    {
     "name": "stderr",
     "output_type": "stream",
     "text": [
      "Some characters could not be decoded, and were replaced with REPLACEMENT CHARACTER.\n"
     ]
    },
    {
     "name": "stdout",
     "output_type": "stream",
     "text": [
      "[+] NEW Total External links: 123\n",
      "[+] NEW Total Internal links: 409\n",
      "[+] NEW Total: 532\n",
      "[+] NEW Total External links: 123\n",
      "[+] NEW Total Internal links: 409\n",
      "[+] NEW Total: 532\n"
     ]
    },
    {
     "name": "stderr",
     "output_type": "stream",
     "text": [
      "Some characters could not be decoded, and were replaced with REPLACEMENT CHARACTER.\n"
     ]
    },
    {
     "name": "stdout",
     "output_type": "stream",
     "text": [
      "[+] NEW Total External links: 123\n",
      "[+] NEW Total Internal links: 409\n",
      "[+] NEW Total: 532\n",
      "[+] NEW Total External links: 123\n",
      "[+] NEW Total Internal links: 409\n",
      "[+] NEW Total: 532\n",
      "[+] NEW Total External links: 123\n",
      "[+] NEW Total Internal links: 409\n",
      "[+] NEW Total: 532\n"
     ]
    },
    {
     "name": "stderr",
     "output_type": "stream",
     "text": [
      "Some characters could not be decoded, and were replaced with REPLACEMENT CHARACTER.\n"
     ]
    },
    {
     "name": "stdout",
     "output_type": "stream",
     "text": [
      "[+] NEW Total External links: 123\n",
      "[+] NEW Total Internal links: 409\n",
      "[+] NEW Total: 532\n"
     ]
    },
    {
     "name": "stderr",
     "output_type": "stream",
     "text": [
      "Some characters could not be decoded, and were replaced with REPLACEMENT CHARACTER.\n"
     ]
    },
    {
     "name": "stdout",
     "output_type": "stream",
     "text": [
      "[+] NEW Total External links: 123\n",
      "[+] NEW Total Internal links: 409\n",
      "[+] NEW Total: 532\n",
      "[+] NEW Total External links: 123\n",
      "[+] NEW Total Internal links: 409\n",
      "[+] NEW Total: 532\n"
     ]
    },
    {
     "name": "stderr",
     "output_type": "stream",
     "text": [
      "Some characters could not be decoded, and were replaced with REPLACEMENT CHARACTER.\n"
     ]
    },
    {
     "name": "stdout",
     "output_type": "stream",
     "text": [
      "[+] NEW Total External links: 123\n",
      "[+] NEW Total Internal links: 409\n",
      "[+] NEW Total: 532\n",
      "[+] NEW Total External links: 123\n",
      "[+] NEW Total Internal links: 409\n",
      "[+] NEW Total: 532\n",
      "[+] NEW Total External links: 123\n",
      "[+] NEW Total Internal links: 409\n",
      "[+] NEW Total: 532\n"
     ]
    },
    {
     "name": "stderr",
     "output_type": "stream",
     "text": [
      "Some characters could not be decoded, and were replaced with REPLACEMENT CHARACTER.\n"
     ]
    },
    {
     "name": "stdout",
     "output_type": "stream",
     "text": [
      "[+] NEW Total External links: 123\n",
      "[+] NEW Total Internal links: 409\n",
      "[+] NEW Total: 532\n",
      "[+] NEW Total External links: 123\n",
      "[+] NEW Total Internal links: 409\n",
      "[+] NEW Total: 532\n",
      "[+] NEW Total External links: 123\n",
      "[+] NEW Total Internal links: 409\n",
      "[+] NEW Total: 532\n"
     ]
    },
    {
     "name": "stderr",
     "output_type": "stream",
     "text": [
      "Some characters could not be decoded, and were replaced with REPLACEMENT CHARACTER.\n"
     ]
    },
    {
     "name": "stdout",
     "output_type": "stream",
     "text": [
      "[+] NEW Total External links: 123\n",
      "[+] NEW Total Internal links: 409\n",
      "[+] NEW Total: 532\n",
      "[+] NEW Total External links: 123\n",
      "[+] NEW Total Internal links: 409\n",
      "[+] NEW Total: 532\n"
     ]
    },
    {
     "name": "stderr",
     "output_type": "stream",
     "text": [
      "Some characters could not be decoded, and were replaced with REPLACEMENT CHARACTER.\n"
     ]
    },
    {
     "name": "stdout",
     "output_type": "stream",
     "text": [
      "[+] NEW Total External links: 123\n",
      "[+] NEW Total Internal links: 409\n",
      "[+] NEW Total: 532\n",
      "[+] NEW Total External links: 123\n",
      "[+] NEW Total Internal links: 409\n",
      "[+] NEW Total: 532\n"
     ]
    },
    {
     "name": "stderr",
     "output_type": "stream",
     "text": [
      "Some characters could not be decoded, and were replaced with REPLACEMENT CHARACTER.\n"
     ]
    },
    {
     "name": "stdout",
     "output_type": "stream",
     "text": [
      "[+] NEW Total External links: 123\n",
      "[+] NEW Total Internal links: 409\n",
      "[+] NEW Total: 532\n",
      "38 2\n"
     ]
    }
   ],
   "source": [
    "count = 0\n",
    "last_count = 989874\n",
    "immediate_urls = set() #Linked Associated with the current page, https://umd.edu/virusinfo/ in this case\n",
    "\n",
    "for i in range(0,4):\n",
    "    for url in internal_urls:\n",
    "        if base_url_text in url:\n",
    "            immediate_urls.add(url)\n",
    "    count = len(immediate_urls)\n",
    "    print(count,i)\n",
    "    if(count == last_count):\n",
    "        break\n",
    "    last_count = count\n",
    "    for immediate_url in immediate_urls:\n",
    "        try:\n",
    "            crawl(immediate_url)\n",
    "            print(\"[+] NEW Total External links:\", len(external_urls))\n",
    "            print(\"[+] NEW Total Internal links:\", len(internal_urls))\n",
    "            print(\"[+] NEW Total:\", len(external_urls) + len(internal_urls))\n",
    "            if len(internal_urls)>1000:\n",
    "                break\n",
    "        except requests.exceptions.ConnectionError:\n",
    "            continue"
   ]
  },
  {
   "cell_type": "code",
   "execution_count": null,
   "metadata": {},
   "outputs": [],
   "source": []
  },
  {
   "cell_type": "code",
   "execution_count": 75,
   "metadata": {},
   "outputs": [],
   "source": [
    "def removeAfterN(yourStr, nth, occurenceOf):\n",
    "    return occurenceOf.join(yourStr.split(occurenceOf)[:nth])"
   ]
  },
  {
   "cell_type": "code",
   "execution_count": 76,
   "metadata": {},
   "outputs": [
    {
     "name": "stdout",
     "output_type": "stream",
     "text": [
      "https://www.bethel.edu/covid-19/images/5-1-20-covid-19-update.pdf\n",
      "https://www.bethel.edu/covid-19/images/03-27-20-covid-19-update.pdf\n",
      "https://www.bethel.edu/covid-19/mask-request\n",
      "https://www.bethel.edu/covid-19/images/03-24-20-covid-19-update.pdf\n",
      "https://www.bethel.edu/covid-19/health-screening/\n",
      "https://www.bethel.edu/covid-19/faq/wellbeing-resource.pdf\n",
      "https://www.bethel.edu/covid-19/images/5-29-20-covid-19-update.pdf\n",
      "https://www.bethel.edu/covid-19/images/4-9-20-covid-19-update.pdf\n",
      "https://www.bethel.edu/covid-19/images/5-1-20-covid-19-update-2.pdf\n",
      "https://www.bethel.edu/covid-19/working-groups\n",
      "https://www.bethel.edu/covid-19/images/04-02-20-covid-19-update.pdf\n",
      "https://www.bethel.edu/covid-19/employee-reopening-plan\n",
      "https://www.bethel.edu/covid-19/faq/faculty-staff\n",
      "https://www.bethel.edu/covid-19/financial-assistance-application\n",
      "https://www.bethel.edu/covid-19/office-hours\n",
      "https://www.bethel.edu/covid-19/financial-assistance\n",
      "https://www.bethel.edu/covid-19/images/5-11-20-covid-19-update.pdf\n",
      "https://www.bethel.edu/covid-19/images/4-8-20-covid-19-update.pdf\n",
      "https://www.bethel.edu/covid-19/student-worker-reopening-plan\n",
      "https://www.bethel.edu/covid-19/images/03-31-20-covid19-update.pdf\n",
      "https://www.bethel.edu/covid-19/faq/I%20am an undergraduate student. How can I learn more about the new pass/fail grading system\n",
      "https://www.bethel.edu/covid-19/images/6-12-20-covid-19-update.pdf\n",
      "https://www.bethel.edu/covid-19/faq/cares-act\n",
      "https://www.bethel.edu/covid-19/faq/students\n",
      "https://www.bethel.edu/covid-19/images/4-7-20-covid-19-update.pdf\n",
      "https://www.bethel.edu/covid-19/images/03-26-20-covid-19-update.pdf\n",
      "https://www.bethel.edu/covid-19/campus-access/\n",
      "https://www.bethel.edu/covid-19/images/5-29-20-covid-19-update-2.pdf\n",
      "https://www.bethel.edu/covid-19/campus-access/logout\n",
      "https://www.bethel.edu/covid-19/\n",
      "https://www.bethel.edu/covid-19/images/4-3-20-covid19-update.pdf\n",
      "https://www.bethel.edu/covid-19/notification-form\n",
      "https://www.bethel.edu/covid-19/faq/\n",
      "https://www.bethel.edu/covid-19/images/04-01-20-covid-19-update.pdf\n",
      "https://www.bethel.edu/covid-19/logout\n",
      "https://www.bethel.edu/covid-19/images/6-19-20-covid-19-update.pdf\n",
      "https://www.bethel.edu/covid-19/health-screening/logout\n",
      "https://www.bethel.edu/covid-19/images/organizational-structure.pdf\n",
      "38\n"
     ]
    }
   ],
   "source": [
    "semifinal_immediate_urls = set()\n",
    "\n",
    "for immediate_url in immediate_urls:\n",
    "    stripped_url = removeAfterN(immediate_url,2,\"http\")\n",
    "    \n",
    "    \n",
    "    semifinal_immediate_urls.add(stripped_url)\n",
    "#     final_immediate_urls.add(rest)\n",
    "#     print(rest)\n",
    "\n",
    "\n",
    "    \n",
    "for i in semifinal_immediate_urls:\n",
    "    print(i)\n",
    "total_count = len(semifinal_immediate_urls)\n",
    "print(total_count)"
   ]
  },
  {
   "cell_type": "code",
   "execution_count": null,
   "metadata": {},
   "outputs": [],
   "source": []
  },
  {
   "cell_type": "code",
   "execution_count": 77,
   "metadata": {},
   "outputs": [
    {
     "name": "stdout",
     "output_type": "stream",
     "text": [
      "https://www.bethel.edu/covid-19/images/5-1-20-covid-19-update.pdf\n",
      "https://www.bethel.edu/covid-19/images/03-27-20-covid-19-update.pdf\n",
      "https://www.bethel.edu/covid-19/mask-request\n",
      "https://www.bethel.edu/covid-19/images/03-24-20-covid-19-update.pdf\n",
      "https://www.bethel.edu/covid-19/health-screening/\n",
      "https://www.bethel.edu/covid-19/faq/wellbeing-resource.pdf\n",
      "https://www.bethel.edu/covid-19/images/5-29-20-covid-19-update.pdf\n",
      "https://www.bethel.edu/covid-19/images/4-9-20-covid-19-update.pdf\n",
      "https://www.bethel.edu/covid-19/working-groups\n",
      "https://www.bethel.edu/covid-19/images/5-1-20-covid-19-update-2.pdf\n",
      "https://www.bethel.edu/covid-19/images/04-02-20-covid-19-update.pdf\n",
      "https://www.bethel.edu/covid-19/employee-reopening-plan\n",
      "https://www.bethel.edu/covid-19/faq/faculty-staff\n",
      "https://www.bethel.edu/covid-19/financial-assistance-application\n",
      "https://www.bethel.edu/covid-19/office-hours\n",
      "https://www.bethel.edu/covid-19/financial-assistance\n",
      "https://www.bethel.edu/covid-19/images/5-11-20-covid-19-update.pdf\n",
      "https://www.bethel.edu/covid-19/images/4-8-20-covid-19-update.pdf\n",
      "https://www.bethel.edu/covid-19/student-worker-reopening-plan\n",
      "https://www.bethel.edu/covid-19/images/03-31-20-covid19-update.pdf\n",
      "https://www.bethel.edu/covid-19/faq/I%20am an undergraduate student. How can I learn more about the new pass/fail grading system\n",
      "https://www.bethel.edu/covid-19/images/6-12-20-covid-19-update.pdf\n",
      "https://www.bethel.edu/covid-19/faq/cares-act\n",
      "https://www.bethel.edu/covid-19/faq/students\n",
      "https://www.bethel.edu/covid-19/images/4-7-20-covid-19-update.pdf\n",
      "https://www.bethel.edu/covid-19/images/03-26-20-covid-19-update.pdf\n",
      "https://www.bethel.edu/covid-19/campus-access/\n",
      "https://www.bethel.edu/covid-19/images/5-29-20-covid-19-update-2.pdf\n",
      "https://www.bethel.edu/covid-19/campus-access/logout\n",
      "https://www.bethel.edu/covid-19/\n",
      "https://www.bethel.edu/covid-19/images/4-3-20-covid19-update.pdf\n",
      "https://www.bethel.edu/covid-19/notification-form\n",
      "https://www.bethel.edu/covid-19/faq/\n",
      "https://www.bethel.edu/covid-19/images/04-01-20-covid-19-update.pdf\n",
      "https://www.bethel.edu/covid-19/logout\n",
      "https://www.bethel.edu/covid-19/images/6-19-20-covid-19-update.pdf\n",
      "https://www.bethel.edu/covid-19/health-screening/logout\n",
      "https://www.bethel.edu/covid-19/images/organizational-structure.pdf\n",
      "38\n"
     ]
    }
   ],
   "source": [
    "final_immediate_urls = set()\n",
    "for semifinal_immediate_url in semifinal_immediate_urls:\n",
    "    if \"tel:\" not in semifinal_immediate_url:\n",
    "        final_immediate_urls.add(semifinal_immediate_url)\n",
    "\n",
    "\n",
    "for i in final_immediate_urls:\n",
    "    print(i)\n",
    "total_count = len(final_immediate_urls)\n",
    "print(total_count)       "
   ]
  },
  {
   "cell_type": "code",
   "execution_count": null,
   "metadata": {},
   "outputs": [],
   "source": []
  },
  {
   "cell_type": "code",
   "execution_count": 78,
   "metadata": {},
   "outputs": [],
   "source": [
    "\n",
    "parent_folder = \"Masters\" #Change based on folder\n",
    "name_of_folder = f'{base_url_text_domain}_Screenshots'\n",
    "options = webdriver.ChromeOptions()\n",
    "options.headless = True\n",
    "driver = webdriver.Chrome(options=options,executable_path='chromedriver.exe') # #Local Path of chrome driver\n",
    "if not os.path.exists(f'{parent_folder}\\\\{name_of_folder}'):\n",
    "    os.makedirs(f'{parent_folder}\\\\{name_of_folder}')"
   ]
  },
  {
   "cell_type": "code",
   "execution_count": 79,
   "metadata": {},
   "outputs": [
    {
     "name": "stdout",
     "output_type": "stream",
     "text": [
      "200 can_save - https://www.bethel.edu/covid-19/images/5-1-20-covid-19-update.pdf\n",
      "200 can_save - https://www.bethel.edu/covid-19/images/03-27-20-covid-19-update.pdf\n",
      "200 can_save - https://www.bethel.edu/covid-19/mask-request\n",
      "200 can_save - https://www.bethel.edu/covid-19/images/03-24-20-covid-19-update.pdf\n",
      "200 can_save - https://www.bethel.edu/covid-19/health-screening/\n",
      "200 can_save - https://www.bethel.edu/covid-19/faq/wellbeing-resource.pdf\n",
      "200 can_save - https://www.bethel.edu/covid-19/images/5-29-20-covid-19-update.pdf\n",
      "200 can_save - https://www.bethel.edu/covid-19/images/4-9-20-covid-19-update.pdf\n",
      "200 can_save - https://www.bethel.edu/covid-19/working-groups\n",
      "200 can_save - https://www.bethel.edu/covid-19/images/5-1-20-covid-19-update-2.pdf\n",
      "200 can_save - https://www.bethel.edu/covid-19/images/04-02-20-covid-19-update.pdf\n",
      "200 can_save - https://www.bethel.edu/covid-19/employee-reopening-plan\n",
      "200 can_save - https://www.bethel.edu/covid-19/faq/faculty-staff\n",
      "200 can_save - https://www.bethel.edu/covid-19/financial-assistance-application\n",
      "200 can_save - https://www.bethel.edu/covid-19/office-hours\n",
      "200 can_save - https://www.bethel.edu/covid-19/financial-assistance\n",
      "200 can_save - https://www.bethel.edu/covid-19/images/5-11-20-covid-19-update.pdf\n",
      "200 can_save - https://www.bethel.edu/covid-19/images/4-8-20-covid-19-update.pdf\n",
      "200 can_save - https://www.bethel.edu/covid-19/student-worker-reopening-plan\n",
      "200 can_save - https://www.bethel.edu/covid-19/images/03-31-20-covid19-update.pdf\n",
      "discarded\n",
      "discarded\n",
      "discarded\n",
      "200 can_save - https://www.bethel.edu/covid-19/images/4-7-20-covid-19-update.pdf\n",
      "discarded\n",
      "discarded\n",
      "discarded\n",
      "discarded\n",
      "discarded\n",
      "discarded\n",
      "200 can_save - https://www.bethel.edu/covid-19/notification-form\n",
      "discarded\n",
      "200 can_save - https://www.bethel.edu/covid-19/images/04-01-20-covid-19-update.pdf\n",
      "discarded\n",
      "discarded\n",
      "discarded\n",
      "200 can_save - https://www.bethel.edu/covid-19/images/organizational-structure.pdf\n",
      "Webpages save as HTML :24\n",
      "Webpages unable to save as HTML :13\n"
     ]
    }
   ],
   "source": [
    "webpage_save = set()\n",
    "webpage_save_count = 0\n",
    "webpage_cannot_save = 0\n",
    "for i in final_immediate_urls:\n",
    "    if ' ' in i:\n",
    "        continue\n",
    "    try:\n",
    "        code=urlopen(i).getcode()\n",
    "        webpage_save.add(i)\n",
    "        webpage_save_count = webpage_save_count+1\n",
    "        print(f\"{code} can_save - {i}\")\n",
    "    except (urllib.error.HTTPError,urllib.error.URLError) as e:\n",
    "        print(\"discarded\")\n",
    "        webpage_cannot_save = webpage_cannot_save+1\n",
    "        continue\n",
    "\n",
    "print(f'Webpages save as HTML :{webpage_save_count}')\n",
    "print(f'Webpages unable to save as HTML :{webpage_cannot_save}')\n",
    "        "
   ]
  },
  {
   "cell_type": "code",
   "execution_count": 80,
   "metadata": {},
   "outputs": [
    {
     "name": "stdout",
     "output_type": "stream",
     "text": [
      "https://www.bethel.edu/covid-19/images/5-1-20-covid-19-update.pdf\n",
      "https://www.bethel.edu/covid-19/images/03-27-20-covid-19-update.pdf\n",
      "https://www.bethel.edu/covid-19/images/03-24-20-covid-19-update.pdf\n",
      "https://www.bethel.edu/covid-19/faq/wellbeing-resource.pdf\n",
      "https://www.bethel.edu/covid-19/images/5-29-20-covid-19-update.pdf\n",
      "https://www.bethel.edu/covid-19/images/4-9-20-covid-19-update.pdf\n",
      "https://www.bethel.edu/covid-19/images/5-1-20-covid-19-update-2.pdf\n",
      "https://www.bethel.edu/covid-19/images/04-02-20-covid-19-update.pdf\n",
      "https://www.bethel.edu/covid-19/images/5-11-20-covid-19-update.pdf\n",
      "https://www.bethel.edu/covid-19/images/4-8-20-covid-19-update.pdf\n",
      "https://www.bethel.edu/covid-19/images/03-31-20-covid19-update.pdf\n",
      "https://www.bethel.edu/covid-19/images/4-7-20-covid-19-update.pdf\n",
      "https://www.bethel.edu/covid-19/images/04-01-20-covid-19-update.pdf\n",
      "https://www.bethel.edu/covid-19/images/organizational-structure.pdf\n",
      "Pdfs saved: 14\n"
     ]
    }
   ],
   "source": [
    "pdf_count = 0\n",
    "pdf_urls = set()\n",
    "for webpage in webpage_save:\n",
    "    try:\n",
    "        if webpage[-4:] == \".pdf\":\n",
    "            url = webpage\n",
    "            file_name = url.replace(base_url,'')\n",
    "            file_name = file_name.replace('/','')\n",
    "            if file_name == '':\n",
    "                file_name = \"Home\"\n",
    "            pdf_urls.add(webpage)\n",
    "            print(webpage)\n",
    "            r = requests.get(url, stream=True)\n",
    "            with open(f'{parent_folder}\\\\{name_of_folder}\\\\{file_name}.pdf', 'wb') as fd:\n",
    "                for chunk in r.iter_content(2000):\n",
    "                    fd.write(chunk)\n",
    "            pdf_count = pdf_count + 1\n",
    "    except:\n",
    "        print(\"caught\")\n",
    "\n",
    "print(f\"Pdfs saved: {pdf_count}\")"
   ]
  },
  {
   "cell_type": "code",
   "execution_count": 81,
   "metadata": {},
   "outputs": [
    {
     "name": "stdout",
     "output_type": "stream",
     "text": [
      "24\n"
     ]
    }
   ],
   "source": [
    "final_immediate_urls = final_immediate_urls - pdf_urls\n",
    "webpage_save = webpage_save - pdf_urls\n",
    "web_save_count = len(webpage_save)\n",
    "total_count = len(final_immediate_urls)\n",
    "print(total_count) "
   ]
  },
  {
   "cell_type": "code",
   "execution_count": 82,
   "metadata": {},
   "outputs": [],
   "source": [
    "\n",
    "#     try:\n",
    "#         print(i)\n",
    "        \n",
    "#         print(\"added\")\n",
    "#     except urllib.error.HTTPError as e:\n",
    "#         if e.code in (400,403):\n",
    "#             print(\"discarded\")\n",
    "#             continue"
   ]
  },
  {
   "cell_type": "code",
   "execution_count": 83,
   "metadata": {},
   "outputs": [
    {
     "name": "stdout",
     "output_type": "stream",
     "text": [
      "10\n"
     ]
    }
   ],
   "source": [
    "final_webpage_save_count = webpage_save_count - pdf_count\n",
    "print(final_webpage_save_count)"
   ]
  },
  {
   "cell_type": "code",
   "execution_count": 84,
   "metadata": {},
   "outputs": [
    {
     "name": "stdout",
     "output_type": "stream",
     "text": [
      "1 of 10 - https://www.bethel.edu/covid-19/faq/faculty-staff\n",
      "caught\n",
      "caught\n",
      "2 of 10 - https://www.bethel.edu/covid-19/health-screening/\n",
      "3 of 10 - https://www.bethel.edu/covid-19/office-hours\n",
      "4 of 10 - https://www.bethel.edu/covid-19/financial-assistance\n",
      "5 of 10 - https://www.bethel.edu/covid-19/notification-form\n",
      "6 of 10 - https://www.bethel.edu/covid-19/student-worker-reopening-plan\n",
      "7 of 10 - https://www.bethel.edu/covid-19/working-groups\n",
      "8 of 10 - https://www.bethel.edu/covid-19/employee-reopening-plan\n",
      "Saving Completed\n"
     ]
    }
   ],
   "source": [
    "webpage_save_counter_loop = 0\n",
    "for webpage in webpage_save:\n",
    "    try:\n",
    "        url = webpage\n",
    "        file_name = url.replace(base_url,'')\n",
    "        file_name = file_name.replace('/','')\n",
    "        if file_name == '':\n",
    "                file_name = \"Home\"\n",
    "        urllib.request.urlretrieve (webpage, f\"{parent_folder}\\\\{name_of_folder}\\\\{file_name}.html\")\n",
    "        webpage_save_counter_loop = webpage_save_counter_loop+1\n",
    "        print(f'{webpage_save_counter_loop} of {final_webpage_save_count} - {webpage}')\n",
    "    except:\n",
    "        print(\"caught\")\n",
    "\n",
    "print(\"Saving Completed\")"
   ]
  },
  {
   "cell_type": "code",
   "execution_count": null,
   "metadata": {},
   "outputs": [],
   "source": []
  },
  {
   "cell_type": "code",
   "execution_count": null,
   "metadata": {},
   "outputs": [],
   "source": []
  },
  {
   "cell_type": "code",
   "execution_count": null,
   "metadata": {},
   "outputs": [],
   "source": []
  },
  {
   "cell_type": "code",
   "execution_count": 85,
   "metadata": {},
   "outputs": [
    {
     "name": "stdout",
     "output_type": "stream",
     "text": [
      "1 of 24\n",
      "Visiting www.bethel.edu/covid-19//mask-request\n",
      "...Taking a screenshot\n",
      "Screenshot of mask-request page taken! \n",
      "\n",
      "2 of 24\n",
      "Visiting www.bethel.edu/covid-19//health-screening\n",
      "...Taking a screenshot\n",
      "Screenshot of health-screening page taken! \n",
      "\n",
      "3 of 24\n",
      "Visiting www.bethel.edu/covid-19//working-groups\n",
      "...Taking a screenshot\n",
      "Screenshot of working-groups page taken! \n",
      "\n",
      "4 of 24\n",
      "Visiting www.bethel.edu/covid-19//employee-reopening-plan\n",
      "...Taking a screenshot\n",
      "Screenshot of employee-reopening-plan page taken! \n",
      "\n",
      "5 of 24\n",
      "Visiting www.bethel.edu/covid-19//faqfaculty-staff\n",
      "...Taking a screenshot\n",
      "Screenshot of faqfaculty-staff page taken! \n",
      "\n",
      "6 of 24\n",
      "Visiting www.bethel.edu/covid-19//financial-assistance-application\n",
      "...Taking a screenshot\n",
      "Screenshot of financial-assistance-application page taken! \n",
      "\n",
      "7 of 24\n",
      "Visiting www.bethel.edu/covid-19//office-hours\n",
      "...Taking a screenshot\n",
      "Screenshot of office-hours page taken! \n",
      "\n",
      "8 of 24\n",
      "Visiting www.bethel.edu/covid-19//financial-assistance\n",
      "...Taking a screenshot\n",
      "Screenshot of financial-assistance page taken! \n",
      "\n",
      "9 of 24\n",
      "Visiting www.bethel.edu/covid-19//student-worker-reopening-plan\n",
      "...Taking a screenshot\n",
      "Screenshot of student-worker-reopening-plan page taken! \n",
      "\n",
      "10 of 24\n",
      "Visiting www.bethel.edu/covid-19//faqI%20am an undergraduate student. How can I learn more about the new passfail grading system\n",
      "...Taking a screenshot\n",
      "Screenshot of faqI%20am an undergraduate student. How can I learn more about the new passfail grading system page taken! \n",
      "\n",
      "11 of 24\n",
      "Visiting www.bethel.edu/covid-19//images6-12-20-covid-19-update.pdf\n",
      "...Taking a screenshot\n",
      "Screenshot of images6-12-20-covid-19-update.pdf page taken! \n",
      "\n",
      "12 of 24\n",
      "Visiting www.bethel.edu/covid-19//faqcares-act\n",
      "...Taking a screenshot\n",
      "Screenshot of faqcares-act page taken! \n",
      "\n",
      "13 of 24\n",
      "Visiting www.bethel.edu/covid-19//faqstudents\n",
      "...Taking a screenshot\n",
      "Screenshot of faqstudents page taken! \n",
      "\n",
      "14 of 24\n",
      "Visiting www.bethel.edu/covid-19//images03-26-20-covid-19-update.pdf\n",
      "...Taking a screenshot\n",
      "Screenshot of images03-26-20-covid-19-update.pdf page taken! \n",
      "\n",
      "15 of 24\n",
      "Visiting www.bethel.edu/covid-19//campus-access\n",
      "...Taking a screenshot\n",
      "Screenshot of campus-access page taken! \n",
      "\n",
      "16 of 24\n",
      "Visiting www.bethel.edu/covid-19//images5-29-20-covid-19-update-2.pdf\n",
      "...Taking a screenshot\n",
      "Screenshot of images5-29-20-covid-19-update-2.pdf page taken! \n",
      "\n",
      "17 of 24\n",
      "Visiting www.bethel.edu/covid-19//campus-accesslogout\n",
      "...Taking a screenshot\n",
      "Screenshot of campus-accesslogout page taken! \n",
      "\n",
      "18 of 24\n",
      "Visiting www.bethel.edu/covid-19//Home\n",
      "...Taking a screenshot\n",
      "Screenshot of Home page taken! \n",
      "\n",
      "19 of 24\n",
      "Visiting www.bethel.edu/covid-19//images4-3-20-covid19-update.pdf\n",
      "...Taking a screenshot\n",
      "Screenshot of images4-3-20-covid19-update.pdf page taken! \n",
      "\n",
      "20 of 24\n",
      "Visiting www.bethel.edu/covid-19//notification-form\n",
      "...Taking a screenshot\n",
      "Screenshot of notification-form page taken! \n",
      "\n",
      "21 of 24\n",
      "Visiting www.bethel.edu/covid-19//faq\n",
      "...Taking a screenshot\n",
      "Screenshot of faq page taken! \n",
      "\n",
      "22 of 24\n",
      "Visiting www.bethel.edu/covid-19//health-screeninglogout\n",
      "...Taking a screenshot\n",
      "Screenshot of health-screeninglogout page taken! \n",
      "\n",
      "23 of 24\n",
      "Visiting www.bethel.edu/covid-19//logout\n",
      "...Taking a screenshot\n",
      "Screenshot of logout page taken! \n",
      "\n",
      "24 of 24\n",
      "Visiting www.bethel.edu/covid-19//images6-19-20-covid-19-update.pdf\n",
      "...Taking a screenshot\n",
      "Screenshot of images6-19-20-covid-19-update.pdf page taken! \n",
      "\n",
      "Task Completed! Files stored in the Masters\\www.bethel.edu_Screenshots Folder\n"
     ]
    }
   ],
   "source": [
    "count = 0\n",
    "for i in final_immediate_urls:\n",
    "    try:\n",
    "        url = i\n",
    "        file_name = url.replace(base_url,'')\n",
    "        file_name = file_name.replace('/','')\n",
    "        if file_name == '':\n",
    "                file_name = \"Home\"\n",
    "        count = count + 1\n",
    "        print(f\"{count} of {total_count}\")\n",
    "        print(f'Visiting {base_url_text}/{file_name}')\n",
    "        print(f'...Taking a screenshot')\n",
    "        driver.get(url)\n",
    "        S = lambda X: driver.execute_script('return document.body.parentNode.scroll'+X)\n",
    "        driver.set_window_size(S('Width'),S('Height')) # May need manual adjustment                                                                                                                \n",
    "        driver.find_element_by_tag_name('body').screenshot(f'{parent_folder}\\\\{name_of_folder}\\\\{file_name}.png')\n",
    "        print(f'Screenshot of {file_name} page taken! \\n')\n",
    "    except:\n",
    "        print(\"caught\")\n",
    "#     print(\"Saving HTML\")\n",
    "#     pyautogui.hotkey('ctrl', 's')\n",
    "#     time.sleep(1)\n",
    "#     pyautogui.typewrite(f'{file_name}.html')\n",
    "#     pyautogui.hotkey('enter')\n",
    "driver.quit()\n",
    "    \n",
    "print(f'Task Completed! Files stored in the {parent_folder}\\\\{name_of_folder} Folder')"
   ]
  },
  {
   "cell_type": "code",
   "execution_count": null,
   "metadata": {},
   "outputs": [],
   "source": [
    "\n"
   ]
  },
  {
   "cell_type": "code",
   "execution_count": null,
   "metadata": {},
   "outputs": [],
   "source": []
  },
  {
   "cell_type": "code",
   "execution_count": null,
   "metadata": {},
   "outputs": [],
   "source": []
  },
  {
   "cell_type": "code",
   "execution_count": null,
   "metadata": {},
   "outputs": [],
   "source": []
  },
  {
   "cell_type": "code",
   "execution_count": null,
   "metadata": {},
   "outputs": [],
   "source": []
  }
 ],
 "metadata": {
  "kernelspec": {
   "display_name": "Python 3",
   "language": "python",
   "name": "python3"
  },
  "language_info": {
   "codemirror_mode": {
    "name": "ipython",
    "version": 3
   },
   "file_extension": ".py",
   "mimetype": "text/x-python",
   "name": "python",
   "nbconvert_exporter": "python",
   "pygments_lexer": "ipython3",
   "version": "3.8.2"
  }
 },
 "nbformat": 4,
 "nbformat_minor": 4
}
