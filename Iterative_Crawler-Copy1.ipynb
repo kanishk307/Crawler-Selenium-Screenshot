{
 "cells": [
  {
   "cell_type": "code",
   "execution_count": 43,
   "metadata": {},
   "outputs": [],
   "source": [
    "#Imports\n",
    "import time\n",
    "import requests\n",
    "from urllib.parse import urlparse, urljoin\n",
    "from bs4 import BeautifulSoup\n",
    "from selenium import webdriver\n",
    "from selenium.webdriver.chrome.options import Options\n",
    "import os\n",
    "import urllib.request\n",
    "from urllib.request import urlopen\n",
    "import pyautogui\n",
    "from requests.exceptions import ConnectionError\n",
    "# from pywebcopy import save_webpage"
   ]
  },
  {
   "cell_type": "code",
   "execution_count": 44,
   "metadata": {},
   "outputs": [],
   "source": [
    "\n",
    "internal_urls = set()\n",
    "external_urls = set()"
   ]
  },
  {
   "cell_type": "code",
   "execution_count": 45,
   "metadata": {},
   "outputs": [],
   "source": [
    "def is_url_valid(url):\n",
    "   #Checks if the url is valid or not\n",
    "    parsedURL = urlparse(url)\n",
    "    return bool(parsedURL.netloc) and bool(parsedURL.scheme)\n",
    "\n",
    "#The above function works as follows. We check if the scheme is present and there is a value in the network location part\n",
    "# url = \"https://umd.edu/virusinfo\"\n",
    "# urlparse(url)\n",
    "# ParseResult(scheme='https', netloc='umd.edu', path='/virusinfo', \n",
    "# params='', query='', fragment='')"
   ]
  },
  {
   "cell_type": "code",
   "execution_count": 46,
   "metadata": {},
   "outputs": [],
   "source": [
    "\n",
    "#The function gives all urls\n",
    "def get_all_urls(url):\n",
    "    urls = set()\n",
    "    # domain name of the URL without the protocol (umd.edu in this case)\n",
    "    domain_name = urlparse(url).netloc\n",
    "    soup = BeautifulSoup(requests.get(url).content, \"html.parser\")\n",
    "    for a_tag in soup.findAll(\"a\"):\n",
    "        href = a_tag.attrs.get(\"href\")\n",
    "        if href == \"\" or href is None:\n",
    "            #href is empty and we don't need that a element\n",
    "            continue\n",
    "        #if the link is not absolute, make it by joining relative to the base\n",
    "        href = urljoin(url, href)\n",
    "        parsed_href = urlparse(href)\n",
    "        #constructing an absolute URL from parsed data\n",
    "        href = parsed_href.scheme + \"://\" + parsed_href.netloc + parsed_href.path\n",
    "        if not is_url_valid(href):\n",
    "            #in valid url\n",
    "            continue\n",
    "        if href in internal_urls:\n",
    "            #it is already in the set, so we don't need to add\n",
    "            continue\n",
    "        if domain_name not in href:\n",
    "            #it is an external link. i.e\n",
    "            # Check if it is already there \n",
    "            if href not in external_urls:\n",
    "#                 print(f\"[EXT] External link: {href}\")\n",
    "                external_urls.add(href)\n",
    "            continue\n",
    "#         print(\".\",end=\" \")\n",
    "        print(f\"[INT] Internal link: {href}\")\n",
    "\n",
    "        urls.add(href)\n",
    "        internal_urls.add(href)\n",
    "    return urls\n"
   ]
  },
  {
   "cell_type": "code",
   "execution_count": 47,
   "metadata": {},
   "outputs": [],
   "source": [
    "total_urls_visited = 0\n",
    "def crawl(url, max_urls=50):\n",
    "    #Max URL is just to decrease the time if there are a lot of pages.\n",
    "    #The following code was openly available of github and I found this\n",
    "    #idea useful to inhibit crawling time\n",
    "    global total_urls_visited\n",
    "    total_urls_visited += 1\n",
    "    try:\n",
    "        links = get_all_urls(url)\n",
    "        for link in links:\n",
    "            if total_urls_visited > max_urls:\n",
    "                break\n",
    "            crawl(link, max_urls=max_urls)\n",
    "    except:\n",
    "        print(\"caught\")\n"
   ]
  },
  {
   "cell_type": "code",
   "execution_count": 48,
   "metadata": {},
   "outputs": [],
   "source": [
    "#base_url = \"https://umd.edu/virusinfo\"\n",
    "#Input\n",
    "# base_url = input(\"Enter the URL : \")\n",
    "base_url = \"https://www.cambridgecollege.edu/covid-19-updates\"\n",
    "internal_urls.add(base_url)"
   ]
  },
  {
   "cell_type": "code",
   "execution_count": 49,
   "metadata": {},
   "outputs": [
    {
     "name": "stdout",
     "output_type": "stream",
     "text": [
      "ParseResult(scheme='https', netloc='www.cambridgecollege.edu', path='/covid-19-updates', params='', query='', fragment='')\n",
      "https://www.cambridgecollege.edu\n",
      "www.cambridgecollege.edu/covid-19-updates\n",
      "www.cambridgecollege.edu\n"
     ]
    }
   ],
   "source": [
    "parsedurl = urlparse(base_url)\n",
    "print(parsedurl)\n",
    "base_url_main = parsedurl.scheme+\"://\"+parsedurl.netloc\n",
    "print(base_url_main)\n",
    "# base_url_text = base_url.split(\"//\",1)[1]\n",
    "base_url_text = parsedurl.netloc+parsedurl.path\n",
    "print(base_url_text)\n",
    "# base_url_text_domain = base_url_text.split(\"/\",1)[0]\n",
    "base_url_text_domain = parsedurl.netloc\n",
    "print(base_url_text_domain)"
   ]
  },
  {
   "cell_type": "code",
   "execution_count": 50,
   "metadata": {},
   "outputs": [],
   "source": [
    "# internal_urls"
   ]
  },
  {
   "cell_type": "code",
   "execution_count": null,
   "metadata": {},
   "outputs": [],
   "source": []
  },
  {
   "cell_type": "code",
   "execution_count": 51,
   "metadata": {},
   "outputs": [
    {
     "name": "stdout",
     "output_type": "stream",
     "text": [
      "[INT] Internal link: http://www.cambridgecollege.edu/update-coronavirus-covid-19\n",
      "[INT] Internal link: https://www.cambridgecollege.edu/\n",
      "[INT] Internal link: https://www.cambridgecollege.edu/about-cambridge-college\n",
      "[INT] Internal link: https://www.cambridgecollege.edu/about/cc-difference\n",
      "[INT] Internal link: https://www.cambridgecollege.edu/about-cambridge-college/mission-and-values\n",
      "[INT] Internal link: https://www.cambridgecollege.edu/about-cambridge-college/honors-and-recognition\n",
      "[INT] Internal link: https://www.cambridgecollege.edu/about-cambridge-college/accreditation-and-authorizations\n",
      "[INT] Internal link: https://www.cambridgecollege.edu/about-cambridge-college/welcome-office-president\n",
      "[INT] Internal link: https://www.cambridgecollege.edu/about-cambridge-college/college-administration\n",
      "[INT] Internal link: https://www.cambridgecollege.edu/about-cambridge-college/locations\n",
      "[INT] Internal link: https://www.cambridgecollege.edu/about-cambridge-college/faculty-overview\n",
      "[INT] Internal link: https://www.cambridgecollege.edu/about/faculty-and-staff\n",
      "[INT] Internal link: https://www.cambridgecollege.edu/about-cambridge-college/employment\n",
      "[INT] Internal link: https://www.cambridgecollege.edu/about/news-events\n",
      "[INT] Internal link: https://www.cambridgecollege.edu/about-cambridge-college/maps-directions\n",
      "[INT] Internal link: https://www.cambridgecollege.edu/about-cambridge-college/contact-us\n",
      "[INT] Internal link: https://www.cambridgecollege.edu/academic-programs\n",
      "[INT] Internal link: https://www.cambridgecollege.edu/school/school-undergraduate-studies\n",
      "[INT] Internal link: https://www.cambridgecollege.edu/school/school-education\n",
      "[INT] Internal link: https://www.cambridgecollege.edu/school/school-management\n",
      "[INT] Internal link: https://www.cambridgecollege.edu/school/school-psychology-counseling\n",
      "[INT] Internal link: https://www.cambridgecollege.edu/academic-programs/business-development-certificate-program\n",
      "[INT] Internal link: https://www.cambridgecollege.edu/academic-programs/emt-basic-program\n",
      "[INT] Internal link: https://www.cambridgecollege.edu/academic-programs/title-iii-strengthening-institutions-grant\n",
      "[INT] Internal link: https://www.cambridgecollege.edu/welcome-alumni-friends\n",
      "[INT] Internal link: https://www.cambridgecollege.edu/form/stay-connected\n",
      "[INT] Internal link: https://www.cambridgecollege.edu/form/get-involved\n",
      "[INT] Internal link: https://www.cambridgecollege.edu/alumni-friends/make-gift\n",
      "[INT] Internal link: https://www.cambridgecollege.edu/alumni-friends/alumni-profiles\n",
      "[INT] Internal link: https://www.cambridgecollege.edu/alumni-friends/student-testimonials\n",
      "[INT] Internal link: https://www.cambridgecollege.edu/alumni-friends/alumni-events\n",
      "[INT] Internal link: https://www.cambridgecollege.edu/offices-resources-overview2\n",
      "[INT] Internal link: https://www.cambridgecollege.edu/offices/academic-affairs\n",
      "[INT] Internal link: https://www.cambridgecollege.edu/offices/admissions\n",
      "[INT] Internal link: https://www.cambridgecollege.edu/offices/bursar\n",
      "[INT] Internal link: https://www.cambridgecollege.edu/offices/business-operations\n",
      "[INT] Internal link: https://www.cambridgecollege.edu/offices/marketing-communications-public-relations\n",
      "[INT] Internal link: https://www.cambridgecollege.edu/offices/financial-aid\n",
      "[INT] Internal link: https://www.cambridgecollege.edu/offices/financial-services\n",
      "[INT] Internal link: https://www.cambridgecollege.edu/offices/human-resources\n",
      "[INT] Internal link: https://www.cambridgecollege.edu/offices/information-technology\n",
      "[INT] Internal link: https://www.cambridgecollege.edu/offices/institutional-advancement\n",
      "[INT] Internal link: https://www.cambridgecollege.edu/offices/international-students\n",
      "[INT] Internal link: https://www.cambridgecollege.edu/offices/partnerships\n",
      "[INT] Internal link: https://www.cambridgecollege.edu/registrar\n",
      "[INT] Internal link: https://www.cambridgecollege.edu/offices/research-planning-and-effectiveness\n",
      "[INT] Internal link: https://www.cambridgecollege.edu/space-rentals\n",
      "[INT] Internal link: https://www.cambridgecollege.edu/offices/student-affairs\n",
      "[INT] Internal link: https://www.cambridgecollege.edu/resources/academic-calendar\n",
      "[INT] Internal link: https://www.cambridgecollege.edu/academic-catalog\n",
      "[INT] Internal link: https://www.cambridgecollege.edu/resources/academic-policies-procedures\n",
      "[INT] Internal link: https://www.cambridgecollege.edu/resources/center-career-and-professional-development\n",
      "[INT] Internal link: https://www.cambridgecollege.edu/resources/center-excellence-learning-and-teaching\n",
      "[INT] Internal link: http://www.cambridgecollege.edu/it-support\n",
      "[INT] Internal link: https://www.cambridgecollege.edu/resources/library-services\n",
      "[INT] Internal link: https://www.cambridgecollege.edu/resources/military-students\n",
      "[INT] Internal link: https://www.cambridgecollege.edu/new-students\n",
      "[INT] Internal link: https://www.cambridgecollege.edu/student-forms\n",
      "[INT] Internal link: https://www.cambridgecollege.edu/resources/student-rights-complaints-grievances\n",
      "[INT] Internal link: https://www.cambridgecollege.edu/login\n",
      "[INT] Internal link: https://www.cambridgecollege.edu/undergrad-programs/school-undergraduate-studies\n",
      "[INT] Internal link: https://www.cambridgecollege.edu/degree/criminal-justice\n",
      "[INT] Internal link: https://www.cambridgecollege.edu/degree/cybersecurity\n",
      "[INT] Internal link: https://www.cambridgecollege.edu/degree/early-childhood-education-and-care\n",
      "[INT] Internal link: https://www.cambridgecollege.edu/degree/finance\n",
      "[INT] Internal link: https://www.cambridgecollege.edu/degree/health-care-management-1\n",
      "[INT] Internal link: https://www.cambridgecollege.edu/degree/human-services\n",
      "[INT] Internal link: https://www.cambridgecollege.edu/degree/human-services-management\n",
      "[INT] Internal link: https://www.cambridgecollege.edu/degree/management-studies-bachelors-degree-program\n",
      "[INT] Internal link: https://www.cambridgecollege.edu/degree/managerial-accounting\n",
      "[INT] Internal link: https://www.cambridgecollege.edu/degree/marketing-and-sales\n",
      "[INT] Internal link: https://www.cambridgecollege.edu/degree/multidisciplinary-studies\n",
      "[INT] Internal link: https://www.cambridgecollege.edu/degree/natural-and-applied-sciences\n",
      "[INT] Internal link: https://www.cambridgecollege.edu/degree/psychology\n",
      "[INT] Internal link: https://www.cambridgecollege.edu/degree/wellness-and-health-promotion\n",
      "[INT] Internal link: https://www.cambridgecollege.edu/degree/drug-alcohol-counseling\n",
      "[INT] Internal link: https://www.cambridgecollege.edu/degree/information-security-risk-management-certificate\n",
      "[INT] Internal link: https://www.cambridgecollege.edu/degree/network-security-certificate\n",
      "[INT] Internal link: https://www.cambridgecollege.edu/admissions\n",
      "[INT] Internal link: https://www.cambridgecollege.edu/admissions/school-education-admission-requirements\n",
      "[INT] Internal link: https://www.cambridgecollege.edu/admissions/school-management-admission-requirements\n",
      "[INT] Internal link: https://www.cambridgecollege.edu/admissions/school-psychology-counseling-admission-requirements\n",
      "[INT] Internal link: https://www.cambridgecollege.edu/admissions/school-undergraduate-studies-admissions-requirements\n",
      "[INT] Internal link: https://www.cambridgecollege.edu/admissions/high-school-students\n",
      "[INT] Internal link: https://www.cambridgecollege.edu/admissions/financial-aid\n",
      "[INT] Internal link: https://www.cambridgecollege.edu/admissions/getting-your-company-help\n",
      "[INT] Internal link: https://www.cambridgecollege.edu/admissions/transferring-credits\n",
      "[INT] Internal link: https://www.cambridgecollege.edu/admissions/applying\n",
      "[INT] Internal link: https://www.cambridgecollege.edu/admissions/academic-calendar-2019-2020-cc-online\n",
      "[INT] Internal link: https://www.cambridgecollege.edu/admissions/academic-calendar-2019-2020-pr\n",
      "[INT] Internal link: https://www.cambridgecollege.edu/why-cambridge-college\n",
      "[INT] Internal link: https://www.cambridgecollege.edu/why-cc/alumni-profiles\n",
      "[INT] Internal link: https://www.cambridgecollege.edu/why-cc/student-testimonials\n",
      "[INT] Internal link: https://www.cambridgecollege.edu/sites/default/files/file_uploads/combined_reports_campus_reco_final_06-30-2020.pdf\n",
      "[INT] Internal link: https://www.cambridgecollege.edu/sites/default/files/file_uploads/higher_ed_framework_briefing_for_posting_5.pdf\n",
      "[INT] Internal link: https://www.cambridgecollege.edu/COVID19-Emergency-Fund\n",
      "[INT] Internal link: https://www.cambridgecollege.edu/apply-cambridge-college\n",
      "[INT] Internal link: https://www.cambridgecollege.edu/request-information\n",
      "[INT] Internal link: https://www.cambridgecollege.edu/give-gift-cambridge-college\n",
      "[INT] Internal link: https://www.cambridgecollege.edu/college-policies\n",
      "[INT] Internal link: https://www.cambridgecollege.edu/research-planning-and-evaluation/institutional-review-board\n",
      "[INT] Internal link: https://www.cambridgecollege.edu/cambridge-college-privacy-notice\n",
      "[INT] Internal link: http://www.cambridgecollege.edu/applynow\n",
      "[INT] Internal link: https://www.cambridgecollege.edu/form/request-information\n",
      "[INT] Internal link: https://www.cambridgecollege.edu/events/info-BOS-2020July15\n",
      "[INT] Internal link: https://www.cambridgecollege.edu/about/events\n",
      "[INT] Internal link: https://www.cambridgecollege.edu/alumni-friends/donate\n"
     ]
    },
    {
     "name": "stdout",
     "output_type": "stream",
     "text": [
      "[INT] Internal link: https://www.cambridgecollege.edu/about/events/2020-07-07\n",
      "[INT] Internal link: https://www.cambridgecollege.edu/about/events/2020-07-13\n",
      "[INT] Internal link: https://www.cambridgecollege.edu/about/events/2020-07-14\n",
      "[INT] Internal link: https://www.cambridgecollege.edu/about/events/2020-07-15\n",
      "[INT] Internal link: https://www.cambridgecollege.edu/about/events/2020-07-16\n",
      "[INT] Internal link: https://www.cambridgecollege.edu/about/events/2020-07-21\n",
      "[INT] Internal link: https://www.cambridgecollege.edu/about/events/2020-07-22\n",
      "[INT] Internal link: https://www.cambridgecollege.edu/about/events/2020-07-28\n",
      "[INT] Internal link: https://www.cambridgecollege.edu/about/events/2020-07-29\n",
      "[INT] Internal link: https://www.cambridgecollege.edu/about/events/2020-07-30\n",
      "[INT] Internal link: https://www.cambridgecollege.edu/news/cc-alumna-leading-member-covid-19-proning-team\n",
      "[INT] Internal link: https://www.cambridgecollege.edu/news/cambridge-college-plans-acquire-new-england-college-business-and-finance\n",
      "[INT] Internal link: https://www.cambridgecollege.edu/news/possible-project-offers-college-credits-high-school-students\n",
      "[INT] Internal link: https://www.cambridgecollege.edu/news/triangle-club-hires-new-leader-recovery-mission\n",
      "[INT] Internal link: https://www.cambridgecollege.edu/news/meet-cc-success-coach-jean-lendall\n",
      "[INT] Internal link: https://www.cambridgecollege.edu/news/bridges-epoch-names-executive-director\n",
      "[INT] Internal link: https://www.cambridgecollege.edu/news/president-jackson-honored-greater-boston-chamber-commerce\n",
      "[INT] Internal link: https://www.cambridgecollege.edu/news/new-training-program-small-businesses\n",
      "[INT] Internal link: https://www.cambridgecollege.edu/news/neighborworks-america-names-susan-m-ifill-chief-operating-officer\n",
      "[INT] Internal link: https://www.cambridgecollege.edu/news/meet-tatiana\n",
      "[INT] Internal link: https://www.cambridgecollege.edu/Event/SoCal-07July2020-Infosession-zoom\n",
      "[INT] Internal link: https://www.cambridgecollege.edu/Event/SoCal-07July2020-Infosession530\n",
      "[INT] Internal link: https://www.cambridgecollege.edu/events/SPR-13JUL-infosession\n",
      "[INT] Internal link: https://www.cambridgecollege.edu/Event/SoCal-14Julu2020-Infosession-zoom\n",
      "[INT] Internal link: https://www.cambridgecollege.edu/events/international-students-application-completion-workshop\n",
      "[INT] Internal link: https://www.cambridgecollege.edu/events/SPR-16JUL-infosession\n",
      "[INT] Internal link: https://www.cambridgecollege.edu/Event/SoCal-21July2020-Infosession-zoom\n",
      "[INT] Internal link: https://www.cambridgecollege.edu/events/SPR-22JUL-appworkshop\n",
      "[INT] Internal link: https://www.cambridgecollege.edu/Event/SoCal-28July2020-Infosession-zoom\n",
      "[INT] Internal link: https://www.cambridgecollege.edu/about/photo-galleries\n",
      "[INT] Internal link: https://www.cambridgecollege.edu/pf/nojs/form/4\n",
      "[INT] Internal link: https://www.cambridgecollege.edu/pf/nojs/form/6\n",
      "[INT] Internal link: https://www.cambridgecollege.edu/pf/nojs/form/11\n",
      "[INT] Internal link: https://www.cambridgecollege.edu/pf/nojs/form/10\n",
      "[INT] Internal link: https://www.cambridgecollege.edu/pf/nojs/form/9\n",
      "[INT] Internal link: https://www.cambridgecollege.edu/pf/nojs/form/7\n",
      "[INT] Internal link: https://www.cambridgecollege.edu/liminal-spaces-art-exhibition\n",
      "[INT] Internal link: https://www.cambridgecollege.edu/new-business-development-certificate-program-successful-start\n",
      "[INT] Internal link: https://www.cambridgecollege.edu/cc-puerto-rico-graduation-2019\n",
      "[INT] Internal link: https://www.cambridgecollege.edu/cc-puerto-rico-prepares-2019-20-academic-year\n",
      "[INT] Internal link: https://www.cambridgecollege.edu/president-jackson-receives-honorary-degree-merrimack\n",
      "[INT] Internal link: https://www.cambridgecollege.edu/sigma-beta-delta-honor-society-2019\n",
      "[INT] Internal link: https://www.cambridgecollege.edu/honorary-dinner-june-2019\n",
      "[INT] Internal link: https://www.cambridgecollege.edu/commencement-2019\n",
      "[INT] Internal link: https://www.cambridgecollege.edu/encore-boston-harbor-graduation-ceremony-june-2019\n",
      "[INT] Internal link: https://www.cambridgecollege.edu/alpha-10-first-cohort-mft-graduates-cc-southern-california\n",
      "[INT] Internal link: https://www.cambridgecollege.edu/locations/boston\n",
      "[INT] Internal link: https://www.cambridgecollege.edu/artists-reception-and-black-history-month-discussion-peter-bodge\n",
      "[INT] Internal link: https://www.cambridgecollege.edu/greater-boston-gaming-career-institute-ribbon-cutting\n",
      "[INT] Internal link: https://www.cambridgecollege.edu/2018-cambridge-college-honorary-dinner\n",
      "[INT] Internal link: https://www.cambridgecollege.edu/taxonomy/term/256/feed\n",
      "[INT] Internal link: https://www.cambridgecollege.edu/locations/southern-california\n",
      "[INT] Internal link: https://www.cambridgecollege.edu/people/161786\n",
      "[INT] Internal link: https://www.cambridgecollege.edu/people/244394\n",
      "[INT] Internal link: https://www.cambridgecollege.edu/people/229539\n",
      "[INT] Internal link: https://www.cambridgecollege.edu/node/9611\n",
      "[INT] Internal link: https://www.cambridgecollege.edu/node/9436\n",
      "[INT] Internal link: https://www.cambridgecollege.edu/people/241293\n",
      "[INT] Internal link: https://www.cambridgecollege.edu/people/70704\n",
      "[INT] Internal link: https://www.cambridgecollege.edu/people/214657\n",
      "[INT] Internal link: https://www.cambridgecollege.edu/cc-southern-california-graduation-2015\n",
      "[INT] Internal link: https://www.cambridgecollege.edu/taxonomy/term/276/feed\n",
      "[INT] Internal link: https://www.cambridgecollege.edu/locations/puerto-rico\n",
      "[INT] Internal link: https://www.cambridgecollege.edu/people/246629\n",
      "[INT] Internal link: https://www.cambridgecollege.edu/people/145700\n",
      "[INT] Internal link: https://www.cambridgecollege.edu/people/245470\n",
      "[INT] Internal link: https://www.cambridgecollege.edu/people/73743\n",
      "[INT] Internal link: https://www.cambridgecollege.edu/people/183381\n",
      "[INT] Internal link: https://www.cambridgecollege.edu/people/236096\n",
      "[INT] Internal link: https://www.cambridgecollege.edu/people/81161\n",
      "[INT] Internal link: https://www.cambridgecollege.edu/people/135350\n",
      "[INT] Internal link: https://www.cambridgecollege.edu/node/8601\n",
      "[INT] Internal link: https://www.cambridgecollege.edu/taxonomy/term/271/feed\n",
      "[+] Total External links: 69\n",
      "[+] Total Internal links: 181\n",
      "[+] Total: 250\n"
     ]
    }
   ],
   "source": [
    "crawl(base_url)\n",
    "print(\"[+] Total External links:\", len(external_urls))\n",
    "print(\"[+] Total Internal links:\", len(internal_urls))\n",
    "print(\"[+] Total:\", len(external_urls) + len(internal_urls))"
   ]
  },
  {
   "cell_type": "code",
   "execution_count": 52,
   "metadata": {},
   "outputs": [
    {
     "name": "stdout",
     "output_type": "stream",
     "text": [
      "1 0\n",
      "[+] NEW Total External links: 69\n",
      "[+] NEW Total Internal links: 181\n",
      "[+] NEW Total: 250\n",
      "1 1\n"
     ]
    }
   ],
   "source": [
    "count = 0\n",
    "last_count = 989874\n",
    "immediate_urls = set() #Linked Associated with the current page, https://umd.edu/virusinfo/ in this case\n",
    "\n",
    "for i in range(0,4):\n",
    "    for url in internal_urls:\n",
    "        if base_url_text in url:\n",
    "            immediate_urls.add(url)\n",
    "    count = len(immediate_urls)\n",
    "    print(count,i)\n",
    "    if(count == last_count):\n",
    "        break\n",
    "    last_count = count\n",
    "    for immediate_url in immediate_urls:\n",
    "        try:\n",
    "            crawl(immediate_url)\n",
    "            print(\"[+] NEW Total External links:\", len(external_urls))\n",
    "            print(\"[+] NEW Total Internal links:\", len(internal_urls))\n",
    "            print(\"[+] NEW Total:\", len(external_urls) + len(internal_urls))\n",
    "            if len(internal_urls)>1000:\n",
    "                break\n",
    "        except requests.exceptions.ConnectionError:\n",
    "            continue"
   ]
  },
  {
   "cell_type": "code",
   "execution_count": null,
   "metadata": {},
   "outputs": [],
   "source": []
  },
  {
   "cell_type": "code",
   "execution_count": 53,
   "metadata": {},
   "outputs": [],
   "source": [
    "def removeAfterN(yourStr, nth, occurenceOf):\n",
    "    return occurenceOf.join(yourStr.split(occurenceOf)[:nth])"
   ]
  },
  {
   "cell_type": "code",
   "execution_count": 54,
   "metadata": {},
   "outputs": [
    {
     "name": "stdout",
     "output_type": "stream",
     "text": [
      "https://www.cambridgecollege.edu/covid-19-updates\n",
      "1\n"
     ]
    }
   ],
   "source": [
    "semifinal_immediate_urls = set()\n",
    "\n",
    "for immediate_url in immediate_urls:\n",
    "    stripped_url = removeAfterN(immediate_url,2,\"http\")\n",
    "    \n",
    "    \n",
    "    semifinal_immediate_urls.add(stripped_url)\n",
    "#     final_immediate_urls.add(rest)\n",
    "#     print(rest)\n",
    "\n",
    "\n",
    "    \n",
    "for i in semifinal_immediate_urls:\n",
    "    print(i)\n",
    "total_count = len(semifinal_immediate_urls)\n",
    "print(total_count)"
   ]
  },
  {
   "cell_type": "code",
   "execution_count": null,
   "metadata": {},
   "outputs": [],
   "source": []
  },
  {
   "cell_type": "code",
   "execution_count": 55,
   "metadata": {},
   "outputs": [
    {
     "name": "stdout",
     "output_type": "stream",
     "text": [
      "https://www.cambridgecollege.edu/covid-19-updates\n",
      "1\n"
     ]
    }
   ],
   "source": [
    "final_immediate_urls = set()\n",
    "for semifinal_immediate_url in semifinal_immediate_urls:\n",
    "    if \"tel:\" not in semifinal_immediate_url:\n",
    "        final_immediate_urls.add(semifinal_immediate_url)\n",
    "\n",
    "\n",
    "for i in final_immediate_urls:\n",
    "    print(i)\n",
    "total_count = len(final_immediate_urls)\n",
    "print(total_count)       "
   ]
  },
  {
   "cell_type": "code",
   "execution_count": null,
   "metadata": {},
   "outputs": [],
   "source": []
  },
  {
   "cell_type": "code",
   "execution_count": 56,
   "metadata": {},
   "outputs": [],
   "source": [
    "\n",
    "parent_folder = \"Masters\" #Change based on folder\n",
    "name_of_folder = f'{base_url_text_domain}_Screenshots'\n",
    "options = webdriver.ChromeOptions()\n",
    "options.headless = True\n",
    "driver = webdriver.Chrome(options=options,executable_path='chromedriver.exe') # #Local Path of chrome driver\n",
    "if not os.path.exists(f'{parent_folder}\\\\{name_of_folder}'):\n",
    "    os.makedirs(f'{parent_folder}\\\\{name_of_folder}')"
   ]
  },
  {
   "cell_type": "code",
   "execution_count": 57,
   "metadata": {},
   "outputs": [
    {
     "name": "stdout",
     "output_type": "stream",
     "text": [
      "200 can_save - https://www.cambridgecollege.edu/covid-19-updates\n",
      "Webpages save as HTML :1\n",
      "Webpages unable to save as HTML :0\n"
     ]
    }
   ],
   "source": [
    "webpage_save = set()\n",
    "webpage_save_count = 0\n",
    "webpage_cannot_save = 0\n",
    "for i in final_immediate_urls:\n",
    "    if ' ' in i:\n",
    "        continue\n",
    "    try:\n",
    "        code=urlopen(i).getcode()\n",
    "        webpage_save.add(i)\n",
    "        webpage_save_count = webpage_save_count+1\n",
    "        print(f\"{code} can_save - {i}\")\n",
    "    except (urllib.error.HTTPError,urllib.error.URLError) as e:\n",
    "        print(\"discarded\")\n",
    "        webpage_cannot_save = webpage_cannot_save+1\n",
    "        continue\n",
    "\n",
    "print(f'Webpages save as HTML :{webpage_save_count}')\n",
    "print(f'Webpages unable to save as HTML :{webpage_cannot_save}')\n",
    "        "
   ]
  },
  {
   "cell_type": "code",
   "execution_count": 58,
   "metadata": {},
   "outputs": [
    {
     "name": "stdout",
     "output_type": "stream",
     "text": [
      "Pdfs saved: 0\n"
     ]
    }
   ],
   "source": [
    "pdf_count = 0\n",
    "pdf_urls = set()\n",
    "for webpage in webpage_save:\n",
    "    try:\n",
    "        if webpage[-4:] == \".pdf\":\n",
    "            url = webpage\n",
    "            file_name = url.replace(base_url,'')\n",
    "            file_name = file_name.replace('/','')\n",
    "            if file_name == '':\n",
    "                file_name = \"Home\"\n",
    "            pdf_urls.add(webpage)\n",
    "            print(webpage)\n",
    "            r = requests.get(url, stream=True)\n",
    "            with open(f'{parent_folder}\\\\{name_of_folder}\\\\{file_name}.pdf', 'wb') as fd:\n",
    "                for chunk in r.iter_content(2000):\n",
    "                    fd.write(chunk)\n",
    "            pdf_count = pdf_count + 1\n",
    "    except:\n",
    "        print(\"caught\")\n",
    "\n",
    "print(f\"Pdfs saved: {pdf_count}\")"
   ]
  },
  {
   "cell_type": "code",
   "execution_count": 59,
   "metadata": {},
   "outputs": [
    {
     "name": "stdout",
     "output_type": "stream",
     "text": [
      "1\n"
     ]
    }
   ],
   "source": [
    "final_immediate_urls = final_immediate_urls - pdf_urls\n",
    "webpage_save = webpage_save - pdf_urls\n",
    "web_save_count = len(webpage_save)\n",
    "total_count = len(final_immediate_urls)\n",
    "print(total_count) "
   ]
  },
  {
   "cell_type": "code",
   "execution_count": 60,
   "metadata": {},
   "outputs": [],
   "source": [
    "\n",
    "#     try:\n",
    "#         print(i)\n",
    "        \n",
    "#         print(\"added\")\n",
    "#     except urllib.error.HTTPError as e:\n",
    "#         if e.code in (400,403):\n",
    "#             print(\"discarded\")\n",
    "#             continue"
   ]
  },
  {
   "cell_type": "code",
   "execution_count": 61,
   "metadata": {},
   "outputs": [
    {
     "name": "stdout",
     "output_type": "stream",
     "text": [
      "1\n"
     ]
    }
   ],
   "source": [
    "final_webpage_save_count = webpage_save_count - pdf_count\n",
    "print(final_webpage_save_count)"
   ]
  },
  {
   "cell_type": "code",
   "execution_count": 62,
   "metadata": {},
   "outputs": [
    {
     "name": "stdout",
     "output_type": "stream",
     "text": [
      "1 of 1 - https://www.cambridgecollege.edu/covid-19-updates\n",
      "Saving Completed\n"
     ]
    }
   ],
   "source": [
    "webpage_save_counter_loop = 0\n",
    "for webpage in webpage_save:\n",
    "    try:\n",
    "        url = webpage\n",
    "        file_name = url.replace(base_url,'')\n",
    "        file_name = file_name.replace('/','')\n",
    "        if file_name == '':\n",
    "                file_name = \"Home\"\n",
    "        urllib.request.urlretrieve (webpage, f\"{parent_folder}\\\\{name_of_folder}\\\\{file_name}.html\")\n",
    "        webpage_save_counter_loop = webpage_save_counter_loop+1\n",
    "        print(f'{webpage_save_counter_loop} of {final_webpage_save_count} - {webpage}')\n",
    "    except:\n",
    "        print(\"caught\")\n",
    "\n",
    "print(\"Saving Completed\")"
   ]
  },
  {
   "cell_type": "code",
   "execution_count": null,
   "metadata": {},
   "outputs": [],
   "source": []
  },
  {
   "cell_type": "code",
   "execution_count": null,
   "metadata": {},
   "outputs": [],
   "source": []
  },
  {
   "cell_type": "code",
   "execution_count": null,
   "metadata": {},
   "outputs": [],
   "source": []
  },
  {
   "cell_type": "code",
   "execution_count": 63,
   "metadata": {},
   "outputs": [
    {
     "name": "stdout",
     "output_type": "stream",
     "text": [
      "1 of 1\n",
      "Visiting www.cambridgecollege.edu/covid-19-updates/Home\n",
      "...Taking a screenshot\n",
      "Screenshot of Home page taken! \n",
      "\n",
      "Task Completed! Files stored in the Masters\\www.cambridgecollege.edu_Screenshots Folder\n"
     ]
    }
   ],
   "source": [
    "count = 0\n",
    "for i in final_immediate_urls:\n",
    "    try:\n",
    "        url = i\n",
    "        file_name = url.replace(base_url,'')\n",
    "        file_name = file_name.replace('/','')\n",
    "        if file_name == '':\n",
    "                file_name = \"Home\"\n",
    "        count = count + 1\n",
    "        print(f\"{count} of {total_count}\")\n",
    "        print(f'Visiting {base_url_text}/{file_name}')\n",
    "        print(f'...Taking a screenshot')\n",
    "        driver.get(url)\n",
    "        S = lambda X: driver.execute_script('return document.body.parentNode.scroll'+X)\n",
    "        driver.set_window_size(S('Width'),S('Height')) # May need manual adjustment                                                                                                                \n",
    "        driver.find_element_by_tag_name('body').screenshot(f'{parent_folder}\\\\{name_of_folder}\\\\{file_name}.png')\n",
    "        print(f'Screenshot of {file_name} page taken! \\n')\n",
    "    except:\n",
    "        print(\"caught\")\n",
    "#     print(\"Saving HTML\")\n",
    "#     pyautogui.hotkey('ctrl', 's')\n",
    "#     time.sleep(1)\n",
    "#     pyautogui.typewrite(f'{file_name}.html')\n",
    "#     pyautogui.hotkey('enter')\n",
    "driver.quit()\n",
    "    \n",
    "print(f'Task Completed! Files stored in the {parent_folder}\\\\{name_of_folder} Folder')"
   ]
  },
  {
   "cell_type": "code",
   "execution_count": null,
   "metadata": {},
   "outputs": [],
   "source": [
    "\n"
   ]
  },
  {
   "cell_type": "code",
   "execution_count": null,
   "metadata": {},
   "outputs": [],
   "source": []
  },
  {
   "cell_type": "code",
   "execution_count": null,
   "metadata": {},
   "outputs": [],
   "source": []
  },
  {
   "cell_type": "code",
   "execution_count": null,
   "metadata": {},
   "outputs": [],
   "source": []
  },
  {
   "cell_type": "code",
   "execution_count": null,
   "metadata": {},
   "outputs": [],
   "source": []
  }
 ],
 "metadata": {
  "kernelspec": {
   "display_name": "Python 3",
   "language": "python",
   "name": "python3"
  },
  "language_info": {
   "codemirror_mode": {
    "name": "ipython",
    "version": 3
   },
   "file_extension": ".py",
   "mimetype": "text/x-python",
   "name": "python",
   "nbconvert_exporter": "python",
   "pygments_lexer": "ipython3",
   "version": "3.8.2"
  }
 },
 "nbformat": 4,
 "nbformat_minor": 4
}
