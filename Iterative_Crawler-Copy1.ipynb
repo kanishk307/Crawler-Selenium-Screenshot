{
 "cells": [
  {
   "cell_type": "code",
   "execution_count": 274,
   "metadata": {},
   "outputs": [],
   "source": [
    "#Imports\n",
    "import time\n",
    "import requests\n",
    "from urllib.parse import urlparse, urljoin\n",
    "from bs4 import BeautifulSoup\n",
    "from selenium import webdriver\n",
    "from selenium.webdriver.chrome.options import Options\n",
    "import os\n",
    "import urllib.request\n",
    "from urllib.request import urlopen\n",
    "import pyautogui\n",
    "from requests.exceptions import ConnectionError\n",
    "# from pywebcopy import save_webpage"
   ]
  },
  {
   "cell_type": "code",
   "execution_count": 275,
   "metadata": {},
   "outputs": [],
   "source": [
    "\n",
    "internal_urls = set()\n",
    "external_urls = set()"
   ]
  },
  {
   "cell_type": "code",
   "execution_count": 276,
   "metadata": {},
   "outputs": [],
   "source": [
    "def is_url_valid(url):\n",
    "   #Checks if the url is valid or not\n",
    "    parsedURL = urlparse(url)\n",
    "    return bool(parsedURL.netloc) and bool(parsedURL.scheme)\n",
    "\n",
    "#The above function works as follows. We check if the scheme is present and there is a value in the network location part\n",
    "# url = \"https://umd.edu/virusinfo\"\n",
    "# urlparse(url)\n",
    "# ParseResult(scheme='https', netloc='umd.edu', path='/virusinfo', \n",
    "# params='', query='', fragment='')"
   ]
  },
  {
   "cell_type": "code",
   "execution_count": 277,
   "metadata": {},
   "outputs": [],
   "source": [
    "\n",
    "#The function gives all urls\n",
    "def get_all_urls(url):\n",
    "    urls = set()\n",
    "    # domain name of the URL without the protocol (umd.edu in this case)\n",
    "    domain_name = urlparse(url).netloc\n",
    "    soup = BeautifulSoup(requests.get(url).content, \"html.parser\")\n",
    "    for a_tag in soup.findAll(\"a\"):\n",
    "        href = a_tag.attrs.get(\"href\")\n",
    "        if href == \"\" or href is None:\n",
    "            #href is empty and we don't need that a element\n",
    "            continue\n",
    "        #if the link is not absolute, make it by joining relative to the base\n",
    "        href = urljoin(url, href)\n",
    "        parsed_href = urlparse(href)\n",
    "        #constructing an absolute URL from parsed data\n",
    "        href = parsed_href.scheme + \"://\" + parsed_href.netloc + parsed_href.path\n",
    "        if not is_url_valid(href):\n",
    "            #in valid url\n",
    "            continue\n",
    "        if href in internal_urls:\n",
    "            #it is already in the set, so we don't need to add\n",
    "            continue\n",
    "        if domain_name not in href:\n",
    "            #it is an external link. i.e\n",
    "            # Check if it is already there \n",
    "            if href not in external_urls:\n",
    "#                 print(f\"[EXT] External link: {href}\")\n",
    "                external_urls.add(href)\n",
    "            continue\n",
    "#         print(\".\",end=\" \")\n",
    "        print(f\"[INT] Internal link: {href}\")\n",
    "\n",
    "        urls.add(href)\n",
    "        internal_urls.add(href)\n",
    "    return urls\n"
   ]
  },
  {
   "cell_type": "code",
   "execution_count": 278,
   "metadata": {},
   "outputs": [],
   "source": [
    "total_urls_visited = 0\n",
    "def crawl(url, max_urls=50):\n",
    "    #Max URL is just to decrease the time if there are a lot of pages.\n",
    "    #The following code was openly available of github and I found this\n",
    "    #idea useful to inhibit crawling time\n",
    "    global total_urls_visited\n",
    "    total_urls_visited += 1\n",
    "    try:\n",
    "        links = get_all_urls(url)\n",
    "        for link in links:\n",
    "            if total_urls_visited > max_urls:\n",
    "                break\n",
    "            crawl(link, max_urls=max_urls)\n",
    "    except:\n",
    "        print(\"caught\")\n"
   ]
  },
  {
   "cell_type": "code",
   "execution_count": 279,
   "metadata": {},
   "outputs": [],
   "source": [
    "#base_url = \"https://umd.edu/virusinfo\"\n",
    "#Input\n",
    "# base_url = input(\"Enter the URL : \")\n",
    "base_url = \"https://louisville.edu/coronavirus\"\n",
    "internal_urls.add(base_url)"
   ]
  },
  {
   "cell_type": "code",
   "execution_count": 280,
   "metadata": {},
   "outputs": [
    {
     "name": "stdout",
     "output_type": "stream",
     "text": [
      "ParseResult(scheme='https', netloc='louisville.edu', path='/coronavirus', params='', query='', fragment='')\n",
      "https://louisville.edu\n",
      "louisville.edu/coronavirus\n",
      "louisville.edu\n"
     ]
    }
   ],
   "source": [
    "parsedurl = urlparse(base_url)\n",
    "print(parsedurl)\n",
    "base_url_main = parsedurl.scheme+\"://\"+parsedurl.netloc\n",
    "print(base_url_main)\n",
    "# base_url_text = base_url.split(\"//\",1)[1]\n",
    "base_url_text = parsedurl.netloc+parsedurl.path\n",
    "print(base_url_text)\n",
    "# base_url_text_domain = base_url_text.split(\"/\",1)[0]\n",
    "base_url_text_domain = parsedurl.netloc\n",
    "print(base_url_text_domain)"
   ]
  },
  {
   "cell_type": "code",
   "execution_count": 281,
   "metadata": {},
   "outputs": [],
   "source": [
    "# internal_urls"
   ]
  },
  {
   "cell_type": "code",
   "execution_count": null,
   "metadata": {},
   "outputs": [],
   "source": []
  },
  {
   "cell_type": "code",
   "execution_count": 282,
   "metadata": {},
   "outputs": [
    {
     "name": "stdout",
     "output_type": "stream",
     "text": [
      "[INT] Internal link: http://louisville.edu\n",
      "[INT] Internal link: https://ulink.louisville.edu/\n",
      "[INT] Internal link: https://hrp.louisville.edu/\n",
      "[INT] Internal link: https://csprd.louisville.edu/\n",
      "[INT] Internal link: https://financials.louisville.edu/\n",
      "[INT] Internal link: https://blackboard.louisville.edu/\n",
      "[INT] Internal link: https://louisville.edu/businessops/portal/\n",
      "[INT] Internal link: https://louisville.edu/login\n",
      "[INT] Internal link: http://louisville.edu/admissions/apply\n",
      "[INT] Internal link: http://louisville.edu/admissions/apply/transfer/\n",
      "[INT] Internal link: http://graduate.louisville.edu/\n",
      "[INT] Internal link: http://louisville.edu/dental/dmd/admission/\n",
      "[INT] Internal link: http://www.law.louisville.edu/admissions\n",
      "[INT] Internal link: http://louisville.edu/medschool/apply\n",
      "[INT] Internal link: http://louisville.edu/business/apply\n",
      "[INT] Internal link: http://louisville.edu/admissions/apply/international\n",
      "[INT] Internal link: http://louisville.edu/online/admissions\n",
      "[INT] Internal link: http://louisville.edu/giving/\n",
      "[INT] Internal link: http://louisville.edu/about/campuses.html\n",
      "[INT] Internal link: http://louisville.edu/hsc/\n",
      "[INT] Internal link: http://louisville.edu/online\n",
      "[INT] Internal link: https://louisville.edu/coronavirus/communications-and-updates\n",
      "[INT] Internal link: https://louisville.edu/coronavirus/students\n",
      "[INT] Internal link: https://louisville.edu/coronavirus/students/academics\n",
      "[INT] Internal link: https://louisville.edu/coronavirus/students/campus-life\n",
      "[INT] Internal link: https://louisville.edu/coronavirus/students/financial\n",
      "[INT] Internal link: https://louisville.edu/coronavirus/students/health\n",
      "[INT] Internal link: https://louisville.edu/coronavirus/students/faq\n",
      "[INT] Internal link: https://louisville.edu/coronavirus/faculty\n",
      "[INT] Internal link: https://louisville.edu/coronavirus/faculty/online-instruction\n",
      "[INT] Internal link: https://louisville.edu/coronavirus/faculty/working-remotely\n",
      "[INT] Internal link: https://louisville.edu/coronavirus/faculty/human-resources\n",
      "[INT] Internal link: https://louisville.edu/coronavirus/faculty/health\n",
      "[INT] Internal link: https://louisville.edu/coronavirus/faculty/faq\n",
      "[INT] Internal link: https://louisville.edu/coronavirus/employees\n",
      "[INT] Internal link: https://louisville.edu/coronavirus/employees/remote-work\n",
      "[INT] Internal link: https://louisville.edu/coronavirus/employees/human-resources\n",
      "[INT] Internal link: https://louisville.edu/coronavirus/employees/health\n",
      "[INT] Internal link: https://louisville.edu/coronavirus/employees/faq\n",
      "[INT] Internal link: https://louisville.edu/coronavirus/employees/reopening-campus\n",
      "[INT] Internal link: http://louisville.edu/coronavirus/assets/pivot-to-fall-2020\n",
      "[INT] Internal link: https://louisville.edu/coronavirus/assets/pivot-to-fall-2020\n",
      "[INT] Internal link: mailto://hlthoff@louisville.edu\n",
      "[INT] Internal link: mailto://coronavirus@louisville.edu%20\n",
      "[INT] Internal link: https://louisville.edu/coronavirus/faq\n",
      "[INT] Internal link: https://dcidt.louisville.edu/fd/idt/Student-Continuity-of-Instruction.pdf\n",
      "[INT] Internal link: https://louisville.edu/coronavirus/students/campus-life/campus\n",
      "[INT] Internal link: https://louisville.edu/coronavirus/students/campus-life/campus/\n",
      "[INT] Internal link: http://louisville.edu/delphi/resources/continuity-of-instruction\n",
      "[INT] Internal link: https://louisville.edu/coronavirus/employees/remote-work/remote-work/\n",
      "[INT] Internal link: https://louisville.edu/hr/covid-19-hr/temporary-telecommuting-guidelines-for-employees\n",
      "[INT] Internal link: https://louisville.edu/hr/covid-19-hr/TemporaryLeaveGuidelines.pdf\n",
      "[INT] Internal link: https://louisville.edu/provost/travel\n",
      "[INT] Internal link: https://louisville.edu/studyabroad/covid-19-information\n",
      "[INT] Internal link: https://louisville.edu/studyabroad/resources/travel-insurance\n",
      "[INT] Internal link: https://louisville.edu/resolveuid/9f477bb5a6164ce8a2ab0cd617800e61\n",
      "[INT] Internal link: https://louisville.edu/resolveuid/35e546c3427b459c9dd7fc0cb1879039\n",
      "[INT] Internal link: https://louisville.edu/delphi/resources/continuity-of-instruction\n",
      "[INT] Internal link: https://louisville.edu/its/tech-support/working-remotely\n",
      "[INT] Internal link: https://louisville.edu/research/covid19resources/resources\n",
      "[INT] Internal link: http://give.louisville.edu/covid19\n",
      "[INT] Internal link: mailto://coronavirus@louisville.edu\n",
      "[INT] Internal link: http://louisville.edu/\n",
      "[INT] Internal link: http://louisville.edu/contact.html\n",
      "[INT] Internal link: http://louisville.edu/privacy-statement\n",
      "[INT] Internal link: http://louisville.edu/jobs\n",
      "[INT] Internal link: http://louisville.edu/giving\n",
      "[INT] Internal link: http://louisville.edu/emergency\n",
      "[INT] Internal link: https://business.louisville.edu/about/\n",
      "[INT] Internal link: https://business.louisville.edu/academics-programs/\n",
      "[INT] Internal link: https://business.louisville.edu/faculty-research/\n",
      "[INT] Internal link: https://business.louisville.edu/career-support/\n",
      "[INT] Internal link: https://business.louisville.edu/alumni-friends/\n",
      "[INT] Internal link: https://business.louisville.edu/news-events/\n",
      "[INT] Internal link: https://business.louisville.edu/academics-programs/apply-to-cob/\n",
      "[INT] Internal link: https://business.louisville.edu/current-student-resources/\n",
      "[INT] Internal link: https://business.louisville.edu/faculty-staff-resources/\n",
      "[INT] Internal link: https://business.louisville.edu/recruiters-employers/\n",
      "[INT] Internal link: https://business.louisville.edu/press-media-resources/\n",
      "[INT] Internal link: https://business.louisville.edu/about/accreditation/\n",
      "[INT] Internal link: https://business.louisville.edu/about/community-involvement/\n",
      "[INT] Internal link: https://business.louisville.edu/about/leap/\n",
      "[INT] Internal link: https://business.louisville.edu/about/leadership-admin/\n",
      "[INT] Internal link: https://business.louisville.edu/about/learning-at-cob/\n",
      "[INT] Internal link: https://business.louisville.edu/about/school-rankings/\n",
      "[INT] Internal link: https://business.louisville.edu/about/staffandfaculty/\n",
      "[INT] Internal link: https://business.louisville.edu/covid-19-resource-page/\n",
      "[INT] Internal link: https://business.louisville.edu/academics-programs/graduate-programs/\n",
      "[INT] Internal link: https://business.louisville.edu/academics-programs/undergraduate-programs/\n",
      "[INT] Internal link: https://business.louisville.edu/academics-programs/business-certificates-2/\n",
      "[INT] Internal link: https://business.louisville.edu/academics-programs/entrepreneurship-programs/\n",
      "[INT] Internal link: https://business.louisville.edu/academics-programs/undergraduate-programs/equine/\n",
      "[INT] Internal link: https://business.louisville.edu/academics-programs/execed/\n",
      "[INT] Internal link: https://business.louisville.edu/about/community-involvement/family-business-center/\n",
      "[INT] Internal link: https://business.louisville.edu/about/learning-at-cob/center-free-enterprise/\n",
      "[INT] Internal link: https://business.louisville.edu/academics-programs/global-study/\n",
      "[INT] Internal link: https://business.louisville.edu/emergency-res-execed-learning/\n",
      "[INT] Internal link: https://business.louisville.edu/faculty-research/faculty-directory/\n",
      "[INT] Internal link: https://business.louisville.edu/faculty-research/faculty-news/\n",
      "[INT] Internal link: https://business.louisville.edu/faculty-research/research-publication/\n",
      "[INT] Internal link: https://business.louisville.edu/career-support/student-support/\n",
      "[INT] Internal link: https://business.louisville.edu/career-support/alumni-support/\n",
      "[INT] Internal link: https://business.louisville.edu/career-support/employers/\n",
      "[INT] Internal link: https://business.louisville.edu/career-support/lifetime-career-support-promise/\n",
      "[INT] Internal link: https://business.louisville.edu/faculty-staff-resources/policies-guidelines/emergency-res-ulmer-career/\n",
      "[INT] Internal link: https://business.louisville.edu/alumni-friends/get-involved/\n",
      "[INT] Internal link: https://business.louisville.edu/alumni-friends/alum-connections/\n",
      "[INT] Internal link: https://business.louisville.edu/alumni-friends/giving/\n",
      "[INT] Internal link: https://business.louisville.edu/covid-19-resource-page/covid-19-cob-alumni/\n",
      "[INT] Internal link: https://business.louisville.edu/alumni-friends/scholarshipfunds/endowments-scholarships/emergency-scholarship-fund/\n",
      "[INT] Internal link: https://business.louisville.edu/current-student-resources/covid-19-resource-page/\n",
      "[INT] Internal link: https://business.louisville.edu/contact-us/\n",
      "[INT] Internal link: https://business.louisville.edu/2020-staff-and-faculty-awards/\n",
      "[INT] Internal link: https://business.louisville.edu/targeting-talent/\n",
      "[INT] Internal link: https://business.louisville.edu/securing-a-community/\n",
      "[INT] Internal link: https://business.louisville.edu/about/learning-at-cob/student-success/advising/\n",
      "[INT] Internal link: https://business.louisville.edu/about/community-involvement/fbc/\n",
      "[INT] Internal link: https://business.louisville.edu/about/learning-at-cob/entrepreneurship/forcht-center-for-entrepreneurship/\n",
      "[INT] Internal link: https://business.louisville.edu/about/learning-at-cob/entrepreneurship/\n",
      "[INT] Internal link: https://events.louisville.edu/\n",
      "[INT] Internal link: https://business.louisville.edu/juneteenth-reflection-video/\n",
      "[INT] Internal link: https://business.louisville.edu/endowing-opportunity/\n",
      "[INT] Internal link: https://business.louisville.edu/pinkston-wallethub-covid/\n",
      "[INT] Internal link: https://business.louisville.edu/news-events/news/\n",
      "[INT] Internal link: http://louisville.edu/accreditation\n",
      "[INT] Internal link: https://business.louisville.edu/alumni-friends/career-support/\n",
      "[INT] Internal link: https://ulink.louisville.edu\n",
      "[INT] Internal link: http://cob-it-print4.ad.louisville.edu/intranet\n",
      "[INT] Internal link: http://louisville.edu/admissions/apply/\n",
      "[INT] Internal link: https://louisville.edu/financialaid\n",
      "[INT] Internal link: https://business.louisville.edu/zh-CN/bizprod\n",
      "[INT] Internal link: https://business.louisville.edu/bizprod\n",
      "[INT] Internal link: https://business.louisville.edu/de/bizprod\n",
      "[INT] Internal link: https://business.louisville.edu/hi/bizprod\n",
      "[INT] Internal link: https://business.louisville.edu/ru/bizprod\n"
     ]
    },
    {
     "name": "stdout",
     "output_type": "stream",
     "text": [
      "[INT] Internal link: https://business.louisville.edu/\n",
      "[INT] Internal link: https://business.louisville.edu/current-student-resources/advising-assistance/\n",
      "[INT] Internal link: https://business.louisville.edu/current-student-resources/advising-assistance/reinhardt-advising-center/\n",
      "[INT] Internal link: https://business.louisville.edu/current-student-resources/advising-assistance/uofl-reach-center/\n",
      "[INT] Internal link: https://business.louisville.edu/current-student-resources/advising-assistance/undergraduate-academic-guidelines/\n",
      "[INT] Internal link: https://business.louisville.edu/current-student-resources/advising-assistance/undergraduate-academic-guidelines/gpa-standings/\n",
      "[INT] Internal link: https://business.louisville.edu/current-student-resources/advising-assistance/undergraduate-academic-guidelines/applying-for-a-minor/\n",
      "[INT] Internal link: https://business.louisville.edu/current-student-resources/advising-assistance/undergraduate-academic-guidelines/choosing-changing-majors/\n",
      "[INT] Internal link: https://business.louisville.edu/current-student-resources/advising-assistance/undergraduate-academic-guidelines/credit-hour-requirements/\n",
      "[INT] Internal link: https://business.louisville.edu/current-student-resources/advising-assistance/undergraduate-academic-guidelines/drop-withdraw-repeat-class/\n",
      "[INT] Internal link: https://business.louisville.edu/current-student-resources/advising-assistance/advising-staff/\n",
      "[INT] Internal link: https://business.louisville.edu/current-student-resources/bizcomm/\n",
      "[INT] Internal link: https://business.louisville.edu/current-student-resources/bizcomm/bizcomm-rubandpub/\n",
      "[INT] Internal link: https://business.louisville.edu/current-student-resources/bizcomm/bizcomm-rubandpub/bizcomm-access-request/\n",
      "[INT] Internal link: https://business.louisville.edu/current-student-resources/bizcomm/bizcomm-rubandpub/bizcomm-access-request/bizcomm-rubrics/\n",
      "[INT] Internal link: https://business.louisville.edu/current-student-resources/bizcomm/bizcomm-rubandpub/bizcomm-access-request/bizcomm-publications/\n",
      "[INT] Internal link: https://business.louisville.edu/current-student-resources/facilities-technology/\n",
      "[INT] Internal link: https://business.louisville.edu/current-student-resources/facilities-technology/virtual-desktop/\n",
      "[INT] Internal link: https://business.louisville.edu/current-student-resources/facilities-technology/college-of-business-it-services-request/\n",
      "[INT] Internal link: https://business.louisville.edu/current-student-resources/facilities-technology/cob-computer-labs/\n",
      "[INT] Internal link: https://business.louisville.edu/current-student-resources/internships/\n",
      "[INT] Internal link: https://business.louisville.edu/current-student-resources/scholarships-awards/\n",
      "[INT] Internal link: https://business.louisville.edu/current-student-resources/scholarships-awards/undergrad-scholarships-awards/\n",
      "[INT] Internal link: https://business.louisville.edu/current-student-resources/scholarships-awards/graduate-scholarships-awards/\n",
      "[INT] Internal link: https://business.louisville.edu/current-student-resources/organizations-clubs/\n",
      "[INT] Internal link: https://business.louisville.edu/current-student-resources/theory-of-constraints-materials/\n",
      "[INT] Internal link: https://business.louisville.edu/current-student-resources/theory-of-constraints-materials/toc-resources/\n",
      "[INT] Internal link: https://business.louisville.edu/current-student-resources/theory-of-constraints-materials/toc-resources/toc-video-series/\n",
      "[INT] Internal link: https://business.louisville.edu/current-student-resources/theory-of-constraints-materials/toc-resources/toc-research-publications/\n",
      "[INT] Internal link: https://business.louisville.edu/current-student-resources/theory-of-constraints-materials/toc-resources/toc-experiential-learning-exercises/\n",
      "[INT] Internal link: https://business.louisville.edu/current-student-resources/theory-of-constraints-materials/toc-resources/toc-experiential-learning-exercises/excel-based-dice-game-model-2/\n",
      "[INT] Internal link: https://business.louisville.edu/current-student-resources/theory-of-constraints-materials/toc-resources/toc-web-apps/\n",
      "[INT] Internal link: https://business.louisville.edu/current-student-resources/tuition-payments/\n",
      "[INT] Internal link: https://business.louisville.edu/current-student-resources/student-rights-policies/\n",
      "[INT] Internal link: https://business.louisville.edu/current-student-resources/honors-program-deans-list/\n",
      "[INT] Internal link: https://business.louisville.edu/faculty-staff-resources/cob-technology-resources/\n",
      "[INT] Internal link: https://business.louisville.edu/faculty-staff-resources/cob-technology-resources/computer-labs/\n",
      "[INT] Internal link: https://business.louisville.edu/faculty-staff-resources/cob-technology-resources/h-i-drive-access/\n",
      "[INT] Internal link: https://business.louisville.edu/faculty-staff-resources/events-scheduling-request/\n",
      "[INT] Internal link: https://business.louisville.edu/faculty-staff-resources/maintenance-request/\n",
      "[INT] Internal link: https://business.louisville.edu/faculty-staff-resources/policies-guidelines/\n",
      "[INT] Internal link: https://business.louisville.edu/faculty-staff-resources/online-evaluations/\n",
      "[INT] Internal link: https://business.louisville.edu/faculty-staff-resources/staff-development/\n",
      "[INT] Internal link: https://business.louisville.edu/faculty-staff-resources/share-your-successes/\n",
      "[INT] Internal link: https://business.louisville.edu/press-media-resources/about-the-school/\n",
      "[INT] Internal link: https://business.louisville.edu/press-media-resources/find-an-expert/\n",
      "[INT] Internal link: https://business.louisville.edu/press-media-resources/press-kits/\n",
      "[INT] Internal link: https://business.louisville.edu/recruiters-employers/recruitment-events/\n",
      "[INT] Internal link: https://business.louisville.edu/recruiters-employers/bump-mentoring-program/\n",
      "[INT] Internal link: https://business.louisville.edu/recruiters-employers/posting-a-job/\n",
      "[INT] Internal link: https://business.louisville.edu/faculty-staff-resources/policies-guidelines/cob-emergency-advising/\n",
      "[INT] Internal link: https://business.louisville.edu/how-to-register-for-classes/\n",
      "[INT] Internal link: https://business.louisville.edu/faculty-staff-resources/policies-guidelines/emergency-res-working-remotely/\n",
      "[INT] Internal link: https://business.louisville.edu/faculty-staff-resources/policies-guidelines/emergency-career-resources/\n",
      "[INT] Internal link: https://business.louisville.edu/faculty-staff-resources/policies-guidelines/emergency-res-instruction/\n",
      "[INT] Internal link: https://business.louisville.edu/faculty-staff-resources/policies-guidelines/emergency-res-admin-ops/\n",
      "[INT] Internal link: https://business.louisville.edu/covid19-summer2020-schedule-note-reinhardt/\n",
      "[INT] Internal link: https://business.louisville.edu/current-student-resources/covid-19-resource-page/covid-19-resource-page-student-resources/\n",
      "[INT] Internal link: https://business.louisville.edu/category/academic-advising/\n",
      "[INT] Internal link: https://business.louisville.edu/category/alumni/\n",
      "[INT] Internal link: https://business.louisville.edu/category/awards/\n",
      "[INT] Internal link: https://business.louisville.edu/category/boa/\n",
      "[INT] Internal link: https://business.louisville.edu/category/class-of-2020/\n",
      "[INT] Internal link: https://business.louisville.edu/category/college-of-business/\n",
      "[INT] Internal link: https://business.louisville.edu/category/college-of-business/covid19/\n",
      "[INT] Internal link: https://business.louisville.edu/category/competitions/\n",
      "[INT] Internal link: https://business.louisville.edu/category/currency/\n",
      "[INT] Internal link: https://business.louisville.edu/category/currency/fall19/\n",
      "[INT] Internal link: https://business.louisville.edu/category/currency/spring19/\n",
      "[INT] Internal link: https://business.louisville.edu/category/currency/spring20-currency/\n",
      "[INT] Internal link: https://business.louisville.edu/category/currency/winter20/\n",
      "[INT] Internal link: https://business.louisville.edu/category/dean-stories/\n",
      "[INT] Internal link: https://business.louisville.edu/category/diversity-and-inclusion/\n",
      "[INT] Internal link: https://business.louisville.edu/category/entrepreneurship/\n",
      "[INT] Internal link: https://business.louisville.edu/category/entrepreneurship/fce/\n",
      "[INT] Internal link: https://business.louisville.edu/category/equine-industry/\n",
      "[INT] Internal link: https://business.louisville.edu/category/equine-industry/analytics-brief/\n",
      "[INT] Internal link: https://business.louisville.edu/category/executive-education/\n",
      "[INT] Internal link: https://business.louisville.edu/category/executive-education/ai/\n",
      "[INT] Internal link: https://business.louisville.edu/category/executive-education/executive-ed-blog/\n",
      "[INT] Internal link: https://business.louisville.edu/category/executive-education/project-management/\n",
      "[INT] Internal link: https://business.louisville.edu/category/faculty/\n",
      "[INT] Internal link: https://business.louisville.edu/category/family-business-center/\n",
      "[INT] Internal link: https://business.louisville.edu/category/family-business-center/fbc-white-paper-series/\n",
      "[INT] Internal link: https://business.louisville.edu/category/fce-2/\n",
      "[INT] Internal link: https://business.louisville.edu/category/free-enterprise/\n",
      "[INT] Internal link: https://business.louisville.edu/category/graduate-programs/\n",
      "[INT] Internal link: https://business.louisville.edu/category/graduate-programs/entrepreneurship-phd/\n",
      "[INT] Internal link: https://business.louisville.edu/category/graduate-programs/fulltime-mba/\n",
      "[INT] Internal link: https://business.louisville.edu/category/graduate-programs/global-mba/\n",
      "[INT] Internal link: https://business.louisville.edu/category/graduate-programs/innovation-mba/\n",
      "[INT] Internal link: https://business.louisville.edu/category/graduate-programs/msba/\n",
      "[INT] Internal link: https://business.louisville.edu/category/homepage-feature/\n",
      "[INT] Internal link: https://business.louisville.edu/category/in-the-community/\n",
      "[INT] Internal link: https://business.louisville.edu/category/research/\n",
      "[INT] Internal link: https://business.louisville.edu/category/scholarships/\n",
      "[INT] Internal link: https://business.louisville.edu/category/staff/\n",
      "[INT] Internal link: https://business.louisville.edu/category/student-life/\n",
      "[INT] Internal link: https://business.louisville.edu/category/uncategorized/\n",
      "[INT] Internal link: https://business.louisville.edu/category/undergrad-programs/\n",
      "[INT] Internal link: https://business.louisville.edu/category/undergrad-programs/accountancy/\n",
      "[INT] Internal link: https://business.louisville.edu/category/undergrad-programs/cis/\n",
      "[INT] Internal link: https://business.louisville.edu/category/undergrad-programs/economics/\n",
      "[INT] Internal link: https://business.louisville.edu/category/undergrad-programs/finance/\n",
      "[INT] Internal link: https://business.louisville.edu/category/undergrad-programs/management/\n",
      "[INT] Internal link: https://business.louisville.edu/category/undergrad-programs/marketing/\n",
      "[INT] Internal link: https://business.louisville.edu/2020/07/\n",
      "[INT] Internal link: https://business.louisville.edu/2020/06/\n",
      "[INT] Internal link: https://business.louisville.edu/2020/05/\n",
      "[INT] Internal link: https://business.louisville.edu/2020/04/\n",
      "[INT] Internal link: https://business.louisville.edu/2020/03/\n",
      "[INT] Internal link: https://business.louisville.edu/2020/02/\n",
      "[INT] Internal link: https://business.louisville.edu/exhibitingleadershipcovidblog1/\n"
     ]
    },
    {
     "name": "stdout",
     "output_type": "stream",
     "text": [
      "[INT] Internal link: https://business.louisville.edu/response-to-kentucky-center-for-economic-policy-blog-on-taxing-betting-uniformly/\n",
      "[INT] Internal link: https://business.louisville.edu/category/analytics-brief\n",
      "[INT] Internal link: https://business.louisville.edu/category/equine-industry\n",
      "[INT] Internal link: https://business.louisville.edu/analytics-brief-2019-02/\n",
      "[INT] Internal link: https://business.louisville.edu/galbreath-laureate-b-wayne-hughes/\n",
      "[INT] Internal link: https://business.louisville.edu/category/spring20-currency\n",
      "[INT] Internal link: https://business.louisville.edu/back-in-the-saddle-again-equine-industry-program-alums-return-to-campus/\n",
      "[INT] Internal link: https://business.louisville.edu/category/alumni\n",
      "[INT] Internal link: https://business.louisville.edu/category/uncategorized\n",
      "[INT] Internal link: https://business.louisville.edu/category/winter20\n",
      "[INT] Internal link: https://business.louisville.edu/equine-industry-series-a-runaway-success/\n",
      "[INT] Internal link: https://business.louisville.edu/see-the-world/\n",
      "[INT] Internal link: https://business.louisville.edu/category/fall19\n",
      "[INT] Internal link: https://business.louisville.edu/category/homepage-feature\n",
      "[INT] Internal link: https://business.louisville.edu/category/student-life\n",
      "[INT] Internal link: https://business.louisville.edu/prestigious-equine-award-winner-announced-2/\n",
      "[INT] Internal link: https://business.louisville.edu/category/economics\n",
      "[INT] Internal link: https://business.louisville.edu/category/faculty\n",
      "[INT] Internal link: https://business.louisville.edu/exec-ed-leading-through-uncertainty3/\n",
      "[INT] Internal link: https://business.louisville.edu/category/executive-education\n",
      "[INT] Internal link: https://business.louisville.edu/exec-ed-leading-through-uncertainty2/\n",
      "[INT] Internal link: https://business.louisville.edu/exec-ed-leading-through-uncertainty-1/\n",
      "[INT] Internal link: https://business.louisville.edu/pass-fail-policy-for-spring-2020/\n",
      "[INT] Internal link: https://business.louisville.edu/category/covid19\n",
      "[INT] Internal link: https://business.louisville.edu/covid-19-reflection-blog-gosser/\n",
      "[INT] Internal link: https://business.louisville.edu/create-opportunity/\n",
      "[INT] Internal link: https://business.louisville.edu/category/msba\n",
      "[INT] Internal link: https://business.louisville.edu/invest/\n",
      "[INT] Internal link: https://business.louisville.edu/nothingtodo5/\n",
      "[INT] Internal link: https://business.louisville.edu/family-business-strong/\n",
      "[INT] Internal link: https://business.louisville.edu/learnmore/uoflmba/\n",
      "[INT] Internal link: https://business.louisville.edu/faculty-research/faculty-directory/ryan-w-quinn-phd/\n",
      "[INT] Internal link: https://business.louisville.edu/keeping-it-human/\n",
      "[INT] Internal link: https://business.louisville.edu/faculty-research/research-publications/how-did-you-do-that-exploring-the-motivation-to-learn-from-others-exceptional-success/\n",
      "[INT] Internal link: https://business.louisville.edu/faculty-research/research-publications/performance-improvement-when-do-employees-learn-from-others-success-stories/\n",
      "[INT] Internal link: https://business.louisville.edu/faculty-research/research-publications/why-you-shouldnt-label-people-low-performers/\n",
      "[INT] Internal link: https://business.louisville.edu/faculty-research/research-publications/change-management-and-leadership-development-have-to-mesh/\n",
      "[INT] Internal link: https://business.louisville.edu/faculty-research/research-publications/lift-the-fundamental-state-of-leadership/\n",
      "[INT] Internal link: https://business.louisville.edu/bizprod/wp-content/uploads/2019/05/Quinnvita.pdf\n"
     ]
    },
    {
     "name": "stderr",
     "output_type": "stream",
     "text": [
      "Some characters could not be decoded, and were replaced with REPLACEMENT CHARACTER.\n"
     ]
    },
    {
     "name": "stdout",
     "output_type": "stream",
     "text": [
      "[INT] Internal link: https://business.louisville.edu/academics-programs/graduate-programs/apply/\n",
      "[INT] Internal link: https://business.louisville.edu/learnmore/fulltimemba/\n",
      "[INT] Internal link: https://business.louisville.edu/learnmore/professionalmba/\n",
      "[INT] Internal link: https://business.louisville.edu/learnmore/entrepreneurshipmba/\n",
      "[INT] Internal link: https://business.louisville.edu/learnmore/globalmba/\n",
      "[INT] Internal link: https://business.louisville.edu/learnmore/onlinemba/\n",
      "[INT] Internal link: https://business.louisville.edu/learnmore/uoflmsba/\n",
      "[INT] Internal link: https://business.louisville.edu/learnmore/mac/\n",
      "[INT] Internal link: https://business.louisville.edu/academics-programs/graduate-programs/apply\n",
      "[INT] Internal link: https://business.louisville.edu\n",
      "[INT] Internal link: https://business.louisville.edu/academics-programs/graduate-programs/apply/tuition-and-costs/\n",
      "[INT] Internal link: https://business.louisville.edu/academics-programs/graduate-programs/apply/academic-calendar/\n",
      "[INT] Internal link: https://business.louisville.edu/academics-programs/graduate-programs/apply/licensing-credentialing/\n",
      "[INT] Internal link: https://business.louisville.edu/academics-programs/graduate-programs/apply/global-study-opportunities/\n",
      "[INT] Internal link: https://business.louisville.edu/academics-programs/graduate-programs/apply/military-experience/\n",
      "[INT] Internal link: https://business.louisville.edu/academics-programs/graduate-programs/apply/transfer-visiting-and-new-grad-students/\n",
      "[INT] Internal link: https://business.louisville.edu/academics-programs/graduate-programs/apply/mba-admissions-checklist/\n",
      "[INT] Internal link: https://business.louisville.edu/academics-programs/graduate-programs/apply/mba-admissions-checklist-2/\n",
      "[INT] Internal link: https://business.louisville.edu/academics-programs/graduate-programs/apply/gmat-prep-videos-access/\n",
      "[INT] Internal link: https://business.louisville.edu/academics-programs/graduate-programs/apply/gmat-gre-self-report/\n",
      "[INT] Internal link: https://business.louisville.edu/academics-programs/graduate-programs/dualmba/\n",
      "[INT] Internal link: https://business.louisville.edu/academics-programs/graduate-programs/entrepreneurship-phd/\n",
      "[INT] Internal link: https://business.louisville.edu/academics-programs/graduate-programs/full-time-mba/\n",
      "[INT] Internal link: https://business.louisville.edu/academics-programs/graduate-programs/global-mba/\n",
      "[INT] Internal link: https://business.louisville.edu/academics-programs/graduate-programs/graduate-certificate-programs/\n",
      "[INT] Internal link: https://business.louisville.edu/academics-programs/graduate-programs/entrepreneurship-mba/\n",
      "[INT] Internal link: https://business.louisville.edu/academics-programs/graduate-programs/master-of-accountancy/\n",
      "[INT] Internal link: https://business.louisville.edu/academics-programs/graduate-programs/msba/\n",
      "[INT] Internal link: https://business.louisville.edu/academics-programs/graduate-programs/online-mba/\n",
      "[INT] Internal link: https://business.louisville.edu/academics-programs/graduate-programs/professional-mba/\n",
      "[INT] Internal link: https://business.louisville.edu/graduate-programs-gmat-waiver-request/\n",
      "[INT] Internal link: https://business.louisville.edu/academics-programs/graduate-programs/apply/mba-admissions-checklist-2-2/\n",
      "[INT] Internal link: https://business.louisville.edu/academics-programs/graduate-programs/apply/gmat-prep-resources/\n",
      "[INT] Internal link: https://business.louisville.edu/academics-programs/graduate-programs/graduate-programs-gmat-waiver-request/\n",
      "[INT] Internal link: https://business.louisville.edu/get-your-mba-decision-guide/\n",
      "[INT] Internal link: https://business.louisville.edu/bizprod/wp-content/uploads/2019/08/Grad-Program-Comparison_Chart_32019.pdf\n",
      "[INT] Internal link: https://business.louisville.edu/mba-admissions-checklist-2-2/\n",
      "[INT] Internal link: https://business.louisville.edu/gmat-prep-resources/\n",
      "[INT] Internal link: https://business.louisville.edu/academic-catalog-grad-prog/\n",
      "[INT] Internal link: https://business.louisville.edu/current-student-resources/graduate-internships/\n",
      "[INT] Internal link: https://business.louisville.edu/graduate-programs-faq/\n",
      "[INT] Internal link: https://business.louisville.edu/about/cob-student-life/housing/\n",
      "[INT] Internal link: https://business.louisville.edu/internships/\n",
      "[INT] Internal link: https://business.louisville.edu/graduate-internships/\n",
      "[INT] Internal link: https://business.louisville.edu/learnmore/onlinefranchise/\n",
      "[INT] Internal link: https://business.louisville.edu/learnmore/onlinespirits/\n",
      "[INT] Internal link: https://business.louisville.edu/academics-programs/graduate-programs/apply/global-study-opportunities/international-study-trip/\n",
      "[INT] Internal link: https://business.louisville.edu/grad-chat/\n",
      "[INT] Internal link: https://business.louisville.edu/graduate-programs-events/\n",
      "[INT] Internal link: https://business.louisville.edu/about/cob-student-life/clubs-organizations/\n",
      "[INT] Internal link: https://business.louisville.edu/academics-programs/entrepreneurship-programs/entrepreneurship-mba-redirect/\n",
      "[INT] Internal link: https://business.louisville.edu/academics-programs/entrepreneurship-programs/business-minors-redirect/\n",
      "[INT] Internal link: https://business.louisville.edu/academics-programs/entrepreneurship-programs/circle-of-fame/\n",
      "[INT] Internal link: https://business.louisville.edu/academics-programs/entrepreneurship-programs/entrepreneurship-news/\n",
      "[INT] Internal link: https://business.louisville.edu/academics-programs/entrepreneurship-programs/faculty-and-advisors/\n",
      "[INT] Internal link: https://business.louisville.edu/academics-programs/entrepreneurship-programs/forcht-center/\n",
      "[INT] Internal link: https://business.louisville.edu/about/learning-at-cob/entrepreneurship/entrepreneurship-clubs-groups/\n",
      "[INT] Internal link: https://business.louisville.edu/about/learning-at-cob/entrepreneurship/forcht-center-for-entrepreneurship/business-competitions/\n",
      "[INT] Internal link: https://business.louisville.edu/about/learning-at-cob/entrepreneurship/forcht-center-for-entrepreneurship/forcht-center-news/\n",
      "[INT] Internal link: https://business.louisville.edu/about/learning-at-cob/entrepreneurship/circle-of-fame/\n",
      "[INT] Internal link: https://business.louisville.edu/academics-programs/entrepreneurship-programs/forcht-center/community-programs/\n",
      "[INT] Internal link: https://business.louisville.edu/academics-programs/entrepreneurship-programs/forcht-center/community-programs/office-hours/\n",
      "[INT] Internal link: https://business.louisville.edu/about/learning-at-cob/entrepreneurship/forcht-center-for-entrepreneurship/business-competitions/cardinal-challenge/\n",
      "[INT] Internal link: https://business.louisville.edu/about/learning-at-cob/entrepreneurship/forcht-center-for-entrepreneurship/business-competitions/ballard-morton-new-venture/\n",
      "[INT] Internal link: https://business.louisville.edu/academics-programs/entrepreneurship-programs/forcht-center/community-programs/rev-it/\n",
      "[INT] Internal link: https://business.louisville.edu/academics-programs/entrepreneurship-programs/forcht-center/community-programs/vet-start/\n",
      "[INT] Internal link: https://business.louisville.edu/academics-programs/entrepreneurship-programs/forcht-center/community-programs/launch-it/\n",
      "[INT] Internal link: https://business.louisville.edu/academics-programs/entrepreneurship-programs/forcht-center/community-programs/ulaunch/\n",
      "[INT] Internal link: https://business.louisville.edu/academics-programs/entrepreneurship-programs/forcht-center/community-programs/small-business-institute/\n",
      "[INT] Internal link: https://business.louisville.edu/academics-programs/entrepreneurship-programs/forcht-center/community-programs/e-i/\n",
      "[INT] Internal link: https://business.louisville.edu/academics-programs/entrepreneurship-programs/forcht-center/community-programs/small-business-institute/consult-mba/\n",
      "[INT] Internal link: https://business.louisville.edu/academics-programs/entrepreneurship-programs/forcht-center/community-programs/small-business-institute/consult-mba/consultmba-project-request-form/\n",
      "[INT] Internal link: https://business.louisville.edu/academics-programs/entrepreneurship-programs/forcht-center/community-programs/vet-start/vetstart-application/\n",
      "[INT] Internal link: https://business.louisville.edu/academics-programs/entrepreneurship-programs/forcht-center/community-programs/vet-start/5339-2/\n"
     ]
    },
    {
     "name": "stdout",
     "output_type": "stream",
     "text": [
      "[INT] Internal link: https://business.louisville.edu/academics-programs/entrepreneurship-programs/forcht-center/community-programs/rev-it/revit-expert/\n",
      "[INT] Internal link: https://business.louisville.edu/academics-programs/entrepreneurship-programs/forcht-center/community-programs/rev-it/revit-entrepreneur-application/\n",
      "[INT] Internal link: https://business.louisville.edu/academics-programs/entrepreneurship-programs/forcht-center/community-programs/ulaunch/ulaunch-application/\n",
      "[INT] Internal link: https://business.louisville.edu/about/learning-at-cob/entrepreneurship/forcht-center-for-entrepreneurship/programs/small-business-institute/consult-mba/\n",
      "[INT] Internal link: https://business.louisville.edu/academics-programs/entrepreneurship-programs/forcht-center/community-programs/launch-it/launchit-registration/\n",
      "[+] Total External links: 84\n",
      "[+] Total Internal links: 367\n",
      "[+] Total: 451\n"
     ]
    }
   ],
   "source": [
    "crawl(base_url)\n",
    "print(\"[+] Total External links:\", len(external_urls))\n",
    "print(\"[+] Total Internal links:\", len(internal_urls))\n",
    "print(\"[+] Total:\", len(external_urls) + len(internal_urls))"
   ]
  },
  {
   "cell_type": "code",
   "execution_count": null,
   "metadata": {},
   "outputs": [
    {
     "name": "stdout",
     "output_type": "stream",
     "text": [
      "26 0\n",
      "[INT] Internal link: https://louisville.edu/coronavirus/students/campus-life/campus/login\n",
      "[INT] Internal link: https://louisville.edu/coronavirus/students/assets/campus/affiliated-properties\n",
      "[INT] Internal link: http://louisville.edu/housing\n",
      "[INT] Internal link: https://louisville.edu/housing\n",
      "[INT] Internal link: https://louisville.edu/housing/resources/express-check-out\n",
      "[INT] Internal link: https://louisville.edu/housing/resources/covid-19\n",
      "[INT] Internal link: https://louisville.edu/housing/resources/covid-19-faq\n",
      "[INT] Internal link: https://louisville.edu/coronavirus/financial\n",
      "[INT] Internal link: https://louisville.edu/involvement/leadership/engage-lead-serve-board/cardinalcupboard/\n",
      "[INT] Internal link: https://louisville.edu/coronavirus/students/community-resources\n",
      "[INT] Internal link: http://louisville.edu/newcards/first-year/first-time-freshman-checklist/freshman-virtual-orientation\n",
      "[INT] Internal link: https://louisville.edu/commencement\n",
      "[INT] Internal link: https://library.louisville.edu/ekstrom/hours\n",
      "[INT] Internal link: http://library.louisville.edu/ask\n",
      "[INT] Internal link: mailto://Rob.Detmering@louisville.edu\n",
      "[INT] Internal link: https://louisville.edu/intramurals/facilities/src\n",
      "[INT] Internal link: https://louisville.edu/intramurals/fitness\n",
      "[+] NEW Total External links: 88\n",
      "[+] NEW Total Internal links: 384\n",
      "[+] NEW Total: 472\n",
      "[INT] Internal link: https://louisville.edu/coronavirus/faculty/login\n",
      "[INT] Internal link: https://louisville.edu/coronavirus/employees/health/health/\n",
      "[INT] Internal link: https://louisville.edu/hr/benefits/additional/eap\n",
      "[INT] Internal link: http://louisville.edu/campushealth\n",
      "[+] NEW Total External links: 93\n",
      "[+] NEW Total Internal links: 388\n",
      "[+] NEW Total: 481\n",
      "[INT] Internal link: https://louisville.edu/coronavirus/students/login\n",
      "[INT] Internal link: https://louisville.edu/coronavirus/students/academics/academics/\n",
      "[INT] Internal link: https://louisville.edu/summerterm/\n",
      "[INT] Internal link: https://louisville.edu/coronavirus/students/assets/academic/pass-fail-policy-for-spring-2020\n",
      "[INT] Internal link: https://louisville.edu/studentsuccess/covid-19-student-support/covid-19-student-support\n",
      "[INT] Internal link: https://library.louisville.edu/covid19\n",
      "[INT] Internal link: https://louisville.edu/coronavirus/assets/study-habits-during-covid-19\n",
      "[INT] Internal link: http://louisville.edu/advising/centers\n",
      "[INT] Internal link: mailto://bursar@louisville.edu\n",
      "[INT] Internal link: https://louisville.edu/registrar/registration/registration-specific/specific-registration-information/\n",
      "[INT] Internal link: https://louisville.edu/advising\n",
      "[INT] Internal link: http://louisville.edu/studentsuccess/student-success-coordinators\n",
      "[INT] Internal link: mailto://succeed@louisville.edu\n",
      "[INT] Internal link: http://louisville.edu/studentsuccess/covid-19-student-support\n",
      "[INT] Internal link: https://reach.louisville.edu/covid19/\n",
      "[INT] Internal link: https://louisville.edu/writingcenter/appointments-1/making-online-written-response-appointments\n",
      "[INT] Internal link: https://louisville.edu/career/about-us/career-centers-at-uofl\n",
      "[INT] Internal link: https://louisville.edu/career\n",
      "[INT] Internal link: https://louisville.edu/its/get-help/its-helpdesk\n",
      "[INT] Internal link: http://library.louisville.edu/home\n",
      "[INT] Internal link: https://louisville.edu/coronavirus/students/assets/academic/uofl-driveup-hotspots-old\n",
      "[INT] Internal link: http://louisville.edu/its/get-help/its-for-students\n",
      "[INT] Internal link: http://louisville.edu/coronavirus/students/community-resources\n",
      "[+] NEW Total External links: 100\n",
      "[+] NEW Total Internal links: 411\n",
      "[+] NEW Total: 511\n",
      "[INT] Internal link: https://louisville.edu/coronavirus/students/health/health/\n",
      "[INT] Internal link: https://louisville.edu/education/cardinal-success/\n",
      "[INT] Internal link: https://louisville.edu/counseling\n",
      "[INT] Internal link: https://louisville.edu/campushealth/services/behavioral-health-services/counseling-services\n",
      "[INT] Internal link: https://louisville.edu/coronavirus/assets/uhcsr-covid-19\n",
      "[INT] Internal link: mailto://Htlhoff@louisville.edu\n",
      "[+] NEW Total External links: 104\n",
      "[+] NEW Total Internal links: 417\n",
      "[+] NEW Total: 521\n",
      "[INT] Internal link: https://louisville.edu/coronavirus/employees/login\n",
      "[INT] Internal link: https://louisville.edu/coronavirus/employees/reopening-campus/appointment-letter.pdf/view\n",
      "[INT] Internal link: https://louisville.edu/coronavirus/employees/reopening-campus/ccc.pdf/view\n",
      "[INT] Internal link: https://louisville.edu/coronavirus/employees/reopening-campus/charge-for-safe-return-to-work-committee/view\n",
      "[+] NEW Total External links: 104\n",
      "[+] NEW Total Internal links: 421\n",
      "[+] NEW Total: 525\n",
      "[INT] Internal link: https://louisville.edu/coronavirus/login\n",
      "[INT] Internal link: https://louisville.edu/coronavirus/communications-and-updates/messages/Updateonremotework2021budget.pdf\n",
      "[INT] Internal link: https://louisville.edu/coronavirus/communications-and-updates/communications-and-updates/\n",
      "[INT] Internal link: https://louisville.edu/coronavirus/communications-and-updates/messages/PivottoFallmessagefromProvostBoehm.pdf\n",
      "[INT] Internal link: https://louisville.edu/coronavirus/communications-and-updates/messages/FromtheProvostonPivotingtoFall.pdf\n",
      "[INT] Internal link: https://louisville.edu/coronavirus/communications-and-updates/messages/FromtheProvostrePivottoFallplan.pdf\n",
      "[INT] Internal link: https://louisville.edu/coronavirus/communications-and-updates/messages/Updateonuniversityspivottofallsemester.pdf\n",
      "[INT] Internal link: https://louisville.edu/hr/employeerelations/pending-unemployment-questions\n",
      "[INT] Internal link: https://louisville.edu/coronavirus/employees/human-resources/financial-challenge-mitigation-faq\n",
      "[INT] Internal link: https://louisville.edu/coronavirus/communications-and-updates/messages/NotefromHumanResources.pdf\n",
      "[INT] Internal link: https://louisville.edu/coronavirus/communications-and-updates/messages/FromtheProvostPivotingtoFall2020.pdf\n",
      "[INT] Internal link: https://louisville.edu/coronavirus/communications-and-updates/messages/PlanningforFall2020semester.pdf\n",
      "[INT] Internal link: https://louisville.edu/discover/hereandbeyond2020/\n",
      "[INT] Internal link: https://louisville.edu/coronavirus/communications-and-updates/messages/Classof2020VirtualGraduationCelebration.pdf\n",
      "[INT] Internal link: https://louisville.edu/staffsenate/senators%202019-2020\n",
      "[INT] Internal link: https://louisville.edu/staffsenate/documents-forms-resources\n",
      "[INT] Internal link: https://louisville.edu/coronavirus/communications-and-updates/messages/LetterFromStaffSenate.pdf\n",
      "[INT] Internal link: https://louisville.edu/coronavirus/communications-and-updates/messages/HRupdateforemployeesimpactedbyfurloughs.pdf\n",
      "[INT] Internal link: https://louisville.edu/staffsenate/documents/share-application\n",
      "[INT] Internal link: https://louisville.edu/coronavirus/communications-and-updates/messages/ActionsinresponsetoCOVID19financialimpact.pdf\n",
      "[INT] Internal link: https://louisville.edu/coronavirus/communications-and-updates/messages/april-17-2020-state-request-for-ppe\n",
      "[INT] Internal link: https://louisville.edu/coronavirus/communications-and-updates/messages/UpdatefromthePresidentsLeadershipTeam.pdf\n",
      "[INT] Internal link: https://louisville.edu/coronavirus/communications-and-updates/messages/MessagetoFacultyfromProvostBoehm.pdf\n",
      "[INT] Internal link: https://louisville.edu/coronavirus/communications-and-updates/messages/ImportantAnnouncementfromUofLsLeadershipTeam.pdf\n",
      "[INT] Internal link: https://louisville.edu/coronavirus/communications-and-updates/messages/presidents-council-covid-19-update\n",
      "[INT] Internal link: https://louisville.edu/diversity\n",
      "[INT] Internal link: http://louisville.edu/hsc/diversity\n",
      "[INT] Internal link: https://louisville.edu/internationalcenter\n",
      "[INT] Internal link: http://%20https://louisville.edu/lgbt\n",
      "[INT] Internal link: https://louisville.edu/coronavirus/communications-and-updates/messages/COVID19SAVPDE.pdf\n",
      "[INT] Internal link: https://louisville.edu/coronavirus/communications-and-updates/messages/PresidentialUpdatefromDr.Bendapudi.pdf\n",
      "[INT] Internal link: http://give.louisville.edu/COVID19\n",
      "[INT] Internal link: https://louisville.edu/coronavirus/communications-and-updates/messages/COVID19MessagefromPresidentBendapudi.pdf\n",
      "[INT] Internal link: http://louisville.edu/coronavirus/communications-and-updates/messages/bot-meeting-april-3-2020\n",
      "[INT] Internal link: https://louisville.edu/coronavirus/communications-and-updates/messages/ImportantAnnouncementregardingSummerTerm2020.pdf\n",
      "[INT] Internal link: https://louisville.edu/coronavirus/communications-and-updates/messages/ProvostPass_FailGrading.pdf\n",
      "[INT] Internal link: https://louisville.edu/dehs/home-files/laboratory-ramp-down-aid-checklist/\n",
      "[INT] Internal link: https://louisville.edu/coronavirus/communications-and-updates/messages/UpdatedCOVID19GuidelinesfortheUofLResearchCommunity.pdf\n",
      "[INT] Internal link: https://louisville.edu/coronavirus/communications-and-updates/messages/SGACOVID19Update.pdf\n",
      "[INT] Internal link: https://louisville.edu/coronavirus/communications-and-updates/messages/march-23-2020-emergency-paid-sick-leave-family-and-medical-leave\n",
      "[INT] Internal link: https://louisville.edu/coronavirus/communications-and-updates/messages/march-20-2020-new-pass-fail-policy-and-other-resources-for-students\n",
      "[INT] Internal link: https://louisville.edu/coronavirus/communications-and-updates/messages/march-20-2020-message-from-the-provost-re-pass-fail-policy\n",
      "[INT] Internal link: https://louisville.edu/coronavirus/communications-and-updates/messages/message-from-faculty-senate-and-staff-senate-officers\n",
      "[INT] Internal link: https://louisville.edu/coronavirus/communications-and-updates/messages/march-18-2020-2013-remote-operations-extended-through-april-28-spring-commencement-postponed\n",
      "[INT] Internal link: https://louisville.edu/coronavirus/communications-and-updates/messages/march-18-2020-email-to-all-residents-on-closing-traditional-halls-and-suites\n",
      "[INT] Internal link: https://louisville.edu/coronavirus/communications-and-updates/messages/march-17-2020-update-from-the-dean-of-students\n",
      "[INT] Internal link: https://louisville.edu/coronavirus/communications-and-updates/messages/march-16-2020-our-students-are-at-the-center-of-all-we-do\n",
      "[INT] Internal link: https://louisville.edu/coronavirus/communications-and-updates/messages/march-16-2020-its-guidelines-services-for-remote-work\n",
      "[INT] Internal link: https://louisville.edu/coronavirus/communications-and-updates/messages/march-16-2020-update-from-provost-beth-boehm\n",
      "[INT] Internal link: https://louisville.edu/coronavirus/communications-and-updates/messages/march-15-2020-remote-work-guidelines-for-the-university-of-louisville-research-community\n",
      "[INT] Internal link: https://louisville.edu/coronavirus/communications-and-updates/messages/UofL%20ITS_Covid_Announcement.pdf\n",
      "[INT] Internal link: https://louisville.edu/coronavirus/communications-and-updates/messages/UofL_to_implement_remote_work_plan_postpone_or_cancel_events.pdf\n",
      "[INT] Internal link: https://louisville.edu/coronavirus/communications-and-updates/messages/Additional%20online%20training%20for%20UofL%20faculty.pdf\n",
      "[INT] Internal link: https://louisville.edu/coronavirus/communications-and-updates/messages/Provost-%20Dean%20of%20Students%20share%20COVID-19%20update%20for%20students.pdf\n",
      "[INT] Internal link: https://louisville.edu/coronavirus/communications-and-updates/messages/Faculty%20Senate%20update%20on%20COVID-19%20preparation.pdf\n",
      "[INT] Internal link: https://louisville.edu/coronavirus/communications-and-updates/messages/From%20the%20Executive%20Vice%20President%20for%20Research%20re-%20Coronavirus%20preparations.pdf\n",
      "[INT] Internal link: https://louisville.edu/coronavirus/communications-and-updates/messages/update-on-coronavirus-planning-3-10-2020.pdf\n",
      "[INT] Internal link: https://louisville.edu/coronavirus/communications-and-updates/messages/Campus-Health-update-on-UofL-coronavirus-3-5-2020.pdf\n",
      "[INT] Internal link: https://louisville.edu/coronavirus/communications-and-updates/messages/Campus-Health-update-on-UofL-coronavirus-3-4-2020.pdf\n",
      "[INT] Internal link: https://louisville.edu/coronavirus/communications-and-updates/messages/200228%20Provost%20Update%20on%20UofL%20and%20coronavirus%20concerns.pdf\n",
      "[INT] Internal link: https://louisville.edu/coronavirus/communications-and-updates/messages/200131%20Provost%20Update%20on%20UofL%20response%20to%20coronavirus.pdf\n",
      "[INT] Internal link: https://louisville.edu/coronavirus/communications-and-updates/messages/200129%20Provost%20Update%20on%20UofL%20response%20to%20coronavirus.pdf\n",
      "[+] NEW Total External links: 106\n",
      "[+] NEW Total Internal links: 483\n",
      "[+] NEW Total: 589\n"
     ]
    },
    {
     "name": "stdout",
     "output_type": "stream",
     "text": [
      "[INT] Internal link: https://louisville.edu/coronavirus/employees/human-resources/\n",
      "[+] NEW Total External links: 106\n",
      "[+] NEW Total Internal links: 484\n",
      "[+] NEW Total: 590\n",
      "[+] NEW Total External links: 106\n",
      "[+] NEW Total Internal links: 484\n",
      "[+] NEW Total: 590\n",
      "[INT] Internal link: https://louisville.edu/coronavirus/faq/\n",
      "[INT] Internal link: https://louisville.edu/provost/travel/interim-travel-policy-for-covid-19\n",
      "[INT] Internal link: https://louisville.edu/campushealth/information/coronavirus/students\n",
      "[INT] Internal link: mailto://finaid@louisville.edu\n",
      "[INT] Internal link: http://louisville.edu/hr/covid-19-hr/updated-telecommuting-guidelines-4.30\n",
      "[INT] Internal link: https://louisville.edu/policies/policies-and-procedures/pageholder/pol-vehicle-use\n",
      "[INT] Internal link: https://louisville.edu/delphi\n",
      "[INT] Internal link: http://louisville.edu/hr/covid-19-hr/covid-19-hr-information\n",
      "[INT] Internal link: http://louisville.edu/hr/covid-19-hr/epsla-fmla-expansion-employee-guidelines\n",
      "[INT] Internal link: mailto://leaveadm@louisville.edu\n",
      "[INT] Internal link: https://louisville.edu/campushealth/information/coronavirus/assets/Temporary_Telecommuting_Guidelines_for_Employees.pdf\n",
      "[INT] Internal link: https://louisville.edu/coronavirus/faq/tel:15025894357\n",
      "[INT] Internal link: http://louisville.edu/hr/benefits/health/LiveHealthOnlineCombined002.pdf\n",
      "[INT] Internal link: http://louisville.edu/hr/covid-19-hr/TemporaryLeaveGuidelines.pdf\n",
      "[+] NEW Total External links: 109\n",
      "[+] NEW Total Internal links: 498\n",
      "[+] NEW Total: 607\n",
      "[INT] Internal link: https://louisville.edu/coronavirus/students/financial/financial/\n",
      "[INT] Internal link: mailto://campcard@louisville.edu\n",
      "[INT] Internal link: https://louisville.edu/financialaid/satisfactory-academic-progress\n",
      "[INT] Internal link: http://louisville.edu/financialaid/summer-financial-aid\n",
      "[INT] Internal link: http://louisville.edu/financialaid/SFAOFAQforCOVID19_24MAR20.pdf\n",
      "[INT] Internal link: https://louisville.edu/bursar\n",
      "[INT] Internal link: https://louisville.edu/dos/help/studentemergencyfund\n",
      "[INT] Internal link: http://give.louisville.edu/s/1157/19/fdn/interior.aspx\n",
      "[INT] Internal link: http://louisville.edu/financialaid\n",
      "[+] NEW Total External links: 109\n",
      "[+] NEW Total Internal links: 507\n",
      "[+] NEW Total: 616\n",
      "[INT] Internal link: https://louisville.edu/coronavirus/employees/human-resources/human-resources/\n",
      "[INT] Internal link: https://louisville.edu/hr/covid-19-hr/federal-stimulus-package-overview\n",
      "[INT] Internal link: https://louisville.edu/hr/covid-19-hr/federal-stimulus-package-faq\n",
      "[INT] Internal link: https://louisville.edu/hr/covid-19-hr/epsla-fmla-expansion-employee-guidelines\n",
      "[INT] Internal link: https://louisville.edu/hr/covid-19-hr/covid-19-hr-information\n",
      "[+] NEW Total External links: 111\n",
      "[+] NEW Total Internal links: 512\n",
      "[+] NEW Total: 623\n",
      "[+] NEW Total External links: 111\n",
      "[+] NEW Total Internal links: 512\n",
      "[+] NEW Total: 623\n",
      "[INT] Internal link: https://louisville.edu/coronavirus/faculty/online-instruction/online-instruction/\n",
      "[INT] Internal link: https://blackboard.louisville.edu\n",
      "[INT] Internal link: http://louisville.edu/delphi/resources/resources-for-hybrid-courses\n",
      "[INT] Internal link: mailto://aimee.greene@louisville.edu\n",
      "[+] NEW Total External links: 112\n",
      "[+] NEW Total Internal links: 516\n",
      "[+] NEW Total: 628\n"
     ]
    },
    {
     "name": "stderr",
     "output_type": "stream",
     "text": [
      "Some characters could not be decoded, and were replaced with REPLACEMENT CHARACTER.\n"
     ]
    },
    {
     "name": "stdout",
     "output_type": "stream",
     "text": [
      "[+] NEW Total External links: 112\n",
      "[+] NEW Total Internal links: 516\n",
      "[+] NEW Total: 628\n",
      "[INT] Internal link: https://louisville.edu/coronavirus/students/campus-life/login\n",
      "[+] NEW Total External links: 112\n",
      "[+] NEW Total Internal links: 517\n",
      "[+] NEW Total: 629\n",
      "[+] NEW Total External links: 112\n",
      "[+] NEW Total Internal links: 517\n",
      "[+] NEW Total: 629\n",
      "[+] NEW Total External links: 112\n",
      "[+] NEW Total Internal links: 517\n",
      "[+] NEW Total: 629\n",
      "[INT] Internal link: https://louisville.edu/coronavirus/assets/Temporary_Telecommuting_Guidelines_for_Employees.pdf\n",
      "[+] NEW Total External links: 114\n",
      "[+] NEW Total Internal links: 518\n",
      "[+] NEW Total: 632\n",
      "[INT] Internal link: https://louisville.edu/coronavirus/employees/remote-work/remote-work/login\n",
      "[+] NEW Total External links: 114\n",
      "[+] NEW Total Internal links: 519\n",
      "[+] NEW Total: 633\n",
      "[+] NEW Total External links: 114\n",
      "[+] NEW Total Internal links: 519\n",
      "[+] NEW Total: 633\n",
      "[+] NEW Total External links: 114\n",
      "[+] NEW Total Internal links: 519\n",
      "[+] NEW Total: 633\n",
      "[INT] Internal link: https://louisville.edu/coronavirus/students/academics/\n",
      "[+] NEW Total External links: 114\n",
      "[+] NEW Total Internal links: 520\n",
      "[+] NEW Total: 634\n"
     ]
    },
    {
     "name": "stderr",
     "output_type": "stream",
     "text": [
      "Some characters could not be decoded, and were replaced with REPLACEMENT CHARACTER.\n"
     ]
    },
    {
     "name": "stdout",
     "output_type": "stream",
     "text": [
      "[+] NEW Total External links: 114\n",
      "[+] NEW Total Internal links: 520\n",
      "[+] NEW Total: 634\n",
      "[+] NEW Total External links: 114\n",
      "[+] NEW Total Internal links: 520\n",
      "[+] NEW Total: 634\n",
      "[+] NEW Total External links: 114\n",
      "[+] NEW Total Internal links: 520\n",
      "[+] NEW Total: 634\n",
      "[+] NEW Total External links: 114\n",
      "[+] NEW Total Internal links: 520\n",
      "[+] NEW Total: 634\n",
      "105 1\n",
      "[INT] Internal link: https://louisville.edu/coronavirus/employees/reopening-campus/ccc.pdf/login\n",
      "[INT] Internal link: https://louisville.edu/coronavirus/employees/reopening-campus/ccc.pdf/at_download/file\n",
      "[+] NEW Total External links: 114\n",
      "[+] NEW Total Internal links: 522\n",
      "[+] NEW Total: 636\n",
      "[+] NEW Total External links: 114\n",
      "[+] NEW Total Internal links: 522\n",
      "[+] NEW Total: 636\n",
      "[INT] Internal link: https://louisville.edu/coronavirus/employees/reopening-campus/charge-for-safe-return-to-work-committee/login\n",
      "[INT] Internal link: https://louisville.edu/coronavirus/employees/reopening-campus/charge-for-safe-return-to-work-committee/at_download/file\n",
      "[+] NEW Total External links: 114\n",
      "[+] NEW Total Internal links: 524\n",
      "[+] NEW Total: 638\n"
     ]
    },
    {
     "name": "stderr",
     "output_type": "stream",
     "text": [
      "Some characters could not be decoded, and were replaced with REPLACEMENT CHARACTER.\n"
     ]
    },
    {
     "name": "stdout",
     "output_type": "stream",
     "text": [
      "[+] NEW Total External links: 114\n",
      "[+] NEW Total Internal links: 524\n",
      "[+] NEW Total: 638\n"
     ]
    },
    {
     "name": "stderr",
     "output_type": "stream",
     "text": [
      "Some characters could not be decoded, and were replaced with REPLACEMENT CHARACTER.\n"
     ]
    },
    {
     "name": "stdout",
     "output_type": "stream",
     "text": [
      "[+] NEW Total External links: 114\n",
      "[+] NEW Total Internal links: 524\n",
      "[+] NEW Total: 638\n"
     ]
    },
    {
     "name": "stderr",
     "output_type": "stream",
     "text": [
      "Some characters could not be decoded, and were replaced with REPLACEMENT CHARACTER.\n"
     ]
    },
    {
     "name": "stdout",
     "output_type": "stream",
     "text": [
      "[+] NEW Total External links: 114\n",
      "[+] NEW Total Internal links: 524\n",
      "[+] NEW Total: 638\n"
     ]
    },
    {
     "name": "stderr",
     "output_type": "stream",
     "text": [
      "Some characters could not be decoded, and were replaced with REPLACEMENT CHARACTER.\n"
     ]
    },
    {
     "name": "stdout",
     "output_type": "stream",
     "text": [
      "[+] NEW Total External links: 114\n",
      "[+] NEW Total Internal links: 524\n",
      "[+] NEW Total: 638\n",
      "[+] NEW Total External links: 114\n",
      "[+] NEW Total Internal links: 524\n",
      "[+] NEW Total: 638\n",
      "[INT] Internal link: https://louisville.edu/coronavirus/communications-and-updates/communications-and-updates/login\n",
      "[+] NEW Total External links: 114\n",
      "[+] NEW Total Internal links: 525\n",
      "[+] NEW Total: 639\n"
     ]
    },
    {
     "name": "stderr",
     "output_type": "stream",
     "text": [
      "Some characters could not be decoded, and were replaced with REPLACEMENT CHARACTER.\n"
     ]
    },
    {
     "name": "stdout",
     "output_type": "stream",
     "text": [
      "[+] NEW Total External links: 114\n",
      "[+] NEW Total Internal links: 525\n",
      "[+] NEW Total: 639\n"
     ]
    },
    {
     "name": "stderr",
     "output_type": "stream",
     "text": [
      "Some characters could not be decoded, and were replaced with REPLACEMENT CHARACTER.\n"
     ]
    },
    {
     "name": "stdout",
     "output_type": "stream",
     "text": [
      "[+] NEW Total External links: 114\n",
      "[+] NEW Total Internal links: 525\n",
      "[+] NEW Total: 639\n"
     ]
    },
    {
     "name": "stderr",
     "output_type": "stream",
     "text": [
      "Some characters could not be decoded, and were replaced with REPLACEMENT CHARACTER.\n"
     ]
    },
    {
     "name": "stdout",
     "output_type": "stream",
     "text": [
      "[+] NEW Total External links: 114\n",
      "[+] NEW Total Internal links: 525\n",
      "[+] NEW Total: 639\n",
      "[+] NEW Total External links: 114\n",
      "[+] NEW Total Internal links: 525\n",
      "[+] NEW Total: 639\n"
     ]
    },
    {
     "name": "stderr",
     "output_type": "stream",
     "text": [
      "Some characters could not be decoded, and were replaced with REPLACEMENT CHARACTER.\n"
     ]
    },
    {
     "name": "stdout",
     "output_type": "stream",
     "text": [
      "[+] NEW Total External links: 114\n",
      "[+] NEW Total Internal links: 525\n",
      "[+] NEW Total: 639\n",
      "[INT] Internal link: https://louisville.edu/coronavirus/employees/health/health/login\n",
      "[+] NEW Total External links: 114\n",
      "[+] NEW Total Internal links: 526\n",
      "[+] NEW Total: 640\n",
      "[+] NEW Total External links: 114\n",
      "[+] NEW Total Internal links: 526\n",
      "[+] NEW Total: 640\n"
     ]
    },
    {
     "name": "stderr",
     "output_type": "stream",
     "text": [
      "Some characters could not be decoded, and were replaced with REPLACEMENT CHARACTER.\n"
     ]
    },
    {
     "name": "stdout",
     "output_type": "stream",
     "text": [
      "[+] NEW Total External links: 114\n",
      "[+] NEW Total Internal links: 526\n",
      "[+] NEW Total: 640\n"
     ]
    },
    {
     "name": "stderr",
     "output_type": "stream",
     "text": [
      "Some characters could not be decoded, and were replaced with REPLACEMENT CHARACTER.\n"
     ]
    },
    {
     "name": "stdout",
     "output_type": "stream",
     "text": [
      "[+] NEW Total External links: 114\n",
      "[+] NEW Total Internal links: 526\n",
      "[+] NEW Total: 640\n"
     ]
    },
    {
     "name": "stderr",
     "output_type": "stream",
     "text": [
      "Some characters could not be decoded, and were replaced with REPLACEMENT CHARACTER.\n"
     ]
    },
    {
     "name": "stdout",
     "output_type": "stream",
     "text": [
      "[+] NEW Total External links: 114\n",
      "[+] NEW Total Internal links: 526\n",
      "[+] NEW Total: 640\n",
      "[+] NEW Total External links: 114\n",
      "[+] NEW Total Internal links: 526\n",
      "[+] NEW Total: 640\n"
     ]
    },
    {
     "name": "stderr",
     "output_type": "stream",
     "text": [
      "Some characters could not be decoded, and were replaced with REPLACEMENT CHARACTER.\n"
     ]
    },
    {
     "name": "stdout",
     "output_type": "stream",
     "text": [
      "[+] NEW Total External links: 114\n",
      "[+] NEW Total Internal links: 526\n",
      "[+] NEW Total: 640\n"
     ]
    },
    {
     "name": "stderr",
     "output_type": "stream",
     "text": [
      "Some characters could not be decoded, and were replaced with REPLACEMENT CHARACTER.\n"
     ]
    },
    {
     "name": "stdout",
     "output_type": "stream",
     "text": [
      "[+] NEW Total External links: 114\n",
      "[+] NEW Total Internal links: 526\n",
      "[+] NEW Total: 640\n"
     ]
    },
    {
     "name": "stderr",
     "output_type": "stream",
     "text": [
      "Some characters could not be decoded, and were replaced with REPLACEMENT CHARACTER.\n"
     ]
    },
    {
     "name": "stdout",
     "output_type": "stream",
     "text": [
      "[+] NEW Total External links: 114\n",
      "[+] NEW Total Internal links: 526\n",
      "[+] NEW Total: 640\n"
     ]
    },
    {
     "name": "stderr",
     "output_type": "stream",
     "text": [
      "Some characters could not be decoded, and were replaced with REPLACEMENT CHARACTER.\n"
     ]
    },
    {
     "name": "stdout",
     "output_type": "stream",
     "text": [
      "[+] NEW Total External links: 114\n",
      "[+] NEW Total Internal links: 526\n",
      "[+] NEW Total: 640\n",
      "[+] NEW Total External links: 114\n",
      "[+] NEW Total Internal links: 526\n",
      "[+] NEW Total: 640\n",
      "[+] NEW Total External links: 114\n",
      "[+] NEW Total Internal links: 526\n",
      "[+] NEW Total: 640\n",
      "[+] NEW Total External links: 114\n",
      "[+] NEW Total Internal links: 526\n",
      "[+] NEW Total: 640\n"
     ]
    },
    {
     "name": "stderr",
     "output_type": "stream",
     "text": [
      "Some characters could not be decoded, and were replaced with REPLACEMENT CHARACTER.\n"
     ]
    },
    {
     "name": "stdout",
     "output_type": "stream",
     "text": [
      "[+] NEW Total External links: 114\n",
      "[+] NEW Total Internal links: 526\n",
      "[+] NEW Total: 640\n"
     ]
    },
    {
     "name": "stderr",
     "output_type": "stream",
     "text": [
      "Some characters could not be decoded, and were replaced with REPLACEMENT CHARACTER.\n"
     ]
    },
    {
     "name": "stdout",
     "output_type": "stream",
     "text": [
      "[+] NEW Total External links: 114\n",
      "[+] NEW Total Internal links: 526\n",
      "[+] NEW Total: 640\n"
     ]
    },
    {
     "name": "stderr",
     "output_type": "stream",
     "text": [
      "Some characters could not be decoded, and were replaced with REPLACEMENT CHARACTER.\n"
     ]
    },
    {
     "name": "stdout",
     "output_type": "stream",
     "text": [
      "[+] NEW Total External links: 114\n",
      "[+] NEW Total Internal links: 526\n",
      "[+] NEW Total: 640\n",
      "[+] NEW Total External links: 114\n",
      "[+] NEW Total Internal links: 526\n",
      "[+] NEW Total: 640\n"
     ]
    },
    {
     "name": "stderr",
     "output_type": "stream",
     "text": [
      "Some characters could not be decoded, and were replaced with REPLACEMENT CHARACTER.\n"
     ]
    },
    {
     "name": "stdout",
     "output_type": "stream",
     "text": [
      "[+] NEW Total External links: 114\n",
      "[+] NEW Total Internal links: 526\n",
      "[+] NEW Total: 640\n"
     ]
    },
    {
     "name": "stderr",
     "output_type": "stream",
     "text": [
      "Some characters could not be decoded, and were replaced with REPLACEMENT CHARACTER.\n"
     ]
    },
    {
     "name": "stdout",
     "output_type": "stream",
     "text": [
      "[+] NEW Total External links: 114\n",
      "[+] NEW Total Internal links: 526\n",
      "[+] NEW Total: 640\n",
      "[+] NEW Total External links: 114\n",
      "[+] NEW Total Internal links: 526\n",
      "[+] NEW Total: 640\n",
      "[+] NEW Total External links: 114\n",
      "[+] NEW Total Internal links: 526\n",
      "[+] NEW Total: 640\n"
     ]
    },
    {
     "name": "stderr",
     "output_type": "stream",
     "text": [
      "Some characters could not be decoded, and were replaced with REPLACEMENT CHARACTER.\n"
     ]
    },
    {
     "name": "stdout",
     "output_type": "stream",
     "text": [
      "[+] NEW Total External links: 114\n",
      "[+] NEW Total Internal links: 526\n",
      "[+] NEW Total: 640\n",
      "[+] NEW Total External links: 114\n",
      "[+] NEW Total Internal links: 526\n",
      "[+] NEW Total: 640\n"
     ]
    },
    {
     "name": "stderr",
     "output_type": "stream",
     "text": [
      "Some characters could not be decoded, and were replaced with REPLACEMENT CHARACTER.\n"
     ]
    },
    {
     "name": "stdout",
     "output_type": "stream",
     "text": [
      "[+] NEW Total External links: 114\n",
      "[+] NEW Total Internal links: 526\n",
      "[+] NEW Total: 640\n"
     ]
    },
    {
     "name": "stderr",
     "output_type": "stream",
     "text": [
      "Some characters could not be decoded, and were replaced with REPLACEMENT CHARACTER.\n"
     ]
    },
    {
     "name": "stdout",
     "output_type": "stream",
     "text": [
      "[+] NEW Total External links: 114\n",
      "[+] NEW Total Internal links: 526\n",
      "[+] NEW Total: 640\n",
      "[INT] Internal link: https://louisville.edu/coronavirus/students/financial/financial/login\n",
      "[+] NEW Total External links: 114\n",
      "[+] NEW Total Internal links: 527\n",
      "[+] NEW Total: 641\n",
      "[+] NEW Total External links: 114\n",
      "[+] NEW Total Internal links: 527\n",
      "[+] NEW Total: 641\n",
      "[INT] Internal link: https://louisville.edu/coronavirus/employees/human-resources/human-resources/login\n",
      "[+] NEW Total External links: 114\n",
      "[+] NEW Total Internal links: 528\n",
      "[+] NEW Total: 642\n"
     ]
    },
    {
     "name": "stderr",
     "output_type": "stream",
     "text": [
      "Some characters could not be decoded, and were replaced with REPLACEMENT CHARACTER.\n"
     ]
    },
    {
     "name": "stdout",
     "output_type": "stream",
     "text": [
      "[+] NEW Total External links: 114\n",
      "[+] NEW Total Internal links: 528\n",
      "[+] NEW Total: 642\n",
      "[INT] Internal link: https://louisville.edu/coronavirus/students/health/health/login\n",
      "[+] NEW Total External links: 114\n",
      "[+] NEW Total Internal links: 529\n",
      "[+] NEW Total: 643\n",
      "[INT] Internal link: https://louisville.edu/coronavirus/students/assets/campus/login\n",
      "[+] NEW Total External links: 114\n",
      "[+] NEW Total Internal links: 530\n",
      "[+] NEW Total: 644\n",
      "[+] NEW Total External links: 114\n",
      "[+] NEW Total Internal links: 530\n",
      "[+] NEW Total: 644\n",
      "[+] NEW Total External links: 114\n",
      "[+] NEW Total Internal links: 530\n",
      "[+] NEW Total: 644\n"
     ]
    },
    {
     "name": "stderr",
     "output_type": "stream",
     "text": [
      "Some characters could not be decoded, and were replaced with REPLACEMENT CHARACTER.\n"
     ]
    },
    {
     "name": "stdout",
     "output_type": "stream",
     "text": [
      "[+] NEW Total External links: 114\n",
      "[+] NEW Total Internal links: 530\n",
      "[+] NEW Total: 644\n"
     ]
    },
    {
     "name": "stderr",
     "output_type": "stream",
     "text": [
      "Some characters could not be decoded, and were replaced with REPLACEMENT CHARACTER.\n"
     ]
    },
    {
     "name": "stdout",
     "output_type": "stream",
     "text": [
      "[+] NEW Total External links: 114\n",
      "[+] NEW Total Internal links: 530\n",
      "[+] NEW Total: 644\n"
     ]
    },
    {
     "name": "stderr",
     "output_type": "stream",
     "text": [
      "Some characters could not be decoded, and were replaced with REPLACEMENT CHARACTER.\n"
     ]
    },
    {
     "name": "stdout",
     "output_type": "stream",
     "text": [
      "[+] NEW Total External links: 114\n",
      "[+] NEW Total Internal links: 530\n",
      "[+] NEW Total: 644\n",
      "[+] NEW Total External links: 114\n",
      "[+] NEW Total Internal links: 530\n",
      "[+] NEW Total: 644\n",
      "[+] NEW Total External links: 114\n",
      "[+] NEW Total Internal links: 530\n",
      "[+] NEW Total: 644\n"
     ]
    },
    {
     "name": "stderr",
     "output_type": "stream",
     "text": [
      "Some characters could not be decoded, and were replaced with REPLACEMENT CHARACTER.\n"
     ]
    },
    {
     "name": "stdout",
     "output_type": "stream",
     "text": [
      "[+] NEW Total External links: 114\n",
      "[+] NEW Total Internal links: 530\n",
      "[+] NEW Total: 644\n"
     ]
    },
    {
     "name": "stderr",
     "output_type": "stream",
     "text": [
      "Some characters could not be decoded, and were replaced with REPLACEMENT CHARACTER.\n"
     ]
    },
    {
     "name": "stdout",
     "output_type": "stream",
     "text": [
      "[+] NEW Total External links: 114\n",
      "[+] NEW Total Internal links: 530\n",
      "[+] NEW Total: 644\n"
     ]
    },
    {
     "name": "stderr",
     "output_type": "stream",
     "text": [
      "Some characters could not be decoded, and were replaced with REPLACEMENT CHARACTER.\n"
     ]
    },
    {
     "name": "stdout",
     "output_type": "stream",
     "text": [
      "[+] NEW Total External links: 114\n",
      "[+] NEW Total Internal links: 530\n",
      "[+] NEW Total: 644\n"
     ]
    },
    {
     "name": "stderr",
     "output_type": "stream",
     "text": [
      "Some characters could not be decoded, and were replaced with REPLACEMENT CHARACTER.\n"
     ]
    },
    {
     "name": "stdout",
     "output_type": "stream",
     "text": [
      "[+] NEW Total External links: 114\n",
      "[+] NEW Total Internal links: 530\n",
      "[+] NEW Total: 644\n",
      "[+] NEW Total External links: 114\n",
      "[+] NEW Total Internal links: 530\n",
      "[+] NEW Total: 644\n",
      "[+] NEW Total External links: 114\n",
      "[+] NEW Total Internal links: 530\n",
      "[+] NEW Total: 644\n"
     ]
    },
    {
     "name": "stderr",
     "output_type": "stream",
     "text": [
      "Some characters could not be decoded, and were replaced with REPLACEMENT CHARACTER.\n"
     ]
    },
    {
     "name": "stdout",
     "output_type": "stream",
     "text": [
      "[+] NEW Total External links: 114\n",
      "[+] NEW Total Internal links: 530\n",
      "[+] NEW Total: 644\n"
     ]
    },
    {
     "name": "stderr",
     "output_type": "stream",
     "text": [
      "Some characters could not be decoded, and were replaced with REPLACEMENT CHARACTER.\n"
     ]
    },
    {
     "name": "stdout",
     "output_type": "stream",
     "text": [
      "[+] NEW Total External links: 114\n",
      "[+] NEW Total Internal links: 530\n",
      "[+] NEW Total: 644\n"
     ]
    },
    {
     "name": "stderr",
     "output_type": "stream",
     "text": [
      "Some characters could not be decoded, and were replaced with REPLACEMENT CHARACTER.\n"
     ]
    },
    {
     "name": "stdout",
     "output_type": "stream",
     "text": [
      "[+] NEW Total External links: 114\n",
      "[+] NEW Total Internal links: 530\n",
      "[+] NEW Total: 644\n",
      "[+] NEW Total External links: 114\n",
      "[+] NEW Total Internal links: 530\n",
      "[+] NEW Total: 644\n",
      "[INT] Internal link: https://louisville.edu/coronavirus/students/community-resources/\n",
      "[INT] Internal link: https://louisville.edu/coronavirus/students/community-resources/unityrecovery.zoom.us/my/allrecovery\n",
      "[INT] Internal link: https://louisville.edu/coronavirus/students/community-resources/www.lfpl.org/get-card.htm\n",
      "[INT] Internal link: https://louisville.edu/coronavirus/students/community-resources/www.republicbank.com/careers\n",
      "[INT] Internal link: https://louisville.edu/coronavirus/students/community-resources/www.upsjobs.com/louisville\n",
      "[+] NEW Total External links: 241\n",
      "[+] NEW Total Internal links: 535\n",
      "[+] NEW Total: 776\n"
     ]
    },
    {
     "name": "stderr",
     "output_type": "stream",
     "text": [
      "Some characters could not be decoded, and were replaced with REPLACEMENT CHARACTER.\n"
     ]
    },
    {
     "name": "stdout",
     "output_type": "stream",
     "text": [
      "[+] NEW Total External links: 241\n",
      "[+] NEW Total Internal links: 535\n",
      "[+] NEW Total: 776\n",
      "[+] NEW Total External links: 241\n",
      "[+] NEW Total Internal links: 535\n",
      "[+] NEW Total: 776\n"
     ]
    },
    {
     "name": "stderr",
     "output_type": "stream",
     "text": [
      "Some characters could not be decoded, and were replaced with REPLACEMENT CHARACTER.\n"
     ]
    },
    {
     "name": "stdout",
     "output_type": "stream",
     "text": [
      "[+] NEW Total External links: 241\n",
      "[+] NEW Total Internal links: 535\n",
      "[+] NEW Total: 776\n",
      "[+] NEW Total External links: 241\n",
      "[+] NEW Total Internal links: 535\n",
      "[+] NEW Total: 776\n"
     ]
    },
    {
     "name": "stderr",
     "output_type": "stream",
     "text": [
      "Some characters could not be decoded, and were replaced with REPLACEMENT CHARACTER.\n"
     ]
    },
    {
     "name": "stdout",
     "output_type": "stream",
     "text": [
      "[+] NEW Total External links: 241\n",
      "[+] NEW Total Internal links: 535\n",
      "[+] NEW Total: 776\n"
     ]
    },
    {
     "name": "stderr",
     "output_type": "stream",
     "text": [
      "Some characters could not be decoded, and were replaced with REPLACEMENT CHARACTER.\n"
     ]
    },
    {
     "name": "stdout",
     "output_type": "stream",
     "text": [
      "[+] NEW Total External links: 241\n",
      "[+] NEW Total Internal links: 535\n",
      "[+] NEW Total: 776\n",
      "[+] NEW Total External links: 241\n",
      "[+] NEW Total Internal links: 535\n",
      "[+] NEW Total: 776\n"
     ]
    },
    {
     "name": "stderr",
     "output_type": "stream",
     "text": [
      "Some characters could not be decoded, and were replaced with REPLACEMENT CHARACTER.\n"
     ]
    },
    {
     "name": "stdout",
     "output_type": "stream",
     "text": [
      "[+] NEW Total External links: 241\n",
      "[+] NEW Total Internal links: 535\n",
      "[+] NEW Total: 776\n",
      "[INT] Internal link: https://exchange.louisville.edu/\n",
      "[INT] Internal link: https://outlook.com/cardmail.louisville.edu\n",
      "[INT] Internal link: https://saprod.louisville.edu/\n",
      "[INT] Internal link: https://louisville.edu/coronavirus/faq/login\n",
      "[INT] Internal link: http://business.louisville.edu/content/view/746/990/\n",
      "[INT] Internal link: http://louisville.edu/online/international-students/\n",
      "[INT] Internal link: https://louisville.edu/coronavirus/faq/webteam(at)louisville.edu\n",
      "[INT] Internal link: https://louisville.edu/about\n",
      "[INT] Internal link: http://catalog.louisville.edu\n",
      "[INT] Internal link: https://library.louisville.edu\n",
      "[INT] Internal link: https://louisville.edu/research\n",
      "[INT] Internal link: http://louisville.edu/admissions/visit/\n",
      "[INT] Internal link: https://louisville.edu/\n",
      "[INT] Internal link: https://louisville.edu/contact.html\n",
      "[INT] Internal link: http://louisville.edu/medschool/admissions-info/\n",
      "[INT] Internal link: http://business.louisville.edu/graduate-programs/grad-admissions/\n",
      "[INT] Internal link: https://louisville.edu/jobs/\n",
      "[INT] Internal link: https://louisville.edu/alerts/\n",
      "[INT] Internal link: http://blackboard.louisville.edu/\n",
      "[+] NEW Total External links: 246\n",
      "[+] NEW Total Internal links: 554\n",
      "[+] NEW Total: 800\n"
     ]
    },
    {
     "name": "stderr",
     "output_type": "stream",
     "text": [
      "Some characters could not be decoded, and were replaced with REPLACEMENT CHARACTER.\n"
     ]
    },
    {
     "name": "stdout",
     "output_type": "stream",
     "text": [
      "[+] NEW Total External links: 246\n",
      "[+] NEW Total Internal links: 554\n",
      "[+] NEW Total: 800\n"
     ]
    },
    {
     "name": "stderr",
     "output_type": "stream",
     "text": [
      "Some characters could not be decoded, and were replaced with REPLACEMENT CHARACTER.\n"
     ]
    },
    {
     "name": "stdout",
     "output_type": "stream",
     "text": [
      "[+] NEW Total External links: 246\n",
      "[+] NEW Total Internal links: 554\n",
      "[+] NEW Total: 800\n"
     ]
    },
    {
     "name": "stderr",
     "output_type": "stream",
     "text": [
      "Some characters could not be decoded, and were replaced with REPLACEMENT CHARACTER.\n"
     ]
    },
    {
     "name": "stdout",
     "output_type": "stream",
     "text": [
      "[+] NEW Total External links: 246\n",
      "[+] NEW Total Internal links: 554\n",
      "[+] NEW Total: 800\n"
     ]
    },
    {
     "name": "stderr",
     "output_type": "stream",
     "text": [
      "Some characters could not be decoded, and were replaced with REPLACEMENT CHARACTER.\n"
     ]
    },
    {
     "name": "stdout",
     "output_type": "stream",
     "text": [
      "[+] NEW Total External links: 246\n",
      "[+] NEW Total Internal links: 554\n",
      "[+] NEW Total: 800\n"
     ]
    },
    {
     "name": "stderr",
     "output_type": "stream",
     "text": [
      "Some characters could not be decoded, and were replaced with REPLACEMENT CHARACTER.\n"
     ]
    },
    {
     "name": "stdout",
     "output_type": "stream",
     "text": [
      "[+] NEW Total External links: 246\n",
      "[+] NEW Total Internal links: 554\n",
      "[+] NEW Total: 800\n"
     ]
    },
    {
     "name": "stderr",
     "output_type": "stream",
     "text": [
      "Some characters could not be decoded, and were replaced with REPLACEMENT CHARACTER.\n"
     ]
    },
    {
     "name": "stdout",
     "output_type": "stream",
     "text": [
      "[+] NEW Total External links: 246\n",
      "[+] NEW Total Internal links: 554\n",
      "[+] NEW Total: 800\n",
      "[INT] Internal link: https://louisville.edu/coronavirus/assets/login\n",
      "[INT] Internal link: https://louisville.edu/coronavirus/assets/webteam(at)louisville.edu\n",
      "[+] NEW Total External links: 246\n",
      "[+] NEW Total Internal links: 556\n",
      "[+] NEW Total: 802\n",
      "[INT] Internal link: https://louisville.edu/coronavirus/faculty/online-instruction/online-instruction/login\n",
      "[+] NEW Total External links: 246\n",
      "[+] NEW Total Internal links: 557\n",
      "[+] NEW Total: 803\n",
      "[+] NEW Total External links: 246\n",
      "[+] NEW Total Internal links: 557\n",
      "[+] NEW Total: 803\n",
      "[+] NEW Total External links: 246\n",
      "[+] NEW Total Internal links: 557\n",
      "[+] NEW Total: 803\n",
      "[+] NEW Total External links: 246\n",
      "[+] NEW Total Internal links: 557\n",
      "[+] NEW Total: 803\n",
      "[INT] Internal link: https://louisville.edu/coronavirus/employees/human-resources/login\n",
      "[+] NEW Total External links: 246\n",
      "[+] NEW Total Internal links: 558\n",
      "[+] NEW Total: 804\n",
      "[+] NEW Total External links: 246\n",
      "[+] NEW Total Internal links: 558\n",
      "[+] NEW Total: 804\n"
     ]
    },
    {
     "name": "stderr",
     "output_type": "stream",
     "text": [
      "Some characters could not be decoded, and were replaced with REPLACEMENT CHARACTER.\n"
     ]
    },
    {
     "name": "stdout",
     "output_type": "stream",
     "text": [
      "[+] NEW Total External links: 246\n",
      "[+] NEW Total Internal links: 558\n",
      "[+] NEW Total: 804\n",
      "[+] NEW Total External links: 246\n",
      "[+] NEW Total Internal links: 558\n",
      "[+] NEW Total: 804\n"
     ]
    },
    {
     "name": "stderr",
     "output_type": "stream",
     "text": [
      "Some characters could not be decoded, and were replaced with REPLACEMENT CHARACTER.\n"
     ]
    },
    {
     "name": "stdout",
     "output_type": "stream",
     "text": [
      "[+] NEW Total External links: 246\n",
      "[+] NEW Total Internal links: 558\n",
      "[+] NEW Total: 804\n",
      "[+] NEW Total External links: 246\n",
      "[+] NEW Total Internal links: 558\n",
      "[+] NEW Total: 804\n",
      "[+] NEW Total External links: 246\n",
      "[+] NEW Total Internal links: 558\n",
      "[+] NEW Total: 804\n",
      "[INT] Internal link: https://louisville.edu/coronavirus/employees/reopening-campus/appointment-letter.pdf/login\n",
      "[INT] Internal link: https://louisville.edu/coronavirus/employees/reopening-campus/appointment-letter.pdf/at_download/file\n",
      "[+] NEW Total External links: 246\n",
      "[+] NEW Total Internal links: 560\n",
      "[+] NEW Total: 806\n"
     ]
    },
    {
     "name": "stderr",
     "output_type": "stream",
     "text": [
      "Some characters could not be decoded, and were replaced with REPLACEMENT CHARACTER.\n"
     ]
    },
    {
     "name": "stdout",
     "output_type": "stream",
     "text": [
      "[+] NEW Total External links: 246\n",
      "[+] NEW Total Internal links: 560\n",
      "[+] NEW Total: 806\n",
      "[+] NEW Total External links: 246\n",
      "[+] NEW Total Internal links: 560\n",
      "[+] NEW Total: 806\n"
     ]
    },
    {
     "name": "stderr",
     "output_type": "stream",
     "text": [
      "Some characters could not be decoded, and were replaced with REPLACEMENT CHARACTER.\n"
     ]
    },
    {
     "name": "stdout",
     "output_type": "stream",
     "text": [
      "[+] NEW Total External links: 246\n",
      "[+] NEW Total Internal links: 560\n",
      "[+] NEW Total: 806\n",
      "[INT] Internal link: https://louisville.edu/coronavirus/employees/human-resources/financial-challenge-mitigation-faq/\n",
      "[INT] Internal link: https://louisville.edu/coronavirus/assets/Taxwithholdingchangeform003.pdf\n",
      "[INT] Internal link: mailto://benefits@louisville.edu\n",
      "[INT] Internal link: https://louisville.edu/coronavirus/assets/impact-on-externally-sponsored-programs\n",
      "[INT] Internal link: http://louisville.edu/hr/training/learning-cafes\n",
      "[+] NEW Total External links: 251\n",
      "[+] NEW Total Internal links: 565\n",
      "[+] NEW Total: 816\n",
      "[INT] Internal link: https://louisville.edu/coronavirus/students/academics/academics/login\n",
      "[+] NEW Total External links: 251\n",
      "[+] NEW Total Internal links: 566\n",
      "[+] NEW Total: 817\n",
      "[INT] Internal link: https://louisville.edu/coronavirus/students/academics/login\n",
      "[+] NEW Total External links: 251\n",
      "[+] NEW Total Internal links: 567\n",
      "[+] NEW Total: 818\n"
     ]
    },
    {
     "name": "stderr",
     "output_type": "stream",
     "text": [
      "Some characters could not be decoded, and were replaced with REPLACEMENT CHARACTER.\n"
     ]
    },
    {
     "name": "stdout",
     "output_type": "stream",
     "text": [
      "[+] NEW Total External links: 251\n",
      "[+] NEW Total Internal links: 567\n",
      "[+] NEW Total: 818\n",
      "[INT] Internal link: http://louisville.edu/coronavirus/students/login\n",
      "[INT] Internal link: http://louisville.edu/coronavirus\n",
      "[INT] Internal link: http://louisville.edu/coronavirus/communications-and-updates\n",
      "[INT] Internal link: http://louisville.edu/coronavirus/students\n",
      "[INT] Internal link: http://louisville.edu/coronavirus/students/academics\n",
      "[INT] Internal link: http://louisville.edu/coronavirus/students/campus-life\n",
      "[INT] Internal link: http://louisville.edu/coronavirus/students/financial\n",
      "[INT] Internal link: http://louisville.edu/coronavirus/students/health\n",
      "[INT] Internal link: http://louisville.edu/coronavirus/students/faq\n",
      "[INT] Internal link: http://louisville.edu/coronavirus/faculty\n",
      "[INT] Internal link: http://louisville.edu/coronavirus/faculty/online-instruction\n",
      "[INT] Internal link: http://louisville.edu/coronavirus/faculty/working-remotely\n",
      "[INT] Internal link: http://louisville.edu/coronavirus/faculty/human-resources\n",
      "[INT] Internal link: http://louisville.edu/coronavirus/faculty/health\n",
      "[INT] Internal link: http://louisville.edu/coronavirus/faculty/faq\n",
      "[INT] Internal link: http://louisville.edu/coronavirus/employees\n",
      "[INT] Internal link: http://louisville.edu/coronavirus/employees/remote-work\n",
      "[INT] Internal link: http://louisville.edu/coronavirus/employees/human-resources\n",
      "[INT] Internal link: http://louisville.edu/coronavirus/employees/health\n",
      "[INT] Internal link: http://louisville.edu/coronavirus/employees/faq\n",
      "[INT] Internal link: http://louisville.edu/coronavirus/employees/reopening-campus\n",
      "[INT] Internal link: http://louisville.edu/coronavirus/students/community-resources/\n",
      "[INT] Internal link: http://louisville.edu/coronavirus/students/community-resources/unityrecovery.zoom.us/my/allrecovery\n",
      "[INT] Internal link: http://louisville.edu/coronavirus/students/community-resources/www.lfpl.org/get-card.htm\n",
      "[INT] Internal link: http://louisville.edu/coronavirus/students/community-resources/www.republicbank.com/careers\n",
      "[INT] Internal link: http://louisville.edu/coronavirus/students/community-resources/www.upsjobs.com/louisville\n",
      "[+] NEW Total External links: 251\n",
      "[+] NEW Total Internal links: 593\n",
      "[+] NEW Total: 844\n",
      "[+] NEW Total External links: 251\n",
      "[+] NEW Total Internal links: 593\n",
      "[+] NEW Total: 844\n"
     ]
    },
    {
     "name": "stderr",
     "output_type": "stream",
     "text": [
      "Some characters could not be decoded, and were replaced with REPLACEMENT CHARACTER.\n"
     ]
    },
    {
     "name": "stdout",
     "output_type": "stream",
     "text": [
      "[+] NEW Total External links: 251\n",
      "[+] NEW Total Internal links: 593\n",
      "[+] NEW Total: 844\n"
     ]
    },
    {
     "name": "stderr",
     "output_type": "stream",
     "text": [
      "Some characters could not be decoded, and were replaced with REPLACEMENT CHARACTER.\n"
     ]
    },
    {
     "name": "stdout",
     "output_type": "stream",
     "text": [
      "[+] NEW Total External links: 251\n",
      "[+] NEW Total Internal links: 593\n",
      "[+] NEW Total: 844\n"
     ]
    },
    {
     "name": "stderr",
     "output_type": "stream",
     "text": [
      "Some characters could not be decoded, and were replaced with REPLACEMENT CHARACTER.\n"
     ]
    },
    {
     "name": "stdout",
     "output_type": "stream",
     "text": [
      "[+] NEW Total External links: 251\n",
      "[+] NEW Total Internal links: 593\n",
      "[+] NEW Total: 844\n"
     ]
    },
    {
     "name": "stderr",
     "output_type": "stream",
     "text": [
      "Some characters could not be decoded, and were replaced with REPLACEMENT CHARACTER.\n"
     ]
    },
    {
     "name": "stdout",
     "output_type": "stream",
     "text": [
      "[+] NEW Total External links: 251\n",
      "[+] NEW Total Internal links: 593\n",
      "[+] NEW Total: 844\n",
      "[+] NEW Total External links: 251\n",
      "[+] NEW Total Internal links: 593\n",
      "[+] NEW Total: 844\n",
      "159 2\n",
      "[+] NEW Total External links: 251\n",
      "[+] NEW Total Internal links: 593\n",
      "[+] NEW Total: 844\n",
      "[+] NEW Total External links: 251\n",
      "[+] NEW Total Internal links: 593\n",
      "[+] NEW Total: 844\n",
      "[INT] Internal link: http://louisville.edu/coronavirus/students/financial/financial/\n",
      "[+] NEW Total External links: 251\n",
      "[+] NEW Total Internal links: 594\n",
      "[+] NEW Total: 845\n",
      "[+] NEW Total External links: 251\n",
      "[+] NEW Total Internal links: 594\n",
      "[+] NEW Total: 845\n"
     ]
    },
    {
     "name": "stderr",
     "output_type": "stream",
     "text": [
      "Some characters could not be decoded, and were replaced with REPLACEMENT CHARACTER.\n"
     ]
    },
    {
     "name": "stdout",
     "output_type": "stream",
     "text": [
      "[+] NEW Total External links: 251\n",
      "[+] NEW Total Internal links: 594\n",
      "[+] NEW Total: 845\n"
     ]
    },
    {
     "name": "stderr",
     "output_type": "stream",
     "text": [
      "Some characters could not be decoded, and were replaced with REPLACEMENT CHARACTER.\n"
     ]
    },
    {
     "name": "stdout",
     "output_type": "stream",
     "text": [
      "[+] NEW Total External links: 251\n",
      "[+] NEW Total Internal links: 594\n",
      "[+] NEW Total: 845\n"
     ]
    },
    {
     "name": "stderr",
     "output_type": "stream",
     "text": [
      "Some characters could not be decoded, and were replaced with REPLACEMENT CHARACTER.\n"
     ]
    },
    {
     "name": "stdout",
     "output_type": "stream",
     "text": [
      "[+] NEW Total External links: 251\n",
      "[+] NEW Total Internal links: 594\n",
      "[+] NEW Total: 845\n"
     ]
    },
    {
     "name": "stderr",
     "output_type": "stream",
     "text": [
      "Some characters could not be decoded, and were replaced with REPLACEMENT CHARACTER.\n"
     ]
    },
    {
     "name": "stdout",
     "output_type": "stream",
     "text": [
      "[+] NEW Total External links: 251\n",
      "[+] NEW Total Internal links: 594\n",
      "[+] NEW Total: 845\n",
      "[+] NEW Total External links: 251\n",
      "[+] NEW Total Internal links: 594\n",
      "[+] NEW Total: 845\n",
      "[INT] Internal link: http://louisville.edu/coronavirus/login\n",
      "[+] NEW Total External links: 251\n",
      "[+] NEW Total Internal links: 595\n",
      "[+] NEW Total: 846\n",
      "[INT] Internal link: https://louisville.edu/coronavirus/students/community-resources/unityrecovery.zoom.us/my/login\n",
      "[INT] Internal link: https://louisville.edu/coronavirus/students/community-resources/unityrecovery.zoom.us/my/webteam(at)louisville.edu\n",
      "[+] NEW Total External links: 251\n",
      "[+] NEW Total Internal links: 597\n",
      "[+] NEW Total: 848\n",
      "[+] NEW Total External links: 251\n",
      "[+] NEW Total Internal links: 597\n",
      "[+] NEW Total: 848\n",
      "[+] NEW Total External links: 251\n",
      "[+] NEW Total Internal links: 597\n",
      "[+] NEW Total: 848\n"
     ]
    },
    {
     "name": "stderr",
     "output_type": "stream",
     "text": [
      "Some characters could not be decoded, and were replaced with REPLACEMENT CHARACTER.\n"
     ]
    },
    {
     "name": "stdout",
     "output_type": "stream",
     "text": [
      "[+] NEW Total External links: 251\n",
      "[+] NEW Total Internal links: 597\n",
      "[+] NEW Total: 848\n"
     ]
    },
    {
     "name": "stderr",
     "output_type": "stream",
     "text": [
      "Some characters could not be decoded, and were replaced with REPLACEMENT CHARACTER.\n"
     ]
    },
    {
     "name": "stdout",
     "output_type": "stream",
     "text": [
      "[+] NEW Total External links: 251\n",
      "[+] NEW Total Internal links: 597\n",
      "[+] NEW Total: 848\n"
     ]
    },
    {
     "name": "stderr",
     "output_type": "stream",
     "text": [
      "Some characters could not be decoded, and were replaced with REPLACEMENT CHARACTER.\n"
     ]
    },
    {
     "name": "stdout",
     "output_type": "stream",
     "text": [
      "[+] NEW Total External links: 251\n",
      "[+] NEW Total Internal links: 597\n",
      "[+] NEW Total: 848\n",
      "[+] NEW Total External links: 251\n",
      "[+] NEW Total Internal links: 597\n",
      "[+] NEW Total: 848\n",
      "[INT] Internal link: http://louisville.edu/coronavirus/faculty/login\n",
      "[+] NEW Total External links: 251\n",
      "[+] NEW Total Internal links: 598\n",
      "[+] NEW Total: 849\n"
     ]
    },
    {
     "name": "stderr",
     "output_type": "stream",
     "text": [
      "Some characters could not be decoded, and were replaced with REPLACEMENT CHARACTER.\n"
     ]
    },
    {
     "name": "stdout",
     "output_type": "stream",
     "text": [
      "[+] NEW Total External links: 251\n",
      "[+] NEW Total Internal links: 598\n",
      "[+] NEW Total: 849\n",
      "[INT] Internal link: http://louisville.edu/coronavirus/students/community-resources/www.lfpl.org/login\n",
      "[INT] Internal link: http://louisville.edu/coronavirus/students/community-resources/www.lfpl.org/webteam(at)louisville.edu\n",
      "[+] NEW Total External links: 251\n",
      "[+] NEW Total Internal links: 600\n",
      "[+] NEW Total: 851\n",
      "[+] NEW Total External links: 251\n",
      "[+] NEW Total Internal links: 600\n",
      "[+] NEW Total: 851\n",
      "[+] NEW Total External links: 251\n",
      "[+] NEW Total Internal links: 600\n",
      "[+] NEW Total: 851\n"
     ]
    },
    {
     "name": "stderr",
     "output_type": "stream",
     "text": [
      "Some characters could not be decoded, and were replaced with REPLACEMENT CHARACTER.\n"
     ]
    },
    {
     "name": "stdout",
     "output_type": "stream",
     "text": [
      "[+] NEW Total External links: 251\n",
      "[+] NEW Total Internal links: 600\n",
      "[+] NEW Total: 851\n"
     ]
    },
    {
     "name": "stderr",
     "output_type": "stream",
     "text": [
      "Some characters could not be decoded, and were replaced with REPLACEMENT CHARACTER.\n"
     ]
    },
    {
     "name": "stdout",
     "output_type": "stream",
     "text": [
      "[+] NEW Total External links: 251\n",
      "[+] NEW Total Internal links: 600\n",
      "[+] NEW Total: 851\n"
     ]
    },
    {
     "name": "stderr",
     "output_type": "stream",
     "text": [
      "Some characters could not be decoded, and were replaced with REPLACEMENT CHARACTER.\n"
     ]
    },
    {
     "name": "stdout",
     "output_type": "stream",
     "text": [
      "[+] NEW Total External links: 251\n",
      "[+] NEW Total Internal links: 600\n",
      "[+] NEW Total: 851\n",
      "[+] NEW Total External links: 251\n",
      "[+] NEW Total Internal links: 600\n",
      "[+] NEW Total: 851\n",
      "[+] NEW Total External links: 251\n",
      "[+] NEW Total Internal links: 600\n",
      "[+] NEW Total: 851\n"
     ]
    },
    {
     "name": "stderr",
     "output_type": "stream",
     "text": [
      "Some characters could not be decoded, and were replaced with REPLACEMENT CHARACTER.\n"
     ]
    },
    {
     "name": "stdout",
     "output_type": "stream",
     "text": [
      "[+] NEW Total External links: 251\n",
      "[+] NEW Total Internal links: 600\n",
      "[+] NEW Total: 851\n"
     ]
    },
    {
     "name": "stderr",
     "output_type": "stream",
     "text": [
      "Some characters could not be decoded, and were replaced with REPLACEMENT CHARACTER.\n"
     ]
    },
    {
     "name": "stdout",
     "output_type": "stream",
     "text": [
      "[+] NEW Total External links: 251\n",
      "[+] NEW Total Internal links: 600\n",
      "[+] NEW Total: 851\n",
      "[INT] Internal link: http://louisville.edu/coronavirus/students/community-resources/unityrecovery.zoom.us/my/login\n",
      "[INT] Internal link: http://louisville.edu/coronavirus/students/community-resources/unityrecovery.zoom.us/my/webteam(at)louisville.edu\n",
      "[+] NEW Total External links: 251\n",
      "[+] NEW Total Internal links: 602\n",
      "[+] NEW Total: 853\n"
     ]
    },
    {
     "name": "stderr",
     "output_type": "stream",
     "text": [
      "Some characters could not be decoded, and were replaced with REPLACEMENT CHARACTER.\n"
     ]
    },
    {
     "name": "stdout",
     "output_type": "stream",
     "text": [
      "[+] NEW Total External links: 251\n",
      "[+] NEW Total Internal links: 602\n",
      "[+] NEW Total: 853\n",
      "[INT] Internal link: http://louisville.edu/coronavirus/employees/login\n",
      "[INT] Internal link: http://louisville.edu/coronavirus/employees/human-resources/financial-challenge-mitigation-faq\n",
      "[INT] Internal link: http://louisville.edu/coronavirus/employees/human-resources/human-resources/\n",
      "[+] NEW Total External links: 251\n",
      "[+] NEW Total Internal links: 605\n",
      "[+] NEW Total: 856\n"
     ]
    },
    {
     "name": "stderr",
     "output_type": "stream",
     "text": [
      "Some characters could not be decoded, and were replaced with REPLACEMENT CHARACTER.\n"
     ]
    },
    {
     "name": "stdout",
     "output_type": "stream",
     "text": [
      "[+] NEW Total External links: 251\n",
      "[+] NEW Total Internal links: 605\n",
      "[+] NEW Total: 856\n",
      "[+] NEW Total External links: 251\n",
      "[+] NEW Total Internal links: 605\n",
      "[+] NEW Total: 856\n",
      "[INT] Internal link: http://louisville.edu/coronavirus/students/community-resources/www.upsjobs.com/login\n",
      "[INT] Internal link: http://louisville.edu/coronavirus/students/community-resources/www.upsjobs.com/webteam(at)louisville.edu\n",
      "[+] NEW Total External links: 251\n",
      "[+] NEW Total Internal links: 607\n",
      "[+] NEW Total: 858\n",
      "[+] NEW Total External links: 251\n",
      "[+] NEW Total Internal links: 607\n",
      "[+] NEW Total: 858\n",
      "[+] NEW Total External links: 251\n",
      "[+] NEW Total Internal links: 607\n",
      "[+] NEW Total: 858\n",
      "[INT] Internal link: https://louisville.edu/coronavirus/students/assets\n",
      "[+] NEW Total External links: 251\n",
      "[+] NEW Total Internal links: 608\n",
      "[+] NEW Total: 859\n",
      "[INT] Internal link: http://louisville.edu/coronavirus/students/academics/academics/\n",
      "[INT] Internal link: http://louisville.edu/coronavirus/students/assets/academic/uofl-driveup-hotspots-old\n",
      "[+] NEW Total External links: 251\n",
      "[+] NEW Total Internal links: 610\n",
      "[+] NEW Total: 861\n",
      "[+] NEW Total External links: 251\n",
      "[+] NEW Total Internal links: 610\n",
      "[+] NEW Total: 861\n"
     ]
    },
    {
     "name": "stderr",
     "output_type": "stream",
     "text": [
      "Some characters could not be decoded, and were replaced with REPLACEMENT CHARACTER.\n"
     ]
    },
    {
     "name": "stdout",
     "output_type": "stream",
     "text": [
      "[+] NEW Total External links: 251\n",
      "[+] NEW Total Internal links: 610\n",
      "[+] NEW Total: 861\n"
     ]
    },
    {
     "name": "stderr",
     "output_type": "stream",
     "text": [
      "Some characters could not be decoded, and were replaced with REPLACEMENT CHARACTER.\n"
     ]
    },
    {
     "name": "stdout",
     "output_type": "stream",
     "text": [
      "[+] NEW Total External links: 251\n",
      "[+] NEW Total Internal links: 610\n",
      "[+] NEW Total: 861\n"
     ]
    },
    {
     "name": "stderr",
     "output_type": "stream",
     "text": [
      "Some characters could not be decoded, and were replaced with REPLACEMENT CHARACTER.\n"
     ]
    },
    {
     "name": "stdout",
     "output_type": "stream",
     "text": [
      "[+] NEW Total External links: 251\n",
      "[+] NEW Total Internal links: 610\n",
      "[+] NEW Total: 861\n"
     ]
    },
    {
     "name": "stderr",
     "output_type": "stream",
     "text": [
      "Some characters could not be decoded, and were replaced with REPLACEMENT CHARACTER.\n"
     ]
    },
    {
     "name": "stdout",
     "output_type": "stream",
     "text": [
      "[+] NEW Total External links: 251\n",
      "[+] NEW Total Internal links: 610\n",
      "[+] NEW Total: 861\n",
      "[+] NEW Total External links: 251\n",
      "[+] NEW Total Internal links: 610\n",
      "[+] NEW Total: 861\n",
      "[+] NEW Total External links: 251\n",
      "[+] NEW Total Internal links: 610\n",
      "[+] NEW Total: 861\n"
     ]
    },
    {
     "name": "stderr",
     "output_type": "stream",
     "text": [
      "Some characters could not be decoded, and were replaced with REPLACEMENT CHARACTER.\n"
     ]
    },
    {
     "name": "stdout",
     "output_type": "stream",
     "text": [
      "[+] NEW Total External links: 251\n",
      "[+] NEW Total Internal links: 610\n",
      "[+] NEW Total: 861\n"
     ]
    },
    {
     "name": "stderr",
     "output_type": "stream",
     "text": [
      "Some characters could not be decoded, and were replaced with REPLACEMENT CHARACTER.\n"
     ]
    },
    {
     "name": "stdout",
     "output_type": "stream",
     "text": [
      "[+] NEW Total External links: 251\n",
      "[+] NEW Total Internal links: 610\n",
      "[+] NEW Total: 861\n",
      "[+] NEW Total External links: 251\n",
      "[+] NEW Total Internal links: 610\n",
      "[+] NEW Total: 861\n",
      "[+] NEW Total External links: 251\n",
      "[+] NEW Total Internal links: 610\n",
      "[+] NEW Total: 861\n",
      "[+] NEW Total External links: 251\n",
      "[+] NEW Total Internal links: 610\n",
      "[+] NEW Total: 861\n"
     ]
    },
    {
     "name": "stderr",
     "output_type": "stream",
     "text": [
      "Some characters could not be decoded, and were replaced with REPLACEMENT CHARACTER.\n"
     ]
    },
    {
     "name": "stdout",
     "output_type": "stream",
     "text": [
      "[+] NEW Total External links: 251\n",
      "[+] NEW Total Internal links: 610\n",
      "[+] NEW Total: 861\n",
      "[+] NEW Total External links: 251\n",
      "[+] NEW Total Internal links: 610\n",
      "[+] NEW Total: 861\n",
      "[+] NEW Total External links: 251\n",
      "[+] NEW Total Internal links: 610\n",
      "[+] NEW Total: 861\n",
      "[+] NEW Total External links: 251\n",
      "[+] NEW Total Internal links: 610\n",
      "[+] NEW Total: 861\n"
     ]
    },
    {
     "name": "stderr",
     "output_type": "stream",
     "text": [
      "Some characters could not be decoded, and were replaced with REPLACEMENT CHARACTER.\n"
     ]
    },
    {
     "name": "stdout",
     "output_type": "stream",
     "text": [
      "[+] NEW Total External links: 251\n",
      "[+] NEW Total Internal links: 610\n",
      "[+] NEW Total: 861\n"
     ]
    },
    {
     "name": "stderr",
     "output_type": "stream",
     "text": [
      "Some characters could not be decoded, and were replaced with REPLACEMENT CHARACTER.\n"
     ]
    },
    {
     "name": "stdout",
     "output_type": "stream",
     "text": [
      "[+] NEW Total External links: 251\n",
      "[+] NEW Total Internal links: 610\n",
      "[+] NEW Total: 861\n",
      "[+] NEW Total External links: 251\n",
      "[+] NEW Total Internal links: 610\n",
      "[+] NEW Total: 861\n",
      "[+] NEW Total External links: 251\n",
      "[+] NEW Total Internal links: 610\n",
      "[+] NEW Total: 861\n",
      "[+] NEW Total External links: 251\n",
      "[+] NEW Total Internal links: 610\n",
      "[+] NEW Total: 861\n"
     ]
    },
    {
     "name": "stderr",
     "output_type": "stream",
     "text": [
      "Some characters could not be decoded, and were replaced with REPLACEMENT CHARACTER.\n"
     ]
    },
    {
     "name": "stdout",
     "output_type": "stream",
     "text": [
      "[+] NEW Total External links: 251\n",
      "[+] NEW Total Internal links: 610\n",
      "[+] NEW Total: 861\n",
      "[+] NEW Total External links: 251\n",
      "[+] NEW Total Internal links: 610\n",
      "[+] NEW Total: 861\n",
      "[+] NEW Total External links: 251\n",
      "[+] NEW Total Internal links: 610\n",
      "[+] NEW Total: 861\n",
      "[+] NEW Total External links: 251\n",
      "[+] NEW Total Internal links: 610\n",
      "[+] NEW Total: 861\n",
      "[+] NEW Total External links: 251\n",
      "[+] NEW Total Internal links: 610\n",
      "[+] NEW Total: 861\n",
      "[+] NEW Total External links: 251\n",
      "[+] NEW Total Internal links: 610\n",
      "[+] NEW Total: 861\n"
     ]
    },
    {
     "name": "stderr",
     "output_type": "stream",
     "text": [
      "Some characters could not be decoded, and were replaced with REPLACEMENT CHARACTER.\n"
     ]
    },
    {
     "name": "stdout",
     "output_type": "stream",
     "text": [
      "[+] NEW Total External links: 251\n",
      "[+] NEW Total Internal links: 610\n",
      "[+] NEW Total: 861\n",
      "[+] NEW Total External links: 251\n",
      "[+] NEW Total Internal links: 610\n",
      "[+] NEW Total: 861\n",
      "[INT] Internal link: https://louisville.edu/coronavirus/employees/human-resources/financial-challenge-mitigation-faq/login\n",
      "[+] NEW Total External links: 251\n",
      "[+] NEW Total Internal links: 611\n",
      "[+] NEW Total: 862\n",
      "[INT] Internal link: http://louisville.edu/coronavirus/students/community-resources/login\n",
      "[+] NEW Total External links: 251\n",
      "[+] NEW Total Internal links: 612\n",
      "[+] NEW Total: 863\n"
     ]
    },
    {
     "name": "stderr",
     "output_type": "stream",
     "text": [
      "Some characters could not be decoded, and were replaced with REPLACEMENT CHARACTER.\n"
     ]
    },
    {
     "name": "stdout",
     "output_type": "stream",
     "text": [
      "[+] NEW Total External links: 251\n",
      "[+] NEW Total Internal links: 612\n",
      "[+] NEW Total: 863\n",
      "[+] NEW Total External links: 251\n",
      "[+] NEW Total Internal links: 612\n",
      "[+] NEW Total: 863\n",
      "[+] NEW Total External links: 251\n",
      "[+] NEW Total Internal links: 612\n",
      "[+] NEW Total: 863\n"
     ]
    },
    {
     "name": "stderr",
     "output_type": "stream",
     "text": [
      "Some characters could not be decoded, and were replaced with REPLACEMENT CHARACTER.\n"
     ]
    },
    {
     "name": "stdout",
     "output_type": "stream",
     "text": [
      "[+] NEW Total External links: 251\n",
      "[+] NEW Total Internal links: 612\n",
      "[+] NEW Total: 863\n",
      "[+] NEW Total External links: 251\n",
      "[+] NEW Total Internal links: 612\n",
      "[+] NEW Total: 863\n",
      "[+] NEW Total External links: 251\n",
      "[+] NEW Total Internal links: 612\n",
      "[+] NEW Total: 863\n",
      "[+] NEW Total External links: 251\n",
      "[+] NEW Total Internal links: 612\n",
      "[+] NEW Total: 863\n"
     ]
    },
    {
     "name": "stderr",
     "output_type": "stream",
     "text": [
      "Some characters could not be decoded, and were replaced with REPLACEMENT CHARACTER.\n"
     ]
    },
    {
     "name": "stdout",
     "output_type": "stream",
     "text": [
      "[+] NEW Total External links: 251\n",
      "[+] NEW Total Internal links: 612\n",
      "[+] NEW Total: 863\n",
      "[INT] Internal link: https://louisville.edu/coronavirus/students/community-resources/www.republicbank.com/login\n",
      "[INT] Internal link: https://louisville.edu/coronavirus/students/community-resources/www.republicbank.com/webteam(at)louisville.edu\n",
      "[+] NEW Total External links: 251\n",
      "[+] NEW Total Internal links: 614\n",
      "[+] NEW Total: 865\n",
      "[INT] Internal link: https://louisville.edu/coronavirus/students/community-resources/www.upsjobs.com/login\n",
      "[INT] Internal link: https://louisville.edu/coronavirus/students/community-resources/www.upsjobs.com/webteam(at)louisville.edu\n",
      "[+] NEW Total External links: 251\n",
      "[+] NEW Total Internal links: 616\n",
      "[+] NEW Total: 867\n"
     ]
    },
    {
     "name": "stderr",
     "output_type": "stream",
     "text": [
      "Some characters could not be decoded, and were replaced with REPLACEMENT CHARACTER.\n"
     ]
    },
    {
     "name": "stdout",
     "output_type": "stream",
     "text": [
      "[+] NEW Total External links: 251\n",
      "[+] NEW Total Internal links: 616\n",
      "[+] NEW Total: 867\n",
      "[+] NEW Total External links: 251\n",
      "[+] NEW Total Internal links: 616\n",
      "[+] NEW Total: 867\n"
     ]
    },
    {
     "name": "stderr",
     "output_type": "stream",
     "text": [
      "Some characters could not be decoded, and were replaced with REPLACEMENT CHARACTER.\n"
     ]
    },
    {
     "name": "stdout",
     "output_type": "stream",
     "text": [
      "[+] NEW Total External links: 251\n",
      "[+] NEW Total Internal links: 616\n",
      "[+] NEW Total: 867\n"
     ]
    },
    {
     "name": "stderr",
     "output_type": "stream",
     "text": [
      "Some characters could not be decoded, and were replaced with REPLACEMENT CHARACTER.\n"
     ]
    },
    {
     "name": "stdout",
     "output_type": "stream",
     "text": [
      "[+] NEW Total External links: 251\n",
      "[+] NEW Total Internal links: 616\n",
      "[+] NEW Total: 867\n",
      "[+] NEW Total External links: 251\n",
      "[+] NEW Total Internal links: 616\n",
      "[+] NEW Total: 867\n",
      "[+] NEW Total External links: 251\n",
      "[+] NEW Total Internal links: 616\n",
      "[+] NEW Total: 867\n"
     ]
    },
    {
     "name": "stderr",
     "output_type": "stream",
     "text": [
      "Some characters could not be decoded, and were replaced with REPLACEMENT CHARACTER.\n"
     ]
    },
    {
     "name": "stdout",
     "output_type": "stream",
     "text": [
      "[+] NEW Total External links: 251\n",
      "[+] NEW Total Internal links: 616\n",
      "[+] NEW Total: 867\n"
     ]
    },
    {
     "name": "stderr",
     "output_type": "stream",
     "text": [
      "Some characters could not be decoded, and were replaced with REPLACEMENT CHARACTER.\n"
     ]
    },
    {
     "name": "stdout",
     "output_type": "stream",
     "text": [
      "[+] NEW Total External links: 251\n",
      "[+] NEW Total Internal links: 616\n",
      "[+] NEW Total: 867\n"
     ]
    },
    {
     "name": "stderr",
     "output_type": "stream",
     "text": [
      "Some characters could not be decoded, and were replaced with REPLACEMENT CHARACTER.\n"
     ]
    },
    {
     "name": "stdout",
     "output_type": "stream",
     "text": [
      "[+] NEW Total External links: 251\n",
      "[+] NEW Total Internal links: 616\n",
      "[+] NEW Total: 867\n",
      "[+] NEW Total External links: 251\n",
      "[+] NEW Total Internal links: 616\n",
      "[+] NEW Total: 867\n",
      "[+] NEW Total External links: 251\n",
      "[+] NEW Total Internal links: 616\n",
      "[+] NEW Total: 867\n",
      "[INT] Internal link: https://louisville.edu/coronavirus/students/community-resources/login\n",
      "[+] NEW Total External links: 251\n",
      "[+] NEW Total Internal links: 617\n",
      "[+] NEW Total: 868\n",
      "[+] NEW Total External links: 251\n",
      "[+] NEW Total Internal links: 617\n",
      "[+] NEW Total: 868\n"
     ]
    },
    {
     "name": "stderr",
     "output_type": "stream",
     "text": [
      "Some characters could not be decoded, and were replaced with REPLACEMENT CHARACTER.\n"
     ]
    },
    {
     "name": "stdout",
     "output_type": "stream",
     "text": [
      "[+] NEW Total External links: 251\n",
      "[+] NEW Total Internal links: 617\n",
      "[+] NEW Total: 868\n",
      "[INT] Internal link: http://louisville.edu/coronavirus/employees/remote-work/remote-work/\n",
      "[+] NEW Total External links: 251\n",
      "[+] NEW Total Internal links: 618\n",
      "[+] NEW Total: 869\n",
      "[+] NEW Total External links: 251\n",
      "[+] NEW Total Internal links: 618\n",
      "[+] NEW Total: 869\n"
     ]
    },
    {
     "name": "stderr",
     "output_type": "stream",
     "text": [
      "Some characters could not be decoded, and were replaced with REPLACEMENT CHARACTER.\n"
     ]
    },
    {
     "name": "stdout",
     "output_type": "stream",
     "text": [
      "[+] NEW Total External links: 251\n",
      "[+] NEW Total Internal links: 618\n",
      "[+] NEW Total: 869\n",
      "[+] NEW Total External links: 251\n",
      "[+] NEW Total Internal links: 618\n",
      "[+] NEW Total: 869\n"
     ]
    },
    {
     "name": "stderr",
     "output_type": "stream",
     "text": [
      "Some characters could not be decoded, and were replaced with REPLACEMENT CHARACTER.\n"
     ]
    },
    {
     "name": "stdout",
     "output_type": "stream",
     "text": [
      "[+] NEW Total External links: 251\n",
      "[+] NEW Total Internal links: 618\n",
      "[+] NEW Total: 869\n",
      "[+] NEW Total External links: 251\n",
      "[+] NEW Total Internal links: 618\n",
      "[+] NEW Total: 869\n"
     ]
    },
    {
     "name": "stderr",
     "output_type": "stream",
     "text": [
      "Some characters could not be decoded, and were replaced with REPLACEMENT CHARACTER.\n"
     ]
    },
    {
     "name": "stdout",
     "output_type": "stream",
     "text": [
      "[+] NEW Total External links: 251\n",
      "[+] NEW Total Internal links: 618\n",
      "[+] NEW Total: 869\n"
     ]
    },
    {
     "name": "stderr",
     "output_type": "stream",
     "text": [
      "Some characters could not be decoded, and were replaced with REPLACEMENT CHARACTER.\n"
     ]
    },
    {
     "name": "stdout",
     "output_type": "stream",
     "text": [
      "[+] NEW Total External links: 251\n",
      "[+] NEW Total Internal links: 618\n",
      "[+] NEW Total: 869\n",
      "[+] NEW Total External links: 251\n",
      "[+] NEW Total Internal links: 618\n",
      "[+] NEW Total: 869\n",
      "[INT] Internal link: http://louisville.edu/coronavirus/students/community-resources/www.republicbank.com/login\n",
      "[INT] Internal link: http://louisville.edu/coronavirus/students/community-resources/www.republicbank.com/webteam(at)louisville.edu\n",
      "[+] NEW Total External links: 251\n",
      "[+] NEW Total Internal links: 620\n",
      "[+] NEW Total: 871\n"
     ]
    },
    {
     "name": "stderr",
     "output_type": "stream",
     "text": [
      "Some characters could not be decoded, and were replaced with REPLACEMENT CHARACTER.\n"
     ]
    },
    {
     "name": "stdout",
     "output_type": "stream",
     "text": [
      "[+] NEW Total External links: 251\n",
      "[+] NEW Total Internal links: 620\n",
      "[+] NEW Total: 871\n",
      "[+] NEW Total External links: 251\n",
      "[+] NEW Total Internal links: 620\n",
      "[+] NEW Total: 871\n"
     ]
    },
    {
     "name": "stderr",
     "output_type": "stream",
     "text": [
      "Some characters could not be decoded, and were replaced with REPLACEMENT CHARACTER.\n"
     ]
    },
    {
     "name": "stdout",
     "output_type": "stream",
     "text": [
      "[+] NEW Total External links: 251\n",
      "[+] NEW Total Internal links: 620\n",
      "[+] NEW Total: 871\n"
     ]
    },
    {
     "name": "stderr",
     "output_type": "stream",
     "text": [
      "Some characters could not be decoded, and were replaced with REPLACEMENT CHARACTER.\n"
     ]
    },
    {
     "name": "stdout",
     "output_type": "stream",
     "text": [
      "[+] NEW Total External links: 251\n",
      "[+] NEW Total Internal links: 620\n",
      "[+] NEW Total: 871\n",
      "[+] NEW Total External links: 251\n",
      "[+] NEW Total Internal links: 620\n",
      "[+] NEW Total: 871\n"
     ]
    },
    {
     "name": "stderr",
     "output_type": "stream",
     "text": [
      "Some characters could not be decoded, and were replaced with REPLACEMENT CHARACTER.\n"
     ]
    },
    {
     "name": "stdout",
     "output_type": "stream",
     "text": [
      "[+] NEW Total External links: 251\n",
      "[+] NEW Total Internal links: 620\n",
      "[+] NEW Total: 871\n"
     ]
    },
    {
     "name": "stderr",
     "output_type": "stream",
     "text": [
      "Some characters could not be decoded, and were replaced with REPLACEMENT CHARACTER.\n"
     ]
    },
    {
     "name": "stdout",
     "output_type": "stream",
     "text": [
      "[+] NEW Total External links: 251\n",
      "[+] NEW Total Internal links: 620\n",
      "[+] NEW Total: 871\n"
     ]
    },
    {
     "name": "stderr",
     "output_type": "stream",
     "text": [
      "Some characters could not be decoded, and were replaced with REPLACEMENT CHARACTER.\n"
     ]
    },
    {
     "name": "stdout",
     "output_type": "stream",
     "text": [
      "[+] NEW Total External links: 251\n",
      "[+] NEW Total Internal links: 620\n",
      "[+] NEW Total: 871\n"
     ]
    },
    {
     "name": "stderr",
     "output_type": "stream",
     "text": [
      "Some characters could not be decoded, and were replaced with REPLACEMENT CHARACTER.\n"
     ]
    },
    {
     "name": "stdout",
     "output_type": "stream",
     "text": [
      "[+] NEW Total External links: 251\n",
      "[+] NEW Total Internal links: 620\n",
      "[+] NEW Total: 871\n"
     ]
    },
    {
     "name": "stderr",
     "output_type": "stream",
     "text": [
      "Some characters could not be decoded, and were replaced with REPLACEMENT CHARACTER.\n"
     ]
    },
    {
     "name": "stdout",
     "output_type": "stream",
     "text": [
      "[+] NEW Total External links: 251\n",
      "[+] NEW Total Internal links: 620\n",
      "[+] NEW Total: 871\n",
      "[INT] Internal link: http://louisville.edu/coronavirus/faculty/online-instruction/online-instruction/\n",
      "[+] NEW Total External links: 251\n",
      "[+] NEW Total Internal links: 621\n",
      "[+] NEW Total: 872\n",
      "[+] NEW Total External links: 251\n",
      "[+] NEW Total Internal links: 621\n",
      "[+] NEW Total: 872\n",
      "[+] NEW Total External links: 251\n",
      "[+] NEW Total Internal links: 621\n",
      "[+] NEW Total: 872\n",
      "[+] NEW Total External links: 251\n",
      "[+] NEW Total Internal links: 621\n",
      "[+] NEW Total: 872\n",
      "[INT] Internal link: https://louisville.edu/coronavirus/students/community-resources/www.lfpl.org/login\n",
      "[INT] Internal link: https://louisville.edu/coronavirus/students/community-resources/www.lfpl.org/webteam(at)louisville.edu\n",
      "[+] NEW Total External links: 251\n",
      "[+] NEW Total Internal links: 623\n",
      "[+] NEW Total: 874\n",
      "[+] NEW Total External links: 251\n",
      "[+] NEW Total Internal links: 623\n",
      "[+] NEW Total: 874\n",
      "[+] NEW Total External links: 251\n",
      "[+] NEW Total Internal links: 623\n",
      "[+] NEW Total: 874\n",
      "[+] NEW Total External links: 251\n",
      "[+] NEW Total Internal links: 623\n",
      "[+] NEW Total: 874\n",
      "[+] NEW Total External links: 251\n",
      "[+] NEW Total Internal links: 623\n",
      "[+] NEW Total: 874\n",
      "[+] NEW Total External links: 251\n",
      "[+] NEW Total Internal links: 623\n",
      "[+] NEW Total: 874\n",
      "[+] NEW Total External links: 251\n",
      "[+] NEW Total Internal links: 623\n",
      "[+] NEW Total: 874\n"
     ]
    },
    {
     "name": "stderr",
     "output_type": "stream",
     "text": [
      "Some characters could not be decoded, and were replaced with REPLACEMENT CHARACTER.\n"
     ]
    },
    {
     "name": "stdout",
     "output_type": "stream",
     "text": [
      "[+] NEW Total External links: 251\n",
      "[+] NEW Total Internal links: 623\n",
      "[+] NEW Total: 874\n",
      "[+] NEW Total External links: 251\n",
      "[+] NEW Total Internal links: 623\n",
      "[+] NEW Total: 874\n"
     ]
    },
    {
     "name": "stderr",
     "output_type": "stream",
     "text": [
      "Some characters could not be decoded, and were replaced with REPLACEMENT CHARACTER.\n"
     ]
    },
    {
     "name": "stdout",
     "output_type": "stream",
     "text": [
      "[+] NEW Total External links: 251\n",
      "[+] NEW Total Internal links: 623\n",
      "[+] NEW Total: 874\n"
     ]
    },
    {
     "name": "stderr",
     "output_type": "stream",
     "text": [
      "Some characters could not be decoded, and were replaced with REPLACEMENT CHARACTER.\n"
     ]
    },
    {
     "name": "stdout",
     "output_type": "stream",
     "text": [
      "[+] NEW Total External links: 251\n",
      "[+] NEW Total Internal links: 623\n",
      "[+] NEW Total: 874\n",
      "[INT] Internal link: http://louisville.edu/coronavirus/employees/reopening-campus/appointment-letter.pdf/view\n",
      "[INT] Internal link: http://louisville.edu/coronavirus/employees/reopening-campus/ccc.pdf/view\n",
      "[INT] Internal link: http://louisville.edu/coronavirus/employees/reopening-campus/charge-for-safe-return-to-work-committee/view\n",
      "[+] NEW Total External links: 251\n",
      "[+] NEW Total Internal links: 626\n",
      "[+] NEW Total: 877\n",
      "[+] NEW Total External links: 251\n",
      "[+] NEW Total Internal links: 626\n",
      "[+] NEW Total: 877\n",
      "[INT] Internal link: http://louisville.edu/login\n",
      "[INT] Internal link: http://louisville.edu/coronavirus/faq\n",
      "[INT] Internal link: http://louisville.edu/coronavirus/students/campus-life/campus\n",
      "[INT] Internal link: http://louisville.edu/resolveuid/9f477bb5a6164ce8a2ab0cd617800e61\n",
      "[INT] Internal link: http://louisville.edu/resolveuid/35e546c3427b459c9dd7fc0cb1879039\n",
      "[+] NEW Total External links: 251\n",
      "[+] NEW Total Internal links: 631\n",
      "[+] NEW Total: 882\n",
      "[+] NEW Total External links: 251\n",
      "[+] NEW Total Internal links: 631\n",
      "[+] NEW Total: 882\n"
     ]
    },
    {
     "name": "stderr",
     "output_type": "stream",
     "text": [
      "Some characters could not be decoded, and were replaced with REPLACEMENT CHARACTER.\n"
     ]
    },
    {
     "name": "stdout",
     "output_type": "stream",
     "text": [
      "[+] NEW Total External links: 251\n",
      "[+] NEW Total Internal links: 631\n",
      "[+] NEW Total: 882\n",
      "[INT] Internal link: http://louisville.edu/coronavirus/students/campus-life/campus/\n",
      "[INT] Internal link: http://louisville.edu/coronavirus/students/assets/campus/affiliated-properties\n",
      "[+] NEW Total External links: 251\n",
      "[+] NEW Total Internal links: 633\n",
      "[+] NEW Total: 884\n",
      "[INT] Internal link: https://louisville.edu/coronavirus/assets\n",
      "[INT] Internal link: https://louisville.edu/coronavirus/assets/Self%20Isolation%20film.jpg/view\n",
      "[INT] Internal link: https://louisville.edu/coronavirus/assets/self%20ioslation%20Chinese.jpg/view\n",
      "[INT] Internal link: https://louisville.edu/coronavirus/assets/self%20ioslation%20Spanish.jpg/view\n",
      "[INT] Internal link: https://louisville.edu/coronavirus/assets/self%20ioslation%20instructions.jpg/view\n",
      "[INT] Internal link: https://louisville.edu/coronavirus/assets/Corona%20bannder.jpg/view\n",
      "[INT] Internal link: https://louisville.edu/coronavirus/assets/click%20to%20Report.jpg/view\n",
      "[INT] Internal link: https://louisville.edu/coronavirus/assets/custom.css/view\n",
      "[INT] Internal link: https://louisville.edu/coronavirus/assets/Temporary_Telecommuting_Guidelines_for_Employees.pdf/view\n",
      "[INT] Internal link: https://louisville.edu/coronavirus/assets/Temporary_Leave_Guidelines.pdf/view\n",
      "[INT] Internal link: https://louisville.edu/coronavirus/assets/UHCSR%20COVID-19%20Communication%20March%2010%202020.pdf/view\n",
      "[INT] Internal link: https://louisville.edu/coronavirus/assets/self%20isolation%20guide.docx/view\n",
      "[INT] Internal link: https://louisville.edu/coronavirus/assets/pass-fail-policy-changes-for-spring-2020/view\n",
      "[INT] Internal link: https://louisville.edu/coronavirus/assets/message-from-the-provost-re-pass-fail-policy-for-spring-2020/view\n",
      "[INT] Internal link: https://louisville.edu/coronavirus/assets/study-habits-during-covid-19_old/view\n",
      "[INT] Internal link: https://louisville.edu/coronavirus/assets/instructional-design-support/view\n",
      "[INT] Internal link: https://louisville.edu/coronavirus/assets/impact-on-externally-sponsored-programs/view\n",
      "[INT] Internal link: https://louisville.edu/coronavirus/assets/study-habits-during-covid-19/view\n",
      "[INT] Internal link: https://louisville.edu/coronavirus/assets/Taxwithholdingchangeform003.pdf/view\n",
      "[INT] Internal link: https://louisville.edu/coronavirus/assets/compensation-and-fringe-benefits-during-emergency-guidelines/view\n",
      "[INT] Internal link: https://louisville.edu/coronavirus/assets/pivot-to-fall-2020/view\n",
      "[INT] Internal link: https://louisville.edu/coronavirus/assets/pivot-bkg/view\n",
      "[INT] Internal link: https://louisville.edu/coronavirus/assets/faculty-roles-and-aspc-joint-recommendations/view\n",
      "[+] NEW Total External links: 251\n",
      "[+] NEW Total Internal links: 656\n",
      "[+] NEW Total: 907\n",
      "[INT] Internal link: http://louisville.edu/coronavirus/communications-and-updates/messages/Updateonremotework2021budget.pdf\n",
      "[INT] Internal link: http://louisville.edu/coronavirus/communications-and-updates/communications-and-updates/\n",
      "[INT] Internal link: http://louisville.edu/coronavirus/communications-and-updates/messages/PivottoFallmessagefromProvostBoehm.pdf\n",
      "[INT] Internal link: http://louisville.edu/coronavirus/communications-and-updates/messages/FromtheProvostonPivotingtoFall.pdf\n",
      "[INT] Internal link: http://louisville.edu/coronavirus/communications-and-updates/messages/FromtheProvostrePivottoFallplan.pdf\n",
      "[INT] Internal link: http://louisville.edu/coronavirus/communications-and-updates/messages/Updateonuniversityspivottofallsemester.pdf\n",
      "[INT] Internal link: http://louisville.edu/coronavirus/communications-and-updates/messages/NotefromHumanResources.pdf\n",
      "[INT] Internal link: http://louisville.edu/coronavirus/communications-and-updates/messages/FromtheProvostPivotingtoFall2020.pdf\n",
      "[INT] Internal link: http://louisville.edu/coronavirus/communications-and-updates/messages/PlanningforFall2020semester.pdf\n",
      "[INT] Internal link: http://louisville.edu/coronavirus/communications-and-updates/messages/Classof2020VirtualGraduationCelebration.pdf\n",
      "[INT] Internal link: http://louisville.edu/coronavirus/communications-and-updates/messages/LetterFromStaffSenate.pdf\n",
      "[INT] Internal link: http://louisville.edu/coronavirus/communications-and-updates/messages/HRupdateforemployeesimpactedbyfurloughs.pdf\n",
      "[INT] Internal link: http://louisville.edu/coronavirus/communications-and-updates/messages/ActionsinresponsetoCOVID19financialimpact.pdf\n",
      "[INT] Internal link: http://louisville.edu/coronavirus/communications-and-updates/messages/april-17-2020-state-request-for-ppe\n",
      "[INT] Internal link: http://louisville.edu/coronavirus/communications-and-updates/messages/UpdatefromthePresidentsLeadershipTeam.pdf\n",
      "[INT] Internal link: http://louisville.edu/coronavirus/communications-and-updates/messages/MessagetoFacultyfromProvostBoehm.pdf\n",
      "[INT] Internal link: http://louisville.edu/coronavirus/communications-and-updates/messages/ImportantAnnouncementfromUofLsLeadershipTeam.pdf\n",
      "[INT] Internal link: http://louisville.edu/coronavirus/communications-and-updates/messages/presidents-council-covid-19-update\n",
      "[INT] Internal link: http://louisville.edu/coronavirus/communications-and-updates/messages/COVID19SAVPDE.pdf\n",
      "[INT] Internal link: http://louisville.edu/coronavirus/communications-and-updates/messages/PresidentialUpdatefromDr.Bendapudi.pdf\n",
      "[INT] Internal link: http://louisville.edu/coronavirus/communications-and-updates/messages/COVID19MessagefromPresidentBendapudi.pdf\n",
      "[INT] Internal link: http://louisville.edu/coronavirus/communications-and-updates/messages/ImportantAnnouncementregardingSummerTerm2020.pdf\n",
      "[INT] Internal link: http://louisville.edu/coronavirus/communications-and-updates/messages/ProvostPass_FailGrading.pdf\n",
      "[INT] Internal link: http://louisville.edu/coronavirus/communications-and-updates/messages/UpdatedCOVID19GuidelinesfortheUofLResearchCommunity.pdf\n",
      "[INT] Internal link: http://louisville.edu/coronavirus/communications-and-updates/messages/SGACOVID19Update.pdf\n",
      "[INT] Internal link: http://louisville.edu/coronavirus/communications-and-updates/messages/march-23-2020-emergency-paid-sick-leave-family-and-medical-leave\n",
      "[INT] Internal link: http://louisville.edu/coronavirus/communications-and-updates/messages/march-20-2020-new-pass-fail-policy-and-other-resources-for-students\n",
      "[INT] Internal link: http://louisville.edu/coronavirus/communications-and-updates/messages/march-20-2020-message-from-the-provost-re-pass-fail-policy\n",
      "[INT] Internal link: http://louisville.edu/coronavirus/communications-and-updates/messages/message-from-faculty-senate-and-staff-senate-officers\n",
      "[INT] Internal link: http://louisville.edu/coronavirus/communications-and-updates/messages/march-18-2020-2013-remote-operations-extended-through-april-28-spring-commencement-postponed\n",
      "[INT] Internal link: http://louisville.edu/coronavirus/communications-and-updates/messages/march-18-2020-email-to-all-residents-on-closing-traditional-halls-and-suites\n",
      "[INT] Internal link: http://louisville.edu/coronavirus/communications-and-updates/messages/march-17-2020-update-from-the-dean-of-students\n",
      "[INT] Internal link: http://louisville.edu/coronavirus/communications-and-updates/messages/march-16-2020-our-students-are-at-the-center-of-all-we-do\n",
      "[INT] Internal link: http://louisville.edu/coronavirus/communications-and-updates/messages/march-16-2020-its-guidelines-services-for-remote-work\n",
      "[INT] Internal link: http://louisville.edu/coronavirus/communications-and-updates/messages/march-16-2020-update-from-provost-beth-boehm\n",
      "[INT] Internal link: http://louisville.edu/coronavirus/communications-and-updates/messages/march-15-2020-remote-work-guidelines-for-the-university-of-louisville-research-community\n",
      "[INT] Internal link: http://louisville.edu/coronavirus/communications-and-updates/messages/UofL%20ITS_Covid_Announcement.pdf\n",
      "[INT] Internal link: http://louisville.edu/coronavirus/communications-and-updates/messages/UofL_to_implement_remote_work_plan_postpone_or_cancel_events.pdf\n",
      "[INT] Internal link: http://louisville.edu/coronavirus/communications-and-updates/messages/Additional%20online%20training%20for%20UofL%20faculty.pdf\n",
      "[INT] Internal link: http://louisville.edu/coronavirus/communications-and-updates/messages/Provost-%20Dean%20of%20Students%20share%20COVID-19%20update%20for%20students.pdf\n",
      "[INT] Internal link: http://louisville.edu/coronavirus/communications-and-updates/messages/Faculty%20Senate%20update%20on%20COVID-19%20preparation.pdf\n",
      "[INT] Internal link: http://louisville.edu/coronavirus/communications-and-updates/messages/From%20the%20Executive%20Vice%20President%20for%20Research%20re-%20Coronavirus%20preparations.pdf\n",
      "[INT] Internal link: http://louisville.edu/coronavirus/communications-and-updates/messages/update-on-coronavirus-planning-3-10-2020.pdf\n",
      "[INT] Internal link: http://louisville.edu/coronavirus/communications-and-updates/messages/Campus-Health-update-on-UofL-coronavirus-3-5-2020.pdf\n",
      "[INT] Internal link: http://louisville.edu/coronavirus/communications-and-updates/messages/Campus-Health-update-on-UofL-coronavirus-3-4-2020.pdf\n",
      "[INT] Internal link: http://louisville.edu/coronavirus/communications-and-updates/messages/200228%20Provost%20Update%20on%20UofL%20and%20coronavirus%20concerns.pdf\n",
      "[INT] Internal link: http://louisville.edu/coronavirus/communications-and-updates/messages/200131%20Provost%20Update%20on%20UofL%20response%20to%20coronavirus.pdf\n",
      "[INT] Internal link: http://louisville.edu/coronavirus/communications-and-updates/messages/200129%20Provost%20Update%20on%20UofL%20response%20to%20coronavirus.pdf\n",
      "[+] NEW Total External links: 251\n",
      "[+] NEW Total Internal links: 704\n",
      "[+] NEW Total: 955\n"
     ]
    },
    {
     "name": "stdout",
     "output_type": "stream",
     "text": [
      "[+] NEW Total External links: 251\n",
      "[+] NEW Total Internal links: 704\n",
      "[+] NEW Total: 955\n",
      "[+] NEW Total External links: 251\n",
      "[+] NEW Total Internal links: 704\n",
      "[+] NEW Total: 955\n",
      "[+] NEW Total External links: 251\n",
      "[+] NEW Total Internal links: 704\n",
      "[+] NEW Total: 955\n",
      "[+] NEW Total External links: 251\n",
      "[+] NEW Total Internal links: 704\n",
      "[+] NEW Total: 955\n",
      "[+] NEW Total External links: 251\n",
      "[+] NEW Total Internal links: 704\n",
      "[+] NEW Total: 955\n"
     ]
    },
    {
     "name": "stderr",
     "output_type": "stream",
     "text": [
      "Some characters could not be decoded, and were replaced with REPLACEMENT CHARACTER.\n"
     ]
    },
    {
     "name": "stdout",
     "output_type": "stream",
     "text": [
      "[+] NEW Total External links: 251\n",
      "[+] NEW Total Internal links: 704\n",
      "[+] NEW Total: 955\n",
      "[INT] Internal link: http://louisville.edu/coronavirus/employees/health/health/\n",
      "[+] NEW Total External links: 251\n",
      "[+] NEW Total Internal links: 705\n",
      "[+] NEW Total: 956\n",
      "[INT] Internal link: http://louisville.edu/coronavirus/students/health/health/\n",
      "[+] NEW Total External links: 251\n",
      "[+] NEW Total Internal links: 706\n",
      "[+] NEW Total: 957\n",
      "[+] NEW Total External links: 251\n",
      "[+] NEW Total Internal links: 706\n",
      "[+] NEW Total: 957\n"
     ]
    },
    {
     "name": "stderr",
     "output_type": "stream",
     "text": [
      "Some characters could not be decoded, and were replaced with REPLACEMENT CHARACTER.\n"
     ]
    },
    {
     "name": "stdout",
     "output_type": "stream",
     "text": [
      "[+] NEW Total External links: 251\n",
      "[+] NEW Total Internal links: 706\n",
      "[+] NEW Total: 957\n",
      "[+] NEW Total External links: 251\n",
      "[+] NEW Total Internal links: 706\n",
      "[+] NEW Total: 957\n",
      "[+] NEW Total External links: 251\n",
      "[+] NEW Total Internal links: 706\n",
      "[+] NEW Total: 957\n",
      "[+] NEW Total External links: 251\n",
      "[+] NEW Total Internal links: 706\n",
      "[+] NEW Total: 957\n"
     ]
    },
    {
     "name": "stderr",
     "output_type": "stream",
     "text": [
      "Some characters could not be decoded, and were replaced with REPLACEMENT CHARACTER.\n"
     ]
    },
    {
     "name": "stdout",
     "output_type": "stream",
     "text": [
      "[+] NEW Total External links: 251\n",
      "[+] NEW Total Internal links: 706\n",
      "[+] NEW Total: 957\n",
      "[+] NEW Total External links: 251\n",
      "[+] NEW Total Internal links: 706\n",
      "[+] NEW Total: 957\n",
      "[+] NEW Total External links: 251\n",
      "[+] NEW Total Internal links: 706\n",
      "[+] NEW Total: 957\n"
     ]
    },
    {
     "name": "stderr",
     "output_type": "stream",
     "text": [
      "Some characters could not be decoded, and were replaced with REPLACEMENT CHARACTER.\n"
     ]
    },
    {
     "name": "stdout",
     "output_type": "stream",
     "text": [
      "[+] NEW Total External links: 251\n",
      "[+] NEW Total Internal links: 706\n",
      "[+] NEW Total: 957\n"
     ]
    },
    {
     "name": "stderr",
     "output_type": "stream",
     "text": [
      "Some characters could not be decoded, and were replaced with REPLACEMENT CHARACTER.\n"
     ]
    },
    {
     "name": "stdout",
     "output_type": "stream",
     "text": [
      "[+] NEW Total External links: 251\n",
      "[+] NEW Total Internal links: 706\n",
      "[+] NEW Total: 957\n"
     ]
    },
    {
     "name": "stderr",
     "output_type": "stream",
     "text": [
      "Some characters could not be decoded, and were replaced with REPLACEMENT CHARACTER.\n"
     ]
    },
    {
     "name": "stdout",
     "output_type": "stream",
     "text": [
      "[+] NEW Total External links: 251\n",
      "[+] NEW Total Internal links: 706\n",
      "[+] NEW Total: 957\n",
      "[+] NEW Total External links: 251\n",
      "[+] NEW Total Internal links: 706\n",
      "[+] NEW Total: 957\n"
     ]
    },
    {
     "name": "stderr",
     "output_type": "stream",
     "text": [
      "Some characters could not be decoded, and were replaced with REPLACEMENT CHARACTER.\n"
     ]
    },
    {
     "name": "stdout",
     "output_type": "stream",
     "text": [
      "[+] NEW Total External links: 251\n",
      "[+] NEW Total Internal links: 706\n",
      "[+] NEW Total: 957\n",
      "[+] NEW Total External links: 251\n",
      "[+] NEW Total Internal links: 706\n",
      "[+] NEW Total: 957\n",
      "269 3\n",
      "[+] NEW Total External links: 251\n",
      "[+] NEW Total Internal links: 706\n",
      "[+] NEW Total: 957\n",
      "[+] NEW Total External links: 251\n",
      "[+] NEW Total Internal links: 706\n",
      "[+] NEW Total: 957\n",
      "[INT] Internal link: https://louisville.edu/coronavirus/assets/pivot-bkg/login\n",
      "[INT] Internal link: https://louisville.edu/coronavirus/assets/pivot-bkg/image_view_fullscreen\n",
      "[INT] Internal link: https://louisville.edu/coronavirus/assets/pivot-bkg/download\n",
      "[+] NEW Total External links: 251\n",
      "[+] NEW Total Internal links: 709\n",
      "[+] NEW Total: 960\n",
      "[+] NEW Total External links: 251\n",
      "[+] NEW Total Internal links: 709\n",
      "[+] NEW Total: 960\n"
     ]
    },
    {
     "name": "stderr",
     "output_type": "stream",
     "text": [
      "Some characters could not be decoded, and were replaced with REPLACEMENT CHARACTER.\n"
     ]
    },
    {
     "name": "stdout",
     "output_type": "stream",
     "text": [
      "[+] NEW Total External links: 251\n",
      "[+] NEW Total Internal links: 709\n",
      "[+] NEW Total: 960\n",
      "[+] NEW Total External links: 251\n",
      "[+] NEW Total Internal links: 709\n",
      "[+] NEW Total: 960\n"
     ]
    },
    {
     "name": "stderr",
     "output_type": "stream",
     "text": [
      "Some characters could not be decoded, and were replaced with REPLACEMENT CHARACTER.\n"
     ]
    },
    {
     "name": "stdout",
     "output_type": "stream",
     "text": [
      "[+] NEW Total External links: 251\n",
      "[+] NEW Total Internal links: 709\n",
      "[+] NEW Total: 960\n"
     ]
    },
    {
     "name": "stderr",
     "output_type": "stream",
     "text": [
      "Some characters could not be decoded, and were replaced with REPLACEMENT CHARACTER.\n"
     ]
    },
    {
     "name": "stdout",
     "output_type": "stream",
     "text": [
      "[+] NEW Total External links: 251\n",
      "[+] NEW Total Internal links: 709\n",
      "[+] NEW Total: 960\n",
      "[INT] Internal link: http://louisville.edu/coronavirus/employees/remote-work/remote-work/login\n",
      "[+] NEW Total External links: 251\n",
      "[+] NEW Total Internal links: 710\n",
      "[+] NEW Total: 961\n"
     ]
    },
    {
     "name": "stderr",
     "output_type": "stream",
     "text": [
      "Some characters could not be decoded, and were replaced with REPLACEMENT CHARACTER.\n"
     ]
    },
    {
     "name": "stdout",
     "output_type": "stream",
     "text": [
      "[+] NEW Total External links: 251\n",
      "[+] NEW Total Internal links: 710\n",
      "[+] NEW Total: 961\n",
      "[INT] Internal link: https://louisville.edu/coronavirus/assets/UHCSR%20COVID-19%20Communication%20March%2010%202020.pdf/login\n",
      "[INT] Internal link: https://louisville.edu/coronavirus/assets/UHCSR%20COVID-19%20Communication%20March%2010%202020.pdf/at_download/file\n",
      "[+] NEW Total External links: 251\n",
      "[+] NEW Total Internal links: 712\n",
      "[+] NEW Total: 963\n"
     ]
    },
    {
     "name": "stderr",
     "output_type": "stream",
     "text": [
      "Some characters could not be decoded, and were replaced with REPLACEMENT CHARACTER.\n"
     ]
    },
    {
     "name": "stdout",
     "output_type": "stream",
     "text": [
      "[+] NEW Total External links: 251\n",
      "[+] NEW Total Internal links: 712\n",
      "[+] NEW Total: 963\n"
     ]
    },
    {
     "name": "stderr",
     "output_type": "stream",
     "text": [
      "Some characters could not be decoded, and were replaced with REPLACEMENT CHARACTER.\n"
     ]
    },
    {
     "name": "stdout",
     "output_type": "stream",
     "text": [
      "[+] NEW Total External links: 251\n",
      "[+] NEW Total Internal links: 712\n",
      "[+] NEW Total: 963\n"
     ]
    },
    {
     "name": "stderr",
     "output_type": "stream",
     "text": [
      "Some characters could not be decoded, and were replaced with REPLACEMENT CHARACTER.\n"
     ]
    },
    {
     "name": "stdout",
     "output_type": "stream",
     "text": [
      "[+] NEW Total External links: 251\n",
      "[+] NEW Total Internal links: 712\n",
      "[+] NEW Total: 963\n"
     ]
    },
    {
     "name": "stderr",
     "output_type": "stream",
     "text": [
      "Some characters could not be decoded, and were replaced with REPLACEMENT CHARACTER.\n"
     ]
    },
    {
     "name": "stdout",
     "output_type": "stream",
     "text": [
      "[+] NEW Total External links: 251\n",
      "[+] NEW Total Internal links: 712\n",
      "[+] NEW Total: 963\n"
     ]
    },
    {
     "name": "stderr",
     "output_type": "stream",
     "text": [
      "Some characters could not be decoded, and were replaced with REPLACEMENT CHARACTER.\n"
     ]
    },
    {
     "name": "stdout",
     "output_type": "stream",
     "text": [
      "[+] NEW Total External links: 251\n",
      "[+] NEW Total Internal links: 712\n",
      "[+] NEW Total: 963\n",
      "[INT] Internal link: https://louisville.edu/coronavirus/assets/self%20isolation%20guide.docx/login\n",
      "[INT] Internal link: https://louisville.edu/coronavirus/assets/self%20isolation%20guide.docx/at_download/file\n",
      "[+] NEW Total External links: 251\n",
      "[+] NEW Total Internal links: 714\n",
      "[+] NEW Total: 965\n",
      "[+] NEW Total External links: 251\n",
      "[+] NEW Total Internal links: 714\n",
      "[+] NEW Total: 965\n",
      "[+] NEW Total External links: 251\n",
      "[+] NEW Total Internal links: 714\n",
      "[+] NEW Total: 965\n",
      "[+] NEW Total External links: 251\n",
      "[+] NEW Total Internal links: 714\n",
      "[+] NEW Total: 965\n"
     ]
    },
    {
     "name": "stderr",
     "output_type": "stream",
     "text": [
      "Some characters could not be decoded, and were replaced with REPLACEMENT CHARACTER.\n"
     ]
    },
    {
     "name": "stdout",
     "output_type": "stream",
     "text": [
      "[+] NEW Total External links: 251\n",
      "[+] NEW Total Internal links: 714\n",
      "[+] NEW Total: 965\n",
      "[INT] Internal link: https://louisville.edu/coronavirus/assets/self%20ioslation%20Spanish.jpg/login\n",
      "[INT] Internal link: https://louisville.edu/coronavirus/assets/self%20ioslation%20Spanish.jpg/image_view_fullscreen\n",
      "[INT] Internal link: https://louisville.edu/coronavirus/assets/self%20ioslation%20Spanish.jpg/download\n",
      "[+] NEW Total External links: 251\n",
      "[+] NEW Total Internal links: 717\n",
      "[+] NEW Total: 968\n",
      "[+] NEW Total External links: 251\n",
      "[+] NEW Total Internal links: 717\n",
      "[+] NEW Total: 968\n",
      "[+] NEW Total External links: 251\n",
      "[+] NEW Total Internal links: 717\n",
      "[+] NEW Total: 968\n",
      "[+] NEW Total External links: 251\n",
      "[+] NEW Total Internal links: 717\n",
      "[+] NEW Total: 968\n"
     ]
    },
    {
     "name": "stderr",
     "output_type": "stream",
     "text": [
      "Some characters could not be decoded, and were replaced with REPLACEMENT CHARACTER.\n"
     ]
    },
    {
     "name": "stdout",
     "output_type": "stream",
     "text": [
      "[+] NEW Total External links: 251\n",
      "[+] NEW Total Internal links: 717\n",
      "[+] NEW Total: 968\n"
     ]
    },
    {
     "name": "stderr",
     "output_type": "stream",
     "text": [
      "Some characters could not be decoded, and were replaced with REPLACEMENT CHARACTER.\n"
     ]
    },
    {
     "name": "stdout",
     "output_type": "stream",
     "text": [
      "[+] NEW Total External links: 251\n",
      "[+] NEW Total Internal links: 717\n",
      "[+] NEW Total: 968\n",
      "[INT] Internal link: https://louisville.edu/coronavirus/students/assets/academic\n",
      "[INT] Internal link: https://louisville.edu/coronavirus/students/assets/health\n",
      "[INT] Internal link: https://louisville.edu/coronavirus/students/assets/campus\n",
      "[+] NEW Total External links: 251\n",
      "[+] NEW Total Internal links: 720\n",
      "[+] NEW Total: 971\n",
      "[INT] Internal link: http://louisville.edu/coronavirus/students/campus-life/campus/login\n",
      "[+] NEW Total External links: 251\n",
      "[+] NEW Total Internal links: 721\n",
      "[+] NEW Total: 972\n"
     ]
    },
    {
     "name": "stderr",
     "output_type": "stream",
     "text": [
      "Some characters could not be decoded, and were replaced with REPLACEMENT CHARACTER.\n"
     ]
    },
    {
     "name": "stdout",
     "output_type": "stream",
     "text": [
      "[+] NEW Total External links: 251\n",
      "[+] NEW Total Internal links: 721\n",
      "[+] NEW Total: 972\n",
      "[INT] Internal link: https://louisville.edu/coronavirus/assets/compensation-and-fringe-benefits-during-emergency-guidelines/login\n",
      "[INT] Internal link: https://louisville.edu/coronavirus/assets/compensation-and-fringe-benefits-during-emergency-guidelines/at_download/file\n",
      "[+] NEW Total External links: 251\n",
      "[+] NEW Total Internal links: 723\n",
      "[+] NEW Total: 974\n",
      "[+] NEW Total External links: 251\n",
      "[+] NEW Total Internal links: 723\n",
      "[+] NEW Total: 974\n",
      "[INT] Internal link: https://louisville.edu/coronavirus/assets/Taxwithholdingchangeform003.pdf/login\n",
      "[INT] Internal link: https://louisville.edu/coronavirus/assets/Taxwithholdingchangeform003.pdf/at_download/file\n",
      "[+] NEW Total External links: 251\n",
      "[+] NEW Total Internal links: 725\n",
      "[+] NEW Total: 976\n"
     ]
    },
    {
     "name": "stderr",
     "output_type": "stream",
     "text": [
      "Some characters could not be decoded, and were replaced with REPLACEMENT CHARACTER.\n"
     ]
    },
    {
     "name": "stdout",
     "output_type": "stream",
     "text": [
      "[+] NEW Total External links: 251\n",
      "[+] NEW Total Internal links: 725\n",
      "[+] NEW Total: 976\n",
      "[+] NEW Total External links: 251\n",
      "[+] NEW Total Internal links: 725\n",
      "[+] NEW Total: 976\n",
      "[INT] Internal link: https://louisville.edu/coronavirus/assets/self%20ioslation%20instructions.jpg/login\n",
      "[INT] Internal link: https://louisville.edu/coronavirus/assets/self%20ioslation%20instructions.jpg/image_view_fullscreen\n",
      "[INT] Internal link: https://louisville.edu/coronavirus/assets/self%20ioslation%20instructions.jpg/download\n",
      "[+] NEW Total External links: 251\n",
      "[+] NEW Total Internal links: 728\n",
      "[+] NEW Total: 979\n"
     ]
    },
    {
     "name": "stderr",
     "output_type": "stream",
     "text": [
      "Some characters could not be decoded, and were replaced with REPLACEMENT CHARACTER.\n"
     ]
    },
    {
     "name": "stdout",
     "output_type": "stream",
     "text": [
      "[+] NEW Total External links: 251\n",
      "[+] NEW Total Internal links: 728\n",
      "[+] NEW Total: 979\n",
      "[+] NEW Total External links: 251\n",
      "[+] NEW Total Internal links: 728\n",
      "[+] NEW Total: 979\n",
      "[INT] Internal link: https://louisville.edu/coronavirus/assets/pass-fail-policy-changes-for-spring-2020/login\n",
      "[INT] Internal link: https://louisville.edu/coronavirus/assets/pass-fail-policy-changes-for-spring-2020/at_download/file\n",
      "[+] NEW Total External links: 251\n",
      "[+] NEW Total Internal links: 730\n",
      "[+] NEW Total: 981\n"
     ]
    },
    {
     "name": "stderr",
     "output_type": "stream",
     "text": [
      "Some characters could not be decoded, and were replaced with REPLACEMENT CHARACTER.\n"
     ]
    },
    {
     "name": "stdout",
     "output_type": "stream",
     "text": [
      "[+] NEW Total External links: 251\n",
      "[+] NEW Total Internal links: 730\n",
      "[+] NEW Total: 981\n",
      "[+] NEW Total External links: 251\n",
      "[+] NEW Total Internal links: 730\n",
      "[+] NEW Total: 981\n",
      "[+] NEW Total External links: 251\n",
      "[+] NEW Total Internal links: 730\n",
      "[+] NEW Total: 981\n",
      "[INT] Internal link: https://louisville.edu/coronavirus/assets/faculty-roles-and-aspc-joint-recommendations/login\n",
      "[INT] Internal link: https://louisville.edu/coronavirus/assets/faculty-roles-and-aspc-joint-recommendations/at_download/file\n",
      "[+] NEW Total External links: 251\n",
      "[+] NEW Total Internal links: 732\n",
      "[+] NEW Total: 983\n",
      "[INT] Internal link: https://louisville.edu/coronavirus/assets/custom.css/login\n",
      "[INT] Internal link: https://louisville.edu/coronavirus/assets/custom.css/at_download/file\n",
      "[+] NEW Total External links: 251\n",
      "[+] NEW Total Internal links: 734\n",
      "[+] NEW Total: 985\n"
     ]
    },
    {
     "name": "stderr",
     "output_type": "stream",
     "text": [
      "Some characters could not be decoded, and were replaced with REPLACEMENT CHARACTER.\n"
     ]
    },
    {
     "name": "stdout",
     "output_type": "stream",
     "text": [
      "[+] NEW Total External links: 251\n",
      "[+] NEW Total Internal links: 734\n",
      "[+] NEW Total: 985\n"
     ]
    },
    {
     "name": "stderr",
     "output_type": "stream",
     "text": [
      "Some characters could not be decoded, and were replaced with REPLACEMENT CHARACTER.\n"
     ]
    },
    {
     "name": "stdout",
     "output_type": "stream",
     "text": [
      "[+] NEW Total External links: 251\n",
      "[+] NEW Total Internal links: 734\n",
      "[+] NEW Total: 985\n"
     ]
    },
    {
     "name": "stderr",
     "output_type": "stream",
     "text": [
      "Some characters could not be decoded, and were replaced with REPLACEMENT CHARACTER.\n"
     ]
    },
    {
     "name": "stdout",
     "output_type": "stream",
     "text": [
      "[+] NEW Total External links: 251\n",
      "[+] NEW Total Internal links: 734\n",
      "[+] NEW Total: 985\n",
      "[+] NEW Total External links: 251\n",
      "[+] NEW Total Internal links: 734\n",
      "[+] NEW Total: 985\n",
      "[INT] Internal link: https://louisville.edu/coronavirus/assets/pivot-to-fall-2020/login\n",
      "[INT] Internal link: https://louisville.edu/coronavirus/assets/pivot-to-fall-2020/at_download/file\n",
      "[+] NEW Total External links: 251\n",
      "[+] NEW Total Internal links: 736\n",
      "[+] NEW Total: 987\n",
      "[+] NEW Total External links: 251\n",
      "[+] NEW Total Internal links: 736\n",
      "[+] NEW Total: 987\n"
     ]
    },
    {
     "name": "stderr",
     "output_type": "stream",
     "text": [
      "Some characters could not be decoded, and were replaced with REPLACEMENT CHARACTER.\n"
     ]
    },
    {
     "name": "stdout",
     "output_type": "stream",
     "text": [
      "[+] NEW Total External links: 251\n",
      "[+] NEW Total Internal links: 736\n",
      "[+] NEW Total: 987\n"
     ]
    },
    {
     "name": "stderr",
     "output_type": "stream",
     "text": [
      "Some characters could not be decoded, and were replaced with REPLACEMENT CHARACTER.\n"
     ]
    },
    {
     "name": "stdout",
     "output_type": "stream",
     "text": [
      "[+] NEW Total External links: 251\n",
      "[+] NEW Total Internal links: 736\n",
      "[+] NEW Total: 987\n",
      "[INT] Internal link: https://louisville.edu/coronavirus/assets/impact-on-externally-sponsored-programs/login\n",
      "[INT] Internal link: https://louisville.edu/coronavirus/assets/impact-on-externally-sponsored-programs/at_download/file\n",
      "[+] NEW Total External links: 251\n",
      "[+] NEW Total Internal links: 738\n",
      "[+] NEW Total: 989\n"
     ]
    },
    {
     "name": "stderr",
     "output_type": "stream",
     "text": [
      "Some characters could not be decoded, and were replaced with REPLACEMENT CHARACTER.\n"
     ]
    },
    {
     "name": "stdout",
     "output_type": "stream",
     "text": [
      "[+] NEW Total External links: 251\n",
      "[+] NEW Total Internal links: 738\n",
      "[+] NEW Total: 989\n",
      "[INT] Internal link: http://louisville.edu/coronavirus/communications-and-updates/communications-and-updates/login\n",
      "[+] NEW Total External links: 251\n",
      "[+] NEW Total Internal links: 739\n",
      "[+] NEW Total: 990\n",
      "[INT] Internal link: http://louisville.edu/coronavirus/students/assets/campus/login\n",
      "[+] NEW Total External links: 251\n",
      "[+] NEW Total Internal links: 740\n",
      "[+] NEW Total: 991\n",
      "[INT] Internal link: https://louisville.edu/coronavirus/assets/Corona%20bannder.jpg/login\n",
      "[INT] Internal link: https://louisville.edu/coronavirus/assets/Corona%20bannder.jpg/image_view_fullscreen\n",
      "[INT] Internal link: https://louisville.edu/coronavirus/assets/Corona%20bannder.jpg/download\n",
      "[+] NEW Total External links: 251\n",
      "[+] NEW Total Internal links: 743\n",
      "[+] NEW Total: 994\n",
      "[+] NEW Total External links: 251\n",
      "[+] NEW Total Internal links: 743\n",
      "[+] NEW Total: 994\n",
      "[INT] Internal link: https://louisville.edu/coronavirus/assets/self%20ioslation%20Chinese.jpg/login\n",
      "[INT] Internal link: https://louisville.edu/coronavirus/assets/self%20ioslation%20Chinese.jpg/image_view_fullscreen\n",
      "[INT] Internal link: https://louisville.edu/coronavirus/assets/self%20ioslation%20Chinese.jpg/download\n",
      "[+] NEW Total External links: 251\n",
      "[+] NEW Total Internal links: 746\n",
      "[+] NEW Total: 997\n"
     ]
    },
    {
     "name": "stderr",
     "output_type": "stream",
     "text": [
      "Some characters could not be decoded, and were replaced with REPLACEMENT CHARACTER.\n"
     ]
    },
    {
     "name": "stdout",
     "output_type": "stream",
     "text": [
      "[+] NEW Total External links: 251\n",
      "[+] NEW Total Internal links: 746\n",
      "[+] NEW Total: 997\n"
     ]
    },
    {
     "name": "stderr",
     "output_type": "stream",
     "text": [
      "Some characters could not be decoded, and were replaced with REPLACEMENT CHARACTER.\n"
     ]
    },
    {
     "name": "stdout",
     "output_type": "stream",
     "text": [
      "[+] NEW Total External links: 251\n",
      "[+] NEW Total Internal links: 746\n",
      "[+] NEW Total: 997\n",
      "[+] NEW Total External links: 251\n",
      "[+] NEW Total Internal links: 746\n",
      "[+] NEW Total: 997\n",
      "[INT] Internal link: http://louisville.edu/coronavirus/employees/reopening-campus/ccc.pdf/login\n",
      "[INT] Internal link: http://louisville.edu/coronavirus/employees/reopening-campus/ccc.pdf/at_download/file\n",
      "[+] NEW Total External links: 251\n",
      "[+] NEW Total Internal links: 748\n",
      "[+] NEW Total: 999\n"
     ]
    },
    {
     "name": "stderr",
     "output_type": "stream",
     "text": [
      "Some characters could not be decoded, and were replaced with REPLACEMENT CHARACTER.\n"
     ]
    },
    {
     "name": "stdout",
     "output_type": "stream",
     "text": [
      "[+] NEW Total External links: 251\n",
      "[+] NEW Total Internal links: 748\n",
      "[+] NEW Total: 999\n",
      "[+] NEW Total External links: 251\n",
      "[+] NEW Total Internal links: 748\n",
      "[+] NEW Total: 999\n",
      "[+] NEW Total External links: 251\n",
      "[+] NEW Total Internal links: 748\n",
      "[+] NEW Total: 999\n",
      "[+] NEW Total External links: 251\n",
      "[+] NEW Total Internal links: 748\n",
      "[+] NEW Total: 999\n",
      "[+] NEW Total External links: 251\n",
      "[+] NEW Total Internal links: 748\n",
      "[+] NEW Total: 999\n"
     ]
    },
    {
     "name": "stderr",
     "output_type": "stream",
     "text": [
      "Some characters could not be decoded, and were replaced with REPLACEMENT CHARACTER.\n"
     ]
    },
    {
     "name": "stdout",
     "output_type": "stream",
     "text": [
      "[+] NEW Total External links: 251\n",
      "[+] NEW Total Internal links: 748\n",
      "[+] NEW Total: 999\n",
      "[+] NEW Total External links: 251\n",
      "[+] NEW Total Internal links: 748\n",
      "[+] NEW Total: 999\n",
      "[+] NEW Total External links: 251\n",
      "[+] NEW Total Internal links: 748\n",
      "[+] NEW Total: 999\n",
      "[+] NEW Total External links: 251\n",
      "[+] NEW Total Internal links: 748\n",
      "[+] NEW Total: 999\n",
      "[INT] Internal link: https://louisville.edu/coronavirus/assets/click%20to%20Report.jpg/login\n",
      "[INT] Internal link: https://louisville.edu/coronavirus/assets/click%20to%20Report.jpg/image_view_fullscreen\n",
      "[INT] Internal link: https://louisville.edu/coronavirus/assets/click%20to%20Report.jpg/download\n",
      "[+] NEW Total External links: 251\n",
      "[+] NEW Total Internal links: 751\n",
      "[+] NEW Total: 1002\n"
     ]
    },
    {
     "name": "stderr",
     "output_type": "stream",
     "text": [
      "Some characters could not be decoded, and were replaced with REPLACEMENT CHARACTER.\n"
     ]
    },
    {
     "name": "stdout",
     "output_type": "stream",
     "text": [
      "[+] NEW Total External links: 251\n",
      "[+] NEW Total Internal links: 751\n",
      "[+] NEW Total: 1002\n"
     ]
    },
    {
     "name": "stderr",
     "output_type": "stream",
     "text": [
      "Some characters could not be decoded, and were replaced with REPLACEMENT CHARACTER.\n"
     ]
    },
    {
     "name": "stdout",
     "output_type": "stream",
     "text": [
      "[+] NEW Total External links: 251\n",
      "[+] NEW Total Internal links: 751\n",
      "[+] NEW Total: 1002\n",
      "[INT] Internal link: http://louisville.edu/coronavirus/employees/reopening-campus/appointment-letter.pdf/login\n",
      "[INT] Internal link: http://louisville.edu/coronavirus/employees/reopening-campus/appointment-letter.pdf/at_download/file\n",
      "[+] NEW Total External links: 251\n",
      "[+] NEW Total Internal links: 753\n",
      "[+] NEW Total: 1004\n",
      "[+] NEW Total External links: 251\n",
      "[+] NEW Total Internal links: 753\n",
      "[+] NEW Total: 1004\n"
     ]
    },
    {
     "name": "stderr",
     "output_type": "stream",
     "text": [
      "Some characters could not be decoded, and were replaced with REPLACEMENT CHARACTER.\n"
     ]
    },
    {
     "name": "stdout",
     "output_type": "stream",
     "text": [
      "[+] NEW Total External links: 251\n",
      "[+] NEW Total Internal links: 753\n",
      "[+] NEW Total: 1004\n"
     ]
    },
    {
     "name": "stderr",
     "output_type": "stream",
     "text": [
      "Some characters could not be decoded, and were replaced with REPLACEMENT CHARACTER.\n"
     ]
    },
    {
     "name": "stdout",
     "output_type": "stream",
     "text": [
      "[+] NEW Total External links: 251\n",
      "[+] NEW Total Internal links: 753\n",
      "[+] NEW Total: 1004\n"
     ]
    },
    {
     "name": "stderr",
     "output_type": "stream",
     "text": [
      "Some characters could not be decoded, and were replaced with REPLACEMENT CHARACTER.\n"
     ]
    },
    {
     "name": "stdout",
     "output_type": "stream",
     "text": [
      "[+] NEW Total External links: 251\n",
      "[+] NEW Total Internal links: 753\n",
      "[+] NEW Total: 1004\n",
      "[+] NEW Total External links: 251\n",
      "[+] NEW Total Internal links: 753\n",
      "[+] NEW Total: 1004\n",
      "[+] NEW Total External links: 251\n",
      "[+] NEW Total Internal links: 753\n",
      "[+] NEW Total: 1004\n",
      "[+] NEW Total External links: 251\n",
      "[+] NEW Total Internal links: 753\n",
      "[+] NEW Total: 1004\n"
     ]
    },
    {
     "name": "stderr",
     "output_type": "stream",
     "text": [
      "Some characters could not be decoded, and were replaced with REPLACEMENT CHARACTER.\n"
     ]
    },
    {
     "name": "stdout",
     "output_type": "stream",
     "text": [
      "[+] NEW Total External links: 251\n",
      "[+] NEW Total Internal links: 753\n",
      "[+] NEW Total: 1004\n"
     ]
    },
    {
     "name": "stderr",
     "output_type": "stream",
     "text": [
      "Some characters could not be decoded, and were replaced with REPLACEMENT CHARACTER.\n"
     ]
    },
    {
     "name": "stdout",
     "output_type": "stream",
     "text": [
      "[+] NEW Total External links: 251\n",
      "[+] NEW Total Internal links: 753\n",
      "[+] NEW Total: 1004\n",
      "[+] NEW Total External links: 251\n",
      "[+] NEW Total Internal links: 753\n",
      "[+] NEW Total: 1004\n",
      "[+] NEW Total External links: 251\n",
      "[+] NEW Total Internal links: 753\n",
      "[+] NEW Total: 1004\n",
      "[+] NEW Total External links: 251\n",
      "[+] NEW Total Internal links: 753\n",
      "[+] NEW Total: 1004\n"
     ]
    },
    {
     "name": "stderr",
     "output_type": "stream",
     "text": [
      "Some characters could not be decoded, and were replaced with REPLACEMENT CHARACTER.\n"
     ]
    },
    {
     "name": "stdout",
     "output_type": "stream",
     "text": [
      "[+] NEW Total External links: 251\n",
      "[+] NEW Total Internal links: 753\n",
      "[+] NEW Total: 1004\n",
      "[+] NEW Total External links: 251\n",
      "[+] NEW Total Internal links: 753\n",
      "[+] NEW Total: 1004\n",
      "[INT] Internal link: http://louisville.edu/coronavirus/employees/human-resources/login\n",
      "[INT] Internal link: http://louisville.edu/coronavirus/employees/human-resources/financial-challenge-mitigation-faq/\n",
      "[INT] Internal link: http://louisville.edu/coronavirus/assets/Taxwithholdingchangeform003.pdf\n",
      "[+] NEW Total External links: 251\n",
      "[+] NEW Total Internal links: 756\n",
      "[+] NEW Total: 1007\n",
      "[INT] Internal link: http://louisville.edu/coronavirus/employees/health/health/login\n",
      "[+] NEW Total External links: 251\n",
      "[+] NEW Total Internal links: 757\n",
      "[+] NEW Total: 1008\n",
      "[+] NEW Total External links: 251\n",
      "[+] NEW Total Internal links: 757\n",
      "[+] NEW Total: 1008\n",
      "[+] NEW Total External links: 251\n",
      "[+] NEW Total Internal links: 757\n",
      "[+] NEW Total: 1008\n"
     ]
    },
    {
     "name": "stderr",
     "output_type": "stream",
     "text": [
      "Some characters could not be decoded, and were replaced with REPLACEMENT CHARACTER.\n"
     ]
    },
    {
     "name": "stdout",
     "output_type": "stream",
     "text": [
      "[+] NEW Total External links: 251\n",
      "[+] NEW Total Internal links: 757\n",
      "[+] NEW Total: 1008\n"
     ]
    },
    {
     "name": "stderr",
     "output_type": "stream",
     "text": [
      "Some characters could not be decoded, and were replaced with REPLACEMENT CHARACTER.\n"
     ]
    },
    {
     "name": "stdout",
     "output_type": "stream",
     "text": [
      "[+] NEW Total External links: 251\n",
      "[+] NEW Total Internal links: 757\n",
      "[+] NEW Total: 1008\n",
      "[+] NEW Total External links: 251\n",
      "[+] NEW Total Internal links: 757\n",
      "[+] NEW Total: 1008\n"
     ]
    },
    {
     "name": "stderr",
     "output_type": "stream",
     "text": [
      "Some characters could not be decoded, and were replaced with REPLACEMENT CHARACTER.\n"
     ]
    },
    {
     "name": "stdout",
     "output_type": "stream",
     "text": [
      "[+] NEW Total External links: 251\n",
      "[+] NEW Total Internal links: 757\n",
      "[+] NEW Total: 1008\n",
      "[+] NEW Total External links: 251\n",
      "[+] NEW Total Internal links: 757\n",
      "[+] NEW Total: 1008\n",
      "[+] NEW Total External links: 251\n",
      "[+] NEW Total Internal links: 757\n",
      "[+] NEW Total: 1008\n"
     ]
    },
    {
     "name": "stderr",
     "output_type": "stream",
     "text": [
      "Some characters could not be decoded, and were replaced with REPLACEMENT CHARACTER.\n"
     ]
    },
    {
     "name": "stdout",
     "output_type": "stream",
     "text": [
      "[+] NEW Total External links: 251\n",
      "[+] NEW Total Internal links: 757\n",
      "[+] NEW Total: 1008\n",
      "[+] NEW Total External links: 251\n",
      "[+] NEW Total Internal links: 757\n",
      "[+] NEW Total: 1008\n",
      "[+] NEW Total External links: 251\n",
      "[+] NEW Total Internal links: 757\n",
      "[+] NEW Total: 1008\n"
     ]
    },
    {
     "name": "stderr",
     "output_type": "stream",
     "text": [
      "Some characters could not be decoded, and were replaced with REPLACEMENT CHARACTER.\n"
     ]
    },
    {
     "name": "stdout",
     "output_type": "stream",
     "text": [
      "[+] NEW Total External links: 251\n",
      "[+] NEW Total Internal links: 757\n",
      "[+] NEW Total: 1008\n",
      "[+] NEW Total External links: 251\n",
      "[+] NEW Total Internal links: 757\n",
      "[+] NEW Total: 1008\n",
      "[+] NEW Total External links: 251\n",
      "[+] NEW Total Internal links: 757\n",
      "[+] NEW Total: 1008\n",
      "[+] NEW Total External links: 251\n",
      "[+] NEW Total Internal links: 757\n",
      "[+] NEW Total: 1008\n"
     ]
    },
    {
     "name": "stderr",
     "output_type": "stream",
     "text": [
      "Some characters could not be decoded, and were replaced with REPLACEMENT CHARACTER.\n"
     ]
    },
    {
     "name": "stdout",
     "output_type": "stream",
     "text": [
      "[+] NEW Total External links: 251\n",
      "[+] NEW Total Internal links: 757\n",
      "[+] NEW Total: 1008\n",
      "[+] NEW Total External links: 251\n",
      "[+] NEW Total Internal links: 757\n",
      "[+] NEW Total: 1008\n"
     ]
    },
    {
     "name": "stderr",
     "output_type": "stream",
     "text": [
      "Some characters could not be decoded, and were replaced with REPLACEMENT CHARACTER.\n"
     ]
    },
    {
     "name": "stdout",
     "output_type": "stream",
     "text": [
      "[+] NEW Total External links: 251\n",
      "[+] NEW Total Internal links: 757\n",
      "[+] NEW Total: 1008\n",
      "[+] NEW Total External links: 251\n",
      "[+] NEW Total Internal links: 757\n",
      "[+] NEW Total: 1008\n"
     ]
    },
    {
     "name": "stderr",
     "output_type": "stream",
     "text": [
      "Some characters could not be decoded, and were replaced with REPLACEMENT CHARACTER.\n"
     ]
    },
    {
     "name": "stdout",
     "output_type": "stream",
     "text": [
      "[+] NEW Total External links: 251\n",
      "[+] NEW Total Internal links: 757\n",
      "[+] NEW Total: 1008\n",
      "[+] NEW Total External links: 251\n",
      "[+] NEW Total Internal links: 757\n",
      "[+] NEW Total: 1008\n",
      "[+] NEW Total External links: 251\n",
      "[+] NEW Total Internal links: 757\n",
      "[+] NEW Total: 1008\n",
      "[+] NEW Total External links: 251\n",
      "[+] NEW Total Internal links: 757\n",
      "[+] NEW Total: 1008\n",
      "[INT] Internal link: http://louisville.edu/coronavirus/students/academics/academics/login\n",
      "[+] NEW Total External links: 251\n",
      "[+] NEW Total Internal links: 758\n",
      "[+] NEW Total: 1009\n"
     ]
    },
    {
     "name": "stderr",
     "output_type": "stream",
     "text": [
      "Some characters could not be decoded, and were replaced with REPLACEMENT CHARACTER.\n"
     ]
    },
    {
     "name": "stdout",
     "output_type": "stream",
     "text": [
      "[+] NEW Total External links: 251\n",
      "[+] NEW Total Internal links: 758\n",
      "[+] NEW Total: 1009\n",
      "[+] NEW Total External links: 251\n",
      "[+] NEW Total Internal links: 758\n",
      "[+] NEW Total: 1009\n",
      "[+] NEW Total External links: 251\n",
      "[+] NEW Total Internal links: 758\n",
      "[+] NEW Total: 1009\n",
      "[INT] Internal link: http://louisville.edu/coronavirus/faq/\n",
      "[INT] Internal link: http://louisville.edu/coronavirus/faq/tel:15025894357\n",
      "[+] NEW Total External links: 251\n",
      "[+] NEW Total Internal links: 760\n",
      "[+] NEW Total: 1011\n",
      "[INT] Internal link: http://louisville.edu/coronavirus/employees/human-resources/human-resources/login\n",
      "[+] NEW Total External links: 251\n",
      "[+] NEW Total Internal links: 761\n",
      "[+] NEW Total: 1012\n"
     ]
    },
    {
     "name": "stderr",
     "output_type": "stream",
     "text": [
      "Some characters could not be decoded, and were replaced with REPLACEMENT CHARACTER.\n"
     ]
    },
    {
     "name": "stdout",
     "output_type": "stream",
     "text": [
      "[+] NEW Total External links: 251\n",
      "[+] NEW Total Internal links: 761\n",
      "[+] NEW Total: 1012\n",
      "[INT] Internal link: https://louisville.edu/coronavirus/assets/Self%20Isolation%20film.jpg/login\n",
      "[INT] Internal link: https://louisville.edu/coronavirus/assets/Self%20Isolation%20film.jpg/image_view_fullscreen\n",
      "[INT] Internal link: https://louisville.edu/coronavirus/assets/Self%20Isolation%20film.jpg/download\n",
      "[+] NEW Total External links: 251\n",
      "[+] NEW Total Internal links: 764\n",
      "[+] NEW Total: 1015\n",
      "[+] NEW Total External links: 251\n",
      "[+] NEW Total Internal links: 764\n",
      "[+] NEW Total: 1015\n"
     ]
    },
    {
     "name": "stderr",
     "output_type": "stream",
     "text": [
      "Some characters could not be decoded, and were replaced with REPLACEMENT CHARACTER.\n"
     ]
    },
    {
     "name": "stdout",
     "output_type": "stream",
     "text": [
      "[+] NEW Total External links: 251\n",
      "[+] NEW Total Internal links: 764\n",
      "[+] NEW Total: 1015\n"
     ]
    },
    {
     "name": "stderr",
     "output_type": "stream",
     "text": [
      "Some characters could not be decoded, and were replaced with REPLACEMENT CHARACTER.\n"
     ]
    },
    {
     "name": "stdout",
     "output_type": "stream",
     "text": [
      "[+] NEW Total External links: 251\n",
      "[+] NEW Total Internal links: 764\n",
      "[+] NEW Total: 1015\n",
      "[+] NEW Total External links: 251\n",
      "[+] NEW Total Internal links: 764\n",
      "[+] NEW Total: 1015\n",
      "[INT] Internal link: https://louisville.edu/coronavirus/assets/study-habits-during-covid-19/login\n",
      "[INT] Internal link: https://louisville.edu/coronavirus/assets/study-habits-during-covid-19/at_download/file\n",
      "[+] NEW Total External links: 251\n",
      "[+] NEW Total Internal links: 766\n",
      "[+] NEW Total: 1017\n",
      "[+] NEW Total External links: 251\n",
      "[+] NEW Total Internal links: 766\n",
      "[+] NEW Total: 1017\n",
      "[+] NEW Total External links: 251\n",
      "[+] NEW Total Internal links: 766\n",
      "[+] NEW Total: 1017\n"
     ]
    },
    {
     "name": "stderr",
     "output_type": "stream",
     "text": [
      "Some characters could not be decoded, and were replaced with REPLACEMENT CHARACTER.\n"
     ]
    },
    {
     "name": "stdout",
     "output_type": "stream",
     "text": [
      "[+] NEW Total External links: 251\n",
      "[+] NEW Total Internal links: 766\n",
      "[+] NEW Total: 1017\n",
      "[+] NEW Total External links: 251\n",
      "[+] NEW Total Internal links: 766\n",
      "[+] NEW Total: 1017\n",
      "[+] NEW Total External links: 251\n",
      "[+] NEW Total Internal links: 766\n",
      "[+] NEW Total: 1017\n",
      "[+] NEW Total External links: 251\n",
      "[+] NEW Total Internal links: 766\n",
      "[+] NEW Total: 1017\n",
      "[INT] Internal link: http://louisville.edu/coronavirus/students/health/health/login\n",
      "[+] NEW Total External links: 251\n",
      "[+] NEW Total Internal links: 767\n",
      "[+] NEW Total: 1018\n"
     ]
    },
    {
     "name": "stderr",
     "output_type": "stream",
     "text": [
      "Some characters could not be decoded, and were replaced with REPLACEMENT CHARACTER.\n"
     ]
    },
    {
     "name": "stdout",
     "output_type": "stream",
     "text": [
      "[+] NEW Total External links: 251\n",
      "[+] NEW Total Internal links: 767\n",
      "[+] NEW Total: 1018\n"
     ]
    },
    {
     "name": "stderr",
     "output_type": "stream",
     "text": [
      "Some characters could not be decoded, and were replaced with REPLACEMENT CHARACTER.\n"
     ]
    },
    {
     "name": "stdout",
     "output_type": "stream",
     "text": [
      "[+] NEW Total External links: 251\n",
      "[+] NEW Total Internal links: 767\n",
      "[+] NEW Total: 1018\n",
      "[INT] Internal link: https://louisville.edu/coronavirus/assets/Temporary_Telecommuting_Guidelines_for_Employees.pdf/login\n",
      "[INT] Internal link: https://louisville.edu/coronavirus/assets/Temporary_Telecommuting_Guidelines_for_Employees.pdf/at_download/file\n",
      "[+] NEW Total External links: 251\n",
      "[+] NEW Total Internal links: 769\n",
      "[+] NEW Total: 1020\n"
     ]
    },
    {
     "name": "stderr",
     "output_type": "stream",
     "text": [
      "Some characters could not be decoded, and were replaced with REPLACEMENT CHARACTER.\n"
     ]
    },
    {
     "name": "stdout",
     "output_type": "stream",
     "text": [
      "[+] NEW Total External links: 251\n",
      "[+] NEW Total Internal links: 769\n",
      "[+] NEW Total: 1020\n",
      "[+] NEW Total External links: 251\n",
      "[+] NEW Total Internal links: 769\n",
      "[+] NEW Total: 1020\n"
     ]
    },
    {
     "name": "stderr",
     "output_type": "stream",
     "text": [
      "Some characters could not be decoded, and were replaced with REPLACEMENT CHARACTER.\n"
     ]
    },
    {
     "name": "stdout",
     "output_type": "stream",
     "text": [
      "[+] NEW Total External links: 251\n",
      "[+] NEW Total Internal links: 769\n",
      "[+] NEW Total: 1020\n",
      "[+] NEW Total External links: 251\n",
      "[+] NEW Total Internal links: 769\n",
      "[+] NEW Total: 1020\n",
      "[+] NEW Total External links: 251\n",
      "[+] NEW Total Internal links: 769\n",
      "[+] NEW Total: 1020\n"
     ]
    },
    {
     "name": "stderr",
     "output_type": "stream",
     "text": [
      "Some characters could not be decoded, and were replaced with REPLACEMENT CHARACTER.\n"
     ]
    },
    {
     "name": "stdout",
     "output_type": "stream",
     "text": [
      "[+] NEW Total External links: 251\n",
      "[+] NEW Total Internal links: 769\n",
      "[+] NEW Total: 1020\n"
     ]
    },
    {
     "name": "stderr",
     "output_type": "stream",
     "text": [
      "Some characters could not be decoded, and were replaced with REPLACEMENT CHARACTER.\n"
     ]
    },
    {
     "name": "stdout",
     "output_type": "stream",
     "text": [
      "[+] NEW Total External links: 251\n",
      "[+] NEW Total Internal links: 769\n",
      "[+] NEW Total: 1020\n"
     ]
    },
    {
     "name": "stderr",
     "output_type": "stream",
     "text": [
      "Some characters could not be decoded, and were replaced with REPLACEMENT CHARACTER.\n"
     ]
    },
    {
     "name": "stdout",
     "output_type": "stream",
     "text": [
      "[+] NEW Total External links: 251\n",
      "[+] NEW Total Internal links: 769\n",
      "[+] NEW Total: 1020\n",
      "[+] NEW Total External links: 251\n",
      "[+] NEW Total Internal links: 769\n",
      "[+] NEW Total: 1020\n",
      "[+] NEW Total External links: 251\n",
      "[+] NEW Total Internal links: 769\n",
      "[+] NEW Total: 1020\n"
     ]
    },
    {
     "name": "stderr",
     "output_type": "stream",
     "text": [
      "Some characters could not be decoded, and were replaced with REPLACEMENT CHARACTER.\n"
     ]
    },
    {
     "name": "stdout",
     "output_type": "stream",
     "text": [
      "[+] NEW Total External links: 251\n",
      "[+] NEW Total Internal links: 769\n",
      "[+] NEW Total: 1020\n"
     ]
    },
    {
     "name": "stderr",
     "output_type": "stream",
     "text": [
      "Some characters could not be decoded, and were replaced with REPLACEMENT CHARACTER.\n"
     ]
    },
    {
     "name": "stdout",
     "output_type": "stream",
     "text": [
      "[+] NEW Total External links: 251\n",
      "[+] NEW Total Internal links: 769\n",
      "[+] NEW Total: 1020\n"
     ]
    },
    {
     "name": "stderr",
     "output_type": "stream",
     "text": [
      "Some characters could not be decoded, and were replaced with REPLACEMENT CHARACTER.\n"
     ]
    },
    {
     "name": "stdout",
     "output_type": "stream",
     "text": [
      "[+] NEW Total External links: 251\n",
      "[+] NEW Total Internal links: 769\n",
      "[+] NEW Total: 1020\n"
     ]
    },
    {
     "name": "stderr",
     "output_type": "stream",
     "text": [
      "Some characters could not be decoded, and were replaced with REPLACEMENT CHARACTER.\n"
     ]
    },
    {
     "name": "stdout",
     "output_type": "stream",
     "text": [
      "[+] NEW Total External links: 251\n",
      "[+] NEW Total Internal links: 769\n",
      "[+] NEW Total: 1020\n",
      "[+] NEW Total External links: 251\n",
      "[+] NEW Total Internal links: 769\n",
      "[+] NEW Total: 1020\n",
      "[+] NEW Total External links: 251\n",
      "[+] NEW Total Internal links: 769\n",
      "[+] NEW Total: 1020\n",
      "[+] NEW Total External links: 251\n",
      "[+] NEW Total Internal links: 769\n",
      "[+] NEW Total: 1020\n",
      "[+] NEW Total External links: 251\n",
      "[+] NEW Total Internal links: 769\n",
      "[+] NEW Total: 1020\n"
     ]
    },
    {
     "name": "stderr",
     "output_type": "stream",
     "text": [
      "Some characters could not be decoded, and were replaced with REPLACEMENT CHARACTER.\n"
     ]
    },
    {
     "name": "stdout",
     "output_type": "stream",
     "text": [
      "[+] NEW Total External links: 251\n",
      "[+] NEW Total Internal links: 769\n",
      "[+] NEW Total: 1020\n",
      "[+] NEW Total External links: 251\n",
      "[+] NEW Total Internal links: 769\n",
      "[+] NEW Total: 1020\n",
      "[+] NEW Total External links: 251\n",
      "[+] NEW Total Internal links: 769\n",
      "[+] NEW Total: 1020\n",
      "[+] NEW Total External links: 251\n",
      "[+] NEW Total Internal links: 769\n",
      "[+] NEW Total: 1020\n",
      "[INT] Internal link: http://louisville.edu/coronavirus/students/financial/financial/login\n",
      "[+] NEW Total External links: 251\n",
      "[+] NEW Total Internal links: 770\n",
      "[+] NEW Total: 1021\n"
     ]
    },
    {
     "name": "stderr",
     "output_type": "stream",
     "text": [
      "Some characters could not be decoded, and were replaced with REPLACEMENT CHARACTER.\n"
     ]
    },
    {
     "name": "stdout",
     "output_type": "stream",
     "text": [
      "[+] NEW Total External links: 251\n",
      "[+] NEW Total Internal links: 770\n",
      "[+] NEW Total: 1021\n",
      "[+] NEW Total External links: 251\n",
      "[+] NEW Total Internal links: 770\n",
      "[+] NEW Total: 1021\n"
     ]
    },
    {
     "name": "stderr",
     "output_type": "stream",
     "text": [
      "Some characters could not be decoded, and were replaced with REPLACEMENT CHARACTER.\n"
     ]
    },
    {
     "name": "stdout",
     "output_type": "stream",
     "text": [
      "[+] NEW Total External links: 251\n",
      "[+] NEW Total Internal links: 770\n",
      "[+] NEW Total: 1021\n"
     ]
    },
    {
     "name": "stderr",
     "output_type": "stream",
     "text": [
      "Some characters could not be decoded, and were replaced with REPLACEMENT CHARACTER.\n"
     ]
    },
    {
     "name": "stdout",
     "output_type": "stream",
     "text": [
      "[+] NEW Total External links: 251\n",
      "[+] NEW Total Internal links: 770\n",
      "[+] NEW Total: 1021\n",
      "[INT] Internal link: https://louisville.edu/coronavirus/assets/study-habits-during-covid-19_old/login\n",
      "[INT] Internal link: https://louisville.edu/coronavirus/assets/study-habits-during-covid-19_old/at_download/file\n",
      "[+] NEW Total External links: 251\n",
      "[+] NEW Total Internal links: 772\n",
      "[+] NEW Total: 1023\n",
      "[+] NEW Total External links: 251\n",
      "[+] NEW Total Internal links: 772\n",
      "[+] NEW Total: 1023\n"
     ]
    },
    {
     "name": "stderr",
     "output_type": "stream",
     "text": [
      "Some characters could not be decoded, and were replaced with REPLACEMENT CHARACTER.\n"
     ]
    },
    {
     "name": "stdout",
     "output_type": "stream",
     "text": [
      "[+] NEW Total External links: 251\n",
      "[+] NEW Total Internal links: 772\n",
      "[+] NEW Total: 1023\n",
      "[+] NEW Total External links: 251\n",
      "[+] NEW Total Internal links: 772\n",
      "[+] NEW Total: 1023\n"
     ]
    },
    {
     "name": "stderr",
     "output_type": "stream",
     "text": [
      "Some characters could not be decoded, and were replaced with REPLACEMENT CHARACTER.\n"
     ]
    },
    {
     "name": "stdout",
     "output_type": "stream",
     "text": [
      "[+] NEW Total External links: 251\n",
      "[+] NEW Total Internal links: 772\n",
      "[+] NEW Total: 1023\n"
     ]
    },
    {
     "name": "stderr",
     "output_type": "stream",
     "text": [
      "Some characters could not be decoded, and were replaced with REPLACEMENT CHARACTER.\n"
     ]
    },
    {
     "name": "stdout",
     "output_type": "stream",
     "text": [
      "[+] NEW Total External links: 251\n",
      "[+] NEW Total Internal links: 772\n",
      "[+] NEW Total: 1023\n",
      "[+] NEW Total External links: 251\n",
      "[+] NEW Total Internal links: 772\n",
      "[+] NEW Total: 1023\n",
      "[+] NEW Total External links: 251\n",
      "[+] NEW Total Internal links: 772\n",
      "[+] NEW Total: 1023\n"
     ]
    },
    {
     "name": "stderr",
     "output_type": "stream",
     "text": [
      "Some characters could not be decoded, and were replaced with REPLACEMENT CHARACTER.\n"
     ]
    },
    {
     "name": "stdout",
     "output_type": "stream",
     "text": [
      "[+] NEW Total External links: 251\n",
      "[+] NEW Total Internal links: 772\n",
      "[+] NEW Total: 1023\n",
      "[+] NEW Total External links: 251\n",
      "[+] NEW Total Internal links: 772\n",
      "[+] NEW Total: 1023\n",
      "[+] NEW Total External links: 251\n",
      "[+] NEW Total Internal links: 772\n",
      "[+] NEW Total: 1023\n"
     ]
    },
    {
     "name": "stderr",
     "output_type": "stream",
     "text": [
      "Some characters could not be decoded, and were replaced with REPLACEMENT CHARACTER.\n"
     ]
    },
    {
     "name": "stdout",
     "output_type": "stream",
     "text": [
      "[+] NEW Total External links: 251\n",
      "[+] NEW Total Internal links: 772\n",
      "[+] NEW Total: 1023\n"
     ]
    },
    {
     "name": "stderr",
     "output_type": "stream",
     "text": [
      "Some characters could not be decoded, and were replaced with REPLACEMENT CHARACTER.\n"
     ]
    },
    {
     "name": "stdout",
     "output_type": "stream",
     "text": [
      "[+] NEW Total External links: 251\n",
      "[+] NEW Total Internal links: 772\n",
      "[+] NEW Total: 1023\n",
      "[+] NEW Total External links: 251\n",
      "[+] NEW Total Internal links: 772\n",
      "[+] NEW Total: 1023\n",
      "[INT] Internal link: http://louisville.edu/coronavirus/students/campus-life/login\n",
      "[+] NEW Total External links: 251\n",
      "[+] NEW Total Internal links: 773\n",
      "[+] NEW Total: 1024\n"
     ]
    },
    {
     "name": "stderr",
     "output_type": "stream",
     "text": [
      "Some characters could not be decoded, and were replaced with REPLACEMENT CHARACTER.\n"
     ]
    },
    {
     "name": "stdout",
     "output_type": "stream",
     "text": [
      "[+] NEW Total External links: 251\n",
      "[+] NEW Total Internal links: 773\n",
      "[+] NEW Total: 1024\n"
     ]
    },
    {
     "name": "stderr",
     "output_type": "stream",
     "text": [
      "Some characters could not be decoded, and were replaced with REPLACEMENT CHARACTER.\n"
     ]
    },
    {
     "name": "stdout",
     "output_type": "stream",
     "text": [
      "[+] NEW Total External links: 251\n",
      "[+] NEW Total Internal links: 773\n",
      "[+] NEW Total: 1024\n"
     ]
    },
    {
     "name": "stderr",
     "output_type": "stream",
     "text": [
      "Some characters could not be decoded, and were replaced with REPLACEMENT CHARACTER.\n"
     ]
    },
    {
     "name": "stdout",
     "output_type": "stream",
     "text": [
      "[+] NEW Total External links: 251\n",
      "[+] NEW Total Internal links: 773\n",
      "[+] NEW Total: 1024\n",
      "[+] NEW Total External links: 251\n",
      "[+] NEW Total Internal links: 773\n",
      "[+] NEW Total: 1024\n"
     ]
    },
    {
     "name": "stderr",
     "output_type": "stream",
     "text": [
      "Some characters could not be decoded, and were replaced with REPLACEMENT CHARACTER.\n"
     ]
    },
    {
     "name": "stdout",
     "output_type": "stream",
     "text": [
      "[+] NEW Total External links: 251\n",
      "[+] NEW Total Internal links: 773\n",
      "[+] NEW Total: 1024\n"
     ]
    },
    {
     "name": "stderr",
     "output_type": "stream",
     "text": [
      "Some characters could not be decoded, and were replaced with REPLACEMENT CHARACTER.\n"
     ]
    },
    {
     "name": "stdout",
     "output_type": "stream",
     "text": [
      "[+] NEW Total External links: 251\n",
      "[+] NEW Total Internal links: 773\n",
      "[+] NEW Total: 1024\n"
     ]
    },
    {
     "name": "stderr",
     "output_type": "stream",
     "text": [
      "Some characters could not be decoded, and were replaced with REPLACEMENT CHARACTER.\n"
     ]
    },
    {
     "name": "stdout",
     "output_type": "stream",
     "text": [
      "[+] NEW Total External links: 251\n",
      "[+] NEW Total Internal links: 773\n",
      "[+] NEW Total: 1024\n",
      "[+] NEW Total External links: 251\n",
      "[+] NEW Total Internal links: 773\n",
      "[+] NEW Total: 1024\n",
      "[+] NEW Total External links: 251\n",
      "[+] NEW Total Internal links: 773\n",
      "[+] NEW Total: 1024\n"
     ]
    },
    {
     "name": "stderr",
     "output_type": "stream",
     "text": [
      "Some characters could not be decoded, and were replaced with REPLACEMENT CHARACTER.\n"
     ]
    },
    {
     "name": "stdout",
     "output_type": "stream",
     "text": [
      "[+] NEW Total External links: 251\n",
      "[+] NEW Total Internal links: 773\n",
      "[+] NEW Total: 1024\n"
     ]
    },
    {
     "name": "stderr",
     "output_type": "stream",
     "text": [
      "Some characters could not be decoded, and were replaced with REPLACEMENT CHARACTER.\n"
     ]
    },
    {
     "name": "stdout",
     "output_type": "stream",
     "text": [
      "[+] NEW Total External links: 251\n",
      "[+] NEW Total Internal links: 773\n",
      "[+] NEW Total: 1024\n"
     ]
    },
    {
     "name": "stderr",
     "output_type": "stream",
     "text": [
      "Some characters could not be decoded, and were replaced with REPLACEMENT CHARACTER.\n"
     ]
    },
    {
     "name": "stdout",
     "output_type": "stream",
     "text": [
      "[+] NEW Total External links: 251\n",
      "[+] NEW Total Internal links: 773\n",
      "[+] NEW Total: 1024\n",
      "[+] NEW Total External links: 251\n",
      "[+] NEW Total Internal links: 773\n",
      "[+] NEW Total: 1024\n",
      "[INT] Internal link: https://louisville.edu/coronavirus/assets/instructional-design-support/login\n",
      "[INT] Internal link: https://louisville.edu/coronavirus/assets/instructional-design-support/at_download/file\n",
      "[+] NEW Total External links: 251\n",
      "[+] NEW Total Internal links: 775\n",
      "[+] NEW Total: 1026\n"
     ]
    },
    {
     "name": "stderr",
     "output_type": "stream",
     "text": [
      "Some characters could not be decoded, and were replaced with REPLACEMENT CHARACTER.\n"
     ]
    },
    {
     "name": "stdout",
     "output_type": "stream",
     "text": [
      "[+] NEW Total External links: 251\n",
      "[+] NEW Total Internal links: 775\n",
      "[+] NEW Total: 1026\n"
     ]
    },
    {
     "name": "stderr",
     "output_type": "stream",
     "text": [
      "Some characters could not be decoded, and were replaced with REPLACEMENT CHARACTER.\n"
     ]
    },
    {
     "name": "stdout",
     "output_type": "stream",
     "text": [
      "[+] NEW Total External links: 251\n",
      "[+] NEW Total Internal links: 775\n",
      "[+] NEW Total: 1026\n"
     ]
    },
    {
     "name": "stderr",
     "output_type": "stream",
     "text": [
      "Some characters could not be decoded, and were replaced with REPLACEMENT CHARACTER.\n"
     ]
    },
    {
     "name": "stdout",
     "output_type": "stream",
     "text": [
      "[+] NEW Total External links: 251\n",
      "[+] NEW Total Internal links: 775\n",
      "[+] NEW Total: 1026\n"
     ]
    },
    {
     "name": "stderr",
     "output_type": "stream",
     "text": [
      "Some characters could not be decoded, and were replaced with REPLACEMENT CHARACTER.\n"
     ]
    },
    {
     "name": "stdout",
     "output_type": "stream",
     "text": [
      "[+] NEW Total External links: 251\n",
      "[+] NEW Total Internal links: 775\n",
      "[+] NEW Total: 1026\n",
      "[+] NEW Total External links: 251\n",
      "[+] NEW Total Internal links: 775\n",
      "[+] NEW Total: 1026\n",
      "[+] NEW Total External links: 251\n",
      "[+] NEW Total Internal links: 775\n",
      "[+] NEW Total: 1026\n",
      "[+] NEW Total External links: 251\n",
      "[+] NEW Total Internal links: 775\n",
      "[+] NEW Total: 1026\n",
      "[+] NEW Total External links: 251\n",
      "[+] NEW Total Internal links: 775\n",
      "[+] NEW Total: 1026\n"
     ]
    },
    {
     "name": "stderr",
     "output_type": "stream",
     "text": [
      "Some characters could not be decoded, and were replaced with REPLACEMENT CHARACTER.\n"
     ]
    },
    {
     "name": "stdout",
     "output_type": "stream",
     "text": [
      "[+] NEW Total External links: 251\n",
      "[+] NEW Total Internal links: 775\n",
      "[+] NEW Total: 1026\n",
      "[+] NEW Total External links: 251\n",
      "[+] NEW Total Internal links: 775\n",
      "[+] NEW Total: 1026\n",
      "[+] NEW Total External links: 251\n",
      "[+] NEW Total Internal links: 775\n",
      "[+] NEW Total: 1026\n",
      "[+] NEW Total External links: 251\n",
      "[+] NEW Total Internal links: 775\n",
      "[+] NEW Total: 1026\n"
     ]
    },
    {
     "name": "stderr",
     "output_type": "stream",
     "text": [
      "Some characters could not be decoded, and were replaced with REPLACEMENT CHARACTER.\n"
     ]
    }
   ],
   "source": [
    "count = 0\n",
    "last_count = 989874\n",
    "immediate_urls = set() #Linked Associated with the current page, https://umd.edu/virusinfo/ in this case\n",
    "\n",
    "for i in range(0,4):\n",
    "    for url in internal_urls:\n",
    "        if base_url_text in url:\n",
    "            immediate_urls.add(url)\n",
    "    count = len(immediate_urls)\n",
    "    print(count,i)\n",
    "    if(count == last_count):\n",
    "        break\n",
    "    last_count = count\n",
    "    for immediate_url in immediate_urls:\n",
    "        try:\n",
    "            crawl(immediate_url)\n",
    "            print(\"[+] NEW Total External links:\", len(external_urls))\n",
    "            print(\"[+] NEW Total Internal links:\", len(internal_urls))\n",
    "            print(\"[+] NEW Total:\", len(external_urls) + len(internal_urls))\n",
    "            if len(internal_urls)>1000:\n",
    "                break\n",
    "        except requests.exceptions.ConnectionError:\n",
    "            continue"
   ]
  },
  {
   "cell_type": "code",
   "execution_count": null,
   "metadata": {},
   "outputs": [],
   "source": []
  },
  {
   "cell_type": "code",
   "execution_count": null,
   "metadata": {},
   "outputs": [],
   "source": [
    "def removeAfterN(yourStr, nth, occurenceOf):\n",
    "    return occurenceOf.join(yourStr.split(occurenceOf)[:nth])"
   ]
  },
  {
   "cell_type": "code",
   "execution_count": null,
   "metadata": {},
   "outputs": [],
   "source": [
    "semifinal_immediate_urls = set()\n",
    "\n",
    "for immediate_url in immediate_urls:\n",
    "    stripped_url = removeAfterN(immediate_url,2,\"http\")\n",
    "    \n",
    "    \n",
    "    semifinal_immediate_urls.add(stripped_url)\n",
    "#     final_immediate_urls.add(rest)\n",
    "#     print(rest)\n",
    "\n",
    "\n",
    "    \n",
    "\n",
    "print(semifinal_immediate_urls)\n",
    "total_count = len(semifinal_immediate_urls)\n",
    "print(total_count)"
   ]
  },
  {
   "cell_type": "code",
   "execution_count": null,
   "metadata": {},
   "outputs": [],
   "source": []
  },
  {
   "cell_type": "code",
   "execution_count": null,
   "metadata": {},
   "outputs": [],
   "source": [
    "final_immediate_urls = set()\n",
    "for semifinal_immediate_url in semifinal_immediate_urls:\n",
    "    if \"tel:\" not in semifinal_immediate_url:\n",
    "        final_immediate_urls.add(semifinal_immediate_url)\n",
    "\n",
    "print(final_immediate_urls)\n",
    "total_count = len(final_immediate_urls)\n",
    "print(total_count)       "
   ]
  },
  {
   "cell_type": "code",
   "execution_count": null,
   "metadata": {},
   "outputs": [],
   "source": []
  },
  {
   "cell_type": "code",
   "execution_count": null,
   "metadata": {},
   "outputs": [],
   "source": [
    "\n",
    "parent_folder = \"Doctoral\" #Change based on folder\n",
    "name_of_folder = f'{base_url_text_domain}_Screenshots'\n",
    "options = webdriver.ChromeOptions()\n",
    "options.headless = True\n",
    "driver = webdriver.Chrome(options=options,executable_path='chromedriver.exe') # #Local Path of chrome driver\n",
    "if not os.path.exists(f'{parent_folder}\\\\{name_of_folder}'):\n",
    "    os.makedirs(f'{parent_folder}\\\\{name_of_folder}')"
   ]
  },
  {
   "cell_type": "code",
   "execution_count": null,
   "metadata": {},
   "outputs": [],
   "source": [
    "webpage_save = set()\n",
    "webpage_save_count = 0\n",
    "webpage_cannot_save = 0\n",
    "for i in final_immediate_urls:\n",
    "    if ' ' in i:\n",
    "        continue\n",
    "    try:\n",
    "        code=urlopen(i).getcode()\n",
    "        webpage_save.add(i)\n",
    "        webpage_save_count = webpage_save_count+1\n",
    "        print(f\"{code} can_save - {i}\")\n",
    "    except (urllib.error.HTTPError,urllib.error.URLError) as e:\n",
    "        print(\"discarded\")\n",
    "        webpage_cannot_save = webpage_cannot_save+1\n",
    "        continue\n",
    "\n",
    "print(f'Webpages save as HTML :{webpage_save_count}')\n",
    "print(f'Webpages unable to save as HTML :{webpage_cannot_save}')\n",
    "        "
   ]
  },
  {
   "cell_type": "code",
   "execution_count": null,
   "metadata": {},
   "outputs": [],
   "source": [
    "pdf_count = 0\n",
    "pdf_urls = set()\n",
    "for webpage in webpage_save:\n",
    "    if webpage[-4:] == \".pdf\":\n",
    "        url = webpage\n",
    "        file_name = url.replace(base_url,'')\n",
    "        file_name = file_name.replace('/','')\n",
    "        if file_name == '':\n",
    "            file_name = \"Home\"\n",
    "        pdf_urls.add(webpage)\n",
    "        print(webpage)\n",
    "        r = requests.get(url, stream=True)\n",
    "        with open(f'{parent_folder}\\\\{name_of_folder}\\\\{file_name}.pdf', 'wb') as fd:\n",
    "            for chunk in r.iter_content(2000):\n",
    "                fd.write(chunk)\n",
    "        pdf_count = pdf_count + 1\n",
    "\n",
    "print(f\"Pdfs saved: {pdf_count}\")"
   ]
  },
  {
   "cell_type": "code",
   "execution_count": null,
   "metadata": {},
   "outputs": [],
   "source": [
    "final_immediate_urls = final_immediate_urls - pdf_urls\n",
    "webpage_save = webpage_save - pdf_urls\n",
    "web_save_count = len(webpage_save)\n",
    "total_count = len(final_immediate_urls)\n",
    "print(total_count) "
   ]
  },
  {
   "cell_type": "code",
   "execution_count": null,
   "metadata": {},
   "outputs": [],
   "source": [
    "\n",
    "#     try:\n",
    "#         print(i)\n",
    "        \n",
    "#         print(\"added\")\n",
    "#     except urllib.error.HTTPError as e:\n",
    "#         if e.code in (400,403):\n",
    "#             print(\"discarded\")\n",
    "#             continue"
   ]
  },
  {
   "cell_type": "code",
   "execution_count": null,
   "metadata": {},
   "outputs": [],
   "source": [
    "final_webpage_save_count = webpage_save_count - pdf_count\n",
    "print(final_webpage_save_count)"
   ]
  },
  {
   "cell_type": "code",
   "execution_count": null,
   "metadata": {},
   "outputs": [],
   "source": [
    "webpage_save_counter_loop = 0\n",
    "for webpage in webpage_save:\n",
    "    try:\n",
    "        url = webpage\n",
    "        file_name = url.replace(base_url,'')\n",
    "        file_name = file_name.replace('/','')\n",
    "        if file_name == '':\n",
    "                file_name = \"Home\"\n",
    "        urllib.request.urlretrieve (webpage, f\"{parent_folder}\\\\{name_of_folder}\\\\{file_name}.html\")\n",
    "        webpage_save_counter_loop = webpage_save_counter_loop+1\n",
    "        print(f'{webpage_save_counter_loop} of {final_webpage_save_count} - {webpage}')\n",
    "    except:\n",
    "        print('caught')\n",
    "\n",
    "print(\"Saving Completed\")"
   ]
  },
  {
   "cell_type": "code",
   "execution_count": null,
   "metadata": {},
   "outputs": [],
   "source": []
  },
  {
   "cell_type": "code",
   "execution_count": null,
   "metadata": {},
   "outputs": [],
   "source": []
  },
  {
   "cell_type": "code",
   "execution_count": null,
   "metadata": {},
   "outputs": [],
   "source": []
  },
  {
   "cell_type": "code",
   "execution_count": null,
   "metadata": {},
   "outputs": [],
   "source": [
    "count = 0\n",
    "for i in final_immediate_urls:\n",
    "    url = i\n",
    "    file_name = url.replace(base_url,'')\n",
    "    file_name = file_name.replace('/','')\n",
    "    if file_name == '':\n",
    "            file_name = \"Home\"\n",
    "    count = count + 1\n",
    "    print(f\"{count} of {total_count}\")\n",
    "    print(f'Visiting {base_url_text}/{file_name}')\n",
    "    print(f'...Taking a screenshot')\n",
    "    driver.get(url)\n",
    "    S = lambda X: driver.execute_script('return document.body.parentNode.scroll'+X)\n",
    "    driver.set_window_size(S('Width'),S('Height')) # May need manual adjustment                                                                                                                \n",
    "    driver.find_element_by_tag_name('body').screenshot(f'{parent_folder}\\\\{name_of_folder}\\\\{file_name}.png')\n",
    "    print(f'Screenshot of {file_name} page taken! \\n')\n",
    "#     print(\"Saving HTML\")\n",
    "#     pyautogui.hotkey('ctrl', 's')\n",
    "#     time.sleep(1)\n",
    "#     pyautogui.typewrite(f'{file_name}.html')\n",
    "#     pyautogui.hotkey('enter')\n",
    "driver.quit()\n",
    "    \n",
    "print(f'Task Completed! Files stored in the {parent_folder}\\\\{name_of_folder} Folder')"
   ]
  },
  {
   "cell_type": "code",
   "execution_count": null,
   "metadata": {},
   "outputs": [],
   "source": []
  },
  {
   "cell_type": "code",
   "execution_count": null,
   "metadata": {},
   "outputs": [],
   "source": []
  },
  {
   "cell_type": "code",
   "execution_count": null,
   "metadata": {},
   "outputs": [],
   "source": []
  },
  {
   "cell_type": "code",
   "execution_count": null,
   "metadata": {},
   "outputs": [],
   "source": []
  },
  {
   "cell_type": "code",
   "execution_count": null,
   "metadata": {},
   "outputs": [],
   "source": []
  }
 ],
 "metadata": {
  "kernelspec": {
   "display_name": "Python 3",
   "language": "python",
   "name": "python3"
  },
  "language_info": {
   "codemirror_mode": {
    "name": "ipython",
    "version": 3
   },
   "file_extension": ".py",
   "mimetype": "text/x-python",
   "name": "python",
   "nbconvert_exporter": "python",
   "pygments_lexer": "ipython3",
   "version": "3.8.2"
  }
 },
 "nbformat": 4,
 "nbformat_minor": 4
}
