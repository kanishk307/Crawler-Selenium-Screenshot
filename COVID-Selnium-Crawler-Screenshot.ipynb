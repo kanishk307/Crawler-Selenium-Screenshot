{
 "cells": [
  {
   "cell_type": "markdown",
   "metadata": {},
   "source": [
    "# Imports"
   ]
  },
  {
   "cell_type": "code",
   "execution_count": 1,
   "metadata": {},
   "outputs": [],
   "source": [
    "#Imports\n",
    "import time\n",
    "import requests\n",
    "from urllib.parse import urlparse, urljoin\n",
    "from bs4 import BeautifulSoup\n",
    "from selenium import webdriver\n",
    "from selenium.webdriver.chrome.options import Options\n",
    "import os\n",
    "import urllib.request\n",
    "from urllib.request import urlopen\n",
    "import pyautogui\n",
    "# from pywebcopy import save_webpage"
   ]
  },
  {
   "cell_type": "markdown",
   "metadata": {},
   "source": [
    "# Set to uniquely store internal and external urls"
   ]
  },
  {
   "cell_type": "code",
   "execution_count": 2,
   "metadata": {},
   "outputs": [],
   "source": [
    "\n",
    "internal_urls = set()\n",
    "external_urls = set()"
   ]
  },
  {
   "cell_type": "markdown",
   "metadata": {},
   "source": [
    "# Function to check if the URL is valid"
   ]
  },
  {
   "cell_type": "code",
   "execution_count": 3,
   "metadata": {},
   "outputs": [],
   "source": [
    "def is_url_valid(url):\n",
    "   #Checks if the url is valid or not\n",
    "    parsedURL = urlparse(url)\n",
    "    return bool(parsedURL.netloc) and bool(parsedURL.scheme)\n",
    "\n",
    "#The above function works as follows. We check if the scheme is present and there is a value in the network location part\n",
    "# url = \"https://umd.edu/virusinfo\"\n",
    "# urlparse(url)\n",
    "# ParseResult(scheme='https', netloc='umd.edu', path='/virusinfo', \n",
    "# params='', query='', fragment='')"
   ]
  },
  {
   "cell_type": "markdown",
   "metadata": {},
   "source": [
    "# Function to Get all URLs"
   ]
  },
  {
   "cell_type": "code",
   "execution_count": 4,
   "metadata": {},
   "outputs": [],
   "source": [
    "\n",
    "#The function gives all urls\n",
    "def get_all_urls(url):\n",
    "    urls = set()\n",
    "    # domain name of the URL without the protocol (umd.edu in this case)\n",
    "    domain_name = urlparse(url).netloc\n",
    "    soup = BeautifulSoup(requests.get(url).content, \"html.parser\")\n",
    "    for a_tag in soup.findAll(\"a\"):\n",
    "        href = a_tag.attrs.get(\"href\")\n",
    "        if href == \"\" or href is None:\n",
    "            #href is empty and we don't need that a element\n",
    "            continue\n",
    "        #if the link is not absolute, make it by joining relative to the base\n",
    "        href = urljoin(url, href)\n",
    "        parsed_href = urlparse(href)\n",
    "        #constructing an absolute URL from parsed data\n",
    "        href = parsed_href.scheme + \"://\" + parsed_href.netloc + parsed_href.path\n",
    "        if not is_url_valid(href):\n",
    "            #in valid url\n",
    "            continue\n",
    "        if href in internal_urls:\n",
    "            #it is already in the set, so we don't need to add\n",
    "            continue\n",
    "        if domain_name not in href:\n",
    "            #it is an external link. i.e\n",
    "            # Check if it is already there \n",
    "            if href not in external_urls:\n",
    "#                 print(f\"[EXT] External link: {href}\")\n",
    "                external_urls.add(href)\n",
    "            continue\n",
    "#         print(f\"[INT] Internal link: {href}\")\n",
    "        urls.add(href)\n",
    "        internal_urls.add(href)\n",
    "    return urls\n"
   ]
  },
  {
   "cell_type": "markdown",
   "metadata": {},
   "source": [
    "# Recursive function for crawling"
   ]
  },
  {
   "cell_type": "code",
   "execution_count": 5,
   "metadata": {},
   "outputs": [],
   "source": [
    "total_urls_visited = 0\n",
    "def crawl(url, max_urls=50):\n",
    "    #Max URL is just to decrease the time if there are a lot of pages.\n",
    "    #The following code was openly available of github and I found this\n",
    "    #idea useful to inhibit crawling time\n",
    "    global total_urls_visited\n",
    "    total_urls_visited += 1\n",
    "    links = get_all_urls(url)\n",
    "    for link in links:\n",
    "        if total_urls_visited > max_urls:\n",
    "            break\n",
    "        crawl(link, max_urls=max_urls)\n"
   ]
  },
  {
   "cell_type": "markdown",
   "metadata": {},
   "source": [
    "# Setting the base URL"
   ]
  },
  {
   "cell_type": "code",
   "execution_count": 6,
   "metadata": {},
   "outputs": [],
   "source": [
    "#base_url = \"https://umd.edu/virusinfo\"\n",
    "#Input\n",
    "# base_url = input(\"Enter the URL : \")\n",
    "base_url = \"https://www.american.edu/coronavirus/\""
   ]
  },
  {
   "cell_type": "markdown",
   "metadata": {},
   "source": [
    "# Splitting URL"
   ]
  },
  {
   "cell_type": "code",
   "execution_count": 7,
   "metadata": {},
   "outputs": [
    {
     "name": "stdout",
     "output_type": "stream",
     "text": [
      "www.american.edu/coronavirus/\n",
      "www.american.edu\n"
     ]
    }
   ],
   "source": [
    "parsedurl = urlparse(base_url)\n",
    "# base_url_text = base_url.split(\"//\",1)[1]\n",
    "base_url_text = parsedurl.netloc+parsedurl.path\n",
    "print(base_url_text)\n",
    "# base_url_text_domain = base_url_text.split(\"/\",1)[0]\n",
    "base_url_text_domain = parsedurl.netloc\n",
    "print(base_url_text_domain)"
   ]
  },
  {
   "cell_type": "markdown",
   "metadata": {},
   "source": [
    "# Crawler"
   ]
  },
  {
   "cell_type": "code",
   "execution_count": 8,
   "metadata": {
    "scrolled": false
   },
   "outputs": [
    {
     "name": "stderr",
     "output_type": "stream",
     "text": [
      "Some characters could not be decoded, and were replaced with REPLACEMENT CHARACTER.\n",
      "Some characters could not be decoded, and were replaced with REPLACEMENT CHARACTER.\n",
      "Some characters could not be decoded, and were replaced with REPLACEMENT CHARACTER.\n",
      "Some characters could not be decoded, and were replaced with REPLACEMENT CHARACTER.\n",
      "Some characters could not be decoded, and were replaced with REPLACEMENT CHARACTER.\n",
      "Some characters could not be decoded, and were replaced with REPLACEMENT CHARACTER.\n",
      "Some characters could not be decoded, and were replaced with REPLACEMENT CHARACTER.\n"
     ]
    },
    {
     "name": "stdout",
     "output_type": "stream",
     "text": [
      "[+] Total External links: 313\n",
      "[+] Total Internal links: 772\n",
      "[+] Total: 1085\n"
     ]
    }
   ],
   "source": [
    "#Crawler call\n",
    "crawl(base_url)\n",
    "print(\"[+] Total External links:\", len(external_urls))\n",
    "print(\"[+] Total Internal links:\", len(internal_urls))\n",
    "print(\"[+] Total:\", len(external_urls) + len(internal_urls))"
   ]
  },
  {
   "cell_type": "markdown",
   "metadata": {},
   "source": [
    "# Screenshot following pages"
   ]
  },
  {
   "cell_type": "code",
   "execution_count": 10,
   "metadata": {},
   "outputs": [
    {
     "name": "stdout",
     "output_type": "stream",
     "text": [
      "20\n"
     ]
    }
   ],
   "source": [
    "count = 0\n",
    "immediate_urls = set() #Linked Associated with the current page, https://umd.edu/virusinfo/ in this case\n",
    "\n",
    "for url in internal_urls:\n",
    "    if base_url_text in url:\n",
    "        immediate_urls.add(url)\n",
    "\n",
    "# for immediate_url in immediate_urls:\n",
    "#     print(f'{immediate_url}\\n')\n",
    "\n",
    "count = len(immediate_urls)\n",
    "print(count)"
   ]
  },
  {
   "cell_type": "code",
   "execution_count": 11,
   "metadata": {
    "scrolled": false
   },
   "outputs": [
    {
     "name": "stdout",
     "output_type": "stream",
     "text": [
      "[+] NEW Total External links: 313\n",
      "[+] NEW Total Internal links: 772\n",
      "[+] NEW Total: 1085\n",
      "[+] NEW Total External links: 325\n",
      "[+] NEW Total Internal links: 781\n",
      "[+] NEW Total: 1106\n",
      "[+] NEW Total External links: 339\n",
      "[+] NEW Total Internal links: 788\n",
      "[+] NEW Total: 1127\n",
      "[+] NEW Total External links: 340\n",
      "[+] NEW Total Internal links: 795\n",
      "[+] NEW Total: 1135\n",
      "[+] NEW Total External links: 348\n",
      "[+] NEW Total Internal links: 799\n",
      "[+] NEW Total: 1147\n",
      "[+] NEW Total External links: 350\n",
      "[+] NEW Total Internal links: 801\n",
      "[+] NEW Total: 1151\n",
      "[+] NEW Total External links: 350\n",
      "[+] NEW Total Internal links: 804\n",
      "[+] NEW Total: 1154\n",
      "[+] NEW Total External links: 350\n",
      "[+] NEW Total Internal links: 805\n",
      "[+] NEW Total: 1155\n",
      "[+] NEW Total External links: 350\n",
      "[+] NEW Total Internal links: 805\n",
      "[+] NEW Total: 1155\n",
      "[+] NEW Total External links: 354\n",
      "[+] NEW Total Internal links: 815\n",
      "[+] NEW Total: 1169\n",
      "[+] NEW Total External links: 359\n",
      "[+] NEW Total Internal links: 816\n",
      "[+] NEW Total: 1175\n",
      "[+] NEW Total External links: 359\n",
      "[+] NEW Total Internal links: 817\n",
      "[+] NEW Total: 1176\n",
      "[+] NEW Total External links: 359\n",
      "[+] NEW Total Internal links: 817\n",
      "[+] NEW Total: 1176\n",
      "[+] NEW Total External links: 364\n",
      "[+] NEW Total Internal links: 818\n",
      "[+] NEW Total: 1182\n",
      "[+] NEW Total External links: 364\n",
      "[+] NEW Total Internal links: 818\n",
      "[+] NEW Total: 1182\n",
      "[+] NEW Total External links: 364\n",
      "[+] NEW Total Internal links: 845\n",
      "[+] NEW Total: 1209\n"
     ]
    },
    {
     "name": "stderr",
     "output_type": "stream",
     "text": [
      "Some characters could not be decoded, and were replaced with REPLACEMENT CHARACTER.\n"
     ]
    },
    {
     "name": "stdout",
     "output_type": "stream",
     "text": [
      "[+] NEW Total External links: 364\n",
      "[+] NEW Total Internal links: 845\n",
      "[+] NEW Total: 1209\n",
      "[+] NEW Total External links: 367\n",
      "[+] NEW Total Internal links: 850\n",
      "[+] NEW Total: 1217\n",
      "[+] NEW Total External links: 373\n",
      "[+] NEW Total Internal links: 856\n",
      "[+] NEW Total: 1229\n",
      "[+] NEW Total External links: 384\n",
      "[+] NEW Total Internal links: 857\n",
      "[+] NEW Total: 1241\n"
     ]
    }
   ],
   "source": [
    "for immediate_url in immediate_urls:\n",
    "    crawl(immediate_url)\n",
    "    print(\"[+] NEW Total External links:\", len(external_urls))\n",
    "    print(\"[+] NEW Total Internal links:\", len(internal_urls))\n",
    "    print(\"[+] NEW Total:\", len(external_urls) + len(internal_urls))"
   ]
  },
  {
   "cell_type": "code",
   "execution_count": 13,
   "metadata": {
    "scrolled": true
   },
   "outputs": [
    {
     "name": "stdout",
     "output_type": "stream",
     "text": [
      "34\n"
     ]
    }
   ],
   "source": [
    "\n",
    "new_immediate_urls = set() #Linked Associated with the current page, https://umd.edu/virusinfo/ in this case\n",
    "\n",
    "for url in internal_urls:\n",
    "    if base_url_text in url:\n",
    "        new_immediate_urls.add(url)\n",
    "\n",
    "# for new_immediate_url in new_immediate_urls:\n",
    "#     print(f'{new_immediate_url}\\n')\n",
    "\n",
    "new_count = len(new_immediate_urls)\n",
    "print(new_count)"
   ]
  },
  {
   "cell_type": "code",
   "execution_count": 14,
   "metadata": {},
   "outputs": [
    {
     "name": "stderr",
     "output_type": "stream",
     "text": [
      "Some characters could not be decoded, and were replaced with REPLACEMENT CHARACTER.\n"
     ]
    },
    {
     "name": "stdout",
     "output_type": "stream",
     "text": [
      "[+] NEW Total External links: 384\n",
      "[+] NEW Total Internal links: 857\n",
      "[+] NEW Total: 1241\n",
      "[+] NEW Total External links: 384\n",
      "[+] NEW Total Internal links: 857\n",
      "[+] NEW Total: 1241\n",
      "[+] NEW Total External links: 384\n",
      "[+] NEW Total Internal links: 857\n",
      "[+] NEW Total: 1241\n",
      "[+] NEW Total External links: 384\n",
      "[+] NEW Total Internal links: 857\n",
      "[+] NEW Total: 1241\n"
     ]
    },
    {
     "name": "stderr",
     "output_type": "stream",
     "text": [
      "Some characters could not be decoded, and were replaced with REPLACEMENT CHARACTER.\n"
     ]
    },
    {
     "name": "stdout",
     "output_type": "stream",
     "text": [
      "[+] NEW Total External links: 384\n",
      "[+] NEW Total Internal links: 857\n",
      "[+] NEW Total: 1241\n",
      "[+] NEW Total External links: 384\n",
      "[+] NEW Total Internal links: 857\n",
      "[+] NEW Total: 1241\n",
      "[+] NEW Total External links: 384\n",
      "[+] NEW Total Internal links: 857\n",
      "[+] NEW Total: 1241\n",
      "[+] NEW Total External links: 384\n",
      "[+] NEW Total Internal links: 857\n",
      "[+] NEW Total: 1241\n",
      "[+] NEW Total External links: 384\n",
      "[+] NEW Total Internal links: 857\n",
      "[+] NEW Total: 1241\n",
      "[+] NEW Total External links: 384\n",
      "[+] NEW Total Internal links: 857\n",
      "[+] NEW Total: 1241\n",
      "[+] NEW Total External links: 384\n",
      "[+] NEW Total Internal links: 865\n",
      "[+] NEW Total: 1249\n",
      "[+] NEW Total External links: 384\n",
      "[+] NEW Total Internal links: 865\n",
      "[+] NEW Total: 1249\n",
      "[+] NEW Total External links: 384\n",
      "[+] NEW Total Internal links: 865\n",
      "[+] NEW Total: 1249\n",
      "[+] NEW Total External links: 384\n",
      "[+] NEW Total Internal links: 865\n",
      "[+] NEW Total: 1249\n",
      "[+] NEW Total External links: 384\n",
      "[+] NEW Total Internal links: 865\n",
      "[+] NEW Total: 1249\n",
      "[+] NEW Total External links: 384\n",
      "[+] NEW Total Internal links: 865\n",
      "[+] NEW Total: 1249\n",
      "[+] NEW Total External links: 384\n",
      "[+] NEW Total Internal links: 865\n",
      "[+] NEW Total: 1249\n",
      "[+] NEW Total External links: 493\n",
      "[+] NEW Total Internal links: 866\n",
      "[+] NEW Total: 1359\n",
      "[+] NEW Total External links: 493\n",
      "[+] NEW Total Internal links: 866\n",
      "[+] NEW Total: 1359\n",
      "[+] NEW Total External links: 493\n",
      "[+] NEW Total Internal links: 866\n",
      "[+] NEW Total: 1359\n",
      "[+] NEW Total External links: 493\n",
      "[+] NEW Total Internal links: 866\n",
      "[+] NEW Total: 1359\n"
     ]
    },
    {
     "name": "stderr",
     "output_type": "stream",
     "text": [
      "Some characters could not be decoded, and were replaced with REPLACEMENT CHARACTER.\n"
     ]
    },
    {
     "name": "stdout",
     "output_type": "stream",
     "text": [
      "[+] NEW Total External links: 493\n",
      "[+] NEW Total Internal links: 866\n",
      "[+] NEW Total: 1359\n",
      "[+] NEW Total External links: 493\n",
      "[+] NEW Total Internal links: 866\n",
      "[+] NEW Total: 1359\n",
      "[+] NEW Total External links: 493\n",
      "[+] NEW Total Internal links: 866\n",
      "[+] NEW Total: 1359\n",
      "[+] NEW Total External links: 493\n",
      "[+] NEW Total Internal links: 866\n",
      "[+] NEW Total: 1359\n",
      "[+] NEW Total External links: 493\n",
      "[+] NEW Total Internal links: 866\n",
      "[+] NEW Total: 1359\n",
      "[+] NEW Total External links: 493\n",
      "[+] NEW Total Internal links: 866\n",
      "[+] NEW Total: 1359\n",
      "[+] NEW Total External links: 493\n",
      "[+] NEW Total Internal links: 866\n",
      "[+] NEW Total: 1359\n",
      "[+] NEW Total External links: 493\n",
      "[+] NEW Total Internal links: 866\n",
      "[+] NEW Total: 1359\n"
     ]
    },
    {
     "name": "stderr",
     "output_type": "stream",
     "text": [
      "Some characters could not be decoded, and were replaced with REPLACEMENT CHARACTER.\n"
     ]
    },
    {
     "name": "stdout",
     "output_type": "stream",
     "text": [
      "[+] NEW Total External links: 493\n",
      "[+] NEW Total Internal links: 866\n",
      "[+] NEW Total: 1359\n",
      "[+] NEW Total External links: 493\n",
      "[+] NEW Total Internal links: 866\n",
      "[+] NEW Total: 1359\n",
      "[+] NEW Total External links: 493\n",
      "[+] NEW Total Internal links: 866\n",
      "[+] NEW Total: 1359\n",
      "[+] NEW Total External links: 493\n",
      "[+] NEW Total Internal links: 866\n",
      "[+] NEW Total: 1359\n",
      "[+] NEW Total External links: 493\n",
      "[+] NEW Total Internal links: 866\n",
      "[+] NEW Total: 1359\n"
     ]
    }
   ],
   "source": [
    "for new_immediate_url in new_immediate_urls:\n",
    "    crawl(new_immediate_url)\n",
    "    print(\"[+] NEW Total External links:\", len(external_urls))\n",
    "    print(\"[+] NEW Total Internal links:\", len(internal_urls))\n",
    "    print(\"[+] NEW Total:\", len(external_urls) + len(internal_urls))"
   ]
  },
  {
   "cell_type": "code",
   "execution_count": null,
   "metadata": {},
   "outputs": [],
   "source": []
  },
  {
   "cell_type": "code",
   "execution_count": 13,
   "metadata": {},
   "outputs": [
    {
     "name": "stdout",
     "output_type": "stream",
     "text": [
      "https://www.american.edu/coronavirus/AU-Forward.cfm\n",
      "https://www.american.edu/coronavirus/fallgen6b\n",
      "https://www.american.edu/coronavirus/upload/AU_TaskForceMembers_5-11-20.pdf\n",
      "https://www.american.edu/coronavirus/au-forward.cfm\n",
      "https://www.american.edu/coronavirus/faq.cfm\n",
      "https://www.american.edu/coronavirus/Services-and-Hours.cfm\n",
      "https://www.american.edu/coronavirus/upload/AUForward_Fall2020_HealthandSafetyPlan_June16.pdf\n",
      "https://www.american.edu/coronavirus/faq-health-and-safety.cfm\n",
      "https://www.american.edu/coronavirus/new-students.cfm\n",
      "https://www.american.edu/coronavirus/faq-academics.cfm\n",
      "https://www.american.edu/coronavirus/FAQ-Fall-2020.cfm\n",
      "https://www.american.edu/coronavirus/FAQ-General-Questions.cfm\n",
      "https://www.american.edu/coronavirus/faq-faculty-and-staff.cfm\n",
      "https://www.american.edu/coronavirus/index.cfm\n",
      "https://www.american.edu/coronavirus/faq-campus-life.cfm\n",
      "https://www.american.edu/coronavirus/tel:2028851000\n",
      "https://www.american.edu/coronavirus/FAQ-Academics.cfm\n",
      "https://www.american.edu/coronavirus/\n",
      "https://www.american.edu/coronavirus/upload/AUForward_HowWeWork_Guide_June16.pdf\n",
      "https://www.american.edu/coronavirus/faq-travel-and-study-abroad.cfm\n",
      "https://www.american.edu/coronavirus/contact.cfm\n",
      "https://www.american.edu/coronavirus/au-forward\n",
      "https://www.american.edu/coronavirus/FAQ-Travel-and-Study-Abroad.cfm\n",
      "https://www.american.edu/coronavirus/resources.cfm\n",
      "https://www.american.edu/coronavirus/FAQ.cfm\n",
      "https://www.american.edu/coronavirus/FAQ-Faculty-and-Staff.cfm\n",
      "https://www.american.edu/coronavirus/upload/AU-FORWARD-FALL-2020-PRESENTATION-FINAL_June16.pdf\n",
      "https://www.american.edu/coronavirus/faq-general-questions.cfm\n",
      "https://www.american.edu/coronavirus/FAQ-Health-and-Safety.cfm\n",
      "https://www.american.edu/coronavirus/faq-finances-and-student-services.cfm\n",
      "https://www.american.edu/coronavirus/FAQ-Campus-Life.cfm\n",
      "https://www.american.edu/coronavirus/community-response.cfm\n",
      "https://www.american.edu/coronavirus/students.cfm\n",
      "https://www.american.edu/coronavirus/FAQ-Finances-and-Student-Services.cfm\n",
      "https://www.american.edu/coronavirus/archive.cfm\n"
     ]
    }
   ],
   "source": [
    "for new_immediate_url in new_immediate_urls:\n",
    "    print(new_immediate_url)\n",
    "\n",
    "total_count = len(new_immediate_urls)"
   ]
  },
  {
   "cell_type": "markdown",
   "metadata": {},
   "source": [
    "# Automation"
   ]
  },
  {
   "cell_type": "code",
   "execution_count": 18,
   "metadata": {
    "scrolled": false
   },
   "outputs": [
    {
     "name": "stdout",
     "output_type": "stream",
     "text": [
      "1 of 35\n",
      "Visiting www.american.edu/coronavirus//AU-Forward.cfm\n",
      "...Taking a screenshot\n",
      "Screenshot of AU-Forward.cfm page taken! \n",
      "\n",
      "2 of 35\n",
      "Visiting www.american.edu/coronavirus//fallgen6b\n",
      "...Taking a screenshot\n",
      "Screenshot of fallgen6b page taken! \n",
      "\n",
      "3 of 35\n",
      "Visiting www.american.edu/coronavirus//uploadAU_TaskForceMembers_5-11-20.pdf\n",
      "...Taking a screenshot\n",
      "Screenshot of uploadAU_TaskForceMembers_5-11-20.pdf page taken! \n",
      "\n",
      "4 of 35\n",
      "Visiting www.american.edu/coronavirus//au-forward.cfm\n",
      "...Taking a screenshot\n",
      "Screenshot of au-forward.cfm page taken! \n",
      "\n",
      "5 of 35\n",
      "Visiting www.american.edu/coronavirus//faq.cfm\n",
      "...Taking a screenshot\n",
      "Screenshot of faq.cfm page taken! \n",
      "\n",
      "6 of 35\n",
      "Visiting www.american.edu/coronavirus//Services-and-Hours.cfm\n",
      "...Taking a screenshot\n",
      "Screenshot of Services-and-Hours.cfm page taken! \n",
      "\n",
      "7 of 35\n",
      "Visiting www.american.edu/coronavirus//uploadAUForward_Fall2020_HealthandSafetyPlan_June16.pdf\n",
      "...Taking a screenshot\n",
      "Screenshot of uploadAUForward_Fall2020_HealthandSafetyPlan_June16.pdf page taken! \n",
      "\n",
      "8 of 35\n",
      "Visiting www.american.edu/coronavirus//faq-health-and-safety.cfm\n",
      "...Taking a screenshot\n",
      "Screenshot of faq-health-and-safety.cfm page taken! \n",
      "\n",
      "9 of 35\n",
      "Visiting www.american.edu/coronavirus//new-students.cfm\n",
      "...Taking a screenshot\n",
      "Screenshot of new-students.cfm page taken! \n",
      "\n",
      "10 of 35\n",
      "Visiting www.american.edu/coronavirus//faq-academics.cfm\n",
      "...Taking a screenshot\n",
      "Screenshot of faq-academics.cfm page taken! \n",
      "\n",
      "11 of 35\n",
      "Visiting www.american.edu/coronavirus//FAQ-Fall-2020.cfm\n",
      "...Taking a screenshot\n",
      "Screenshot of FAQ-Fall-2020.cfm page taken! \n",
      "\n",
      "12 of 35\n",
      "Visiting www.american.edu/coronavirus//FAQ-General-Questions.cfm\n",
      "...Taking a screenshot\n",
      "Screenshot of FAQ-General-Questions.cfm page taken! \n",
      "\n",
      "13 of 35\n",
      "Visiting www.american.edu/coronavirus//faq-faculty-and-staff.cfm\n",
      "...Taking a screenshot\n",
      "Screenshot of faq-faculty-and-staff.cfm page taken! \n",
      "\n",
      "14 of 35\n",
      "Visiting www.american.edu/coronavirus//index.cfm\n",
      "...Taking a screenshot\n",
      "Screenshot of index.cfm page taken! \n",
      "\n",
      "15 of 35\n",
      "Visiting www.american.edu/coronavirus//faq-campus-life.cfm\n",
      "...Taking a screenshot\n",
      "Screenshot of faq-campus-life.cfm page taken! \n",
      "\n",
      "16 of 35\n",
      "Visiting www.american.edu/coronavirus//tel:2028851000\n",
      "...Taking a screenshot\n",
      "Screenshot of tel:2028851000 page taken! \n",
      "\n",
      "17 of 35\n",
      "Visiting www.american.edu/coronavirus//FAQ-Academics.cfm\n",
      "...Taking a screenshot\n",
      "Screenshot of FAQ-Academics.cfm page taken! \n",
      "\n",
      "18 of 35\n",
      "Visiting www.american.edu/coronavirus//\n",
      "...Taking a screenshot\n",
      "Screenshot of  page taken! \n",
      "\n",
      "19 of 35\n",
      "Visiting www.american.edu/coronavirus//uploadAUForward_HowWeWork_Guide_June16.pdf\n",
      "...Taking a screenshot\n",
      "Screenshot of uploadAUForward_HowWeWork_Guide_June16.pdf page taken! \n",
      "\n",
      "20 of 35\n",
      "Visiting www.american.edu/coronavirus//faq-travel-and-study-abroad.cfm\n",
      "...Taking a screenshot\n",
      "Screenshot of faq-travel-and-study-abroad.cfm page taken! \n",
      "\n",
      "21 of 35\n",
      "Visiting www.american.edu/coronavirus//contact.cfm\n",
      "...Taking a screenshot\n",
      "Screenshot of contact.cfm page taken! \n",
      "\n",
      "22 of 35\n",
      "Visiting www.american.edu/coronavirus//au-forward\n",
      "...Taking a screenshot\n",
      "Screenshot of au-forward page taken! \n",
      "\n",
      "23 of 35\n",
      "Visiting www.american.edu/coronavirus//FAQ-Travel-and-Study-Abroad.cfm\n",
      "...Taking a screenshot\n",
      "Screenshot of FAQ-Travel-and-Study-Abroad.cfm page taken! \n",
      "\n",
      "24 of 35\n",
      "Visiting www.american.edu/coronavirus//resources.cfm\n",
      "...Taking a screenshot\n",
      "Screenshot of resources.cfm page taken! \n",
      "\n",
      "25 of 35\n",
      "Visiting www.american.edu/coronavirus//FAQ.cfm\n",
      "...Taking a screenshot\n",
      "Screenshot of FAQ.cfm page taken! \n",
      "\n",
      "26 of 35\n",
      "Visiting www.american.edu/coronavirus//FAQ-Faculty-and-Staff.cfm\n",
      "...Taking a screenshot\n",
      "Screenshot of FAQ-Faculty-and-Staff.cfm page taken! \n",
      "\n",
      "27 of 35\n",
      "Visiting www.american.edu/coronavirus//uploadAU-FORWARD-FALL-2020-PRESENTATION-FINAL_June16.pdf\n",
      "...Taking a screenshot\n",
      "Screenshot of uploadAU-FORWARD-FALL-2020-PRESENTATION-FINAL_June16.pdf page taken! \n",
      "\n",
      "28 of 35\n",
      "Visiting www.american.edu/coronavirus//faq-general-questions.cfm\n",
      "...Taking a screenshot\n",
      "Screenshot of faq-general-questions.cfm page taken! \n",
      "\n",
      "29 of 35\n",
      "Visiting www.american.edu/coronavirus//FAQ-Health-and-Safety.cfm\n",
      "...Taking a screenshot\n",
      "Screenshot of FAQ-Health-and-Safety.cfm page taken! \n",
      "\n",
      "30 of 35\n",
      "Visiting www.american.edu/coronavirus//faq-finances-and-student-services.cfm\n",
      "...Taking a screenshot\n",
      "Screenshot of faq-finances-and-student-services.cfm page taken! \n",
      "\n",
      "31 of 35\n",
      "Visiting www.american.edu/coronavirus//FAQ-Campus-Life.cfm\n",
      "...Taking a screenshot\n",
      "Screenshot of FAQ-Campus-Life.cfm page taken! \n",
      "\n",
      "32 of 35\n",
      "Visiting www.american.edu/coronavirus//community-response.cfm\n",
      "...Taking a screenshot\n",
      "Screenshot of community-response.cfm page taken! \n",
      "\n",
      "33 of 35\n",
      "Visiting www.american.edu/coronavirus//students.cfm\n",
      "...Taking a screenshot\n",
      "Screenshot of students.cfm page taken! \n",
      "\n",
      "34 of 35\n",
      "Visiting www.american.edu/coronavirus//FAQ-Finances-and-Student-Services.cfm\n",
      "...Taking a screenshot\n",
      "Screenshot of FAQ-Finances-and-Student-Services.cfm page taken! \n",
      "\n",
      "35 of 35\n",
      "Visiting www.american.edu/coronavirus//archive.cfm\n",
      "...Taking a screenshot\n",
      "Screenshot of archive.cfm page taken! \n",
      "\n",
      "Task Completed! Files stored in the www.american.edu_Screenshots Folder\n"
     ]
    }
   ],
   "source": [
    "count = 0\n",
    "name_of_folder = f'{base_url_text_domain}_Screenshots'\n",
    "for i in new_immediate_urls:\n",
    "    options = webdriver.ChromeOptions()\n",
    "    options.headless = True\n",
    "    driver = webdriver.Chrome(options=options,executable_path='chromedriver.exe') # #Local Path of chrome driver\n",
    "    url = i\n",
    "    file_name = url.replace(base_url,'')\n",
    "    file_name = file_name.replace('/','')\n",
    "    count = count + 1\n",
    "    print(f\"{count} of {total_count}\")\n",
    "    print(f'Visiting {base_url_text}/{file_name}')\n",
    "    print(f'...Taking a screenshot')\n",
    "    driver.get(url)\n",
    "    if not os.path.exists(name_of_folder):\n",
    "        os.makedirs(name_of_folder)\n",
    "    S = lambda X: driver.execute_script('return document.body.parentNode.scroll'+X)\n",
    "    driver.set_window_size(S('Width'),S('Height')) # May need manual adjustment                                                                                                                \n",
    "    driver.find_element_by_tag_name('body').screenshot(f'{name_of_folder}\\\\{file_name}.png')\n",
    "    print(f'Screenshot of {file_name} page taken! \\n')\n",
    "#     print(\"Saving HTML\")\n",
    "#     pyautogui.hotkey('ctrl', 's')\n",
    "#     time.sleep(1)\n",
    "#     pyautogui.typewrite(f'{file_name}.html')\n",
    "#     pyautogui.hotkey('enter')\n",
    "    driver.quit()\n",
    "    \n",
    "print(f'Task Completed! Files stored in the {name_of_folder} Folder')"
   ]
  },
  {
   "cell_type": "raw",
   "metadata": {},
   "source": []
  },
  {
   "cell_type": "raw",
   "metadata": {},
   "source": [
    "len(new_immediate_urls)"
   ]
  },
  {
   "cell_type": "code",
   "execution_count": 21,
   "metadata": {},
   "outputs": [
    {
     "name": "stdout",
     "output_type": "stream",
     "text": [
      "200\n",
      "discarded\n",
      "200\n",
      "200\n",
      "200\n",
      "200\n",
      "200\n",
      "200\n",
      "200\n",
      "200\n",
      "200\n",
      "200\n",
      "200\n",
      "200\n",
      "200\n",
      "discarded\n",
      "200\n",
      "200\n",
      "200\n",
      "200\n",
      "200\n",
      "discarded\n",
      "200\n",
      "200\n",
      "200\n",
      "200\n",
      "200\n",
      "200\n",
      "200\n",
      "200\n",
      "200\n",
      "200\n",
      "200\n",
      "200\n",
      "200\n"
     ]
    }
   ],
   "source": [
    "webpage_save = set()\n",
    "\n",
    "for i in new_immediate_urls:\n",
    "    try:\n",
    "        code=urlopen(i).getcode()\n",
    "        webpage_save.add(i)\n",
    "        print(code)\n",
    "    except urllib.error.HTTPError as e:\n",
    "        if e.code not in (400,403):\n",
    "            print(\"discarded\")\n",
    "            continue\n",
    "        \n",
    "#     try:\n",
    "#         print(i)\n",
    "        \n",
    "#         print(\"added\")\n",
    "#     except urllib.error.HTTPError as e:\n",
    "#         if e.code in (400,403):\n",
    "#             print(\"discarded\")\n",
    "#             continue"
   ]
  },
  {
   "cell_type": "code",
   "execution_count": 22,
   "metadata": {},
   "outputs": [
    {
     "name": "stdout",
     "output_type": "stream",
     "text": [
      "https://www.american.edu/coronavirus/AU-Forward.cfm\n",
      "https://www.american.edu/coronavirus/upload/AU_TaskForceMembers_5-11-20.pdf\n",
      "https://www.american.edu/coronavirus/au-forward.cfm\n",
      "https://www.american.edu/coronavirus/faq.cfm\n",
      "https://www.american.edu/coronavirus/Services-and-Hours.cfm\n",
      "https://www.american.edu/coronavirus/upload/AUForward_Fall2020_HealthandSafetyPlan_June16.pdf\n",
      "https://www.american.edu/coronavirus/faq-health-and-safety.cfm\n",
      "https://www.american.edu/coronavirus/new-students.cfm\n",
      "https://www.american.edu/coronavirus/faq-academics.cfm\n",
      "https://www.american.edu/coronavirus/FAQ-Fall-2020.cfm\n",
      "https://www.american.edu/coronavirus/FAQ-General-Questions.cfm\n",
      "https://www.american.edu/coronavirus/faq-faculty-and-staff.cfm\n",
      "https://www.american.edu/coronavirus/index.cfm\n",
      "https://www.american.edu/coronavirus/faq-campus-life.cfm\n",
      "https://www.american.edu/coronavirus/FAQ-Academics.cfm\n",
      "https://www.american.edu/coronavirus/\n",
      "https://www.american.edu/coronavirus/upload/AUForward_HowWeWork_Guide_June16.pdf\n",
      "https://www.american.edu/coronavirus/faq-travel-and-study-abroad.cfm\n",
      "https://www.american.edu/coronavirus/contact.cfm\n",
      "https://www.american.edu/coronavirus/FAQ-Travel-and-Study-Abroad.cfm\n",
      "https://www.american.edu/coronavirus/resources.cfm\n",
      "https://www.american.edu/coronavirus/FAQ.cfm\n",
      "https://www.american.edu/coronavirus/FAQ-Faculty-and-Staff.cfm\n",
      "https://www.american.edu/coronavirus/upload/AU-FORWARD-FALL-2020-PRESENTATION-FINAL_June16.pdf\n",
      "https://www.american.edu/coronavirus/faq-general-questions.cfm\n",
      "https://www.american.edu/coronavirus/FAQ-Health-and-Safety.cfm\n",
      "https://www.american.edu/coronavirus/faq-finances-and-student-services.cfm\n",
      "https://www.american.edu/coronavirus/FAQ-Campus-Life.cfm\n",
      "https://www.american.edu/coronavirus/community-response.cfm\n",
      "https://www.american.edu/coronavirus/students.cfm\n",
      "https://www.american.edu/coronavirus/FAQ-Finances-and-Student-Services.cfm\n",
      "https://www.american.edu/coronavirus/archive.cfm\n"
     ]
    }
   ],
   "source": [
    "for webpage in webpage_save:\n",
    "    url = webpage\n",
    "    file_name = url.replace(base_url,'')\n",
    "    file_name = file_name.replace('/','')\n",
    "    urllib.request.urlretrieve (webpage, f\"{name_of_folder}\\\\{file_name}.html\")\n",
    "    print(webpage)"
   ]
  },
  {
   "cell_type": "code",
   "execution_count": 23,
   "metadata": {},
   "outputs": [
    {
     "name": "stdout",
     "output_type": "stream",
     "text": [
      "https://www.american.edu/coronavirus/upload/AU_TaskForceMembers_5-11-20.pdf\n",
      "https://www.american.edu/coronavirus/upload/AUForward_Fall2020_HealthandSafetyPlan_June16.pdf\n",
      "https://www.american.edu/coronavirus/upload/AUForward_HowWeWork_Guide_June16.pdf\n",
      "https://www.american.edu/coronavirus/upload/AU-FORWARD-FALL-2020-PRESENTATION-FINAL_June16.pdf\n"
     ]
    }
   ],
   "source": [
    "pdf_urls = set()\n",
    "for webpage in webpage_save:\n",
    "    if webpage[-4:] == \".pdf\":\n",
    "        url = webpage\n",
    "        file_name = url.replace(base_url,'')\n",
    "        file_name = file_name.replace('/','')\n",
    "        if file_name == '':\n",
    "            file_name = \"H\"\n",
    "        pdf_urls.add(webpage)\n",
    "        print(webpage)\n",
    "        r = requests.get(url, stream=True)\n",
    "        with open(f'{name_of_folder}\\\\{file_name}.pdf', 'wb') as fd:\n",
    "            for chunk in r.iter_content(2000):\n",
    "                fd.write(chunk)\n",
    "#     if webpage[-4:] == \".pdf\":\n",
    "#         print(\"hi\")"
   ]
  },
  {
   "cell_type": "code",
   "execution_count": 24,
   "metadata": {},
   "outputs": [],
   "source": [
    "# from IPython.display import HTML\n",
    "\n",
    "# HTML('''<script>\n",
    "# code_show=true; \n",
    "# function code_toggle() {\n",
    "#  if (code_show){\n",
    "#  $('div.input').hide();\n",
    "#  } else {\n",
    "#  $('div.input').show();\n",
    "#  }\n",
    "#  code_show = !code_show\n",
    "# } \n",
    "# $( document ).ready(code_toggle);\n",
    "# </script>\n",
    "# <form action=\"javascript:code_toggle()\"><input type=\"submit\" value=\"Click here to toggle on/off the raw code.\"></form>''')"
   ]
  },
  {
   "cell_type": "code",
   "execution_count": null,
   "metadata": {},
   "outputs": [],
   "source": []
  }
 ],
 "metadata": {
  "kernelspec": {
   "display_name": "Python 3",
   "language": "python",
   "name": "python3"
  },
  "language_info": {
   "codemirror_mode": {
    "name": "ipython",
    "version": 3
   },
   "file_extension": ".py",
   "mimetype": "text/x-python",
   "name": "python",
   "nbconvert_exporter": "python",
   "pygments_lexer": "ipython3",
   "version": "3.8.2"
  }
 },
 "nbformat": 4,
 "nbformat_minor": 4
}
